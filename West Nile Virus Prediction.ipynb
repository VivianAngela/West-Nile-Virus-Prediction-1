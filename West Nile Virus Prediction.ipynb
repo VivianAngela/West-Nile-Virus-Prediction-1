{
 "cells": [
  {
   "cell_type": "markdown",
   "metadata": {},
   "source": [
    "# West Nile Virus Prediction"
   ]
  },
  {
   "cell_type": "markdown",
   "metadata": {},
   "source": [
    "### 1. Import Data and Libraries"
   ]
  },
  {
   "cell_type": "code",
   "execution_count": 841,
   "metadata": {},
   "outputs": [],
   "source": [
    "import pandas as pd\n",
    "import matplotlib.pyplot as plt\n",
    "import seaborn as sns\n",
    "\n",
    "from math import radians, sin, cos, asin, sqrt\n",
    "from sklearn.metrics import confusion_matrix, roc_curve, auc\n",
    "\n",
    "%matplotlib inline"
   ]
  },
  {
   "cell_type": "code",
   "execution_count": 842,
   "metadata": {
    "scrolled": true
   },
   "outputs": [],
   "source": [
    "spray = pd.read_csv('./west_nile/west_nile/input/spray.csv')\n",
    "weather = pd.read_csv('./west_nile/west_nile/input/weather.csv')\n",
    "train = pd.read_csv('./west_nile/west_nile/input/train.csv')\n",
    "sample = pd.read_csv('./west_nile/west_nile/input/SampleSubmission.csv')\n",
    "test = pd.read_csv('./west_nile/west_nile/input/test.csv')"
   ]
  },
  {
   "cell_type": "code",
   "execution_count": 843,
   "metadata": {},
   "outputs": [],
   "source": [
    "#use to assign weather data to traps based on distance from weather station to trap\n",
    "\n",
    "def haversine(lat1, lon1, lat2, lon2):\n",
    "    '''Calculates the distance between two lat-long points.'''\n",
    "    \n",
    "    R = 3959.87433 # this is in miles.  For Earth radius in kilometers use 6372.8 km\n",
    "\n",
    "    dLat = radians(lat2 - lat1)\n",
    "    dLon = radians(lon2 - lon1)\n",
    "    lat1 = radians(lat1)\n",
    "    lat2 = radians(lat2)\n",
    "\n",
    "    a = sin(dLat/2)**2 + cos(lat1)*cos(lat2)*sin(dLon/2)**2\n",
    "    c = 2*asin(sqrt(a))\n",
    "\n",
    "    return R * c"
   ]
  },
  {
   "cell_type": "code",
   "execution_count": 844,
   "metadata": {},
   "outputs": [
    {
     "data": {
      "text/html": [
       "<div>\n",
       "<style scoped>\n",
       "    .dataframe tbody tr th:only-of-type {\n",
       "        vertical-align: middle;\n",
       "    }\n",
       "\n",
       "    .dataframe tbody tr th {\n",
       "        vertical-align: top;\n",
       "    }\n",
       "\n",
       "    .dataframe thead th {\n",
       "        text-align: right;\n",
       "    }\n",
       "</style>\n",
       "<table border=\"1\" class=\"dataframe\">\n",
       "  <thead>\n",
       "    <tr style=\"text-align: right;\">\n",
       "      <th></th>\n",
       "      <th>Date</th>\n",
       "      <th>Address</th>\n",
       "      <th>Species</th>\n",
       "      <th>Block</th>\n",
       "      <th>Street</th>\n",
       "      <th>Trap</th>\n",
       "      <th>AddressNumberAndStreet</th>\n",
       "      <th>Latitude</th>\n",
       "      <th>Longitude</th>\n",
       "      <th>AddressAccuracy</th>\n",
       "      <th>NumMosquitos</th>\n",
       "      <th>WnvPresent</th>\n",
       "    </tr>\n",
       "  </thead>\n",
       "  <tbody>\n",
       "    <tr>\n",
       "      <th>0</th>\n",
       "      <td>2007-05-29</td>\n",
       "      <td>4100 North Oak Park Avenue, Chicago, IL 60634,...</td>\n",
       "      <td>CULEX PIPIENS/RESTUANS</td>\n",
       "      <td>41</td>\n",
       "      <td>N OAK PARK AVE</td>\n",
       "      <td>T002</td>\n",
       "      <td>4100  N OAK PARK AVE, Chicago, IL</td>\n",
       "      <td>41.954690</td>\n",
       "      <td>-87.800991</td>\n",
       "      <td>9</td>\n",
       "      <td>1</td>\n",
       "      <td>0</td>\n",
       "    </tr>\n",
       "    <tr>\n",
       "      <th>1</th>\n",
       "      <td>2007-05-29</td>\n",
       "      <td>4100 North Oak Park Avenue, Chicago, IL 60634,...</td>\n",
       "      <td>CULEX RESTUANS</td>\n",
       "      <td>41</td>\n",
       "      <td>N OAK PARK AVE</td>\n",
       "      <td>T002</td>\n",
       "      <td>4100  N OAK PARK AVE, Chicago, IL</td>\n",
       "      <td>41.954690</td>\n",
       "      <td>-87.800991</td>\n",
       "      <td>9</td>\n",
       "      <td>1</td>\n",
       "      <td>0</td>\n",
       "    </tr>\n",
       "    <tr>\n",
       "      <th>2</th>\n",
       "      <td>2007-05-29</td>\n",
       "      <td>6200 North Mandell Avenue, Chicago, IL 60646, USA</td>\n",
       "      <td>CULEX RESTUANS</td>\n",
       "      <td>62</td>\n",
       "      <td>N MANDELL AVE</td>\n",
       "      <td>T007</td>\n",
       "      <td>6200  N MANDELL AVE, Chicago, IL</td>\n",
       "      <td>41.994991</td>\n",
       "      <td>-87.769279</td>\n",
       "      <td>9</td>\n",
       "      <td>1</td>\n",
       "      <td>0</td>\n",
       "    </tr>\n",
       "    <tr>\n",
       "      <th>3</th>\n",
       "      <td>2007-05-29</td>\n",
       "      <td>7900 West Foster Avenue, Chicago, IL 60656, USA</td>\n",
       "      <td>CULEX PIPIENS/RESTUANS</td>\n",
       "      <td>79</td>\n",
       "      <td>W FOSTER AVE</td>\n",
       "      <td>T015</td>\n",
       "      <td>7900  W FOSTER AVE, Chicago, IL</td>\n",
       "      <td>41.974089</td>\n",
       "      <td>-87.824812</td>\n",
       "      <td>8</td>\n",
       "      <td>1</td>\n",
       "      <td>0</td>\n",
       "    </tr>\n",
       "    <tr>\n",
       "      <th>4</th>\n",
       "      <td>2007-05-29</td>\n",
       "      <td>7900 West Foster Avenue, Chicago, IL 60656, USA</td>\n",
       "      <td>CULEX RESTUANS</td>\n",
       "      <td>79</td>\n",
       "      <td>W FOSTER AVE</td>\n",
       "      <td>T015</td>\n",
       "      <td>7900  W FOSTER AVE, Chicago, IL</td>\n",
       "      <td>41.974089</td>\n",
       "      <td>-87.824812</td>\n",
       "      <td>8</td>\n",
       "      <td>4</td>\n",
       "      <td>0</td>\n",
       "    </tr>\n",
       "  </tbody>\n",
       "</table>\n",
       "</div>"
      ],
      "text/plain": [
       "         Date                                            Address  \\\n",
       "0  2007-05-29  4100 North Oak Park Avenue, Chicago, IL 60634,...   \n",
       "1  2007-05-29  4100 North Oak Park Avenue, Chicago, IL 60634,...   \n",
       "2  2007-05-29  6200 North Mandell Avenue, Chicago, IL 60646, USA   \n",
       "3  2007-05-29    7900 West Foster Avenue, Chicago, IL 60656, USA   \n",
       "4  2007-05-29    7900 West Foster Avenue, Chicago, IL 60656, USA   \n",
       "\n",
       "                  Species  Block           Street  Trap  \\\n",
       "0  CULEX PIPIENS/RESTUANS     41   N OAK PARK AVE  T002   \n",
       "1          CULEX RESTUANS     41   N OAK PARK AVE  T002   \n",
       "2          CULEX RESTUANS     62    N MANDELL AVE  T007   \n",
       "3  CULEX PIPIENS/RESTUANS     79     W FOSTER AVE  T015   \n",
       "4          CULEX RESTUANS     79     W FOSTER AVE  T015   \n",
       "\n",
       "              AddressNumberAndStreet   Latitude  Longitude  AddressAccuracy  \\\n",
       "0  4100  N OAK PARK AVE, Chicago, IL  41.954690 -87.800991                9   \n",
       "1  4100  N OAK PARK AVE, Chicago, IL  41.954690 -87.800991                9   \n",
       "2   6200  N MANDELL AVE, Chicago, IL  41.994991 -87.769279                9   \n",
       "3    7900  W FOSTER AVE, Chicago, IL  41.974089 -87.824812                8   \n",
       "4    7900  W FOSTER AVE, Chicago, IL  41.974089 -87.824812                8   \n",
       "\n",
       "   NumMosquitos  WnvPresent  \n",
       "0             1           0  \n",
       "1             1           0  \n",
       "2             1           0  \n",
       "3             1           0  \n",
       "4             4           0  "
      ]
     },
     "execution_count": 844,
     "metadata": {},
     "output_type": "execute_result"
    }
   ],
   "source": [
    "train.head()"
   ]
  },
  {
   "cell_type": "markdown",
   "metadata": {},
   "source": [
    "### 2. Perform EDA /Format /Clean Data"
   ]
  },
  {
   "cell_type": "code",
   "execution_count": 845,
   "metadata": {},
   "outputs": [],
   "source": [
    "def quick_EDA(df):\n",
    "    #Input a dataframe, Returns: shape of data, number of nulls\n",
    "    nulls = df.isnull().sum().sum()\n",
    "    \n",
    "    print('Rows:', df.shape[0], 'Columns:', df.shape[1])\n",
    "    print('Total NaNs:', nulls)"
   ]
  },
  {
   "cell_type": "code",
   "execution_count": 846,
   "metadata": {},
   "outputs": [],
   "source": [
    "#Converting columns to datetime format\n",
    "def convert_datetime(df):\n",
    "    df['Date'] = pd.to_datetime(df['Date'])"
   ]
  },
  {
   "cell_type": "code",
   "execution_count": 847,
   "metadata": {},
   "outputs": [],
   "source": [
    "#converting spray columns to date time and making date/time columns\n",
    "def convert_spray(df):\n",
    "    df['Date'] = pd.to_datetime(spray['Date'])\n",
    "    df['am_pm'] = df['Time'].apply(lambda x: str(x).split()[-1])\n",
    "    df['Time'] = df['Time'].apply(lambda x: str(x).split()[0])\n",
    "    df['Time'] = pd.to_datetime(spray['Time'], format = '%H:%M:%S')"
   ]
  },
  {
   "cell_type": "code",
   "execution_count": 848,
   "metadata": {},
   "outputs": [
    {
     "name": "stdout",
     "output_type": "stream",
     "text": [
      "Rows: 10506 Columns: 12\n",
      "Total NaNs: 0\n"
     ]
    }
   ],
   "source": [
    "quick_EDA(train)"
   ]
  },
  {
   "cell_type": "code",
   "execution_count": 849,
   "metadata": {},
   "outputs": [
    {
     "name": "stdout",
     "output_type": "stream",
     "text": [
      "Rows: 14835 Columns: 4\n",
      "Total NaNs: 584\n"
     ]
    }
   ],
   "source": [
    "quick_EDA(spray)"
   ]
  },
  {
   "cell_type": "code",
   "execution_count": 850,
   "metadata": {},
   "outputs": [
    {
     "name": "stdout",
     "output_type": "stream",
     "text": [
      "Rows: 2944 Columns: 22\n",
      "Total NaNs: 0\n"
     ]
    }
   ],
   "source": [
    "quick_EDA(weather)"
   ]
  },
  {
   "cell_type": "code",
   "execution_count": 851,
   "metadata": {},
   "outputs": [
    {
     "name": "stdout",
     "output_type": "stream",
     "text": [
      "Rows: 116293 Columns: 11\n",
      "Total NaNs: 0\n"
     ]
    }
   ],
   "source": [
    "quick_EDA(test)"
   ]
  },
  {
   "cell_type": "code",
   "execution_count": 852,
   "metadata": {},
   "outputs": [],
   "source": [
    "#converting date time\n",
    "dfs = [train, test, weather]\n",
    "\n",
    "for df in dfs:\n",
    "    convert_datetime(df)"
   ]
  },
  {
   "cell_type": "code",
   "execution_count": 853,
   "metadata": {},
   "outputs": [],
   "source": [
    "#converting spray data\n",
    "convert_spray(spray)"
   ]
  },
  {
   "cell_type": "code",
   "execution_count": 854,
   "metadata": {},
   "outputs": [
    {
     "name": "stdout",
     "output_type": "stream",
     "text": [
      "Traps tested > 1/day: 0\n"
     ]
    }
   ],
   "source": [
    "#testing to see if any traps are ever tested more than once on the same day\n",
    "    # none are, this will allow us to determine the number of mosquitos in traps where there are more than 50\n",
    "    # because we can now combine rows on Trap Id and Date to get total no. mosquitos tested\n",
    "datetrap = train[['Date', 'Trap']]\n",
    "y = datetrap.merge(pd.get_dummies(train['Trap']), how = 'left', right_index = True, left_index = True)\n",
    "\n",
    "datetrapcols = y.shape[1]\n",
    "datetraprows = y.shape[0]\n",
    "errors = 0\n",
    "\n",
    "for i in range(datetraprows):\n",
    "    for g in range(2,datetrapcols):\n",
    "        if y.iloc[i,g] > 1:\n",
    "            errors += 1\n",
    "print('Traps tested > 1/day:', errors)"
   ]
  },
  {
   "cell_type": "code",
   "execution_count": 855,
   "metadata": {},
   "outputs": [
    {
     "data": {
      "image/png": "[encoded data removed]",
      "text/plain": [
       "<matplotlib.figure.Figure at 0x22a85e28b70>"
      ]
     },
     "metadata": {},
     "output_type": "display_data"
    }
   ],
   "source": [
    "#plotted mosquitos by trap by date\n",
    "train[['Date', 'Trap', 'NumMosquitos']].groupby(by = ['Date','Trap'])['Date','Trap','NumMosquitos'] \\\n",
    "    .sum().reset_index().sort_values('NumMosquitos', ascending = False).set_index('Date').plot(style = '.')\n",
    "    \n",
    "plt.title('Mosquitos by Trap over Time');"
   ]
  },
  {
   "cell_type": "code",
   "execution_count": 856,
   "metadata": {},
   "outputs": [
    {
     "data": {
      "image/png": "[encoded data removed]",
      "text/plain": [
       "<matplotlib.figure.Figure at 0x22a85e28400>"
      ]
     },
     "metadata": {},
     "output_type": "display_data"
    }
   ],
   "source": [
    "#plotted WNV incidents by trap\n",
    "train[['Date', 'Trap','WnvPresent']].groupby(by = ['Date','Trap'])['Date','Trap','WnvPresent'] \\\n",
    "    .sum().reset_index().sort_values('WnvPresent', ascending = False).set_index('Date').plot(color = 'green', style = '.')\n",
    "    \n",
    "plt.title('Positive WnV Cases by Trap over Time');"
   ]
  },
  {
   "cell_type": "markdown",
   "metadata": {},
   "source": [
    "### 3. Feature Engineering"
   ]
  },
  {
   "cell_type": "markdown",
   "metadata": {},
   "source": [
    "##### Pair weather data with trap locations"
   ]
  },
  {
   "cell_type": "code",
   "execution_count": 857,
   "metadata": {},
   "outputs": [
    {
     "data": {
      "text/plain": [
       "\"\\nstat1lat = 41.995\\nstat1long = -87.933\\nstat2lat = 41.786\\nstat2long = -87.752 \\n\\ntrain['Station'] = 1\\n\\nfor i in range(train.shape[0]):\\n    if haversine(stat1lat, stat1long, train.loc[i, 'Latitude'], train.loc[i, 'Longitude']) > haversine(stat2lat, stat2long, train.loc[i, 'Latitude'], train.loc[i, 'Longitude']):\\n        train.loc[i,'Station'] = 2\""
      ]
     },
     "execution_count": 857,
     "metadata": {},
     "output_type": "execute_result"
    }
   ],
   "source": [
    "#assign weather station to trap based on location\n",
    "'''\n",
    "stat1lat = 41.995\n",
    "stat1long = -87.933\n",
    "stat2lat = 41.786\n",
    "stat2long = -87.752 \n",
    "\n",
    "train['Station'] = 1\n",
    "\n",
    "for i in range(train.shape[0]):\n",
    "    if haversine(stat1lat, stat1long, train.loc[i, 'Latitude'], train.loc[i, 'Longitude']) > haversine(stat2lat, stat2long, train.loc[i, 'Latitude'], train.loc[i, 'Longitude']):\n",
    "        train.loc[i,'Station'] = 2'''"
   ]
  },
  {
   "cell_type": "code",
   "execution_count": 858,
   "metadata": {},
   "outputs": [],
   "source": [
    "#train = train.merge(weather, how = 'left', on = ['Date','Station'])"
   ]
  },
  {
   "cell_type": "markdown",
   "metadata": {},
   "source": [
    "##### Split out Parent Traps and Child Traps"
   ]
  },
  {
   "cell_type": "code",
   "execution_count": 859,
   "metadata": {},
   "outputs": [],
   "source": [
    "#Create columns to show parent trap and child traps\n",
    "train['Parent_Trap'] = train['Trap'].apply(lambda x: x[:4])\n",
    "train['Child_Trap'] = train['Trap'].apply(lambda x: x[4:])\n",
    "\n",
    "test['Parent_Trap'] = test['Trap'].apply(lambda x: x[:4])\n",
    "test['Child_Trap'] = test['Trap'].apply(lambda x: x[4:])"
   ]
  },
  {
   "cell_type": "code",
   "execution_count": 860,
   "metadata": {},
   "outputs": [
    {
     "data": {
      "text/html": [
       "<div>\n",
       "<style scoped>\n",
       "    .dataframe tbody tr th:only-of-type {\n",
       "        vertical-align: middle;\n",
       "    }\n",
       "\n",
       "    .dataframe tbody tr th {\n",
       "        vertical-align: top;\n",
       "    }\n",
       "\n",
       "    .dataframe thead th {\n",
       "        text-align: right;\n",
       "    }\n",
       "</style>\n",
       "<table border=\"1\" class=\"dataframe\">\n",
       "  <thead>\n",
       "    <tr style=\"text-align: right;\">\n",
       "      <th></th>\n",
       "      <th>Parent_Trap</th>\n",
       "      <th>Child_Trap</th>\n",
       "    </tr>\n",
       "  </thead>\n",
       "  <tbody>\n",
       "    <tr>\n",
       "      <th>0</th>\n",
       "      <td>T094</td>\n",
       "      <td>2</td>\n",
       "    </tr>\n",
       "    <tr>\n",
       "      <th>1</th>\n",
       "      <td>T054</td>\n",
       "      <td>2</td>\n",
       "    </tr>\n",
       "    <tr>\n",
       "      <th>2</th>\n",
       "      <td>T001</td>\n",
       "      <td>1</td>\n",
       "    </tr>\n",
       "    <tr>\n",
       "      <th>3</th>\n",
       "      <td>T148</td>\n",
       "      <td>1</td>\n",
       "    </tr>\n",
       "    <tr>\n",
       "      <th>4</th>\n",
       "      <td>T143</td>\n",
       "      <td>1</td>\n",
       "    </tr>\n",
       "  </tbody>\n",
       "</table>\n",
       "</div>"
      ],
      "text/plain": [
       "  Parent_Trap  Child_Trap\n",
       "0        T094           2\n",
       "1        T054           2\n",
       "2        T001           1\n",
       "3        T148           1\n",
       "4        T143           1"
      ]
     },
     "execution_count": 860,
     "metadata": {},
     "output_type": "execute_result"
    }
   ],
   "source": [
    "#show number of child traps to each parent trap\n",
    "#need to de-duplicate list of traps initally to accomplish this\n",
    "train[['Parent_Trap', 'Child_Trap']].drop_duplicates().groupby(by = 'Parent_Trap')['Child_Trap'].count().reset_index(). \\\n",
    "    sort_values(by = 'Child_Trap',ascending = False).reset_index(drop = True).head()"
   ]
  },
  {
   "cell_type": "markdown",
   "metadata": {},
   "source": [
    "##### Get Dummies for mosquito species"
   ]
  },
  {
   "cell_type": "code",
   "execution_count": 861,
   "metadata": {},
   "outputs": [],
   "source": [
    "def mosquitos_vars(df):\n",
    "    #split wnv transmitting mosquito species lines into separate columns\n",
    "    df['CULEX PIPIENS'] = 0\n",
    "    df['CULEX RESTUANS'] = 0\n",
    "    \n",
    "    for row in range(df.shape[0]):\n",
    "        if df.loc[row, 'Species'] == 'CULEX PIPIENS/RESTUANS':\n",
    "            df.loc[row, 'CULEX PIPIENS'] == 1\n",
    "            df.loc[row, 'CULEX RESTUANS'] == 1\n",
    "        elif df.loc[row, 'Species'] == 'CULEX PIPIENS':\n",
    "            df.loc[row, 'CULEX PIPIENS'] == 1\n",
    "        elif df.loc[row, 'Species'] == 'CULEX RESTUANS':\n",
    "            df.loc[row, 'CULEX RESTUANS'] == 1\n",
    "            \n",
    "    \n",
    "    df.drop(columns = ['Species'], inplace = True)"
   ]
  },
  {
   "cell_type": "code",
   "execution_count": 862,
   "metadata": {},
   "outputs": [],
   "source": [
    "#make dummies for mosquito species\n",
    "mosquitos_vars(train)\n",
    "mosquitos_vars(test)"
   ]
  },
  {
   "cell_type": "markdown",
   "metadata": {},
   "source": [
    "##### Get Dummies for Other Variables"
   ]
  },
  {
   "cell_type": "code",
   "execution_count": 863,
   "metadata": {},
   "outputs": [],
   "source": [
    "train = pd.get_dummies(train, columns = ['Trap', 'Block'])\n",
    "test = pd.get_dummies(test, columns = ['Trap', 'Block'])\n",
    "\n",
    "train.drop(columns = ['Street'], inplace = True)\n",
    "test.drop(columns = ['Street'], inplace = True)"
   ]
  },
  {
   "cell_type": "markdown",
   "metadata": {},
   "source": [
    "##### Get Dummies for Time (Week, Month)"
   ]
  },
  {
   "cell_type": "code",
   "execution_count": 864,
   "metadata": {},
   "outputs": [],
   "source": [
    "def week_month(df):\n",
    "    #breaking week, month, and year into separate columns\n",
    "    \n",
    "    df['Week'] = df['Date'].dt.week\n",
    "    df['Month'] = df['Date'].dt.month\n",
    "\n",
    "    #drop date column\n",
    "    df.drop(columns = 'Date', inplace = True)\n",
    "\n",
    "    #get dummies\n",
    "    return pd.get_dummies(df, columns = ['Week', 'Month'])"
   ]
  },
  {
   "cell_type": "code",
   "execution_count": 865,
   "metadata": {},
   "outputs": [],
   "source": [
    "train = week_month(train)\n",
    "test = week_month(test)"
   ]
  },
  {
   "cell_type": "markdown",
   "metadata": {},
   "source": [
    "##### Drop Misc. Columns"
   ]
  },
  {
   "cell_type": "code",
   "execution_count": 866,
   "metadata": {},
   "outputs": [],
   "source": [
    "train.drop(columns = ['Address', 'AddressNumberAndStreet', 'Latitude', \\\n",
    "                      'Longitude', 'AddressAccuracy', 'Parent_Trap', 'Child_Trap'], inplace = True)\\\n",
    "\n",
    "test.drop(columns = ['Address', 'AddressNumberAndStreet', 'Latitude', \\\n",
    "                      'Longitude', 'AddressAccuracy', 'Parent_Trap', 'Child_Trap'], inplace = True)"
   ]
  },
  {
   "cell_type": "markdown",
   "metadata": {},
   "source": [
    "### 4. Modeling"
   ]
  },
  {
   "cell_type": "code",
   "execution_count": 867,
   "metadata": {},
   "outputs": [],
   "source": [
    "import matplotlib.pyplot as plt\n",
    "import numpy as np\n",
    "\n",
    "from sklearn.model_selection import train_test_split\n",
    "from sklearn.preprocessing import StandardScaler\n",
    "from sklearn.utils import resample\n",
    "\n",
    "from keras.models import Sequential\n",
    "from keras.layers import Dense"
   ]
  },
  {
   "cell_type": "markdown",
   "metadata": {},
   "source": [
    "##### Resampling Data for Classification Models"
   ]
  },
  {
   "cell_type": "code",
   "execution_count": 868,
   "metadata": {},
   "outputs": [
    {
     "data": {
      "text/plain": [
       "'0.94755'"
      ]
     },
     "execution_count": 868,
     "metadata": {},
     "output_type": "execute_result"
    }
   ],
   "source": [
    "#this is the baseline accuracy to beat for classification models\n",
    "#if we selected \"WnV is not present for all samples\" we would be correct ~95% of the time\n",
    "format(1 - train['WnvPresent'].sum()/train.shape[0], '.5f')"
   ]
  },
  {
   "cell_type": "code",
   "execution_count": 869,
   "metadata": {},
   "outputs": [],
   "source": [
    "#have to convert to numpy array for keras/tensorflow/classification\n",
    "X = train.drop(columns = 'WnvPresent')\n",
    "y = train['WnvPresent']\n"
   ]
  },
  {
   "cell_type": "code",
   "execution_count": 870,
   "metadata": {},
   "outputs": [],
   "source": [
    "#prep data to enter models\n",
    "X_train, X_test, y_train, y_test = train_test_split(X, y, test_size = 0.3, random_state = 42)"
   ]
  },
  {
   "cell_type": "code",
   "execution_count": 871,
   "metadata": {},
   "outputs": [],
   "source": [
    "#rejoin train data on index so it can be downsampled to match classes\n",
    "traindata = X_train.merge(pd.DataFrame(y_train), how = 'left', right_index = True, left_index = True)\n",
    "\n",
    "#separate minority and majority classes\n",
    "train_majority = traindata[traindata['WnvPresent'] == 0]\n",
    "train_minority = traindata[traindata['WnvPresent'] == 1]\n",
    "\n",
    "#upsample minority class\n",
    "train_minority_upsampled = resample(train_minority, \n",
    "                                     replace = True, \n",
    "                                     n_samples = train_majority.shape[0],\n",
    "                                     random_state = 65)\n",
    "#combine classes\n",
    "train_data_upsampled = pd.concat([train_majority, train_minority_upsampled])\n",
    "#split back into X_train and y_train\n",
    "X_train = train_data_upsampled.drop(columns = 'WnvPresent')\n",
    "y_train = train_data_upsampled['WnvPresent']"
   ]
  },
  {
   "cell_type": "code",
   "execution_count": 872,
   "metadata": {},
   "outputs": [],
   "source": [
    "def drop_columns(df1, df2):\n",
    "    #drop columns in either test/train that are not in the other\n",
    "    \n",
    "    df1cols = df1.columns.tolist()\n",
    "    df2cols = df2.columns.tolist()\n",
    "    \n",
    "    notindf1cols = []\n",
    "    notindf2cols = []\n",
    "    \n",
    "    for col in df1cols:\n",
    "        if col not in df2cols:\n",
    "            notindf2cols.append(col)\n",
    "    \n",
    "    for col in df2cols:\n",
    "        if col not in df1cols:\n",
    "            notindf1cols.append(col)\n",
    "            \n",
    "    df1.drop(columns = notindf2cols, inplace = True)\n",
    "    df2.drop(columns = notindf1cols, inplace = True)"
   ]
  },
  {
   "cell_type": "code",
   "execution_count": 873,
   "metadata": {},
   "outputs": [
    {
     "name": "stderr",
     "output_type": "stream",
     "text": [
      "C:\\Users\\peckr\\AppData\\Local\\conda\\conda\\envs\\ga\\lib\\site-packages\\ipykernel_launcher.py:19: SettingWithCopyWarning: \n",
      "A value is trying to be set on a copy of a slice from a DataFrame\n",
      "\n",
      "See the caveats in the documentation: http://pandas.pydata.org/pandas-docs/stable/indexing.html#indexing-view-versus-copy\n"
     ]
    }
   ],
   "source": [
    "drop_columns(test, X_test)\n",
    "drop_columns(X_train, X_test)"
   ]
  },
  {
   "cell_type": "code",
   "execution_count": 874,
   "metadata": {},
   "outputs": [
    {
     "data": {
      "text/plain": [
       "(3152, 226)"
      ]
     },
     "execution_count": 874,
     "metadata": {},
     "output_type": "execute_result"
    }
   ],
   "source": [
    "X_test.shape"
   ]
  },
  {
   "cell_type": "markdown",
   "metadata": {},
   "source": [
    "#### A. Neural Network"
   ]
  },
  {
   "cell_type": "code",
   "execution_count": 876,
   "metadata": {},
   "outputs": [],
   "source": [
    "#standardizing data to normalize with a mean of 0 and a stdDev of 1\n",
    "ss = StandardScaler()\n",
    "X_train = ss.fit_transform(X_train)\n",
    "X_test = ss.transform(X_test)\n",
    "\n",
    "test = ss.transform(test)"
   ]
  },
  {
   "cell_type": "code",
   "execution_count": 877,
   "metadata": {},
   "outputs": [],
   "source": [
    "#create model\n",
    "model = Sequential()"
   ]
  },
  {
   "cell_type": "code",
   "execution_count": 878,
   "metadata": {},
   "outputs": [],
   "source": [
    "#network topolgy\n",
    "input_units = X_train.shape[1]\n",
    "hidden_units = round(input_units)\n",
    "\n",
    "model.add(Dense(hidden_units, \n",
    "                input_dim = input_units, \n",
    "                activation = 'relu'))\n",
    "\n",
    "model.add(Dense(1, activation = 'sigmoid'))"
   ]
  },
  {
   "cell_type": "code",
   "execution_count": 879,
   "metadata": {},
   "outputs": [],
   "source": [
    "model.compile(loss = 'binary_crossentropy',\n",
    "              optimizer = 'adam',\n",
    "              metrics = ['binary_accuracy'])"
   ]
  },
  {
   "cell_type": "code",
   "execution_count": 880,
   "metadata": {},
   "outputs": [
    {
     "name": "stdout",
     "output_type": "stream",
     "text": [
      "Train on 13938 samples, validate on 3152 samples\n",
      "Epoch 1/10\n",
      "13938/13938 [==============================] - 12s 860us/step - loss: 0.4479 - binary_accuracy: 0.7828 - val_loss: 0.4541 - val_binary_accuracy: 0.7418\n",
      "Epoch 2/10\n",
      "13938/13938 [==============================] - 9s 643us/step - loss: 0.3631 - binary_accuracy: 0.8381 - val_loss: 0.4454 - val_binary_accuracy: 0.7786\n",
      "Epoch 3/10\n",
      "13938/13938 [==============================] - 9s 672us/step - loss: 0.3252 - binary_accuracy: 0.8630 - val_loss: 0.4728 - val_binary_accuracy: 0.7871\n",
      "Epoch 4/10\n",
      "13938/13938 [==============================] - 9s 648us/step - loss: 0.3078 - binary_accuracy: 0.8696 - val_loss: 0.4643 - val_binary_accuracy: 0.8011\n",
      "Epoch 5/10\n",
      "13938/13938 [==============================] - 9s 675us/step - loss: 0.2979 - binary_accuracy: 0.8752 - val_loss: 0.4371 - val_binary_accuracy: 0.8058\n",
      "Epoch 6/10\n",
      "13938/13938 [==============================] - 10s 722us/step - loss: 0.2922 - binary_accuracy: 0.8780 - val_loss: 0.4314 - val_binary_accuracy: 0.8115\n",
      "Epoch 7/10\n",
      "13938/13938 [==============================] - 9s 673us/step - loss: 0.2873 - binary_accuracy: 0.8822 - val_loss: 0.4644 - val_binary_accuracy: 0.7871\n",
      "Epoch 8/10\n",
      "13938/13938 [==============================] - 9s 643us/step - loss: 0.2869 - binary_accuracy: 0.8829 - val_loss: 0.4738 - val_binary_accuracy: 0.8014\n",
      "Epoch 9/10\n",
      "13938/13938 [==============================] - 9s 634us/step - loss: 0.2825 - binary_accuracy: 0.8843 - val_loss: 0.4743 - val_binary_accuracy: 0.7938\n",
      "Epoch 10/10\n",
      "13938/13938 [==============================] - 9s 635us/step - loss: 0.2818 - binary_accuracy: 0.8823 - val_loss: 0.4171 - val_binary_accuracy: 0.8309\n"
     ]
    }
   ],
   "source": [
    "history = model.fit(X_train, y_train,\n",
    "                   validation_data = (X_test, y_test),\n",
    "                   epochs = 10, \n",
    "                   batch_size = None, \n",
    "                   verbose = 1)"
   ]
  },
  {
   "cell_type": "code",
   "execution_count": 881,
   "metadata": {},
   "outputs": [
    {
     "data": {
      "text/plain": [
       "[<matplotlib.lines.Line2D at 0x22a879fd978>]"
      ]
     },
     "execution_count": 881,
     "metadata": {},
     "output_type": "execute_result"
    },
    {
     "data": {
      "image/png": "[encoded data removed]",
      "text/plain": [
       "<matplotlib.figure.Figure at 0x22ac718d0f0>"
      ]
     },
     "metadata": {},
     "output_type": "display_data"
    }
   ],
   "source": [
    "#plotting accuracy over epochs\n",
    "plt.plot(history.history['val_binary_accuracy'])"
   ]
  },
  {
   "cell_type": "code",
   "execution_count": 882,
   "metadata": {},
   "outputs": [
    {
     "data": {
      "image/png": "[encoded data removed]",
      "text/plain": [
       "<matplotlib.figure.Figure at 0x22a879fdf28>"
      ]
     },
     "metadata": {},
     "output_type": "display_data"
    }
   ],
   "source": [
    "train_loss = history.history['loss']\n",
    "test_loss = history.history['val_loss']\n",
    "\n",
    "plt.plot(train_loss, label = 'Train loss')\n",
    "plt.plot(test_loss, label = 'Test loss')\n",
    "plt.legend();"
   ]
  },
  {
   "cell_type": "code",
   "execution_count": 883,
   "metadata": {},
   "outputs": [
    {
     "data": {
      "text/plain": [
       "0.9473350253807107"
      ]
     },
     "execution_count": 883,
     "metadata": {},
     "output_type": "execute_result"
    }
   ],
   "source": [
    "# as predicted from total data set only around 5% of all samples test positive for WnV\n",
    "# preliminarily it appears that from upsampling the wnv cases to get a 50/50 test split\n",
    "# for our neural network we are achieving around 88% accuracy against the test set\n",
    "# compared to our baseline of 95% we would be better off guessing that all do not have WnV\n",
    "1 - y_test.sum()/y_test.shape[0]"
   ]
  },
  {
   "cell_type": "code",
   "execution_count": 884,
   "metadata": {},
   "outputs": [],
   "source": [
    "#need to implement a confusion matrix in order to score this appropriately, will never beat 95%\n",
    "#get keras predictions to make a roc curve/get that roc auc\n",
    "fpr, tpr, _ = roc_curve(y_test, model.predict(X_test))\n",
    "\n",
    "#calculate AUC\n",
    "roc_auc = auc(fpr, tpr)\n",
    "#print a confusion matrix\n",
    "#confusion_matrix(np.array(y_test), model.predict(X_test))"
   ]
  },
  {
   "cell_type": "code",
   "execution_count": 885,
   "metadata": {},
   "outputs": [
    {
     "data": {
      "image/png": "[encoded data removed]",
      "text/plain": [
       "<matplotlib.figure.Figure at 0x22a87a00ac8>"
      ]
     },
     "metadata": {},
     "output_type": "display_data"
    }
   ],
   "source": [
    "#plot of a ROC curve for a specific class\n",
    "plt.figure()\n",
    "plt.plot(fpr, tpr, label='ROC curve (area = %0.2f)' % roc_auc, color = 'blue')\n",
    "plt.plot([0, 1], [0,1], 'k--')\n",
    "plt.xlim([0.0, 1.0])\n",
    "plt.ylim([0.0, 1.05])\n",
    "plt.xlabel('False Positive Rate')\n",
    "plt.ylabel('True Positive Rate')\n",
    "plt.title('Reciever Operating Characteristic (ROC) Curve')\n",
    "plt.legend(loc=\"lower right\")\n",
    "plt.show()"
   ]
  },
  {
   "cell_type": "markdown",
   "metadata": {},
   "source": [
    "#### B. CART/Decision Trees"
   ]
  },
  {
   "cell_type": "code",
   "execution_count": 911,
   "metadata": {},
   "outputs": [],
   "source": [
    "from sklearn.model_selection import cross_val_score, StratifiedKFold\n",
    "from sklearn.model_selection import GridSearchCV\n",
    "import xgboost as xgb\n",
    "\n",
    "from sklearn.tree import DecisionTreeClassifier\n",
    "from sklearn.ensemble import RandomForestClassifier, ExtraTreesClassifier, BaggingClassifier\n",
    "from sklearn.ensemble import AdaBoostClassifier, GradientBoostingClassifier"
   ]
  },
  {
   "cell_type": "code",
   "execution_count": 912,
   "metadata": {},
   "outputs": [],
   "source": [
    "def CART_model_picker(model_list, X_train, y_train, X_test, y_test):\n",
    "    '''Returns cross-val score and score for all input CART models, returns in sorted order of best performing'''\n",
    "    results = []\n",
    "    \n",
    "    for (k,v) in model_list.items():\n",
    "        scores = cross_val_score(v, X_train, y_train, cv = 5, n_jobs = -1)\n",
    "        v.fit(X_train, y_train)\n",
    "        \n",
    "        #calculate AUC\n",
    "        fpr, tpr, _ = roc_curve(y_test, v.predict(X_test))\n",
    "        roc_auc = auc(fpr, tpr)\n",
    "\n",
    "        results.append((k, scores.mean(), v.score(X_test, y_test), roc_auc))\n",
    "    \n",
    "    results.sort(key = lambda x: x[3], reverse = True)\n",
    "    \n",
    "    return results"
   ]
  },
  {
   "cell_type": "code",
   "execution_count": 913,
   "metadata": {},
   "outputs": [],
   "source": [
    "#setting up stratified kfold\n",
    "cv = StratifiedKFold(n_splits = 5, shuffle = True, random_state = 42)"
   ]
  },
  {
   "cell_type": "code",
   "execution_count": 914,
   "metadata": {},
   "outputs": [
    {
     "data": {
      "text/plain": [
       "[('Gradient Boost',\n",
       "  0.7651010741347648,\n",
       "  0.7106598984771574,\n",
       "  0.7249695365521025),\n",
       " ('AdaBoost', 0.7523998862935295, 0.6925761421319797, 0.7211141955632309),\n",
       " ('Bagging', 0.8858517325302472, 0.7915609137055838, 0.6425063953066116),\n",
       " ('Decision Tree', 0.8875012488142702, 0.7953680203045685, 0.6388265721963541),\n",
       " ('Extra Trees', 0.8903712557458331, 0.7969543147208121, 0.6368192125501335),\n",
       " ('Random Forest', 0.8897253226575593, 0.7953680203045685, 0.6359819720946747)]"
      ]
     },
     "execution_count": 914,
     "metadata": {},
     "output_type": "execute_result"
    }
   ],
   "source": [
    "#figure out which CART model performs the best\n",
    "\n",
    "models = {'Decision Tree': DecisionTreeClassifier(),\n",
    "          'Extra Trees': ExtraTreesClassifier(),\n",
    "          'Gradient Boost': GradientBoostingClassifier(),\n",
    "          'AdaBoost': AdaBoostClassifier(),\n",
    "          'Random Forest':RandomForestClassifier(),\n",
    "          'Bagging': BaggingClassifier()\n",
    "         }\n",
    "\n",
    "\n",
    "CART_model_picker(models, X_train, y_train, X_test, y_test)"
   ]
  },
  {
   "cell_type": "markdown",
   "metadata": {},
   "source": [
    "##### XGBoost Model"
   ]
  },
  {
   "cell_type": "code",
   "execution_count": 915,
   "metadata": {},
   "outputs": [],
   "source": [
    "xgmodel= xgb.XGBClassifier(seed= 42)\n",
    "\n",
    "eval_set = [(X_train, y_train), (X_test, y_test)]\n",
    "scores = cross_val_score(xgb.XGBClassifier(), X_train, y_train, cv = 5, n_jobs = -1)"
   ]
  },
  {
   "cell_type": "code",
   "execution_count": 916,
   "metadata": {},
   "outputs": [
    {
     "name": "stdout",
     "output_type": "stream",
     "text": [
      "[0]\tvalidation_0-auc:0.761068\tvalidation_1-auc:0.756029\n",
      "[1]\tvalidation_0-auc:0.761068\tvalidation_1-auc:0.756029\n",
      "[2]\tvalidation_0-auc:0.766616\tvalidation_1-auc:0.769059\n",
      "[3]\tvalidation_0-auc:0.773933\tvalidation_1-auc:0.774446\n",
      "[4]\tvalidation_0-auc:0.775613\tvalidation_1-auc:0.775705\n",
      "[5]\tvalidation_0-auc:0.775613\tvalidation_1-auc:0.775705\n",
      "[6]\tvalidation_0-auc:0.782103\tvalidation_1-auc:0.782464\n",
      "[7]\tvalidation_0-auc:0.784378\tvalidation_1-auc:0.783665\n",
      "[8]\tvalidation_0-auc:0.785293\tvalidation_1-auc:0.785473\n",
      "[9]\tvalidation_0-auc:0.786125\tvalidation_1-auc:0.78519\n",
      "[10]\tvalidation_0-auc:0.785806\tvalidation_1-auc:0.784777\n",
      "[11]\tvalidation_0-auc:0.786358\tvalidation_1-auc:0.784475\n",
      "[12]\tvalidation_0-auc:0.78939\tvalidation_1-auc:0.7855\n",
      "[13]\tvalidation_0-auc:0.792524\tvalidation_1-auc:0.787175\n",
      "[14]\tvalidation_0-auc:0.792898\tvalidation_1-auc:0.787251\n",
      "[15]\tvalidation_0-auc:0.793397\tvalidation_1-auc:0.786625\n",
      "[16]\tvalidation_0-auc:0.793768\tvalidation_1-auc:0.786847\n",
      "[17]\tvalidation_0-auc:0.793833\tvalidation_1-auc:0.786948\n",
      "[18]\tvalidation_0-auc:0.794318\tvalidation_1-auc:0.787363\n",
      "[19]\tvalidation_0-auc:0.795144\tvalidation_1-auc:0.787541\n",
      "[20]\tvalidation_0-auc:0.795248\tvalidation_1-auc:0.787674\n",
      "[21]\tvalidation_0-auc:0.795078\tvalidation_1-auc:0.787685\n",
      "[22]\tvalidation_0-auc:0.795439\tvalidation_1-auc:0.787622\n",
      "[23]\tvalidation_0-auc:0.796562\tvalidation_1-auc:0.788914\n",
      "[24]\tvalidation_0-auc:0.797376\tvalidation_1-auc:0.790311\n",
      "[25]\tvalidation_0-auc:0.797966\tvalidation_1-auc:0.790161\n",
      "[26]\tvalidation_0-auc:0.798418\tvalidation_1-auc:0.789933\n",
      "[27]\tvalidation_0-auc:0.797887\tvalidation_1-auc:0.791308\n",
      "[28]\tvalidation_0-auc:0.798541\tvalidation_1-auc:0.791827\n",
      "[29]\tvalidation_0-auc:0.802456\tvalidation_1-auc:0.792215\n",
      "[30]\tvalidation_0-auc:0.803288\tvalidation_1-auc:0.792906\n",
      "[31]\tvalidation_0-auc:0.803995\tvalidation_1-auc:0.793605\n",
      "[32]\tvalidation_0-auc:0.804909\tvalidation_1-auc:0.793909\n",
      "[33]\tvalidation_0-auc:0.806007\tvalidation_1-auc:0.79465\n",
      "[34]\tvalidation_0-auc:0.806938\tvalidation_1-auc:0.794962\n",
      "[35]\tvalidation_0-auc:0.80774\tvalidation_1-auc:0.795322\n",
      "[36]\tvalidation_0-auc:0.808251\tvalidation_1-auc:0.795872\n",
      "[37]\tvalidation_0-auc:0.80865\tvalidation_1-auc:0.796004\n",
      "[38]\tvalidation_0-auc:0.809344\tvalidation_1-auc:0.796687\n",
      "[39]\tvalidation_0-auc:0.810693\tvalidation_1-auc:0.79765\n",
      "[40]\tvalidation_0-auc:0.811566\tvalidation_1-auc:0.797566\n",
      "[41]\tvalidation_0-auc:0.812108\tvalidation_1-auc:0.798016\n",
      "[42]\tvalidation_0-auc:0.813036\tvalidation_1-auc:0.797288\n",
      "[43]\tvalidation_0-auc:0.813591\tvalidation_1-auc:0.797199\n",
      "[44]\tvalidation_0-auc:0.814412\tvalidation_1-auc:0.797197\n",
      "[45]\tvalidation_0-auc:0.814933\tvalidation_1-auc:0.797312\n",
      "[46]\tvalidation_0-auc:0.815765\tvalidation_1-auc:0.797919\n",
      "[47]\tvalidation_0-auc:0.816362\tvalidation_1-auc:0.798335\n",
      "[48]\tvalidation_0-auc:0.816642\tvalidation_1-auc:0.798571\n",
      "[49]\tvalidation_0-auc:0.817106\tvalidation_1-auc:0.798782\n",
      "[50]\tvalidation_0-auc:0.817826\tvalidation_1-auc:0.797943\n",
      "[51]\tvalidation_0-auc:0.818423\tvalidation_1-auc:0.798633\n",
      "[52]\tvalidation_0-auc:0.818912\tvalidation_1-auc:0.797949\n",
      "[53]\tvalidation_0-auc:0.819439\tvalidation_1-auc:0.797855\n",
      "[54]\tvalidation_0-auc:0.820943\tvalidation_1-auc:0.798361\n",
      "[55]\tvalidation_0-auc:0.821148\tvalidation_1-auc:0.798371\n",
      "[56]\tvalidation_0-auc:0.821798\tvalidation_1-auc:0.798688\n",
      "[57]\tvalidation_0-auc:0.822181\tvalidation_1-auc:0.798954\n",
      "[58]\tvalidation_0-auc:0.822541\tvalidation_1-auc:0.79851\n",
      "[59]\tvalidation_0-auc:0.822903\tvalidation_1-auc:0.798313\n",
      "[60]\tvalidation_0-auc:0.823584\tvalidation_1-auc:0.798723\n",
      "[61]\tvalidation_0-auc:0.824096\tvalidation_1-auc:0.799273\n",
      "[62]\tvalidation_0-auc:0.824716\tvalidation_1-auc:0.79942\n",
      "[63]\tvalidation_0-auc:0.825106\tvalidation_1-auc:0.799372\n",
      "[64]\tvalidation_0-auc:0.826262\tvalidation_1-auc:0.798979\n",
      "[65]\tvalidation_0-auc:0.827334\tvalidation_1-auc:0.799254\n",
      "[66]\tvalidation_0-auc:0.827668\tvalidation_1-auc:0.798136\n",
      "[67]\tvalidation_0-auc:0.829551\tvalidation_1-auc:0.798769\n",
      "[68]\tvalidation_0-auc:0.829698\tvalidation_1-auc:0.798811\n",
      "[69]\tvalidation_0-auc:0.830316\tvalidation_1-auc:0.798328\n",
      "[70]\tvalidation_0-auc:0.830481\tvalidation_1-auc:0.798951\n",
      "[71]\tvalidation_0-auc:0.831055\tvalidation_1-auc:0.79862\n",
      "[72]\tvalidation_0-auc:0.831678\tvalidation_1-auc:0.798124\n",
      "[73]\tvalidation_0-auc:0.832012\tvalidation_1-auc:0.798286\n",
      "[74]\tvalidation_0-auc:0.832177\tvalidation_1-auc:0.798439\n",
      "[75]\tvalidation_0-auc:0.832591\tvalidation_1-auc:0.798883\n",
      "[76]\tvalidation_0-auc:0.833005\tvalidation_1-auc:0.799165\n",
      "[77]\tvalidation_0-auc:0.834208\tvalidation_1-auc:0.799564\n",
      "[78]\tvalidation_0-auc:0.835054\tvalidation_1-auc:0.800369\n",
      "[79]\tvalidation_0-auc:0.835406\tvalidation_1-auc:0.800364\n",
      "[80]\tvalidation_0-auc:0.835636\tvalidation_1-auc:0.800483\n",
      "[81]\tvalidation_0-auc:0.836188\tvalidation_1-auc:0.799677\n",
      "[82]\tvalidation_0-auc:0.836574\tvalidation_1-auc:0.799465\n",
      "[83]\tvalidation_0-auc:0.836821\tvalidation_1-auc:0.798946\n",
      "[84]\tvalidation_0-auc:0.836633\tvalidation_1-auc:0.798661\n",
      "[85]\tvalidation_0-auc:0.837001\tvalidation_1-auc:0.799022\n",
      "[86]\tvalidation_0-auc:0.837881\tvalidation_1-auc:0.799434\n",
      "[87]\tvalidation_0-auc:0.838184\tvalidation_1-auc:0.799668\n",
      "[88]\tvalidation_0-auc:0.83888\tvalidation_1-auc:0.799841\n",
      "[89]\tvalidation_0-auc:0.838948\tvalidation_1-auc:0.79999\n",
      "[90]\tvalidation_0-auc:0.839203\tvalidation_1-auc:0.799957\n",
      "[91]\tvalidation_0-auc:0.83911\tvalidation_1-auc:0.799598\n",
      "[92]\tvalidation_0-auc:0.839185\tvalidation_1-auc:0.79961\n",
      "[93]\tvalidation_0-auc:0.839617\tvalidation_1-auc:0.799614\n",
      "[94]\tvalidation_0-auc:0.839694\tvalidation_1-auc:0.799874\n",
      "[95]\tvalidation_0-auc:0.839365\tvalidation_1-auc:0.800229\n",
      "[96]\tvalidation_0-auc:0.839615\tvalidation_1-auc:0.800213\n",
      "[97]\tvalidation_0-auc:0.839945\tvalidation_1-auc:0.799759\n",
      "[98]\tvalidation_0-auc:0.84014\tvalidation_1-auc:0.799806\n",
      "[99]\tvalidation_0-auc:0.840375\tvalidation_1-auc:0.80006\n"
     ]
    },
    {
     "data": {
      "text/plain": [
       "XGBClassifier(base_score=0.5, booster='gbtree', colsample_bylevel=1,\n",
       "       colsample_bytree=1, gamma=0, learning_rate=0.1, max_delta_step=0,\n",
       "       max_depth=3, min_child_weight=1, missing=None, n_estimators=100,\n",
       "       n_jobs=1, nthread=None, objective='binary:logistic', random_state=0,\n",
       "       reg_alpha=0, reg_lambda=1, scale_pos_weight=1, seed=42, silent=True,\n",
       "       subsample=1)"
      ]
     },
     "execution_count": 916,
     "metadata": {},
     "output_type": "execute_result"
    }
   ],
   "source": [
    "model.fit(X_train, y_train, eval_metric=\"auc\", eval_set=eval_set, verbose=True)"
   ]
  },
  {
   "cell_type": "code",
   "execution_count": 917,
   "metadata": {},
   "outputs": [
    {
     "name": "stderr",
     "output_type": "stream",
     "text": [
      "C:\\Users\\peckr\\AppData\\Local\\conda\\conda\\envs\\ga\\lib\\site-packages\\sklearn\\preprocessing\\label.py:151: DeprecationWarning: The truth value of an empty array is ambiguous. Returning False, but in future this will result in an error. Use `array.size > 0` to check that an array is not empty.\n",
      "  if diff:\n"
     ]
    },
    {
     "data": {
      "text/plain": [
       "0.6989213197969543"
      ]
     },
     "execution_count": 917,
     "metadata": {},
     "output_type": "execute_result"
    }
   ],
   "source": [
    "model.score(X_test, y_test)"
   ]
  },
  {
   "cell_type": "code",
   "execution_count": 918,
   "metadata": {},
   "outputs": [
    {
     "name": "stderr",
     "output_type": "stream",
     "text": [
      "C:\\Users\\peckr\\AppData\\Local\\conda\\conda\\envs\\ga\\lib\\site-packages\\sklearn\\preprocessing\\label.py:151: DeprecationWarning: The truth value of an empty array is ambiguous. Returning False, but in future this will result in an error. Use `array.size > 0` to check that an array is not empty.\n",
      "  if diff:\n"
     ]
    }
   ],
   "source": [
    "#calculate AUC\n",
    "fpr, tpr, _ = roc_curve(y_test, model.predict(X_test))\n",
    "roc_auc = auc(fpr, tpr)"
   ]
  },
  {
   "cell_type": "code",
   "execution_count": 919,
   "metadata": {},
   "outputs": [
    {
     "data": {
      "text/plain": [
       "0.7244631573850661"
      ]
     },
     "execution_count": 919,
     "metadata": {},
     "output_type": "execute_result"
    }
   ],
   "source": [
    "roc_auc"
   ]
  },
  {
   "cell_type": "code",
   "execution_count": 920,
   "metadata": {},
   "outputs": [
    {
     "data": {
      "image/png": "[encoded data removed]",
      "text/plain": [
       "<matplotlib.figure.Figure at 0x22a87a0bd68>"
      ]
     },
     "metadata": {},
     "output_type": "display_data"
    }
   ],
   "source": [
    "#plot of a ROC curve for a specific class\n",
    "plt.figure()\n",
    "plt.plot(fpr, tpr, label='ROC curve (area = %0.2f)' % roc_auc, color = 'blue')\n",
    "plt.plot([0, 1], [0,1], 'k--')\n",
    "plt.xlim([0.0, 1.0])\n",
    "plt.ylim([0.0, 1.05])\n",
    "plt.xlabel('False Positive Rate')\n",
    "plt.ylabel('True Positive Rate')\n",
    "plt.title('Reciever Operating Characteristic (ROC) Curve')\n",
    "plt.legend(loc=\"lower right\")\n",
    "plt.show()"
   ]
  },
  {
   "cell_type": "markdown",
   "metadata": {},
   "source": [
    "##### Generating Model Submission"
   ]
  },
  {
   "cell_type": "code",
   "execution_count": null,
   "metadata": {},
   "outputs": [],
   "source": [
    "def create_submission(model)\n",
    "    '''Generates csv for submission from model using model.predict_proba'''\n",
    "    #predicting values for submission\n",
    "    submission = pd.DataFrame(model.predict_proba(test), columns = ['WnvPresent'])\n",
    "    \n",
    "    submission.set_index(np.arange(1, test.shape[0] + 1), inplace=True)\n",
    "    submission = submission.reset_index().rename(columns = {'index':'Id'})\n",
    "    submission.to_csv('~/Desktop/Git_lessons/Project4/westnilevirussubmission.csv', index = False)\n",
    "    "
   ]
  }
 ],
 "metadata": {
  "kernelspec": {
   "display_name": "Python 3",
   "language": "python",
   "name": "python3"
  },
  "language_info": {
   "codemirror_mode": {
    "name": "ipython",
    "version": 3
   },
   "file_extension": ".py",
   "mimetype": "text/x-python",
   "name": "python",
   "nbconvert_exporter": "python",
   "pygments_lexer": "ipython3",
   "version": "3.5.4"
  }
 },
 "nbformat": 4,
 "nbformat_minor": 2
}
