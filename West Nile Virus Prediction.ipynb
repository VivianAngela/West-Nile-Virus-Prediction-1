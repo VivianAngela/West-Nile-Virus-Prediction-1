{
 "cells": [
  {
   "cell_type": "markdown",
   "metadata": {},
   "source": [
    "# West Nile Virus Prediction"
   ]
  },
  {
   "cell_type": "markdown",
   "metadata": {},
   "source": [
    "### 1. Import Data and Libraries"
   ]
  },
  {
   "cell_type": "code",
   "execution_count": 1,
   "metadata": {},
   "outputs": [],
   "source": [
    "import pandas as pd\n",
    "import matplotlib.pyplot as plt\n",
    "import seaborn as sns\n",
    "\n",
    "from sklearn.metrics import confusion_matrix, roc_curve, auc\n",
    "\n",
    "%matplotlib inline"
   ]
  },
  {
   "cell_type": "code",
   "execution_count": 3,
   "metadata": {
    "scrolled": true
   },
   "outputs": [],
   "source": [
    "spray = pd.read_csv('./west_nile/west_nile/input/spray.csv')\n",
    "weather = pd.read_csv('./west_nile/west_nile/input/weather.csv')\n",
    "train = pd.read_csv('./west_nile/west_nile/input/train.csv')\n",
    "ss = pd.read_csv('./west_nile/west_nile/input/SampleSubmission.csv')"
   ]
  },
  {
   "cell_type": "markdown",
   "metadata": {},
   "source": [
    "### 2. Perform EDA /Format /Clean Data"
   ]
  },
  {
   "cell_type": "code",
   "execution_count": 4,
   "metadata": {},
   "outputs": [],
   "source": [
    "def quick_EDA(df):\n",
    "    #Input a dataframe, Returns: shape of data, number of nulls\n",
    "    nulls = df.isnull().sum().sum()\n",
    "    \n",
    "    print('Rows:', df.shape[0], 'Columns:', df.shape[1])\n",
    "    print('Total NaNs:', nulls)"
   ]
  },
  {
   "cell_type": "code",
   "execution_count": 5,
   "metadata": {},
   "outputs": [
    {
     "name": "stdout",
     "output_type": "stream",
     "text": [
      "Rows: 10506 Columns: 12\n",
      "Total NaNs: 0\n"
     ]
    }
   ],
   "source": [
    "quick_EDA(train)"
   ]
  },
  {
   "cell_type": "code",
   "execution_count": 6,
   "metadata": {},
   "outputs": [
    {
     "name": "stdout",
     "output_type": "stream",
     "text": [
      "Rows: 14835 Columns: 4\n",
      "Total NaNs: 584\n"
     ]
    }
   ],
   "source": [
    "quick_EDA(spray)"
   ]
  },
  {
   "cell_type": "code",
   "execution_count": 7,
   "metadata": {},
   "outputs": [
    {
     "name": "stdout",
     "output_type": "stream",
     "text": [
      "Rows: 2944 Columns: 22\n",
      "Total NaNs: 0\n"
     ]
    }
   ],
   "source": [
    "quick_EDA(weather)"
   ]
  },
  {
   "cell_type": "code",
   "execution_count": 8,
   "metadata": {},
   "outputs": [],
   "source": [
    "#Converting train columns to datetime format\n",
    "train['Date'] = pd.to_datetime(train['Date'])"
   ]
  },
  {
   "cell_type": "code",
   "execution_count": 9,
   "metadata": {},
   "outputs": [],
   "source": [
    "#converting spray columns to date time and making date/time columns\n",
    "spray['Date'] = pd.to_datetime(spray['Date'])\n",
    "spray['am_pm'] = spray['Time'].apply(lambda x: str(x).split()[-1])\n",
    "spray['Time'] = spray['Time'].apply(lambda x: str(x).split()[0])\n",
    "spray['Time'] = pd.to_datetime(spray['Time'], format = '%H:%M:%S')"
   ]
  },
  {
   "cell_type": "code",
   "execution_count": 10,
   "metadata": {},
   "outputs": [],
   "source": [
    "#converting Weather columns to datetime\n",
    "weather['Date'] = pd.to_datetime(weather['Date'])"
   ]
  },
  {
   "cell_type": "code",
   "execution_count": 11,
   "metadata": {},
   "outputs": [
    {
     "name": "stdout",
     "output_type": "stream",
     "text": [
      "Traps tested > 1/day: 0\n"
     ]
    }
   ],
   "source": [
    "#testing to see if any traps are ever tested more than once on the same day\n",
    "    # none are, this will allow us to determine the number of mosquitos in traps where there are more than 50\n",
    "    # because we can now combine rows on Trap Id and Date to get total no. mosquitos tested\n",
    "datetrap = train[['Date', 'Trap']]\n",
    "y = datetrap.merge(pd.get_dummies(train['Trap']), how = 'left', right_index = True, left_index = True)\n",
    "\n",
    "datetrapcols = y.shape[1]\n",
    "datetraprows = y.shape[0]\n",
    "errors = 0\n",
    "\n",
    "for i in range(datetraprows):\n",
    "    for g in range(2,datetrapcols):\n",
    "        if y.iloc[i,g] > 1:\n",
    "            errors += 1\n",
    "print('Traps tested > 1/day:', errors)"
   ]
  },
  {
   "cell_type": "code",
   "execution_count": 12,
   "metadata": {},
   "outputs": [
    {
     "data": {
      "image/png": "[encoded data removed]",
      "text/plain": [
       "<matplotlib.figure.Figure at 0x29baecd43c8>"
      ]
     },
     "metadata": {},
     "output_type": "display_data"
    }
   ],
   "source": [
    "#plotted mosquitos by trap by date\n",
    "train[['Date', 'Trap', 'NumMosquitos']].groupby(by = ['Date','Trap'])['Date','Trap','NumMosquitos'] \\\n",
    "    .sum().reset_index().sort_values('NumMosquitos', ascending = False).set_index('Date').plot(style = '.')\n",
    "    \n",
    "plt.title('Mosquitos by Trap over Time');"
   ]
  },
  {
   "cell_type": "code",
   "execution_count": 13,
   "metadata": {},
   "outputs": [
    {
     "data": {
      "image/png": "[encoded data removed]",
      "text/plain": [
       "<matplotlib.figure.Figure at 0x29bb641d048>"
      ]
     },
     "metadata": {},
     "output_type": "display_data"
    }
   ],
   "source": [
    "#plotted WNV incidents by trap\n",
    "train[['Date', 'Trap','WnvPresent']].groupby(by = ['Date','Trap'])['Date','Trap','WnvPresent'] \\\n",
    "    .sum().reset_index().sort_values('WnvPresent', ascending = False).set_index('Date').plot(color = 'green', style = '.')\n",
    "    \n",
    "plt.title('Positive WnV Cases by Trap over Time');"
   ]
  },
  {
   "cell_type": "markdown",
   "metadata": {},
   "source": [
    "### 3. Feature Engineering"
   ]
  },
  {
   "cell_type": "markdown",
   "metadata": {},
   "source": [
    "##### Split out Parent Traps and Child Traps"
   ]
  },
  {
   "cell_type": "code",
   "execution_count": 14,
   "metadata": {},
   "outputs": [],
   "source": [
    "#Create columns to show parent trap and child traps\n",
    "train['Parent_Trap'] = train['Trap'].apply(lambda x: x[:4])\n",
    "train['Child_Trap'] = train['Trap'].apply(lambda x: x[4:])"
   ]
  },
  {
   "cell_type": "code",
   "execution_count": 15,
   "metadata": {},
   "outputs": [
    {
     "data": {
      "text/html": [
       "<div>\n",
       "<style scoped>\n",
       "    .dataframe tbody tr th:only-of-type {\n",
       "        vertical-align: middle;\n",
       "    }\n",
       "\n",
       "    .dataframe tbody tr th {\n",
       "        vertical-align: top;\n",
       "    }\n",
       "\n",
       "    .dataframe thead th {\n",
       "        text-align: right;\n",
       "    }\n",
       "</style>\n",
       "<table border=\"1\" class=\"dataframe\">\n",
       "  <thead>\n",
       "    <tr style=\"text-align: right;\">\n",
       "      <th></th>\n",
       "      <th>Parent_Trap</th>\n",
       "      <th>Child_Trap</th>\n",
       "    </tr>\n",
       "  </thead>\n",
       "  <tbody>\n",
       "    <tr>\n",
       "      <th>0</th>\n",
       "      <td>T094</td>\n",
       "      <td>2</td>\n",
       "    </tr>\n",
       "    <tr>\n",
       "      <th>1</th>\n",
       "      <td>T054</td>\n",
       "      <td>2</td>\n",
       "    </tr>\n",
       "    <tr>\n",
       "      <th>2</th>\n",
       "      <td>T001</td>\n",
       "      <td>1</td>\n",
       "    </tr>\n",
       "    <tr>\n",
       "      <th>3</th>\n",
       "      <td>T148</td>\n",
       "      <td>1</td>\n",
       "    </tr>\n",
       "    <tr>\n",
       "      <th>4</th>\n",
       "      <td>T143</td>\n",
       "      <td>1</td>\n",
       "    </tr>\n",
       "  </tbody>\n",
       "</table>\n",
       "</div>"
      ],
      "text/plain": [
       "  Parent_Trap  Child_Trap\n",
       "0        T094           2\n",
       "1        T054           2\n",
       "2        T001           1\n",
       "3        T148           1\n",
       "4        T143           1"
      ]
     },
     "execution_count": 15,
     "metadata": {},
     "output_type": "execute_result"
    }
   ],
   "source": [
    "#show number of child traps to each parent trap\n",
    "#need to de-duplicate list of traps initally to accomplish this\n",
    "train[['Parent_Trap', 'Child_Trap']].drop_duplicates().groupby(by = 'Parent_Trap')['Child_Trap'].count().reset_index(). \\\n",
    "    sort_values(by = 'Child_Trap',ascending = False).reset_index(drop = True).head()"
   ]
  },
  {
   "cell_type": "markdown",
   "metadata": {},
   "source": [
    "##### Get Dummies for mosquito species"
   ]
  },
  {
   "cell_type": "code",
   "execution_count": 16,
   "metadata": {},
   "outputs": [],
   "source": [
    "#split out dual mosquote species lines into separate columns\n",
    "train['Species'] = train['Species'].apply(lambda x: x.split('/'))\n",
    "\n",
    "train['Species1'] = train['Species'].apply(lambda x: 'CULEX ' + x[1] if len(x) == 2 else 'NaN')\n",
    "train['Species0'] = train['Species'].apply(lambda x: x[0])"
   ]
  },
  {
   "cell_type": "code",
   "execution_count": 17,
   "metadata": {},
   "outputs": [],
   "source": [
    "#make dummies for mosquito species\n",
    "train = pd.get_dummies(train, prefix = 'Species', columns = ['Species0'])\n"
   ]
  },
  {
   "cell_type": "code",
   "execution_count": 18,
   "metadata": {},
   "outputs": [],
   "source": [
    "#add in the RESTUANS species from the split column\n",
    "for i in range(train.shape[0]):\n",
    "    if train.loc[i, 'Species1'] == 'CULEX RESTUANS':\n",
    "        train.loc[i,'Species_CULEX RESTUANS'] = 1"
   ]
  },
  {
   "cell_type": "code",
   "execution_count": 19,
   "metadata": {},
   "outputs": [],
   "source": [
    "#drop the species column\n",
    "train.drop(columns = ['Species','Species1'], inplace = True)"
   ]
  },
  {
   "cell_type": "markdown",
   "metadata": {},
   "source": [
    "##### Get Dummies for Other Variables"
   ]
  },
  {
   "cell_type": "code",
   "execution_count": 20,
   "metadata": {},
   "outputs": [],
   "source": [
    "dummy_train = pd.get_dummies(train, columns = ['Trap', 'Block', 'Street'])\n",
    "\n",
    "train.drop(columns = ['Trap', 'Block', 'Street'], inplace = True)"
   ]
  },
  {
   "cell_type": "markdown",
   "metadata": {},
   "source": [
    "##### Get Dummies for Time (Week, Month, Year)"
   ]
  },
  {
   "cell_type": "code",
   "execution_count": 21,
   "metadata": {},
   "outputs": [],
   "source": [
    "#breaking week, month, and year into separate columns\n",
    "train['Week'] = train['Date'].dt.week\n",
    "train['Month'] = train['Date'].dt.month\n",
    "train['Year'] = train['Date'].dt.year\n",
    "\n",
    "#drop date column\n",
    "train.drop(columns = 'Date', inplace = True)\n",
    "\n",
    "#get dummies\n",
    "train = pd.get_dummies(train, columns = ['Week', 'Month', 'Year'])"
   ]
  },
  {
   "cell_type": "markdown",
   "metadata": {},
   "source": [
    "##### Drop Misc. Columns"
   ]
  },
  {
   "cell_type": "code",
   "execution_count": 22,
   "metadata": {},
   "outputs": [],
   "source": [
    "train.drop(columns = ['Address', 'AddressNumberAndStreet', 'Latitude', \\\n",
    "                      'Longitude', 'AddressAccuracy', 'Parent_Trap', 'Child_Trap'], inplace = True)"
   ]
  },
  {
   "cell_type": "markdown",
   "metadata": {},
   "source": [
    "### 4. Modeling"
   ]
  },
  {
   "cell_type": "code",
   "execution_count": 43,
   "metadata": {},
   "outputs": [],
   "source": [
    "import matplotlib.pyplot as plt\n",
    "import numpy as np\n",
    "\n",
    "from sklearn.model_selection import train_test_split\n",
    "from sklearn.preprocessing import StandardScaler\n",
    "from sklearn.utils import resample\n",
    "\n",
    "from keras.models import Sequential\n",
    "from keras.layers import Dense"
   ]
  },
  {
   "cell_type": "markdown",
   "metadata": {},
   "source": [
    "##### Resampling Data for Classification Models"
   ]
  },
  {
   "cell_type": "code",
   "execution_count": 24,
   "metadata": {},
   "outputs": [
    {
     "data": {
      "text/plain": [
       "'0.948'"
      ]
     },
     "execution_count": 24,
     "metadata": {},
     "output_type": "execute_result"
    }
   ],
   "source": [
    "#this is the baseline accuracy to beat for classification models\n",
    "#if we selected \"WnV is not present for all samples\" we would be correct ~95% of the time\n",
    "format(1 - train['WnvPresent'].sum()/train.shape[0], '.3f')"
   ]
  },
  {
   "cell_type": "code",
   "execution_count": 25,
   "metadata": {},
   "outputs": [],
   "source": [
    "#have to convert to numpy array for keras/tensorflow/classification\n",
    "X = train.drop(columns = 'WnvPresent')\n",
    "y = train['WnvPresent']"
   ]
  },
  {
   "cell_type": "code",
   "execution_count": 26,
   "metadata": {},
   "outputs": [],
   "source": [
    "#prep data to enter models\n",
    "X_train, X_test, y_train, y_test = train_test_split(X, y, test_size = 0.3, random_state = 42)"
   ]
  },
  {
   "cell_type": "code",
   "execution_count": 27,
   "metadata": {},
   "outputs": [],
   "source": [
    "#rejoin train data on index so it can be downsampled to match classes\n",
    "traindata = X_train.merge(pd.DataFrame(y_train), how = 'left', right_index = True, left_index = True)\n",
    "\n",
    "#separate minority and majority classes\n",
    "train_majority = traindata[traindata['WnvPresent'] == 0]\n",
    "train_minority = traindata[traindata['WnvPresent'] == 1]\n",
    "\n",
    "#upsample minority class\n",
    "train_minority_upsampled = resample(train_minority, \n",
    "                                     replace = True, \n",
    "                                     n_samples = train_majority.shape[0],\n",
    "                                     random_state = 65)\n",
    "#combine classes\n",
    "train_data_upsampled = pd.concat([train_majority, train_minority_upsampled])\n",
    "#split back into X_train and y_train\n",
    "X_train = train_data_upsampled.drop(columns = 'WnvPresent')\n",
    "y_train = train_data_upsampled['WnvPresent']"
   ]
  },
  {
   "cell_type": "markdown",
   "metadata": {},
   "source": [
    "#### A. Neural Network"
   ]
  },
  {
   "cell_type": "code",
   "execution_count": 28,
   "metadata": {},
   "outputs": [],
   "source": [
    "#standardizing data to normalize with a mean of 0 and a stdDev of 1\n",
    "ss = StandardScaler()\n",
    "X_train = ss.fit_transform(X_train)\n",
    "X_test = ss.transform(X_test)"
   ]
  },
  {
   "cell_type": "code",
   "execution_count": 29,
   "metadata": {},
   "outputs": [],
   "source": [
    "#create model\n",
    "model = Sequential()"
   ]
  },
  {
   "cell_type": "code",
   "execution_count": 30,
   "metadata": {},
   "outputs": [],
   "source": [
    "#network topolgy\n",
    "input_units = X_train.shape[1]\n",
    "hidden_units = round(input_units)\n",
    "\n",
    "model.add(Dense(hidden_units, \n",
    "                input_dim = input_units, \n",
    "                activation = 'relu'))\n",
    "\n",
    "model.add(Dense(1, activation = 'sigmoid'))"
   ]
  },
  {
   "cell_type": "code",
   "execution_count": 31,
   "metadata": {},
   "outputs": [
    {
     "name": "stdout",
     "output_type": "stream",
     "text": [
      "WARNING:tensorflow:From C:\\Users\\peckr\\AppData\\Local\\conda\\conda\\envs\\ga\\lib\\site-packages\\keras\\backend\\tensorflow_backend.py:1340: calling reduce_mean (from tensorflow.python.ops.math_ops) with keep_dims is deprecated and will be removed in a future version.\n",
      "Instructions for updating:\n",
      "keep_dims is deprecated, use keepdims instead\n"
     ]
    }
   ],
   "source": [
    "model.compile(loss = 'binary_crossentropy',\n",
    "              optimizer = 'adam',\n",
    "              metrics = ['binary_accuracy'])"
   ]
  },
  {
   "cell_type": "code",
   "execution_count": 33,
   "metadata": {},
   "outputs": [
    {
     "name": "stdout",
     "output_type": "stream",
     "text": [
      "Train on 13938 samples, validate on 3152 samples\n",
      "Epoch 1/50\n",
      "13938/13938 [==============================] - 1s 49us/step - loss: 0.3714 - binary_accuracy: 0.8308 - val_loss: 0.4173 - val_binary_accuracy: 0.7843\n",
      "Epoch 2/50\n",
      "13938/13938 [==============================] - 1s 50us/step - loss: 0.3699 - binary_accuracy: 0.8293 - val_loss: 0.4404 - val_binary_accuracy: 0.7706\n",
      "Epoch 3/50\n",
      "13938/13938 [==============================] - 1s 49us/step - loss: 0.3691 - binary_accuracy: 0.8317 - val_loss: 0.4014 - val_binary_accuracy: 0.7957\n",
      "Epoch 4/50\n",
      "13938/13938 [==============================] - 1s 48us/step - loss: 0.3678 - binary_accuracy: 0.8324 - val_loss: 0.3907 - val_binary_accuracy: 0.7989\n",
      "Epoch 5/50\n",
      "13938/13938 [==============================] - 1s 51us/step - loss: 0.3672 - binary_accuracy: 0.8316 - val_loss: 0.4136 - val_binary_accuracy: 0.7881\n",
      "Epoch 6/50\n",
      "13938/13938 [==============================] - 1s 56us/step - loss: 0.3665 - binary_accuracy: 0.8323 - val_loss: 0.4274 - val_binary_accuracy: 0.7852\n",
      "Epoch 7/50\n",
      "13938/13938 [==============================] - 1s 56us/step - loss: 0.3653 - binary_accuracy: 0.8343 - val_loss: 0.4193 - val_binary_accuracy: 0.7897\n",
      "Epoch 8/50\n",
      "13938/13938 [==============================] - 1s 51us/step - loss: 0.3644 - binary_accuracy: 0.8353 - val_loss: 0.4264 - val_binary_accuracy: 0.7890\n",
      "Epoch 9/50\n",
      "13938/13938 [==============================] - 1s 50us/step - loss: 0.3631 - binary_accuracy: 0.8360 - val_loss: 0.4034 - val_binary_accuracy: 0.7982\n",
      "Epoch 10/50\n",
      "13938/13938 [==============================] - 1s 53us/step - loss: 0.3634 - binary_accuracy: 0.8346 - val_loss: 0.3817 - val_binary_accuracy: 0.8160\n",
      "Epoch 11/50\n",
      "13938/13938 [==============================] - 1s 53us/step - loss: 0.3628 - binary_accuracy: 0.8326 - val_loss: 0.4015 - val_binary_accuracy: 0.8017\n",
      "Epoch 12/50\n",
      "13938/13938 [==============================] - 1s 51us/step - loss: 0.3622 - binary_accuracy: 0.8351 - val_loss: 0.4299 - val_binary_accuracy: 0.7909\n",
      "Epoch 13/50\n",
      "13938/13938 [==============================] - 1s 63us/step - loss: 0.3610 - binary_accuracy: 0.8375 - val_loss: 0.4279 - val_binary_accuracy: 0.7887\n",
      "Epoch 14/50\n",
      "13938/13938 [==============================] - 1s 55us/step - loss: 0.3611 - binary_accuracy: 0.8355 - val_loss: 0.4301 - val_binary_accuracy: 0.7871\n",
      "Epoch 15/50\n",
      "13938/13938 [==============================] - 1s 56us/step - loss: 0.3607 - binary_accuracy: 0.8364 - val_loss: 0.4050 - val_binary_accuracy: 0.7982\n",
      "Epoch 16/50\n",
      "13938/13938 [==============================] - 1s 63us/step - loss: 0.3601 - binary_accuracy: 0.8357 - val_loss: 0.3984 - val_binary_accuracy: 0.8084\n",
      "Epoch 17/50\n",
      "13938/13938 [==============================] - 1s 53us/step - loss: 0.3588 - binary_accuracy: 0.8394 - val_loss: 0.4330 - val_binary_accuracy: 0.7843\n",
      "Epoch 18/50\n",
      "13938/13938 [==============================] - 1s 55us/step - loss: 0.3587 - binary_accuracy: 0.8376 - val_loss: 0.4005 - val_binary_accuracy: 0.8039\n",
      "Epoch 19/50\n",
      "13938/13938 [==============================] - 1s 51us/step - loss: 0.3590 - binary_accuracy: 0.8379 - val_loss: 0.4117 - val_binary_accuracy: 0.7976\n",
      "Epoch 20/50\n",
      "13938/13938 [==============================] - 1s 61us/step - loss: 0.3581 - binary_accuracy: 0.8383 - val_loss: 0.4020 - val_binary_accuracy: 0.8065\n",
      "Epoch 21/50\n",
      "13938/13938 [==============================] - 1s 54us/step - loss: 0.3585 - binary_accuracy: 0.8353 - val_loss: 0.4173 - val_binary_accuracy: 0.7912\n",
      "Epoch 22/50\n",
      "13938/13938 [==============================] - 1s 53us/step - loss: 0.3577 - binary_accuracy: 0.8397 - val_loss: 0.4398 - val_binary_accuracy: 0.7741\n",
      "Epoch 23/50\n",
      "13938/13938 [==============================] - 1s 58us/step - loss: 0.3570 - binary_accuracy: 0.8387 - val_loss: 0.4107 - val_binary_accuracy: 0.8008\n",
      "Epoch 24/50\n",
      "13938/13938 [==============================] - 1s 61us/step - loss: 0.3566 - binary_accuracy: 0.8356 - val_loss: 0.4309 - val_binary_accuracy: 0.7992\n",
      "Epoch 25/50\n",
      "13938/13938 [==============================] - 1s 54us/step - loss: 0.3563 - binary_accuracy: 0.8383 - val_loss: 0.4136 - val_binary_accuracy: 0.7935\n",
      "Epoch 26/50\n",
      "13938/13938 [==============================] - 1s 65us/step - loss: 0.3552 - binary_accuracy: 0.8394 - val_loss: 0.4300 - val_binary_accuracy: 0.7954\n",
      "Epoch 27/50\n",
      "13938/13938 [==============================] - 1s 69us/step - loss: 0.3558 - binary_accuracy: 0.8381 - val_loss: 0.4445 - val_binary_accuracy: 0.7786\n",
      "Epoch 28/50\n",
      "13938/13938 [==============================] - 1s 59us/step - loss: 0.3557 - binary_accuracy: 0.8384 - val_loss: 0.4054 - val_binary_accuracy: 0.8039\n",
      "Epoch 29/50\n",
      "13938/13938 [==============================] - 1s 64us/step - loss: 0.3550 - binary_accuracy: 0.8386 - val_loss: 0.4200 - val_binary_accuracy: 0.7951\n",
      "Epoch 30/50\n",
      "13938/13938 [==============================] - 1s 68us/step - loss: 0.3545 - binary_accuracy: 0.8389 - val_loss: 0.4364 - val_binary_accuracy: 0.7846\n",
      "Epoch 31/50\n",
      "13938/13938 [==============================] - 1s 62us/step - loss: 0.3548 - binary_accuracy: 0.8367 - val_loss: 0.3957 - val_binary_accuracy: 0.8023\n",
      "Epoch 32/50\n",
      "13938/13938 [==============================] - 1s 57us/step - loss: 0.3539 - binary_accuracy: 0.8392 - val_loss: 0.4267 - val_binary_accuracy: 0.7938\n",
      "Epoch 33/50\n",
      "13938/13938 [==============================] - 1s 56us/step - loss: 0.3532 - binary_accuracy: 0.8406 - val_loss: 0.4209 - val_binary_accuracy: 0.8027\n",
      "Epoch 34/50\n",
      "13938/13938 [==============================] - 1s 63us/step - loss: 0.3539 - binary_accuracy: 0.8384 - val_loss: 0.4402 - val_binary_accuracy: 0.7836\n",
      "Epoch 35/50\n",
      "13938/13938 [==============================] - 1s 57us/step - loss: 0.3526 - binary_accuracy: 0.8404 - val_loss: 0.4200 - val_binary_accuracy: 0.7992\n",
      "Epoch 36/50\n",
      "13938/13938 [==============================] - 1s 58us/step - loss: 0.3532 - binary_accuracy: 0.8394 - val_loss: 0.4319 - val_binary_accuracy: 0.7792\n",
      "Epoch 37/50\n",
      "13938/13938 [==============================] - 1s 55us/step - loss: 0.3532 - binary_accuracy: 0.8408 - val_loss: 0.4158 - val_binary_accuracy: 0.7970\n",
      "Epoch 38/50\n",
      "13938/13938 [==============================] - 1s 55us/step - loss: 0.3521 - binary_accuracy: 0.8404 - val_loss: 0.4529 - val_binary_accuracy: 0.7824\n",
      "Epoch 39/50\n",
      "13938/13938 [==============================] - 1s 58us/step - loss: 0.3528 - binary_accuracy: 0.8392 - val_loss: 0.4282 - val_binary_accuracy: 0.7906\n",
      "Epoch 40/50\n",
      "13938/13938 [==============================] - 1s 56us/step - loss: 0.3520 - binary_accuracy: 0.8413 - val_loss: 0.4276 - val_binary_accuracy: 0.7824\n",
      "Epoch 41/50\n",
      "13938/13938 [==============================] - 1s 70us/step - loss: 0.3524 - binary_accuracy: 0.8408 - val_loss: 0.4123 - val_binary_accuracy: 0.7998\n",
      "Epoch 42/50\n",
      "13938/13938 [==============================] - 1s 56us/step - loss: 0.3514 - binary_accuracy: 0.8383 - val_loss: 0.3963 - val_binary_accuracy: 0.8058\n",
      "Epoch 43/50\n",
      "13938/13938 [==============================] - 1s 58us/step - loss: 0.3515 - binary_accuracy: 0.8434 - val_loss: 0.4183 - val_binary_accuracy: 0.7973\n",
      "Epoch 44/50\n",
      "13938/13938 [==============================] - 1s 57us/step - loss: 0.3518 - binary_accuracy: 0.8400 - val_loss: 0.4202 - val_binary_accuracy: 0.7982\n",
      "Epoch 45/50\n",
      "13938/13938 [==============================] - 1s 54us/step - loss: 0.3516 - binary_accuracy: 0.8414 - val_loss: 0.4280 - val_binary_accuracy: 0.7849\n",
      "Epoch 46/50\n",
      "13938/13938 [==============================] - 1s 60us/step - loss: 0.3514 - binary_accuracy: 0.8399 - val_loss: 0.4107 - val_binary_accuracy: 0.7935\n",
      "Epoch 47/50\n",
      "13938/13938 [==============================] - 1s 55us/step - loss: 0.3504 - binary_accuracy: 0.8407 - val_loss: 0.4248 - val_binary_accuracy: 0.7982\n",
      "Epoch 48/50\n",
      "13938/13938 [==============================] - 1s 52us/step - loss: 0.3510 - binary_accuracy: 0.8404 - val_loss: 0.4142 - val_binary_accuracy: 0.8017\n",
      "Epoch 49/50\n",
      "13938/13938 [==============================] - 1s 55us/step - loss: 0.3506 - binary_accuracy: 0.8398 - val_loss: 0.4138 - val_binary_accuracy: 0.7957\n",
      "Epoch 50/50\n",
      "13938/13938 [==============================] - 1s 55us/step - loss: 0.3501 - binary_accuracy: 0.8419 - val_loss: 0.4060 - val_binary_accuracy: 0.8068\n"
     ]
    }
   ],
   "source": [
    "history = model.fit(X_train, y_train,\n",
    "                   validation_data = (X_test, y_test),\n",
    "                   epochs = 50, \n",
    "                   batch_size = None, \n",
    "                   verbose = 1)"
   ]
  },
  {
   "cell_type": "code",
   "execution_count": 34,
   "metadata": {},
   "outputs": [
    {
     "data": {
      "text/plain": [
       "[<matplotlib.lines.Line2D at 0x29bbb644dd8>]"
      ]
     },
     "execution_count": 34,
     "metadata": {},
     "output_type": "execute_result"
    },
    {
     "data": {
      "image/png": "[encoded data removed]",
      "text/plain": [
       "<matplotlib.figure.Figure at 0x29bbb4fbf60>"
      ]
     },
     "metadata": {},
     "output_type": "display_data"
    }
   ],
   "source": [
    "#plotting accuracy over epochs\n",
    "plt.plot(history.history['val_binary_accuracy'])"
   ]
  },
  {
   "cell_type": "code",
   "execution_count": 35,
   "metadata": {},
   "outputs": [
    {
     "data": {
      "image/png": "[encoded data removed]",
      "text/plain": [
       "<matplotlib.figure.Figure at 0x29bbb64f0b8>"
      ]
     },
     "metadata": {},
     "output_type": "display_data"
    }
   ],
   "source": [
    "train_loss = history.history['loss']\n",
    "test_loss = history.history['val_loss']\n",
    "\n",
    "plt.plot(train_loss, label = 'Train loss')\n",
    "plt.plot(test_loss, label = 'Test loss')\n",
    "plt.legend();"
   ]
  },
  {
   "cell_type": "code",
   "execution_count": 37,
   "metadata": {},
   "outputs": [
    {
     "data": {
      "text/plain": [
       "0.05266497461928934"
      ]
     },
     "execution_count": 37,
     "metadata": {},
     "output_type": "execute_result"
    }
   ],
   "source": [
    "# as predicted from total data set only around 5% of all samples test positive for WnV\n",
    "# preliminarily it appears that from upsampling the wnv cases to get a 50/50 test split\n",
    "# for our neural network we are achieving around 88% accuracy against the test set\n",
    "# compared to our baseline of 95% we would be better off guessing that all do not have WnV\n",
    "(y_test.sum()/y_test.shape)[0]"
   ]
  },
  {
   "cell_type": "code",
   "execution_count": 47,
   "metadata": {},
   "outputs": [],
   "source": [
    "#need to implement a confusion matrix in order to score this appropriately, will never beat 95%\n",
    "#get keras predictions to make a roc curve/get that roc auc\n",
    "fpr, tpr, _ = roc_curve(y_test, model.predict(X_test))\n",
    "\n",
    "#calculate AUC\n",
    "roc_auc = auc(fpr, tpr)\n",
    "#print a confusion matrix\n"
   ]
  },
  {
   "cell_type": "code",
   "execution_count": 48,
   "metadata": {},
   "outputs": [
    {
     "data": {
      "image/png": "[encoded data removed]",
      "text/plain": [
       "<matplotlib.figure.Figure at 0x29bbb727400>"
      ]
     },
     "metadata": {},
     "output_type": "display_data"
    }
   ],
   "source": [
    "#plot of a ROC curve for a specific class\n",
    "plt.figure()\n",
    "plt.plot(fpr, tpr, label='ROC curve (area = %0.2f)' % roc_auc, color = 'blue')\n",
    "plt.plot([0, 1], [0,1], 'k--')\n",
    "plt.xlim([0.0, 1.0])\n",
    "plt.ylim([0.0, 1.05])\n",
    "plt.xlabel('False Positive Rate')\n",
    "plt.ylabel('True Positive Rate')\n",
    "plt.title('Reciever Operating Characteristic (ROC) Curve')\n",
    "plt.legend(loc=\"lower right\")\n",
    "plt.show()"
   ]
  },
  {
   "cell_type": "code",
   "execution_count": null,
   "metadata": {},
   "outputs": [],
   "source": []
  }
 ],
 "metadata": {
  "kernelspec": {
   "display_name": "Python 3",
   "language": "python",
   "name": "python3"
  },
  "language_info": {
   "codemirror_mode": {
    "name": "ipython",
    "version": 3
   },
   "file_extension": ".py",
   "mimetype": "text/x-python",
   "name": "python",
   "nbconvert_exporter": "python",
   "pygments_lexer": "ipython3",
   "version": "3.5.4"
  }
 },
 "nbformat": 4,
 "nbformat_minor": 2
}
