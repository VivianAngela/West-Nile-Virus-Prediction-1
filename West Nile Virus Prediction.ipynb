{
 "cells": [
  {
   "cell_type": "markdown",
   "metadata": {},
   "source": [
    "# West Nile Virus Prediction"
   ]
  },
  {
   "cell_type": "markdown",
   "metadata": {},
   "source": [
    "### 1. Import Data and Libraries"
   ]
  },
  {
   "cell_type": "code",
   "execution_count": 113,
   "metadata": {},
   "outputs": [],
   "source": [
    "import pandas as pd\n",
    "import matplotlib.pyplot as plt\n",
    "import seaborn as sns\n",
    "\n",
    "from math import radians, sin, cos, asin, sqrt\n",
    "from sklearn.metrics import confusion_matrix, roc_curve, auc\n",
    "\n",
    "%matplotlib inline"
   ]
  },
  {
   "cell_type": "code",
   "execution_count": 114,
   "metadata": {
    "scrolled": true
   },
   "outputs": [],
   "source": [
    "spray = pd.read_csv('./west_nile/west_nile/input/spray.csv')\n",
    "weather = pd.read_csv('./west_nile/west_nile/input/weather.csv')\n",
    "train = pd.read_csv('./west_nile/west_nile/input/train.csv')\n",
    "sample = pd.read_csv('./west_nile/west_nile/input/SampleSubmission.csv')\n",
    "test = pd.read_csv('./west_nile/west_nile/input/test.csv')"
   ]
  },
  {
   "cell_type": "code",
   "execution_count": 115,
   "metadata": {},
   "outputs": [],
   "source": [
    "#use to assign weather data to traps based on distance from weather station to trap\n",
    "\n",
    "def haversine(lat1, lon1, lat2, lon2):\n",
    "    '''Calculates the distance between two lat-long points.'''\n",
    "    \n",
    "    R = 3959.87433 # this is in miles.  For Earth radius in kilometers use 6372.8 km\n",
    "\n",
    "    dLat = radians(lat2 - lat1)\n",
    "    dLon = radians(lon2 - lon1)\n",
    "    lat1 = radians(lat1)\n",
    "    lat2 = radians(lat2)\n",
    "\n",
    "    a = sin(dLat/2)**2 + cos(lat1)*cos(lat2)*sin(dLon/2)**2\n",
    "    c = 2*asin(sqrt(a))\n",
    "\n",
    "    return R * c"
   ]
  },
  {
   "cell_type": "markdown",
   "metadata": {},
   "source": [
    "### 2. Perform EDA /Format /Clean Data"
   ]
  },
  {
   "cell_type": "code",
   "execution_count": 116,
   "metadata": {},
   "outputs": [],
   "source": [
    "def quick_EDA(df):\n",
    "    #Input a dataframe, Returns: shape of data, number of nulls\n",
    "    nulls = df.isnull().sum().sum()\n",
    "    \n",
    "    print('Rows:', df.shape[0], 'Columns:', df.shape[1])\n",
    "    print('Total NaNs:', nulls)"
   ]
  },
  {
   "cell_type": "code",
   "execution_count": 117,
   "metadata": {},
   "outputs": [],
   "source": [
    "#Converting columns to datetime format\n",
    "def convert_datetime(df):\n",
    "    df['Date'] = pd.to_datetime(df['Date'])"
   ]
  },
  {
   "cell_type": "code",
   "execution_count": 118,
   "metadata": {},
   "outputs": [],
   "source": [
    "#converting spray columns to date time and making date/time columns\n",
    "def convert_spray(df):\n",
    "    df['Date'] = pd.to_datetime(spray['Date'])\n",
    "    df['am_pm'] = df['Time'].apply(lambda x: str(x).split()[-1])\n",
    "    df['Time'] = df['Time'].apply(lambda x: str(x).split()[0])\n",
    "    df['Time'] = pd.to_datetime(spray['Time'], format = '%H:%M:%S')"
   ]
  },
  {
   "cell_type": "code",
   "execution_count": 119,
   "metadata": {},
   "outputs": [
    {
     "name": "stdout",
     "output_type": "stream",
     "text": [
      "Rows: 10506 Columns: 12\n",
      "Total NaNs: 0\n"
     ]
    }
   ],
   "source": [
    "quick_EDA(train)"
   ]
  },
  {
   "cell_type": "code",
   "execution_count": 120,
   "metadata": {},
   "outputs": [
    {
     "name": "stdout",
     "output_type": "stream",
     "text": [
      "Rows: 14835 Columns: 4\n",
      "Total NaNs: 584\n"
     ]
    }
   ],
   "source": [
    "quick_EDA(spray)"
   ]
  },
  {
   "cell_type": "code",
   "execution_count": 121,
   "metadata": {},
   "outputs": [
    {
     "name": "stdout",
     "output_type": "stream",
     "text": [
      "Rows: 2944 Columns: 22\n",
      "Total NaNs: 0\n"
     ]
    }
   ],
   "source": [
    "quick_EDA(weather)"
   ]
  },
  {
   "cell_type": "code",
   "execution_count": 122,
   "metadata": {},
   "outputs": [
    {
     "name": "stdout",
     "output_type": "stream",
     "text": [
      "Rows: 116293 Columns: 11\n",
      "Total NaNs: 0\n"
     ]
    }
   ],
   "source": [
    "quick_EDA(test)"
   ]
  },
  {
   "cell_type": "code",
   "execution_count": 197,
   "metadata": {},
   "outputs": [
    {
     "ename": "KeyError",
     "evalue": "'Date'",
     "output_type": "error",
     "traceback": [
      "\u001b[1;31m---------------------------------------------------------------------------\u001b[0m",
      "\u001b[1;31mKeyError\u001b[0m                                  Traceback (most recent call last)",
      "\u001b[1;32m~\\AppData\\Local\\conda\\conda\\envs\\ga\\lib\\site-packages\\pandas\\core\\indexes\\base.py\u001b[0m in \u001b[0;36mget_loc\u001b[1;34m(self, key, method, tolerance)\u001b[0m\n\u001b[0;32m   2524\u001b[0m             \u001b[1;32mtry\u001b[0m\u001b[1;33m:\u001b[0m\u001b[1;33m\u001b[0m\u001b[0m\n\u001b[1;32m-> 2525\u001b[1;33m                 \u001b[1;32mreturn\u001b[0m \u001b[0mself\u001b[0m\u001b[1;33m.\u001b[0m\u001b[0m_engine\u001b[0m\u001b[1;33m.\u001b[0m\u001b[0mget_loc\u001b[0m\u001b[1;33m(\u001b[0m\u001b[0mkey\u001b[0m\u001b[1;33m)\u001b[0m\u001b[1;33m\u001b[0m\u001b[0m\n\u001b[0m\u001b[0;32m   2526\u001b[0m             \u001b[1;32mexcept\u001b[0m \u001b[0mKeyError\u001b[0m\u001b[1;33m:\u001b[0m\u001b[1;33m\u001b[0m\u001b[0m\n",
      "\u001b[1;32mpandas/_libs/index.pyx\u001b[0m in \u001b[0;36mpandas._libs.index.IndexEngine.get_loc\u001b[1;34m()\u001b[0m\n",
      "\u001b[1;32mpandas/_libs/index.pyx\u001b[0m in \u001b[0;36mpandas._libs.index.IndexEngine.get_loc\u001b[1;34m()\u001b[0m\n",
      "\u001b[1;32mpandas/_libs/hashtable_class_helper.pxi\u001b[0m in \u001b[0;36mpandas._libs.hashtable.PyObjectHashTable.get_item\u001b[1;34m()\u001b[0m\n",
      "\u001b[1;32mpandas/_libs/hashtable_class_helper.pxi\u001b[0m in \u001b[0;36mpandas._libs.hashtable.PyObjectHashTable.get_item\u001b[1;34m()\u001b[0m\n",
      "\u001b[1;31mKeyError\u001b[0m: 'Date'",
      "\nDuring handling of the above exception, another exception occurred:\n",
      "\u001b[1;31mKeyError\u001b[0m                                  Traceback (most recent call last)",
      "\u001b[1;32m<ipython-input-197-bffed832d85d>\u001b[0m in \u001b[0;36m<module>\u001b[1;34m()\u001b[0m\n\u001b[0;32m      1\u001b[0m \u001b[1;31m#Looking at mosquitos and wnv present by date by trap\u001b[0m\u001b[1;33m\u001b[0m\u001b[1;33m\u001b[0m\u001b[0m\n\u001b[1;32m----> 2\u001b[1;33m \u001b[0mtrain\u001b[0m\u001b[1;33m[\u001b[0m\u001b[1;33m(\u001b[0m\u001b[0mtrain\u001b[0m\u001b[1;33m[\u001b[0m\u001b[1;34m'Date'\u001b[0m\u001b[1;33m]\u001b[0m \u001b[1;33m==\u001b[0m \u001b[1;34m'2013-08-29'\u001b[0m\u001b[1;33m)\u001b[0m \u001b[1;33m&\u001b[0m \u001b[1;33m(\u001b[0m\u001b[0mtrain\u001b[0m\u001b[1;33m[\u001b[0m\u001b[1;34m'Trap'\u001b[0m\u001b[1;33m]\u001b[0m \u001b[1;33m==\u001b[0m \u001b[1;34m'T900'\u001b[0m\u001b[1;33m)\u001b[0m\u001b[1;33m]\u001b[0m\u001b[1;33m.\u001b[0m\u001b[0mhead\u001b[0m\u001b[1;33m(\u001b[0m\u001b[1;36m1\u001b[0m\u001b[1;33m)\u001b[0m\u001b[1;33m\u001b[0m\u001b[0m\n\u001b[0m",
      "\u001b[1;32m~\\AppData\\Local\\conda\\conda\\envs\\ga\\lib\\site-packages\\pandas\\core\\frame.py\u001b[0m in \u001b[0;36m__getitem__\u001b[1;34m(self, key)\u001b[0m\n\u001b[0;32m   2137\u001b[0m             \u001b[1;32mreturn\u001b[0m \u001b[0mself\u001b[0m\u001b[1;33m.\u001b[0m\u001b[0m_getitem_multilevel\u001b[0m\u001b[1;33m(\u001b[0m\u001b[0mkey\u001b[0m\u001b[1;33m)\u001b[0m\u001b[1;33m\u001b[0m\u001b[0m\n\u001b[0;32m   2138\u001b[0m         \u001b[1;32melse\u001b[0m\u001b[1;33m:\u001b[0m\u001b[1;33m\u001b[0m\u001b[0m\n\u001b[1;32m-> 2139\u001b[1;33m             \u001b[1;32mreturn\u001b[0m \u001b[0mself\u001b[0m\u001b[1;33m.\u001b[0m\u001b[0m_getitem_column\u001b[0m\u001b[1;33m(\u001b[0m\u001b[0mkey\u001b[0m\u001b[1;33m)\u001b[0m\u001b[1;33m\u001b[0m\u001b[0m\n\u001b[0m\u001b[0;32m   2140\u001b[0m \u001b[1;33m\u001b[0m\u001b[0m\n\u001b[0;32m   2141\u001b[0m     \u001b[1;32mdef\u001b[0m \u001b[0m_getitem_column\u001b[0m\u001b[1;33m(\u001b[0m\u001b[0mself\u001b[0m\u001b[1;33m,\u001b[0m \u001b[0mkey\u001b[0m\u001b[1;33m)\u001b[0m\u001b[1;33m:\u001b[0m\u001b[1;33m\u001b[0m\u001b[0m\n",
      "\u001b[1;32m~\\AppData\\Local\\conda\\conda\\envs\\ga\\lib\\site-packages\\pandas\\core\\frame.py\u001b[0m in \u001b[0;36m_getitem_column\u001b[1;34m(self, key)\u001b[0m\n\u001b[0;32m   2144\u001b[0m         \u001b[1;31m# get column\u001b[0m\u001b[1;33m\u001b[0m\u001b[1;33m\u001b[0m\u001b[0m\n\u001b[0;32m   2145\u001b[0m         \u001b[1;32mif\u001b[0m \u001b[0mself\u001b[0m\u001b[1;33m.\u001b[0m\u001b[0mcolumns\u001b[0m\u001b[1;33m.\u001b[0m\u001b[0mis_unique\u001b[0m\u001b[1;33m:\u001b[0m\u001b[1;33m\u001b[0m\u001b[0m\n\u001b[1;32m-> 2146\u001b[1;33m             \u001b[1;32mreturn\u001b[0m \u001b[0mself\u001b[0m\u001b[1;33m.\u001b[0m\u001b[0m_get_item_cache\u001b[0m\u001b[1;33m(\u001b[0m\u001b[0mkey\u001b[0m\u001b[1;33m)\u001b[0m\u001b[1;33m\u001b[0m\u001b[0m\n\u001b[0m\u001b[0;32m   2147\u001b[0m \u001b[1;33m\u001b[0m\u001b[0m\n\u001b[0;32m   2148\u001b[0m         \u001b[1;31m# duplicate columns & possible reduce dimensionality\u001b[0m\u001b[1;33m\u001b[0m\u001b[1;33m\u001b[0m\u001b[0m\n",
      "\u001b[1;32m~\\AppData\\Local\\conda\\conda\\envs\\ga\\lib\\site-packages\\pandas\\core\\generic.py\u001b[0m in \u001b[0;36m_get_item_cache\u001b[1;34m(self, item)\u001b[0m\n\u001b[0;32m   1840\u001b[0m         \u001b[0mres\u001b[0m \u001b[1;33m=\u001b[0m \u001b[0mcache\u001b[0m\u001b[1;33m.\u001b[0m\u001b[0mget\u001b[0m\u001b[1;33m(\u001b[0m\u001b[0mitem\u001b[0m\u001b[1;33m)\u001b[0m\u001b[1;33m\u001b[0m\u001b[0m\n\u001b[0;32m   1841\u001b[0m         \u001b[1;32mif\u001b[0m \u001b[0mres\u001b[0m \u001b[1;32mis\u001b[0m \u001b[1;32mNone\u001b[0m\u001b[1;33m:\u001b[0m\u001b[1;33m\u001b[0m\u001b[0m\n\u001b[1;32m-> 1842\u001b[1;33m             \u001b[0mvalues\u001b[0m \u001b[1;33m=\u001b[0m \u001b[0mself\u001b[0m\u001b[1;33m.\u001b[0m\u001b[0m_data\u001b[0m\u001b[1;33m.\u001b[0m\u001b[0mget\u001b[0m\u001b[1;33m(\u001b[0m\u001b[0mitem\u001b[0m\u001b[1;33m)\u001b[0m\u001b[1;33m\u001b[0m\u001b[0m\n\u001b[0m\u001b[0;32m   1843\u001b[0m             \u001b[0mres\u001b[0m \u001b[1;33m=\u001b[0m \u001b[0mself\u001b[0m\u001b[1;33m.\u001b[0m\u001b[0m_box_item_values\u001b[0m\u001b[1;33m(\u001b[0m\u001b[0mitem\u001b[0m\u001b[1;33m,\u001b[0m \u001b[0mvalues\u001b[0m\u001b[1;33m)\u001b[0m\u001b[1;33m\u001b[0m\u001b[0m\n\u001b[0;32m   1844\u001b[0m             \u001b[0mcache\u001b[0m\u001b[1;33m[\u001b[0m\u001b[0mitem\u001b[0m\u001b[1;33m]\u001b[0m \u001b[1;33m=\u001b[0m \u001b[0mres\u001b[0m\u001b[1;33m\u001b[0m\u001b[0m\n",
      "\u001b[1;32m~\\AppData\\Local\\conda\\conda\\envs\\ga\\lib\\site-packages\\pandas\\core\\internals.py\u001b[0m in \u001b[0;36mget\u001b[1;34m(self, item, fastpath)\u001b[0m\n\u001b[0;32m   3841\u001b[0m \u001b[1;33m\u001b[0m\u001b[0m\n\u001b[0;32m   3842\u001b[0m             \u001b[1;32mif\u001b[0m \u001b[1;32mnot\u001b[0m \u001b[0misna\u001b[0m\u001b[1;33m(\u001b[0m\u001b[0mitem\u001b[0m\u001b[1;33m)\u001b[0m\u001b[1;33m:\u001b[0m\u001b[1;33m\u001b[0m\u001b[0m\n\u001b[1;32m-> 3843\u001b[1;33m                 \u001b[0mloc\u001b[0m \u001b[1;33m=\u001b[0m \u001b[0mself\u001b[0m\u001b[1;33m.\u001b[0m\u001b[0mitems\u001b[0m\u001b[1;33m.\u001b[0m\u001b[0mget_loc\u001b[0m\u001b[1;33m(\u001b[0m\u001b[0mitem\u001b[0m\u001b[1;33m)\u001b[0m\u001b[1;33m\u001b[0m\u001b[0m\n\u001b[0m\u001b[0;32m   3844\u001b[0m             \u001b[1;32melse\u001b[0m\u001b[1;33m:\u001b[0m\u001b[1;33m\u001b[0m\u001b[0m\n\u001b[0;32m   3845\u001b[0m                 \u001b[0mindexer\u001b[0m \u001b[1;33m=\u001b[0m \u001b[0mnp\u001b[0m\u001b[1;33m.\u001b[0m\u001b[0marange\u001b[0m\u001b[1;33m(\u001b[0m\u001b[0mlen\u001b[0m\u001b[1;33m(\u001b[0m\u001b[0mself\u001b[0m\u001b[1;33m.\u001b[0m\u001b[0mitems\u001b[0m\u001b[1;33m)\u001b[0m\u001b[1;33m)\u001b[0m\u001b[1;33m[\u001b[0m\u001b[0misna\u001b[0m\u001b[1;33m(\u001b[0m\u001b[0mself\u001b[0m\u001b[1;33m.\u001b[0m\u001b[0mitems\u001b[0m\u001b[1;33m)\u001b[0m\u001b[1;33m]\u001b[0m\u001b[1;33m\u001b[0m\u001b[0m\n",
      "\u001b[1;32m~\\AppData\\Local\\conda\\conda\\envs\\ga\\lib\\site-packages\\pandas\\core\\indexes\\base.py\u001b[0m in \u001b[0;36mget_loc\u001b[1;34m(self, key, method, tolerance)\u001b[0m\n\u001b[0;32m   2525\u001b[0m                 \u001b[1;32mreturn\u001b[0m \u001b[0mself\u001b[0m\u001b[1;33m.\u001b[0m\u001b[0m_engine\u001b[0m\u001b[1;33m.\u001b[0m\u001b[0mget_loc\u001b[0m\u001b[1;33m(\u001b[0m\u001b[0mkey\u001b[0m\u001b[1;33m)\u001b[0m\u001b[1;33m\u001b[0m\u001b[0m\n\u001b[0;32m   2526\u001b[0m             \u001b[1;32mexcept\u001b[0m \u001b[0mKeyError\u001b[0m\u001b[1;33m:\u001b[0m\u001b[1;33m\u001b[0m\u001b[0m\n\u001b[1;32m-> 2527\u001b[1;33m                 \u001b[1;32mreturn\u001b[0m \u001b[0mself\u001b[0m\u001b[1;33m.\u001b[0m\u001b[0m_engine\u001b[0m\u001b[1;33m.\u001b[0m\u001b[0mget_loc\u001b[0m\u001b[1;33m(\u001b[0m\u001b[0mself\u001b[0m\u001b[1;33m.\u001b[0m\u001b[0m_maybe_cast_indexer\u001b[0m\u001b[1;33m(\u001b[0m\u001b[0mkey\u001b[0m\u001b[1;33m)\u001b[0m\u001b[1;33m)\u001b[0m\u001b[1;33m\u001b[0m\u001b[0m\n\u001b[0m\u001b[0;32m   2528\u001b[0m \u001b[1;33m\u001b[0m\u001b[0m\n\u001b[0;32m   2529\u001b[0m         \u001b[0mindexer\u001b[0m \u001b[1;33m=\u001b[0m \u001b[0mself\u001b[0m\u001b[1;33m.\u001b[0m\u001b[0mget_indexer\u001b[0m\u001b[1;33m(\u001b[0m\u001b[1;33m[\u001b[0m\u001b[0mkey\u001b[0m\u001b[1;33m]\u001b[0m\u001b[1;33m,\u001b[0m \u001b[0mmethod\u001b[0m\u001b[1;33m=\u001b[0m\u001b[0mmethod\u001b[0m\u001b[1;33m,\u001b[0m \u001b[0mtolerance\u001b[0m\u001b[1;33m=\u001b[0m\u001b[0mtolerance\u001b[0m\u001b[1;33m)\u001b[0m\u001b[1;33m\u001b[0m\u001b[0m\n",
      "\u001b[1;32mpandas/_libs/index.pyx\u001b[0m in \u001b[0;36mpandas._libs.index.IndexEngine.get_loc\u001b[1;34m()\u001b[0m\n",
      "\u001b[1;32mpandas/_libs/index.pyx\u001b[0m in \u001b[0;36mpandas._libs.index.IndexEngine.get_loc\u001b[1;34m()\u001b[0m\n",
      "\u001b[1;32mpandas/_libs/hashtable_class_helper.pxi\u001b[0m in \u001b[0;36mpandas._libs.hashtable.PyObjectHashTable.get_item\u001b[1;34m()\u001b[0m\n",
      "\u001b[1;32mpandas/_libs/hashtable_class_helper.pxi\u001b[0m in \u001b[0;36mpandas._libs.hashtable.PyObjectHashTable.get_item\u001b[1;34m()\u001b[0m\n",
      "\u001b[1;31mKeyError\u001b[0m: 'Date'"
     ]
    }
   ],
   "source": [
    "#Looking at mosquitos and wnv present by date by trap\n",
    "train[(train['Date'] == '2013-08-29') & (train['Trap'] == 'T900')].head(1)"
   ]
  },
  {
   "cell_type": "code",
   "execution_count": 124,
   "metadata": {},
   "outputs": [
    {
     "data": {
      "text/html": [
       "<div>\n",
       "<style scoped>\n",
       "    .dataframe tbody tr th:only-of-type {\n",
       "        vertical-align: middle;\n",
       "    }\n",
       "\n",
       "    .dataframe tbody tr th {\n",
       "        vertical-align: top;\n",
       "    }\n",
       "\n",
       "    .dataframe thead th {\n",
       "        text-align: right;\n",
       "    }\n",
       "</style>\n",
       "<table border=\"1\" class=\"dataframe\">\n",
       "  <thead>\n",
       "    <tr style=\"text-align: right;\">\n",
       "      <th></th>\n",
       "      <th></th>\n",
       "      <th>NumMosquitos</th>\n",
       "      <th>WnvPresent</th>\n",
       "    </tr>\n",
       "    <tr>\n",
       "      <th>Date</th>\n",
       "      <th>Trap</th>\n",
       "      <th></th>\n",
       "      <th></th>\n",
       "    </tr>\n",
       "  </thead>\n",
       "  <tbody>\n",
       "    <tr>\n",
       "      <th>2013-08-29</th>\n",
       "      <th>T900</th>\n",
       "      <td>608</td>\n",
       "      <td>12</td>\n",
       "    </tr>\n",
       "    <tr>\n",
       "      <th>2007-08-16</th>\n",
       "      <th>T115</th>\n",
       "      <td>2636</td>\n",
       "      <td>11</td>\n",
       "    </tr>\n",
       "    <tr>\n",
       "      <th>2013-09-06</th>\n",
       "      <th>T900</th>\n",
       "      <td>550</td>\n",
       "      <td>9</td>\n",
       "    </tr>\n",
       "    <tr>\n",
       "      <th>2013-08-01</th>\n",
       "      <th>T900</th>\n",
       "      <td>984</td>\n",
       "      <td>9</td>\n",
       "    </tr>\n",
       "    <tr>\n",
       "      <th>2007-08-22</th>\n",
       "      <th>T138</th>\n",
       "      <td>1124</td>\n",
       "      <td>7</td>\n",
       "    </tr>\n",
       "  </tbody>\n",
       "</table>\n",
       "</div>"
      ],
      "text/plain": [
       "                 NumMosquitos  WnvPresent\n",
       "Date       Trap                          \n",
       "2013-08-29 T900           608          12\n",
       "2007-08-16 T115          2636          11\n",
       "2013-09-06 T900           550           9\n",
       "2013-08-01 T900           984           9\n",
       "2007-08-22 T138          1124           7"
      ]
     },
     "execution_count": 124,
     "metadata": {},
     "output_type": "execute_result"
    }
   ],
   "source": [
    "#Looking at mosquitos and wnv present by date by trap\n",
    "train.groupby(by = ['Date', 'Trap'])['NumMosquitos', 'WnvPresent'].sum().sort_values('WnvPresent', ascending = False).head()"
   ]
  },
  {
   "cell_type": "code",
   "execution_count": 125,
   "metadata": {},
   "outputs": [],
   "source": [
    "#converting date time\n",
    "dfs = [train, test, weather]\n",
    "\n",
    "for df in dfs:\n",
    "    convert_datetime(df)"
   ]
  },
  {
   "cell_type": "code",
   "execution_count": 126,
   "metadata": {},
   "outputs": [],
   "source": [
    "#converting spray data\n",
    "convert_spray(spray)"
   ]
  },
  {
   "cell_type": "code",
   "execution_count": 127,
   "metadata": {},
   "outputs": [
    {
     "data": {
      "text/plain": [
       "\"#testing to see if any traps are ever tested more than once on the same day\\n    # none are, this will allow us to determine the number of mosquitos in traps where there are more than 50\\n    # because we can now combine rows on Trap Id and Date to get total no. mosquitos tested\\ndatetrap = train[['Date', 'Trap']]\\ny = datetrap.merge(pd.get_dummies(train['Trap']), how = 'left', right_index = True, left_index = True)\\n\\ndatetrapcols = y.shape[1]\\ndatetraprows = y.shape[0]\\nerrors = 0\\n\\nfor i in range(datetraprows):\\n    for g in range(2,datetrapcols):\\n        if y.iloc[i,g] > 1:\\n            errors += 1\\nprint('Traps tested > 1/day:', errors)\""
      ]
     },
     "execution_count": 127,
     "metadata": {},
     "output_type": "execute_result"
    }
   ],
   "source": [
    "'''#testing to see if any traps are ever tested more than once on the same day\n",
    "    # none are, this will allow us to determine the number of mosquitos in traps where there are more than 50\n",
    "    # because we can now combine rows on Trap Id and Date to get total no. mosquitos tested\n",
    "datetrap = train[['Date', 'Trap']]\n",
    "y = datetrap.merge(pd.get_dummies(train['Trap']), how = 'left', right_index = True, left_index = True)\n",
    "\n",
    "datetrapcols = y.shape[1]\n",
    "datetraprows = y.shape[0]\n",
    "errors = 0\n",
    "\n",
    "for i in range(datetraprows):\n",
    "    for g in range(2,datetrapcols):\n",
    "        if y.iloc[i,g] > 1:\n",
    "            errors += 1\n",
    "print('Traps tested > 1/day:', errors)'''"
   ]
  },
  {
   "cell_type": "code",
   "execution_count": 128,
   "metadata": {},
   "outputs": [
    {
     "data": {
      "image/png": "[encoded data removed]",
      "text/plain": [
       "<matplotlib.figure.Figure at 0x216c6ed7978>"
      ]
     },
     "metadata": {},
     "output_type": "display_data"
    }
   ],
   "source": [
    "#plotted mosquitos by trap by date\n",
    "train[['Date', 'Trap', 'NumMosquitos']].groupby(by = ['Date','Trap'])['Date','Trap','NumMosquitos'] \\\n",
    "    .sum().reset_index().sort_values('NumMosquitos', ascending = False).set_index('Date').plot(style = '.')\n",
    "    \n",
    "plt.title('Mosquitos by Trap over Time');"
   ]
  },
  {
   "cell_type": "code",
   "execution_count": 129,
   "metadata": {},
   "outputs": [
    {
     "data": {
      "image/png": "[encoded data removed]",
      "text/plain": [
       "<matplotlib.figure.Figure at 0x216c6ed3be0>"
      ]
     },
     "metadata": {},
     "output_type": "display_data"
    }
   ],
   "source": [
    "#plotted WNV incidents by trap\n",
    "train[['Date', 'Trap','WnvPresent']].groupby(by = ['Date','Trap'])['Date','Trap','WnvPresent'] \\\n",
    "    .sum().reset_index().sort_values('WnvPresent', ascending = False).set_index('Date').plot(color = 'green', style = '.')\n",
    "    \n",
    "plt.title('Positive WnV Cases by Trap over Time');"
   ]
  },
  {
   "cell_type": "markdown",
   "metadata": {},
   "source": [
    "### 3. Feature Engineering"
   ]
  },
  {
   "cell_type": "markdown",
   "metadata": {},
   "source": [
    "##### Pair weather data with trap locations"
   ]
  },
  {
   "cell_type": "code",
   "execution_count": 131,
   "metadata": {},
   "outputs": [],
   "source": [
    "#assign weather station to trap based on location\n",
    "def assign_station(df):\n",
    "    stat1lat = 41.995\n",
    "    stat1long = -87.933\n",
    "    stat2lat = 41.786\n",
    "    stat2long = -87.752 \n",
    "\n",
    "    df['Station'] = 1\n",
    "\n",
    "    for i in range(df.shape[0]):\n",
    "        if haversine(stat1lat, stat1long, df.loc[i, 'Latitude'], df.loc[i, 'Longitude']) > haversine(stat2lat, stat2long, df.loc[i, 'Latitude'], df.loc[i, 'Longitude']):\n",
    "            df.loc[i,'Station'] = 2"
   ]
  },
  {
   "cell_type": "code",
   "execution_count": 132,
   "metadata": {},
   "outputs": [],
   "source": [
    "#assign a station to traps in train and test data\n",
    "assign_station(train)\n",
    "assign_station(test)"
   ]
  },
  {
   "cell_type": "code",
   "execution_count": 133,
   "metadata": {},
   "outputs": [],
   "source": [
    "#perform cleaning on weather data set before merging\n",
    "\n",
    "\n",
    "#drop columns not being used\n",
    "weather.drop(columns = ['SeaLevel','CodeSum', 'Sunrise', 'Sunset','Depart','Depth','Water1', 'SnowFall', 'Cool', 'Heat'], inplace = True)\n",
    "\n",
    "#impute missing values from previous days values, days are sequential so using the \n",
    "#previous day's value should be a pretty good estimator\n",
    "weathercols = weather.columns.tolist()\n",
    "\n",
    "for col in weathercols:\n",
    "    for row in range(weather.shape[0]):\n",
    "        if weather.loc[row, col] == 'M' or weather.loc[row, col] == '  T':\n",
    "            weather.loc[row, col] = weather.loc[row - 1, col]"
   ]
  },
  {
   "cell_type": "code",
   "execution_count": 134,
   "metadata": {},
   "outputs": [],
   "source": [
    "#change data types\n",
    "weatherobjs = ['Tavg', 'WetBulb', 'PrecipTotal', 'StnPressure', 'AvgSpeed']\n",
    "\n",
    "for col in weatherobjs:\n",
    "    weather[col] = pd.to_numeric(weather[col])"
   ]
  },
  {
   "cell_type": "code",
   "execution_count": 135,
   "metadata": {},
   "outputs": [],
   "source": [
    "#split out weather data by station so it can be processed/feature engineered\n",
    "weathstat1 = weather[weather['Station'] ==1].reset_index(drop = True)\n",
    "weathstat2 = weather[weather['Station'] ==2].reset_index(drop = True)\n"
   ]
  },
  {
   "cell_type": "code",
   "execution_count": 136,
   "metadata": {},
   "outputs": [],
   "source": [
    "#Getting days since last rain\n",
    "def days_since_last_rain(df):\n",
    "    \n",
    "    raindays = 0\n",
    "\n",
    "    for i in range(df.shape[0]):\n",
    "        if df.loc[i,'PrecipTotal'] == 0:\n",
    "            raindays += 1        \n",
    "            df.loc[i, 'days_since_rain'] = raindays\n",
    "        else:\n",
    "            df.loc[i, 'days_since_rain'] = 0\n",
    "            raindays = 0"
   ]
  },
  {
   "cell_type": "code",
   "execution_count": 137,
   "metadata": {},
   "outputs": [],
   "source": [
    "#getting rain in a 5 day period\n",
    "def rain_tot_5(df):\n",
    "    raintotal = 0.0\n",
    "\n",
    "    #set first five days as 0, this is accurate based on data\n",
    "    for i in range(6):\n",
    "        df.loc[i, 'raintotal_5days'] = 0.0\n",
    "\n",
    "    #calculate last 5 days of rain for each day\n",
    "    for i in range(5, df.shape[0]):\n",
    "        for rain in range(i - 4, i + 1):\n",
    "            raintotal += df.loc[rain, 'PrecipTotal']\n",
    "        df.loc[i, 'raintotal_5days'] = raintotal\n",
    "        raintotal = 0"
   ]
  },
  {
   "cell_type": "code",
   "execution_count": 138,
   "metadata": {},
   "outputs": [],
   "source": [
    "#perform feature engineering on weather data\n",
    "weatherdata = [weathstat1 ,weathstat2]\n",
    "\n",
    "for weth in weatherdata:\n",
    "    days_since_last_rain(weth)\n",
    "    rain_tot_5(weth)\n",
    "\n",
    "#rejoining data\n",
    "weather = pd.concat(weatherdata)"
   ]
  },
  {
   "cell_type": "code",
   "execution_count": 139,
   "metadata": {},
   "outputs": [],
   "source": [
    "#merge weather data with train and test data\n",
    "\n",
    "train = train.merge(weather, how = 'left', on = ['Date','Station'])\n",
    "test = test.merge(weather, how = 'left', on = ['Date', 'Station'])"
   ]
  },
  {
   "cell_type": "markdown",
   "metadata": {},
   "source": [
    "##### Split out Parent Traps and Child Traps"
   ]
  },
  {
   "cell_type": "code",
   "execution_count": 140,
   "metadata": {},
   "outputs": [
    {
     "data": {
      "text/plain": [
       "\"train['Parent_Trap'] = train['Trap'].apply(lambda x: x[:4])\\ntrain['Child_Trap'] = train['Trap'].apply(lambda x: x[4:])\\n\\ntest['Parent_Trap'] = test['Trap'].apply(lambda x: x[:4])\\ntest['Child_Trap'] = test['Trap'].apply(lambda x: x[4:])\""
      ]
     },
     "execution_count": 140,
     "metadata": {},
     "output_type": "execute_result"
    }
   ],
   "source": [
    "#Create columns to show parent trap and child traps\n",
    "'''train['Parent_Trap'] = train['Trap'].apply(lambda x: x[:4])\n",
    "train['Child_Trap'] = train['Trap'].apply(lambda x: x[4:])\n",
    "\n",
    "test['Parent_Trap'] = test['Trap'].apply(lambda x: x[:4])\n",
    "test['Child_Trap'] = test['Trap'].apply(lambda x: x[4:])'''"
   ]
  },
  {
   "cell_type": "code",
   "execution_count": 141,
   "metadata": {},
   "outputs": [
    {
     "data": {
      "text/plain": [
       "\"train[['Parent_Trap', 'Child_Trap']].drop_duplicates().groupby(by = 'Parent_Trap')['Child_Trap'].count().reset_index().     sort_values(by = 'Child_Trap',ascending = False).reset_index(drop = True).head()\""
      ]
     },
     "execution_count": 141,
     "metadata": {},
     "output_type": "execute_result"
    }
   ],
   "source": [
    "#show number of child traps to each parent trap\n",
    "#need to de-duplicate list of traps initally to accomplish this\n",
    "'''train[['Parent_Trap', 'Child_Trap']].drop_duplicates().groupby(by = 'Parent_Trap')['Child_Trap'].count().reset_index(). \\\n",
    "    sort_values(by = 'Child_Trap',ascending = False).reset_index(drop = True).head()'''"
   ]
  },
  {
   "cell_type": "code",
   "execution_count": 142,
   "metadata": {},
   "outputs": [],
   "source": [
    "# Drop num mosquitos column, not present in test set\n",
    "train.drop(columns = 'NumMosquitos', inplace = True)"
   ]
  },
  {
   "cell_type": "markdown",
   "metadata": {},
   "source": [
    "##### Get Dummies for mosquito species"
   ]
  },
  {
   "cell_type": "code",
   "execution_count": 143,
   "metadata": {},
   "outputs": [],
   "source": [
    "def mosquitos_vars(df):\n",
    "    #split wnv transmitting mosquito species lines into separate columns\n",
    "    df['CULEX PIPIENS'] = 0\n",
    "    df['CULEX RESTUANS'] = 0\n",
    "    \n",
    "    for row in range(df.shape[0]):\n",
    "        if df.loc[row, 'Species'] == 'CULEX PIPIENS/RESTUANS':\n",
    "            df.loc[row, 'CULEX PIPIENS'] == 1\n",
    "            df.loc[row, 'CULEX RESTUANS'] == 1\n",
    "        elif df.loc[row, 'Species'] == 'CULEX PIPIENS':\n",
    "            df.loc[row, 'CULEX PIPIENS'] == 1\n",
    "        elif df.loc[row, 'Species'] == 'CULEX RESTUANS':\n",
    "            df.loc[row, 'CULEX RESTUANS'] == 1\n",
    "            \n",
    "    \n",
    "    df.drop(columns = ['Species'], inplace = True)"
   ]
  },
  {
   "cell_type": "code",
   "execution_count": 144,
   "metadata": {},
   "outputs": [],
   "source": [
    "#make dummies for mosquito species\n",
    "mosquitos_vars(train)\n",
    "mosquitos_vars(test)"
   ]
  },
  {
   "cell_type": "markdown",
   "metadata": {},
   "source": [
    "##### Get Dummies for Other Variables"
   ]
  },
  {
   "cell_type": "code",
   "execution_count": 145,
   "metadata": {},
   "outputs": [],
   "source": [
    "train = pd.get_dummies(train, columns = ['Trap', 'Block'])\n",
    "test = pd.get_dummies(test, columns = ['Trap', 'Block'])\n",
    "\n",
    "train.drop(columns = ['Street'], inplace = True)\n",
    "test.drop(columns = ['Street'], inplace = True)"
   ]
  },
  {
   "cell_type": "markdown",
   "metadata": {},
   "source": [
    "##### Get Dummies for Time (Week)"
   ]
  },
  {
   "cell_type": "code",
   "execution_count": 146,
   "metadata": {},
   "outputs": [],
   "source": [
    "def get_week(df):\n",
    "    #breaking week, month, and year into separate columns\n",
    "    \n",
    "    df['Week'] = df['Date'].dt.week\n",
    "\n",
    "    #drop date column\n",
    "    df.drop(columns = 'Date', inplace = True)\n",
    "\n",
    "    #get dummies\n",
    "    return pd.get_dummies(df, columns = ['Week'])"
   ]
  },
  {
   "cell_type": "code",
   "execution_count": 147,
   "metadata": {},
   "outputs": [],
   "source": [
    "train = get_week(train)\n",
    "test = get_week(test)"
   ]
  },
  {
   "cell_type": "markdown",
   "metadata": {},
   "source": [
    "##### Drop Misc. Columns"
   ]
  },
  {
   "cell_type": "code",
   "execution_count": 148,
   "metadata": {},
   "outputs": [],
   "source": [
    "train.drop(columns = ['Address', 'AddressNumberAndStreet', 'Latitude', \\\n",
    "                      'Longitude', 'AddressAccuracy'], inplace = True)\\\n",
    "\n",
    "test.drop(columns = ['Address', 'AddressNumberAndStreet', 'Latitude', \\\n",
    "                      'Longitude', 'AddressAccuracy'], inplace = True)"
   ]
  },
  {
   "cell_type": "markdown",
   "metadata": {},
   "source": [
    "### 4. Modeling"
   ]
  },
  {
   "cell_type": "code",
   "execution_count": 149,
   "metadata": {},
   "outputs": [
    {
     "name": "stderr",
     "output_type": "stream",
     "text": [
      "C:\\Users\\peckr\\AppData\\Local\\conda\\conda\\envs\\ga\\lib\\site-packages\\h5py\\__init__.py:36: FutureWarning: Conversion of the second argument of issubdtype from `float` to `np.floating` is deprecated. In future, it will be treated as `np.float64 == np.dtype(float).type`.\n",
      "  from ._conv import register_converters as _register_converters\n",
      "Using TensorFlow backend.\n",
      "Couldn't import dot_parser, loading of dot files will not be possible.\n"
     ]
    }
   ],
   "source": [
    "import matplotlib.pyplot as plt\n",
    "import numpy as np\n",
    "\n",
    "from sklearn.model_selection import train_test_split\n",
    "from sklearn.preprocessing import StandardScaler\n",
    "from sklearn.utils import resample\n",
    "\n",
    "from keras.models import Sequential\n",
    "from keras.layers import Dense, Dropout\n",
    "from keras import regularizers"
   ]
  },
  {
   "cell_type": "markdown",
   "metadata": {},
   "source": [
    "##### Resampling Data for Classification Models"
   ]
  },
  {
   "cell_type": "code",
   "execution_count": 150,
   "metadata": {},
   "outputs": [
    {
     "data": {
      "text/plain": [
       "'0.94755'"
      ]
     },
     "execution_count": 150,
     "metadata": {},
     "output_type": "execute_result"
    }
   ],
   "source": [
    "#this is the baseline accuracy to beat for classification models\n",
    "#if we selected \"WnV is not present for all samples\" we would be correct ~95% of the time\n",
    "format(1 - train['WnvPresent'].sum()/train.shape[0], '.5f')"
   ]
  },
  {
   "cell_type": "code",
   "execution_count": 151,
   "metadata": {},
   "outputs": [],
   "source": [
    "#have to convert to numpy array for keras/tensorflow/classification\n",
    "X = train.drop(columns = 'WnvPresent')\n",
    "y = train['WnvPresent']\n"
   ]
  },
  {
   "cell_type": "code",
   "execution_count": 152,
   "metadata": {},
   "outputs": [],
   "source": [
    "#prep data to enter models\n",
    "X_train, X_test, y_train, y_test = train_test_split(X, y, test_size = 0.4, random_state = 42)"
   ]
  },
  {
   "cell_type": "code",
   "execution_count": 153,
   "metadata": {},
   "outputs": [],
   "source": [
    "#rejoin train data on index so it can be downsampled to match classes\n",
    "traindata = X_train.merge(pd.DataFrame(y_train), how = 'left', right_index = True, left_index = True)\n",
    "\n",
    "#separate minority and majority classes\n",
    "train_majority = traindata[traindata['WnvPresent'] == 0]\n",
    "train_minority = traindata[traindata['WnvPresent'] == 1]\n",
    "\n",
    "#upsample minority class\n",
    "train_minority_upsampled = resample(train_minority, \n",
    "                                     replace = True, \n",
    "                                     n_samples = train_majority.shape[0],\n",
    "                                     random_state = 65)\n",
    "#combine classes\n",
    "train_data_upsampled = pd.concat([train_majority, train_minority_upsampled])\n",
    "#split back into X_train and y_train\n",
    "X_train = train_data_upsampled.drop(columns = 'WnvPresent')\n",
    "y_train = train_data_upsampled['WnvPresent']"
   ]
  },
  {
   "cell_type": "code",
   "execution_count": 154,
   "metadata": {},
   "outputs": [],
   "source": [
    "def drop_columns(df1, df2):\n",
    "    #drop columns in either test/train that are not in the other\n",
    "    \n",
    "    df1cols = df1.columns.tolist()\n",
    "    df2cols = df2.columns.tolist()\n",
    "    \n",
    "    notindf1cols = []\n",
    "    notindf2cols = []\n",
    "    \n",
    "    for col in df1cols:\n",
    "        if col not in df2cols:\n",
    "            notindf2cols.append(col)\n",
    "    \n",
    "    for col in df2cols:\n",
    "        if col not in df1cols:\n",
    "            notindf1cols.append(col)\n",
    "            \n",
    "    df1.drop(columns = notindf2cols, inplace = True)\n",
    "    df2.drop(columns = notindf1cols, inplace = True)"
   ]
  },
  {
   "cell_type": "code",
   "execution_count": 155,
   "metadata": {},
   "outputs": [
    {
     "name": "stderr",
     "output_type": "stream",
     "text": [
      "C:\\Users\\peckr\\AppData\\Local\\conda\\conda\\envs\\ga\\lib\\site-packages\\ipykernel_launcher.py:19: SettingWithCopyWarning: \n",
      "A value is trying to be set on a copy of a slice from a DataFrame\n",
      "\n",
      "See the caveats in the documentation: http://pandas.pydata.org/pandas-docs/stable/indexing.html#indexing-view-versus-copy\n"
     ]
    }
   ],
   "source": [
    "drop_columns(test, X_test)\n",
    "drop_columns(X_train, X_test)"
   ]
  },
  {
   "cell_type": "markdown",
   "metadata": {},
   "source": [
    "#### A. Neural Network"
   ]
  },
  {
   "cell_type": "code",
   "execution_count": 157,
   "metadata": {},
   "outputs": [],
   "source": [
    "testnames = test.columns.tolist()\n",
    "\n",
    "#standardizing data to normalize with a mean of 0 and a stdDev of 1\n",
    "ss = StandardScaler()\n",
    "X_train = ss.fit_transform(X_train)\n",
    "X_test = ss.transform(X_test)\n",
    "\n",
    "test = ss.transform(test)"
   ]
  },
  {
   "cell_type": "code",
   "execution_count": 187,
   "metadata": {},
   "outputs": [],
   "source": [
    "#create model\n",
    "model = Sequential()"
   ]
  },
  {
   "cell_type": "code",
   "execution_count": 188,
   "metadata": {},
   "outputs": [],
   "source": [
    "#network topolgy\n",
    "input_units = X_train.shape[1]\n",
    "hidden_units = 200\n",
    "\n",
    "model.add(Dense(hidden_units, \n",
    "                input_dim = input_units, \n",
    "                activation = 'relu',\n",
    "                kernel_regularizer=regularizers.l2(0.01)))\n",
    "model.add(Dense(hidden_units, \n",
    "                activation = 'relu',))\n",
    "\n",
    "\n",
    "model.add(Dense(1, activation = 'sigmoid'))"
   ]
  },
  {
   "cell_type": "code",
   "execution_count": 189,
   "metadata": {},
   "outputs": [],
   "source": [
    "#compile the model\n",
    "model.compile(loss = 'binary_crossentropy',\n",
    "              optimizer = 'adam',\n",
    "              metrics = ['binary_accuracy'])"
   ]
  },
  {
   "cell_type": "code",
   "execution_count": 190,
   "metadata": {},
   "outputs": [
    {
     "name": "stdout",
     "output_type": "stream",
     "text": [
      "Train on 11948 samples, validate on 4203 samples\n",
      "Epoch 1/2\n",
      "11948/11948 [==============================] - 3s 265us/step - loss: 0.8702 - binary_accuracy: 0.8101 - val_loss: 0.5277 - val_binary_accuracy: 0.8161\n",
      "Epoch 2/2\n",
      "11948/11948 [==============================] - 2s 206us/step - loss: 0.4107 - binary_accuracy: 0.8779 - val_loss: 0.5119 - val_binary_accuracy: 0.8139\n"
     ]
    }
   ],
   "source": [
    "#train the model\n",
    "history = model.fit(X_train, y_train,\n",
    "                   validation_data = (X_test, y_test),\n",
    "                   epochs = 2, \n",
    "                   batch_size = None, \n",
    "                   verbose = 1)"
   ]
  },
  {
   "cell_type": "code",
   "execution_count": 191,
   "metadata": {},
   "outputs": [
    {
     "data": {
      "text/plain": [
       "[<matplotlib.lines.Line2D at 0x216ccc4db00>]"
      ]
     },
     "execution_count": 191,
     "metadata": {},
     "output_type": "execute_result"
    },
    {
     "data": {
      "image/png": "[encoded data removed]",
      "text/plain": [
       "<matplotlib.figure.Figure at 0x216cbdeecc0>"
      ]
     },
     "metadata": {},
     "output_type": "display_data"
    }
   ],
   "source": [
    "#plotting accuracy over epochs\n",
    "plt.plot(history.history['val_binary_accuracy'])"
   ]
  },
  {
   "cell_type": "code",
   "execution_count": 192,
   "metadata": {},
   "outputs": [
    {
     "data": {
      "image/png": "[encoded data removed]",
      "text/plain": [
       "<matplotlib.figure.Figure at 0x216ccc38da0>"
      ]
     },
     "metadata": {},
     "output_type": "display_data"
    }
   ],
   "source": [
    "train_loss = history.history['loss']\n",
    "test_loss = history.history['val_loss']\n",
    "\n",
    "plt.plot(train_loss, label = 'Train loss')\n",
    "plt.plot(test_loss, label = 'Test loss')\n",
    "plt.legend();"
   ]
  },
  {
   "cell_type": "code",
   "execution_count": 193,
   "metadata": {},
   "outputs": [
    {
     "data": {
      "text/plain": [
       "0.947180585296217"
      ]
     },
     "execution_count": 193,
     "metadata": {},
     "output_type": "execute_result"
    }
   ],
   "source": [
    "# as predicted from total data set only around 5% of all samples test positive for WnV\n",
    "# preliminarily it appears that from upsampling the wnv cases to get a 50/50 test split\n",
    "# for our neural network we are achieving around 88% accuracy against the test set\n",
    "# compared to our baseline of 95% we would be better off guessing that all do not have WnV\n",
    "1 - y_test.sum()/y_test.shape[0]"
   ]
  },
  {
   "cell_type": "code",
   "execution_count": 194,
   "metadata": {},
   "outputs": [],
   "source": [
    "#need to implement a confusion matrix in order to score this appropriately, will never beat 95%\n",
    "#get keras predictions to make a roc curve/get that roc auc\n",
    "fpr, tpr, _ = roc_curve(y_test, model.predict(X_test))\n",
    "\n",
    "#calculate AUC\n",
    "roc_auc = auc(fpr, tpr)\n",
    "#print a confusion matrix\n",
    "#confusion_matrix(np.array(y_test), model.predict(X_test))"
   ]
  },
  {
   "cell_type": "code",
   "execution_count": 195,
   "metadata": {},
   "outputs": [
    {
     "data": {
      "image/png": "[encoded data removed]",
      "text/plain": [
       "<matplotlib.figure.Figure at 0x216ce42df28>"
      ]
     },
     "metadata": {},
     "output_type": "display_data"
    }
   ],
   "source": [
    "#plot of a ROC curve for a specific class\n",
    "plt.figure()\n",
    "plt.plot(fpr, tpr, label='ROC curve (area = %0.2f)' % roc_auc, color = 'blue')\n",
    "plt.plot([0, 1], [0,1], 'k--')\n",
    "plt.xlim([0.0, 1.0])\n",
    "plt.ylim([0.0, 1.05])\n",
    "plt.xlabel('False Positive Rate')\n",
    "plt.ylabel('True Positive Rate')\n",
    "plt.title('Reciever Operating Characteristic (ROC) Curve')\n",
    "plt.legend(loc=\"lower right\")\n",
    "plt.show()"
   ]
  },
  {
   "cell_type": "markdown",
   "metadata": {},
   "source": [
    "#### B. CART/Decision Trees"
   ]
  },
  {
   "cell_type": "code",
   "execution_count": 168,
   "metadata": {},
   "outputs": [],
   "source": [
    "from sklearn.model_selection import cross_val_score, StratifiedKFold\n",
    "from sklearn.model_selection import GridSearchCV\n",
    "import xgboost as xgb\n",
    "\n",
    "from sklearn.tree import DecisionTreeClassifier\n",
    "from sklearn.ensemble import RandomForestClassifier, ExtraTreesClassifier, BaggingClassifier\n",
    "from sklearn.ensemble import AdaBoostClassifier, GradientBoostingClassifier"
   ]
  },
  {
   "cell_type": "code",
   "execution_count": 169,
   "metadata": {},
   "outputs": [],
   "source": [
    "def CART_model_picker(model_list, X_train, y_train, X_test, y_test):\n",
    "    '''Returns cross-val score and score for all input CART models, returns in sorted order of best performing'''\n",
    "    results = []\n",
    "    \n",
    "    for (k,v) in model_list.items():\n",
    "        scores = cross_val_score(v, X_train, y_train, cv = 5, n_jobs = -1)\n",
    "        v.fit(X_train, y_train)\n",
    "        \n",
    "        #calculate AUC\n",
    "        fpr, tpr, _ = roc_curve(y_test, v.predict(X_test))\n",
    "        roc_auc = auc(fpr, tpr)\n",
    "\n",
    "        results.append((k, scores.mean(), v.score(X_test, y_test), roc_auc))\n",
    "    \n",
    "    results.sort(key = lambda x: x[3], reverse = True)\n",
    "    \n",
    "    return results"
   ]
  },
  {
   "cell_type": "code",
   "execution_count": 170,
   "metadata": {},
   "outputs": [],
   "source": [
    "#setting up stratified kfold\n",
    "cv = StratifiedKFold(n_splits = 5, shuffle = True, random_state = 42)"
   ]
  },
  {
   "cell_type": "code",
   "execution_count": 171,
   "metadata": {},
   "outputs": [
    {
     "data": {
      "text/plain": [
       "[('Gradient Boost',\n",
       "  0.8073321979493002,\n",
       "  0.7637401855817273,\n",
       "  0.7561898748786465),\n",
       " ('AdaBoost', 0.7771165450684384, 0.728527242445872, 0.7439815474856922),\n",
       " ('Decision Tree', 0.9301972904971159, 0.86676183678325, 0.6595806431902891),\n",
       " ('Bagging', 0.9341308354884605, 0.8700927908636689, 0.6592123396946306),\n",
       " ('Random Forest', 0.9381482727444755, 0.8781822507732572, 0.6507226895320339),\n",
       " ('Extra Trees', 0.939989767526615, 0.8807994289793005, 0.6414709736111394)]"
      ]
     },
     "execution_count": 171,
     "metadata": {},
     "output_type": "execute_result"
    }
   ],
   "source": [
    "#figure out which CART model performs the best\n",
    "\n",
    "models = {'Decision Tree': DecisionTreeClassifier(),\n",
    "          'Extra Trees': ExtraTreesClassifier(),\n",
    "          'Gradient Boost': GradientBoostingClassifier(),\n",
    "          'AdaBoost': AdaBoostClassifier(),\n",
    "          'Random Forest':RandomForestClassifier(),\n",
    "          'Bagging': BaggingClassifier()\n",
    "         }\n",
    "\n",
    "\n",
    "CART_model_picker(models, X_train, y_train, X_test, y_test)"
   ]
  },
  {
   "cell_type": "markdown",
   "metadata": {},
   "source": [
    "##### XGBoost Model"
   ]
  },
  {
   "cell_type": "code",
   "execution_count": 172,
   "metadata": {},
   "outputs": [],
   "source": [
    "xgmodel= xgb.XGBClassifier(seed= 42)\n",
    "\n",
    "eval_set = [(X_train, y_train), (X_test, y_test)]\n",
    "scores = cross_val_score(xgb.XGBClassifier(), X_train, y_train, cv = 5, n_jobs = -1)"
   ]
  },
  {
   "cell_type": "code",
   "execution_count": 173,
   "metadata": {},
   "outputs": [
    {
     "name": "stdout",
     "output_type": "stream",
     "text": [
      "[0]\tvalidation_0-auc:0.64448\tvalidation_1-auc:0.612813\n",
      "[1]\tvalidation_0-auc:0.689261\tvalidation_1-auc:0.662271\n",
      "[2]\tvalidation_0-auc:0.754521\tvalidation_1-auc:0.732405\n",
      "[3]\tvalidation_0-auc:0.754722\tvalidation_1-auc:0.730539\n",
      "[4]\tvalidation_0-auc:0.77765\tvalidation_1-auc:0.752828\n",
      "[5]\tvalidation_0-auc:0.783511\tvalidation_1-auc:0.758694\n",
      "[6]\tvalidation_0-auc:0.783937\tvalidation_1-auc:0.759135\n",
      "[7]\tvalidation_0-auc:0.785266\tvalidation_1-auc:0.758942\n",
      "[8]\tvalidation_0-auc:0.790652\tvalidation_1-auc:0.766767\n",
      "[9]\tvalidation_0-auc:0.791382\tvalidation_1-auc:0.766899\n",
      "[10]\tvalidation_0-auc:0.794957\tvalidation_1-auc:0.768013\n",
      "[11]\tvalidation_0-auc:0.794375\tvalidation_1-auc:0.768183\n",
      "[12]\tvalidation_0-auc:0.802225\tvalidation_1-auc:0.779654\n",
      "[13]\tvalidation_0-auc:0.804056\tvalidation_1-auc:0.781576\n",
      "[14]\tvalidation_0-auc:0.807467\tvalidation_1-auc:0.783379\n",
      "[15]\tvalidation_0-auc:0.810754\tvalidation_1-auc:0.784034\n",
      "[16]\tvalidation_0-auc:0.821608\tvalidation_1-auc:0.789853\n",
      "[17]\tvalidation_0-auc:0.822516\tvalidation_1-auc:0.789982\n",
      "[18]\tvalidation_0-auc:0.822455\tvalidation_1-auc:0.787938\n",
      "[19]\tvalidation_0-auc:0.82227\tvalidation_1-auc:0.788198\n",
      "[20]\tvalidation_0-auc:0.827133\tvalidation_1-auc:0.79135\n",
      "[21]\tvalidation_0-auc:0.827799\tvalidation_1-auc:0.79339\n",
      "[22]\tvalidation_0-auc:0.828554\tvalidation_1-auc:0.791613\n",
      "[23]\tvalidation_0-auc:0.83093\tvalidation_1-auc:0.792606\n",
      "[24]\tvalidation_0-auc:0.831164\tvalidation_1-auc:0.79344\n",
      "[25]\tvalidation_0-auc:0.831737\tvalidation_1-auc:0.793674\n",
      "[26]\tvalidation_0-auc:0.833508\tvalidation_1-auc:0.796504\n",
      "[27]\tvalidation_0-auc:0.834102\tvalidation_1-auc:0.796385\n",
      "[28]\tvalidation_0-auc:0.835003\tvalidation_1-auc:0.797109\n",
      "[29]\tvalidation_0-auc:0.838093\tvalidation_1-auc:0.798433\n",
      "[30]\tvalidation_0-auc:0.83877\tvalidation_1-auc:0.799519\n",
      "[31]\tvalidation_0-auc:0.840424\tvalidation_1-auc:0.799625\n",
      "[32]\tvalidation_0-auc:0.8435\tvalidation_1-auc:0.800799\n",
      "[33]\tvalidation_0-auc:0.844043\tvalidation_1-auc:0.802605\n",
      "[34]\tvalidation_0-auc:0.844485\tvalidation_1-auc:0.803153\n",
      "[35]\tvalidation_0-auc:0.845482\tvalidation_1-auc:0.802838\n",
      "[36]\tvalidation_0-auc:0.846545\tvalidation_1-auc:0.803201\n",
      "[37]\tvalidation_0-auc:0.846726\tvalidation_1-auc:0.803587\n",
      "[38]\tvalidation_0-auc:0.847617\tvalidation_1-auc:0.805087\n",
      "[39]\tvalidation_0-auc:0.848678\tvalidation_1-auc:0.805157\n",
      "[40]\tvalidation_0-auc:0.849693\tvalidation_1-auc:0.804195\n",
      "[41]\tvalidation_0-auc:0.851892\tvalidation_1-auc:0.805618\n",
      "[42]\tvalidation_0-auc:0.852123\tvalidation_1-auc:0.805791\n",
      "[43]\tvalidation_0-auc:0.852211\tvalidation_1-auc:0.806784\n",
      "[44]\tvalidation_0-auc:0.853548\tvalidation_1-auc:0.806839\n",
      "[45]\tvalidation_0-auc:0.853981\tvalidation_1-auc:0.807262\n",
      "[46]\tvalidation_0-auc:0.854843\tvalidation_1-auc:0.807542\n",
      "[47]\tvalidation_0-auc:0.854899\tvalidation_1-auc:0.807464\n",
      "[48]\tvalidation_0-auc:0.856418\tvalidation_1-auc:0.808658\n",
      "[49]\tvalidation_0-auc:0.857531\tvalidation_1-auc:0.80986\n",
      "[50]\tvalidation_0-auc:0.858059\tvalidation_1-auc:0.810247\n",
      "[51]\tvalidation_0-auc:0.859443\tvalidation_1-auc:0.809889\n",
      "[52]\tvalidation_0-auc:0.860103\tvalidation_1-auc:0.81\n",
      "[53]\tvalidation_0-auc:0.860187\tvalidation_1-auc:0.810138\n",
      "[54]\tvalidation_0-auc:0.861202\tvalidation_1-auc:0.810893\n",
      "[55]\tvalidation_0-auc:0.861202\tvalidation_1-auc:0.811044\n",
      "[56]\tvalidation_0-auc:0.862313\tvalidation_1-auc:0.811499\n",
      "[57]\tvalidation_0-auc:0.863067\tvalidation_1-auc:0.811913\n",
      "[58]\tvalidation_0-auc:0.863321\tvalidation_1-auc:0.812824\n",
      "[59]\tvalidation_0-auc:0.865143\tvalidation_1-auc:0.813812\n",
      "[60]\tvalidation_0-auc:0.866149\tvalidation_1-auc:0.813899\n",
      "[61]\tvalidation_0-auc:0.867103\tvalidation_1-auc:0.814413\n",
      "[62]\tvalidation_0-auc:0.867662\tvalidation_1-auc:0.814057\n",
      "[63]\tvalidation_0-auc:0.867825\tvalidation_1-auc:0.814281\n",
      "[64]\tvalidation_0-auc:0.868062\tvalidation_1-auc:0.814763\n",
      "[65]\tvalidation_0-auc:0.868684\tvalidation_1-auc:0.814856\n",
      "[66]\tvalidation_0-auc:0.868854\tvalidation_1-auc:0.815514\n",
      "[67]\tvalidation_0-auc:0.869492\tvalidation_1-auc:0.815757\n",
      "[68]\tvalidation_0-auc:0.870184\tvalidation_1-auc:0.816296\n",
      "[69]\tvalidation_0-auc:0.870443\tvalidation_1-auc:0.815786\n",
      "[70]\tvalidation_0-auc:0.870699\tvalidation_1-auc:0.815973\n",
      "[71]\tvalidation_0-auc:0.871125\tvalidation_1-auc:0.81581\n",
      "[72]\tvalidation_0-auc:0.872022\tvalidation_1-auc:0.816001\n",
      "[73]\tvalidation_0-auc:0.872372\tvalidation_1-auc:0.816347\n",
      "[74]\tvalidation_0-auc:0.872903\tvalidation_1-auc:0.816081\n",
      "[75]\tvalidation_0-auc:0.873562\tvalidation_1-auc:0.816543\n",
      "[76]\tvalidation_0-auc:0.873968\tvalidation_1-auc:0.816643\n",
      "[77]\tvalidation_0-auc:0.874678\tvalidation_1-auc:0.817457\n",
      "[78]\tvalidation_0-auc:0.875284\tvalidation_1-auc:0.817927\n",
      "[79]\tvalidation_0-auc:0.875724\tvalidation_1-auc:0.817914\n",
      "[80]\tvalidation_0-auc:0.876431\tvalidation_1-auc:0.818416\n",
      "[81]\tvalidation_0-auc:0.876782\tvalidation_1-auc:0.818566\n",
      "[82]\tvalidation_0-auc:0.876918\tvalidation_1-auc:0.81895\n",
      "[83]\tvalidation_0-auc:0.877616\tvalidation_1-auc:0.818579\n",
      "[84]\tvalidation_0-auc:0.878196\tvalidation_1-auc:0.818548\n",
      "[85]\tvalidation_0-auc:0.878554\tvalidation_1-auc:0.818786\n",
      "[86]\tvalidation_0-auc:0.879149\tvalidation_1-auc:0.819412\n",
      "[87]\tvalidation_0-auc:0.879697\tvalidation_1-auc:0.819305\n",
      "[88]\tvalidation_0-auc:0.880278\tvalidation_1-auc:0.819611\n",
      "[89]\tvalidation_0-auc:0.88127\tvalidation_1-auc:0.820337\n",
      "[90]\tvalidation_0-auc:0.881467\tvalidation_1-auc:0.820085\n",
      "[91]\tvalidation_0-auc:0.882065\tvalidation_1-auc:0.820685\n",
      "[92]\tvalidation_0-auc:0.88274\tvalidation_1-auc:0.820757\n",
      "[93]\tvalidation_0-auc:0.88276\tvalidation_1-auc:0.821186\n",
      "[94]\tvalidation_0-auc:0.882783\tvalidation_1-auc:0.821354\n",
      "[95]\tvalidation_0-auc:0.883594\tvalidation_1-auc:0.821384\n",
      "[96]\tvalidation_0-auc:0.884368\tvalidation_1-auc:0.820591\n",
      "[97]\tvalidation_0-auc:0.884533\tvalidation_1-auc:0.820834\n",
      "[98]\tvalidation_0-auc:0.884842\tvalidation_1-auc:0.820987\n",
      "[99]\tvalidation_0-auc:0.885288\tvalidation_1-auc:0.821177\n"
     ]
    },
    {
     "data": {
      "text/plain": [
       "XGBClassifier(base_score=0.5, booster='gbtree', colsample_bylevel=1,\n",
       "       colsample_bytree=1, gamma=0, learning_rate=0.1, max_delta_step=0,\n",
       "       max_depth=3, min_child_weight=1, missing=None, n_estimators=100,\n",
       "       n_jobs=1, nthread=None, objective='binary:logistic', random_state=0,\n",
       "       reg_alpha=0, reg_lambda=1, scale_pos_weight=1, seed=42, silent=True,\n",
       "       subsample=1)"
      ]
     },
     "execution_count": 173,
     "metadata": {},
     "output_type": "execute_result"
    }
   ],
   "source": [
    "xgmodel.fit(X_train, y_train, eval_metric=\"auc\", eval_set=eval_set, verbose=True)"
   ]
  },
  {
   "cell_type": "code",
   "execution_count": 174,
   "metadata": {},
   "outputs": [
    {
     "name": "stderr",
     "output_type": "stream",
     "text": [
      "C:\\Users\\peckr\\AppData\\Local\\conda\\conda\\envs\\ga\\lib\\site-packages\\sklearn\\preprocessing\\label.py:151: DeprecationWarning: The truth value of an empty array is ambiguous. Returning False, but in future this will result in an error. Use `array.size > 0` to check that an array is not empty.\n",
      "  if diff:\n"
     ]
    },
    {
     "data": {
      "text/plain": [
       "0.7489888175113014"
      ]
     },
     "execution_count": 174,
     "metadata": {},
     "output_type": "execute_result"
    }
   ],
   "source": [
    "#score the XGBoost model\n",
    "xgmodel.score(X_test, y_test)"
   ]
  },
  {
   "cell_type": "code",
   "execution_count": 175,
   "metadata": {},
   "outputs": [
    {
     "name": "stderr",
     "output_type": "stream",
     "text": [
      "C:\\Users\\peckr\\AppData\\Local\\conda\\conda\\envs\\ga\\lib\\site-packages\\sklearn\\preprocessing\\label.py:151: DeprecationWarning: The truth value of an empty array is ambiguous. Returning False, but in future this will result in an error. Use `array.size > 0` to check that an array is not empty.\n",
      "  if diff:\n"
     ]
    }
   ],
   "source": [
    "#calculate AUC\n",
    "fpr, tpr, _ = roc_curve(y_test, xgmodel.predict(X_test))\n",
    "roc_auc = auc(fpr, tpr)"
   ]
  },
  {
   "cell_type": "code",
   "execution_count": 177,
   "metadata": {},
   "outputs": [
    {
     "data": {
      "image/png": "[encoded data removed]",
      "text/plain": [
       "<matplotlib.figure.Figure at 0x216cbdc9908>"
      ]
     },
     "metadata": {},
     "output_type": "display_data"
    }
   ],
   "source": [
    "#plot of a ROC curve for a specific class\n",
    "plt.figure()\n",
    "plt.plot(fpr, tpr, label='ROC curve (area = %0.2f)' % roc_auc, color = 'blue')\n",
    "plt.plot([0, 1], [0,1], 'k--')\n",
    "plt.xlim([0.0, 1.0])\n",
    "plt.ylim([0.0, 1.05])\n",
    "plt.xlabel('False Positive Rate')\n",
    "plt.ylabel('True Positive Rate')\n",
    "plt.title('Reciever Operating Characteristic (ROC) Curve')\n",
    "plt.legend(loc=\"lower right\")\n",
    "plt.show()"
   ]
  },
  {
   "cell_type": "markdown",
   "metadata": {},
   "source": [
    "##### Generating Model Submission"
   ]
  },
  {
   "cell_type": "code",
   "execution_count": 178,
   "metadata": {},
   "outputs": [],
   "source": [
    "def create_submission(model):\n",
    "    '''Generates csv for submission from model using model.predict_proba'''\n",
    "    #predicting values for submission\n",
    "    submission = pd.DataFrame(model.predict_proba(test), columns = ['WnvPresent'])\n",
    "    \n",
    "    submission.set_index(np.arange(1, test.shape[0] + 1), inplace=True)\n",
    "    submission = submission.reset_index().rename(columns = {'index':'Id'})\n",
    "    submission.to_csv('~/Desktop/Git_lessons/Project4/westnilevirussubmission.csv', index = False)\n",
    "    print('Submission Created')\n",
    "    "
   ]
  },
  {
   "cell_type": "code",
   "execution_count": 196,
   "metadata": {},
   "outputs": [
    {
     "name": "stdout",
     "output_type": "stream",
     "text": [
      "116293/116293 [==============================] - 7s 58us/step\n",
      "Submission Created\n"
     ]
    }
   ],
   "source": [
    "#create submission for neural network\n",
    "create_submission(model)"
   ]
  },
  {
   "cell_type": "code",
   "execution_count": 181,
   "metadata": {},
   "outputs": [
    {
     "name": "stdout",
     "output_type": "stream",
     "text": [
      "Submission Created\n"
     ]
    }
   ],
   "source": [
    "#predicting values for submission\n",
    "submission = pd.DataFrame(xgmodel.predict_proba(test)[:,1], columns = ['WnvPresent'])\n",
    "\n",
    "submission.set_index(np.arange(1, test.shape[0] + 1), inplace=True)\n",
    "submission = submission.reset_index().rename(columns = {'index':'Id'})\n",
    "submission.to_csv('~/Desktop/Git_lessons/Project4/westnilevirussubmission.csv', index = False)\n",
    "print('Submission Created')"
   ]
  },
  {
   "cell_type": "code",
   "execution_count": 185,
   "metadata": {},
   "outputs": [
    {
     "data": {
      "text/plain": [
       "[(0.06640625, 'Tmax'),\n",
       " (0.05859375, 'AvgSpeed'),\n",
       " (0.048828125, 'ResultDir'),\n",
       " (0.04296875, 'Week_26'),\n",
       " (0.0390625, 'raintotal_5days'),\n",
       " (0.03515625, 'Week_28'),\n",
       " (0.03125, 'Station'),\n",
       " (0.029296875, 'days_since_rain'),\n",
       " (0.029296875, 'Tmin'),\n",
       " (0.029296875, 'Tavg'),\n",
       " (0.02734375, 'Week_25'),\n",
       " (0.02734375, 'ResultSpeed'),\n",
       " (0.025390625, 'WetBulb'),\n",
       " (0.025390625, 'StnPressure'),\n",
       " (0.0234375, 'Trap_T003'),\n",
       " (0.0234375, 'DewPoint'),\n",
       " (0.021484375, 'Week_24'),\n",
       " (0.01953125, 'Week_36'),\n",
       " (0.01953125, 'Trap_T114'),\n",
       " (0.01953125, 'PrecipTotal'),\n",
       " (0.015625, 'Week_34'),\n",
       " (0.013671875, 'Week_30'),\n",
       " (0.013671875, 'Trap_T230'),\n",
       " (0.013671875, 'Trap_T200'),\n",
       " (0.013671875, 'Trap_T017'),\n",
       " (0.013671875, 'Block_25'),\n",
       " (0.01171875, 'Week_37'),\n",
       " (0.01171875, 'Week_33'),\n",
       " (0.01171875, 'Trap_T903'),\n",
       " (0.01171875, 'Trap_T235'),\n",
       " (0.009765625, 'Week_35'),\n",
       " (0.009765625, 'Trap_T148'),\n",
       " (0.009765625, 'Trap_T018'),\n",
       " (0.0078125, 'Trap_T900'),\n",
       " (0.0078125, 'Trap_T151'),\n",
       " (0.0078125, 'Trap_T083'),\n",
       " (0.0078125, 'Trap_T049'),\n",
       " (0.0078125, 'Trap_T039'),\n",
       " (0.0078125, 'Block_22'),\n",
       " (0.005859375, 'Week_31'),\n",
       " (0.005859375, 'Week_29'),\n",
       " (0.005859375, 'Trap_T225'),\n",
       " (0.005859375, 'Trap_T115'),\n",
       " (0.005859375, 'Trap_T063'),\n",
       " (0.005859375, 'Trap_T043'),\n",
       " (0.005859375, 'Trap_T028'),\n",
       " (0.005859375, 'Block_49'),\n",
       " (0.005859375, 'Block_37'),\n",
       " (0.005859375, 'Block_18'),\n",
       " (0.00390625, 'Week_32'),\n",
       " (0.00390625, 'Trap_T231'),\n",
       " (0.00390625, 'Trap_T222'),\n",
       " (0.00390625, 'Trap_T220'),\n",
       " (0.00390625, 'Trap_T215'),\n",
       " (0.00390625, 'Trap_T156'),\n",
       " (0.00390625, 'Trap_T103'),\n",
       " (0.00390625, 'Trap_T099'),\n",
       " (0.00390625, 'Trap_T079'),\n",
       " (0.00390625, 'Trap_T077'),\n",
       " (0.00390625, 'Trap_T073'),\n",
       " (0.00390625, 'Trap_T031'),\n",
       " (0.00390625, 'Trap_T012'),\n",
       " (0.00390625, 'Block_62'),\n",
       " (0.00390625, 'Block_53'),\n",
       " (0.00390625, 'Block_52'),\n",
       " (0.00390625, 'Block_13'),\n",
       " (0.001953125, 'Trap_T228'),\n",
       " (0.001953125, 'Trap_T224'),\n",
       " (0.001953125, 'Trap_T218'),\n",
       " (0.001953125, 'Trap_T212'),\n",
       " (0.001953125, 'Trap_T159'),\n",
       " (0.001953125, 'Trap_T144'),\n",
       " (0.001953125, 'Trap_T090'),\n",
       " (0.001953125, 'Trap_T074'),\n",
       " (0.001953125, 'Trap_T048'),\n",
       " (0.001953125, 'Trap_T013'),\n",
       " (0.001953125, 'Block_51'),\n",
       " (0.001953125, 'Block_50'),\n",
       " (0.001953125, 'Block_11'),\n",
       " (0.0, 'Week_40'),\n",
       " (0.0, 'Week_39'),\n",
       " (0.0, 'Week_38'),\n",
       " (0.0, 'Week_27'),\n",
       " (0.0, 'Week_23'),\n",
       " (0.0, 'Week_22'),\n",
       " (0.0, 'Trap_T238'),\n",
       " (0.0, 'Trap_T237'),\n",
       " (0.0, 'Trap_T236'),\n",
       " (0.0, 'Trap_T233'),\n",
       " (0.0, 'Trap_T232'),\n",
       " (0.0, 'Trap_T229'),\n",
       " (0.0, 'Trap_T227'),\n",
       " (0.0, 'Trap_T226'),\n",
       " (0.0, 'Trap_T223'),\n",
       " (0.0, 'Trap_T221'),\n",
       " (0.0, 'Trap_T219'),\n",
       " (0.0, 'Trap_T209'),\n",
       " (0.0, 'Trap_T206'),\n",
       " (0.0, 'Trap_T162'),\n",
       " (0.0, 'Trap_T161'),\n",
       " (0.0, 'Trap_T160'),\n",
       " (0.0, 'Trap_T158'),\n",
       " (0.0, 'Trap_T157'),\n",
       " (0.0, 'Trap_T155'),\n",
       " (0.0, 'Trap_T154'),\n",
       " (0.0, 'Trap_T153'),\n",
       " (0.0, 'Trap_T152'),\n",
       " (0.0, 'Trap_T150'),\n",
       " (0.0, 'Trap_T149'),\n",
       " (0.0, 'Trap_T147'),\n",
       " (0.0, 'Trap_T146'),\n",
       " (0.0, 'Trap_T145'),\n",
       " (0.0, 'Trap_T143'),\n",
       " (0.0, 'Trap_T142'),\n",
       " (0.0, 'Trap_T141'),\n",
       " (0.0, 'Trap_T138'),\n",
       " (0.0, 'Trap_T135'),\n",
       " (0.0, 'Trap_T129'),\n",
       " (0.0, 'Trap_T128'),\n",
       " (0.0, 'Trap_T107'),\n",
       " (0.0, 'Trap_T102'),\n",
       " (0.0, 'Trap_T100'),\n",
       " (0.0, 'Trap_T097'),\n",
       " (0.0, 'Trap_T096'),\n",
       " (0.0, 'Trap_T095'),\n",
       " (0.0, 'Trap_T094B'),\n",
       " (0.0, 'Trap_T094'),\n",
       " (0.0, 'Trap_T092'),\n",
       " (0.0, 'Trap_T091'),\n",
       " (0.0, 'Trap_T089'),\n",
       " (0.0, 'Trap_T088'),\n",
       " (0.0, 'Trap_T086'),\n",
       " (0.0, 'Trap_T085'),\n",
       " (0.0, 'Trap_T084'),\n",
       " (0.0, 'Trap_T082'),\n",
       " (0.0, 'Trap_T081'),\n",
       " (0.0, 'Trap_T080'),\n",
       " (0.0, 'Trap_T078'),\n",
       " (0.0, 'Trap_T076'),\n",
       " (0.0, 'Trap_T075'),\n",
       " (0.0, 'Trap_T072'),\n",
       " (0.0, 'Trap_T071'),\n",
       " (0.0, 'Trap_T070'),\n",
       " (0.0, 'Trap_T069'),\n",
       " (0.0, 'Trap_T067'),\n",
       " (0.0, 'Trap_T066'),\n",
       " (0.0, 'Trap_T065'),\n",
       " (0.0, 'Trap_T062'),\n",
       " (0.0, 'Trap_T061'),\n",
       " (0.0, 'Trap_T060'),\n",
       " (0.0, 'Trap_T054C'),\n",
       " (0.0, 'Trap_T054'),\n",
       " (0.0, 'Trap_T051'),\n",
       " (0.0, 'Trap_T050'),\n",
       " (0.0, 'Trap_T047'),\n",
       " (0.0, 'Trap_T046'),\n",
       " (0.0, 'Trap_T045'),\n",
       " (0.0, 'Trap_T044'),\n",
       " (0.0, 'Trap_T040'),\n",
       " (0.0, 'Trap_T037'),\n",
       " (0.0, 'Trap_T036'),\n",
       " (0.0, 'Trap_T035'),\n",
       " (0.0, 'Trap_T034'),\n",
       " (0.0, 'Trap_T033'),\n",
       " (0.0, 'Trap_T030'),\n",
       " (0.0, 'Trap_T027'),\n",
       " (0.0, 'Trap_T025'),\n",
       " (0.0, 'Trap_T019'),\n",
       " (0.0, 'Trap_T016'),\n",
       " (0.0, 'Trap_T015'),\n",
       " (0.0, 'Trap_T014'),\n",
       " (0.0, 'Trap_T011'),\n",
       " (0.0, 'Trap_T009'),\n",
       " (0.0, 'Trap_T008'),\n",
       " (0.0, 'Trap_T007'),\n",
       " (0.0, 'Trap_T006'),\n",
       " (0.0, 'Trap_T005'),\n",
       " (0.0, 'Trap_T004'),\n",
       " (0.0, 'Trap_T002'),\n",
       " (0.0, 'Trap_T001'),\n",
       " (0.0, 'CULEX RESTUANS'),\n",
       " (0.0, 'CULEX PIPIENS'),\n",
       " (0.0, 'Block_98'),\n",
       " (0.0, 'Block_96'),\n",
       " (0.0, 'Block_93'),\n",
       " (0.0, 'Block_91'),\n",
       " (0.0, 'Block_90'),\n",
       " (0.0, 'Block_89'),\n",
       " (0.0, 'Block_82'),\n",
       " (0.0, 'Block_81'),\n",
       " (0.0, 'Block_80'),\n",
       " (0.0, 'Block_79'),\n",
       " (0.0, 'Block_77'),\n",
       " (0.0, 'Block_75'),\n",
       " (0.0, 'Block_73'),\n",
       " (0.0, 'Block_72'),\n",
       " (0.0, 'Block_71'),\n",
       " (0.0, 'Block_70'),\n",
       " (0.0, 'Block_68'),\n",
       " (0.0, 'Block_67'),\n",
       " (0.0, 'Block_66'),\n",
       " (0.0, 'Block_65'),\n",
       " (0.0, 'Block_64'),\n",
       " (0.0, 'Block_63'),\n",
       " (0.0, 'Block_61'),\n",
       " (0.0, 'Block_60'),\n",
       " (0.0, 'Block_58'),\n",
       " (0.0, 'Block_55'),\n",
       " (0.0, 'Block_48'),\n",
       " (0.0, 'Block_47'),\n",
       " (0.0, 'Block_46'),\n",
       " (0.0, 'Block_45'),\n",
       " (0.0, 'Block_43'),\n",
       " (0.0, 'Block_42'),\n",
       " (0.0, 'Block_41'),\n",
       " (0.0, 'Block_40'),\n",
       " (0.0, 'Block_39'),\n",
       " (0.0, 'Block_38'),\n",
       " (0.0, 'Block_36'),\n",
       " (0.0, 'Block_35'),\n",
       " (0.0, 'Block_34'),\n",
       " (0.0, 'Block_33'),\n",
       " (0.0, 'Block_30'),\n",
       " (0.0, 'Block_29'),\n",
       " (0.0, 'Block_28'),\n",
       " (0.0, 'Block_27'),\n",
       " (0.0, 'Block_24'),\n",
       " (0.0, 'Block_21'),\n",
       " (0.0, 'Block_20'),\n",
       " (0.0, 'Block_17'),\n",
       " (0.0, 'Block_15'),\n",
       " (0.0, 'Block_14'),\n",
       " (0.0, 'Block_12'),\n",
       " (0.0, 'Block_10')]"
      ]
     },
     "execution_count": 185,
     "metadata": {},
     "output_type": "execute_result"
    }
   ],
   "source": [
    "#show features for xgboost model\n",
    "sorted(zip(xgmodel.feature_importances_, testnames), reverse = True)"
   ]
  },
  {
   "cell_type": "code",
   "execution_count": null,
   "metadata": {},
   "outputs": [],
   "source": []
  }
 ],
 "metadata": {
  "kernelspec": {
   "display_name": "Python 3",
   "language": "python",
   "name": "python3"
  },
  "language_info": {
   "codemirror_mode": {
    "name": "ipython",
    "version": 3
   },
   "file_extension": ".py",
   "mimetype": "text/x-python",
   "name": "python",
   "nbconvert_exporter": "python",
   "pygments_lexer": "ipython3",
   "version": "3.5.4"
  }
 },
 "nbformat": 4,
 "nbformat_minor": 2
}
