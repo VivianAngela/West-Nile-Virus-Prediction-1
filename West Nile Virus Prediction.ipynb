{
 "cells": [
  {
   "cell_type": "markdown",
   "metadata": {},
   "source": [
    "# West Nile Virus Prediction"
   ]
  },
  {
   "cell_type": "markdown",
   "metadata": {},
   "source": [
    "### 1. Import Data and Libraries"
   ]
  },
  {
   "cell_type": "code",
   "execution_count": 122,
   "metadata": {},
   "outputs": [],
   "source": [
    "import pandas as pd\n",
    "import matplotlib.pyplot as plt\n",
    "import seaborn as sns\n",
    "\n",
    "from math import radians, sin, cos, asin, sqrt\n",
    "from sklearn.metrics import confusion_matrix, roc_curve, auc\n",
    "\n",
    "%matplotlib inline"
   ]
  },
  {
   "cell_type": "code",
   "execution_count": 123,
   "metadata": {
    "scrolled": true
   },
   "outputs": [],
   "source": [
    "spray = pd.read_csv('./west_nile/west_nile/input/spray.csv')\n",
    "weather = pd.read_csv('./west_nile/west_nile/input/weather.csv')\n",
    "train = pd.read_csv('./west_nile/west_nile/input/train.csv')\n",
    "ss = pd.read_csv('./west_nile/west_nile/input/SampleSubmission.csv')"
   ]
  },
  {
   "cell_type": "code",
   "execution_count": 124,
   "metadata": {},
   "outputs": [],
   "source": [
    "#use to assign weather data to traps based on distance from weather station to trap\n",
    "\n",
    "def haversine(lat1, lon1, lat2, lon2):\n",
    "    '''Calculates the distance between two lat-long points.'''\n",
    "    \n",
    "    R = 3959.87433 # this is in miles.  For Earth radius in kilometers use 6372.8 km\n",
    "\n",
    "    dLat = radians(lat2 - lat1)\n",
    "    dLon = radians(lon2 - lon1)\n",
    "    lat1 = radians(lat1)\n",
    "    lat2 = radians(lat2)\n",
    "\n",
    "    a = sin(dLat/2)**2 + cos(lat1)*cos(lat2)*sin(dLon/2)**2\n",
    "    c = 2*asin(sqrt(a))\n",
    "\n",
    "    return R * c"
   ]
  },
  {
   "cell_type": "markdown",
   "metadata": {},
   "source": [
    "### 2. Perform EDA /Format /Clean Data"
   ]
  },
  {
   "cell_type": "code",
   "execution_count": 125,
   "metadata": {},
   "outputs": [],
   "source": [
    "def quick_EDA(df):\n",
    "    #Input a dataframe, Returns: shape of data, number of nulls\n",
    "    nulls = df.isnull().sum().sum()\n",
    "    \n",
    "    print('Rows:', df.shape[0], 'Columns:', df.shape[1])\n",
    "    print('Total NaNs:', nulls)"
   ]
  },
  {
   "cell_type": "code",
   "execution_count": 126,
   "metadata": {},
   "outputs": [
    {
     "name": "stdout",
     "output_type": "stream",
     "text": [
      "Rows: 10506 Columns: 12\n",
      "Total NaNs: 0\n"
     ]
    }
   ],
   "source": [
    "quick_EDA(train)"
   ]
  },
  {
   "cell_type": "code",
   "execution_count": 127,
   "metadata": {},
   "outputs": [
    {
     "name": "stdout",
     "output_type": "stream",
     "text": [
      "Rows: 14835 Columns: 4\n",
      "Total NaNs: 584\n"
     ]
    }
   ],
   "source": [
    "quick_EDA(spray)"
   ]
  },
  {
   "cell_type": "code",
   "execution_count": 128,
   "metadata": {},
   "outputs": [
    {
     "name": "stdout",
     "output_type": "stream",
     "text": [
      "Rows: 2944 Columns: 22\n",
      "Total NaNs: 0\n"
     ]
    }
   ],
   "source": [
    "quick_EDA(weather)"
   ]
  },
  {
   "cell_type": "code",
   "execution_count": 129,
   "metadata": {},
   "outputs": [],
   "source": [
    "#Converting train columns to datetime format\n",
    "train['Date'] = pd.to_datetime(train['Date'])"
   ]
  },
  {
   "cell_type": "code",
   "execution_count": 130,
   "metadata": {},
   "outputs": [],
   "source": [
    "#converting spray columns to date time and making date/time columns\n",
    "spray['Date'] = pd.to_datetime(spray['Date'])\n",
    "spray['am_pm'] = spray['Time'].apply(lambda x: str(x).split()[-1])\n",
    "spray['Time'] = spray['Time'].apply(lambda x: str(x).split()[0])\n",
    "spray['Time'] = pd.to_datetime(spray['Time'], format = '%H:%M:%S')"
   ]
  },
  {
   "cell_type": "code",
   "execution_count": 131,
   "metadata": {},
   "outputs": [],
   "source": [
    "#converting Weather columns to datetime\n",
    "weather['Date'] = pd.to_datetime(weather['Date'])"
   ]
  },
  {
   "cell_type": "code",
   "execution_count": 132,
   "metadata": {},
   "outputs": [
    {
     "name": "stdout",
     "output_type": "stream",
     "text": [
      "Traps tested > 1/day: 0\n"
     ]
    }
   ],
   "source": [
    "#testing to see if any traps are ever tested more than once on the same day\n",
    "    # none are, this will allow us to determine the number of mosquitos in traps where there are more than 50\n",
    "    # because we can now combine rows on Trap Id and Date to get total no. mosquitos tested\n",
    "datetrap = train[['Date', 'Trap']]\n",
    "y = datetrap.merge(pd.get_dummies(train['Trap']), how = 'left', right_index = True, left_index = True)\n",
    "\n",
    "datetrapcols = y.shape[1]\n",
    "datetraprows = y.shape[0]\n",
    "errors = 0\n",
    "\n",
    "for i in range(datetraprows):\n",
    "    for g in range(2,datetrapcols):\n",
    "        if y.iloc[i,g] > 1:\n",
    "            errors += 1\n",
    "print('Traps tested > 1/day:', errors)"
   ]
  },
  {
   "cell_type": "code",
   "execution_count": 133,
   "metadata": {},
   "outputs": [
    {
     "data": {
      "image/png": "[encoded data removed]",
      "text/plain": [
       "<matplotlib.figure.Figure at 0x25ffb360e48>"
      ]
     },
     "metadata": {},
     "output_type": "display_data"
    }
   ],
   "source": [
    "#plotted mosquitos by trap by date\n",
    "train[['Date', 'Trap', 'NumMosquitos']].groupby(by = ['Date','Trap'])['Date','Trap','NumMosquitos'] \\\n",
    "    .sum().reset_index().sort_values('NumMosquitos', ascending = False).set_index('Date').plot(style = '.')\n",
    "    \n",
    "plt.title('Mosquitos by Trap over Time');"
   ]
  },
  {
   "cell_type": "code",
   "execution_count": 134,
   "metadata": {},
   "outputs": [
    {
     "data": {
      "image/png": "[encoded data removed]",
      "text/plain": [
       "<matplotlib.figure.Figure at 0x25ffe0972b0>"
      ]
     },
     "metadata": {},
     "output_type": "display_data"
    }
   ],
   "source": [
    "#plotted WNV incidents by trap\n",
    "train[['Date', 'Trap','WnvPresent']].groupby(by = ['Date','Trap'])['Date','Trap','WnvPresent'] \\\n",
    "    .sum().reset_index().sort_values('WnvPresent', ascending = False).set_index('Date').plot(color = 'green', style = '.')\n",
    "    \n",
    "plt.title('Positive WnV Cases by Trap over Time');"
   ]
  },
  {
   "cell_type": "markdown",
   "metadata": {},
   "source": [
    "### 3. Feature Engineering"
   ]
  },
  {
   "cell_type": "markdown",
   "metadata": {},
   "source": [
    "##### Pair weather data with trap locations"
   ]
  },
  {
   "cell_type": "code",
   "execution_count": 135,
   "metadata": {},
   "outputs": [
    {
     "data": {
      "text/plain": [
       "\"stat1lat = 41.995\\nstat1long = -87.933\\nstat2lat = 41.786\\nstat2long = -87.752 \\n\\ntrain['Station'] = 1\\n\\nfor i in range(train.shape[0]):\\n    if haversine(stat1lat, stat1long, train.loc[i, 'Latitude'], train.loc[i, 'Longitude']) > haversine(stat2lat, stat2long, train.loc[i, 'Latitude'], train.loc[i, 'Longitude']):\\n        train.loc[i,'Station'] = 2\""
      ]
     },
     "execution_count": 135,
     "metadata": {},
     "output_type": "execute_result"
    }
   ],
   "source": [
    "#assign weather station to trap based on location\n",
    "\n",
    "'''stat1lat = 41.995\n",
    "stat1long = -87.933\n",
    "stat2lat = 41.786\n",
    "stat2long = -87.752 \n",
    "\n",
    "train['Station'] = 1\n",
    "\n",
    "for i in range(train.shape[0]):\n",
    "    if haversine(stat1lat, stat1long, train.loc[i, 'Latitude'], train.loc[i, 'Longitude']) > haversine(stat2lat, stat2long, train.loc[i, 'Latitude'], train.loc[i, 'Longitude']):\n",
    "        train.loc[i,'Station'] = 2'''"
   ]
  },
  {
   "cell_type": "code",
   "execution_count": 136,
   "metadata": {},
   "outputs": [],
   "source": [
    "#train = train.merge(weather, how = 'left', on = ['Date','Station'])"
   ]
  },
  {
   "cell_type": "code",
   "execution_count": 137,
   "metadata": {},
   "outputs": [],
   "source": [
    "# dropping columns from weather data that are not needed"
   ]
  },
  {
   "cell_type": "markdown",
   "metadata": {},
   "source": [
    "##### Split out Parent Traps and Child Traps"
   ]
  },
  {
   "cell_type": "code",
   "execution_count": 138,
   "metadata": {},
   "outputs": [],
   "source": [
    "#Create columns to show parent trap and child traps\n",
    "train['Parent_Trap'] = train['Trap'].apply(lambda x: x[:4])\n",
    "train['Child_Trap'] = train['Trap'].apply(lambda x: x[4:])"
   ]
  },
  {
   "cell_type": "code",
   "execution_count": 139,
   "metadata": {},
   "outputs": [
    {
     "data": {
      "text/html": [
       "<div>\n",
       "<style scoped>\n",
       "    .dataframe tbody tr th:only-of-type {\n",
       "        vertical-align: middle;\n",
       "    }\n",
       "\n",
       "    .dataframe tbody tr th {\n",
       "        vertical-align: top;\n",
       "    }\n",
       "\n",
       "    .dataframe thead th {\n",
       "        text-align: right;\n",
       "    }\n",
       "</style>\n",
       "<table border=\"1\" class=\"dataframe\">\n",
       "  <thead>\n",
       "    <tr style=\"text-align: right;\">\n",
       "      <th></th>\n",
       "      <th>Parent_Trap</th>\n",
       "      <th>Child_Trap</th>\n",
       "    </tr>\n",
       "  </thead>\n",
       "  <tbody>\n",
       "    <tr>\n",
       "      <th>0</th>\n",
       "      <td>T094</td>\n",
       "      <td>2</td>\n",
       "    </tr>\n",
       "    <tr>\n",
       "      <th>1</th>\n",
       "      <td>T054</td>\n",
       "      <td>2</td>\n",
       "    </tr>\n",
       "    <tr>\n",
       "      <th>2</th>\n",
       "      <td>T001</td>\n",
       "      <td>1</td>\n",
       "    </tr>\n",
       "    <tr>\n",
       "      <th>3</th>\n",
       "      <td>T148</td>\n",
       "      <td>1</td>\n",
       "    </tr>\n",
       "    <tr>\n",
       "      <th>4</th>\n",
       "      <td>T143</td>\n",
       "      <td>1</td>\n",
       "    </tr>\n",
       "  </tbody>\n",
       "</table>\n",
       "</div>"
      ],
      "text/plain": [
       "  Parent_Trap  Child_Trap\n",
       "0        T094           2\n",
       "1        T054           2\n",
       "2        T001           1\n",
       "3        T148           1\n",
       "4        T143           1"
      ]
     },
     "execution_count": 139,
     "metadata": {},
     "output_type": "execute_result"
    }
   ],
   "source": [
    "#show number of child traps to each parent trap\n",
    "#need to de-duplicate list of traps initally to accomplish this\n",
    "train[['Parent_Trap', 'Child_Trap']].drop_duplicates().groupby(by = 'Parent_Trap')['Child_Trap'].count().reset_index(). \\\n",
    "    sort_values(by = 'Child_Trap',ascending = False).reset_index(drop = True).head()"
   ]
  },
  {
   "cell_type": "markdown",
   "metadata": {},
   "source": [
    "##### Get Dummies for mosquito species"
   ]
  },
  {
   "cell_type": "code",
   "execution_count": 140,
   "metadata": {},
   "outputs": [],
   "source": [
    "#split out dual mosquote species lines into separate columns\n",
    "train['Species'] = train['Species'].apply(lambda x: x.split('/'))\n",
    "\n",
    "train['Species1'] = train['Species'].apply(lambda x: 'CULEX ' + x[1] if len(x) == 2 else 'NaN')\n",
    "train['Species0'] = train['Species'].apply(lambda x: x[0])"
   ]
  },
  {
   "cell_type": "code",
   "execution_count": 141,
   "metadata": {},
   "outputs": [],
   "source": [
    "#make dummies for mosquito species\n",
    "train = pd.get_dummies(train, prefix = 'Species', columns = ['Species0'])\n"
   ]
  },
  {
   "cell_type": "code",
   "execution_count": 142,
   "metadata": {},
   "outputs": [],
   "source": [
    "#add in the RESTUANS species from the split column\n",
    "for i in range(train.shape[0]):\n",
    "    if train.loc[i, 'Species1'] == 'CULEX RESTUANS':\n",
    "        train.loc[i,'Species_CULEX RESTUANS'] = 1"
   ]
  },
  {
   "cell_type": "code",
   "execution_count": 143,
   "metadata": {},
   "outputs": [],
   "source": [
    "#drop the species column\n",
    "train.drop(columns = ['Species','Species1'], inplace = True)"
   ]
  },
  {
   "cell_type": "markdown",
   "metadata": {},
   "source": [
    "##### Get Dummies for Other Variables"
   ]
  },
  {
   "cell_type": "code",
   "execution_count": 144,
   "metadata": {},
   "outputs": [],
   "source": [
    "dummy_train = pd.get_dummies(train, columns = ['Trap', 'Block', 'Street'])\n",
    "\n",
    "train.drop(columns = ['Trap', 'Block', 'Street'], inplace = True)"
   ]
  },
  {
   "cell_type": "markdown",
   "metadata": {},
   "source": [
    "##### Get Dummies for Time (Week, Month, Year)"
   ]
  },
  {
   "cell_type": "code",
   "execution_count": 145,
   "metadata": {},
   "outputs": [],
   "source": [
    "#breaking week, month, and year into separate columns\n",
    "train['Week'] = train['Date'].dt.week\n",
    "train['Month'] = train['Date'].dt.month\n",
    "train['Year'] = train['Date'].dt.year\n",
    "\n",
    "#drop date column\n",
    "train.drop(columns = 'Date', inplace = True)\n",
    "\n",
    "#get dummies\n",
    "train = pd.get_dummies(train, columns = ['Week', 'Month', 'Year'])"
   ]
  },
  {
   "cell_type": "markdown",
   "metadata": {},
   "source": [
    "##### Drop Misc. Columns"
   ]
  },
  {
   "cell_type": "code",
   "execution_count": 146,
   "metadata": {},
   "outputs": [],
   "source": [
    "train.drop(columns = ['Address', 'AddressNumberAndStreet', 'Latitude', \\\n",
    "                      'Longitude', 'AddressAccuracy', 'Parent_Trap', 'Child_Trap'], inplace = True)"
   ]
  },
  {
   "cell_type": "markdown",
   "metadata": {},
   "source": [
    "### 4. Modeling"
   ]
  },
  {
   "cell_type": "code",
   "execution_count": 148,
   "metadata": {},
   "outputs": [],
   "source": [
    "import matplotlib.pyplot as plt\n",
    "import numpy as np\n",
    "\n",
    "from sklearn.model_selection import train_test_split\n",
    "from sklearn.preprocessing import StandardScaler\n",
    "from sklearn.utils import resample\n",
    "\n",
    "from keras.models import Sequential\n",
    "from keras.layers import Dense"
   ]
  },
  {
   "cell_type": "markdown",
   "metadata": {},
   "source": [
    "##### Resampling Data for Classification Models"
   ]
  },
  {
   "cell_type": "code",
   "execution_count": 149,
   "metadata": {},
   "outputs": [
    {
     "data": {
      "text/plain": [
       "'0.948'"
      ]
     },
     "execution_count": 149,
     "metadata": {},
     "output_type": "execute_result"
    }
   ],
   "source": [
    "#this is the baseline accuracy to beat for classification models\n",
    "#if we selected \"WnV is not present for all samples\" we would be correct ~95% of the time\n",
    "format(1 - train['WnvPresent'].sum()/train.shape[0], '.3f')"
   ]
  },
  {
   "cell_type": "code",
   "execution_count": 150,
   "metadata": {},
   "outputs": [],
   "source": [
    "#have to convert to numpy array for keras/tensorflow/classification\n",
    "X = train.drop(columns = 'WnvPresent')\n",
    "y = train['WnvPresent']"
   ]
  },
  {
   "cell_type": "code",
   "execution_count": 151,
   "metadata": {},
   "outputs": [],
   "source": [
    "#prep data to enter models\n",
    "X_train, X_test, y_train, y_test = train_test_split(X, y, test_size = 0.3, random_state = 42)"
   ]
  },
  {
   "cell_type": "code",
   "execution_count": 152,
   "metadata": {},
   "outputs": [],
   "source": [
    "#rejoin train data on index so it can be downsampled to match classes\n",
    "traindata = X_train.merge(pd.DataFrame(y_train), how = 'left', right_index = True, left_index = True)\n",
    "\n",
    "#separate minority and majority classes\n",
    "train_majority = traindata[traindata['WnvPresent'] == 0]\n",
    "train_minority = traindata[traindata['WnvPresent'] == 1]\n",
    "\n",
    "#upsample minority class\n",
    "train_minority_upsampled = resample(train_minority, \n",
    "                                     replace = True, \n",
    "                                     n_samples = train_majority.shape[0],\n",
    "                                     random_state = 65)\n",
    "#combine classes\n",
    "train_data_upsampled = pd.concat([train_majority, train_minority_upsampled])\n",
    "#split back into X_train and y_train\n",
    "X_train = train_data_upsampled.drop(columns = 'WnvPresent')\n",
    "y_train = train_data_upsampled['WnvPresent']"
   ]
  },
  {
   "cell_type": "markdown",
   "metadata": {},
   "source": [
    "#### A. Neural Network"
   ]
  },
  {
   "cell_type": "code",
   "execution_count": 153,
   "metadata": {},
   "outputs": [],
   "source": [
    "#standardizing data to normalize with a mean of 0 and a stdDev of 1\n",
    "ss = StandardScaler()\n",
    "X_train = ss.fit_transform(X_train)\n",
    "X_test = ss.transform(X_test)"
   ]
  },
  {
   "cell_type": "code",
   "execution_count": 154,
   "metadata": {},
   "outputs": [],
   "source": [
    "#create model\n",
    "model = Sequential()"
   ]
  },
  {
   "cell_type": "code",
   "execution_count": 155,
   "metadata": {},
   "outputs": [],
   "source": [
    "#network topolgy\n",
    "input_units = X_train.shape[1]\n",
    "hidden_units = round(input_units)\n",
    "\n",
    "model.add(Dense(hidden_units, \n",
    "                input_dim = input_units, \n",
    "                activation = 'relu'))\n",
    "\n",
    "model.add(Dense(1, activation = 'sigmoid'))"
   ]
  },
  {
   "cell_type": "code",
   "execution_count": 156,
   "metadata": {},
   "outputs": [],
   "source": [
    "model.compile(loss = 'binary_crossentropy',\n",
    "              optimizer = 'adam',\n",
    "              metrics = ['binary_accuracy'])"
   ]
  },
  {
   "cell_type": "code",
   "execution_count": 157,
   "metadata": {},
   "outputs": [
    {
     "name": "stdout",
     "output_type": "stream",
     "text": [
      "Train on 13938 samples, validate on 3152 samples\n",
      "Epoch 1/50\n",
      "13938/13938 [==============================] - 2s 177us/step - loss: 0.5105 - binary_accuracy: 0.7481 - val_loss: 0.4574 - val_binary_accuracy: 0.7709\n",
      "Epoch 2/50\n",
      "13938/13938 [==============================] - 2s 127us/step - loss: 0.4317 - binary_accuracy: 0.7906 - val_loss: 0.4246 - val_binary_accuracy: 0.7820\n",
      "Epoch 3/50\n",
      "13938/13938 [==============================] - 1s 94us/step - loss: 0.4185 - binary_accuracy: 0.7954 - val_loss: 0.4458 - val_binary_accuracy: 0.7655\n",
      "Epoch 4/50\n",
      "13938/13938 [==============================] - 1s 62us/step - loss: 0.4104 - binary_accuracy: 0.8010 - val_loss: 0.4480 - val_binary_accuracy: 0.7586\n",
      "Epoch 5/50\n",
      "13938/13938 [==============================] - 1s 63us/step - loss: 0.4031 - binary_accuracy: 0.8093 - val_loss: 0.4436 - val_binary_accuracy: 0.7636\n",
      "Epoch 6/50\n",
      "13938/13938 [==============================] - 1s 62us/step - loss: 0.3979 - binary_accuracy: 0.8134 - val_loss: 0.4439 - val_binary_accuracy: 0.7649\n",
      "Epoch 7/50\n",
      "13938/13938 [==============================] - 1s 63us/step - loss: 0.3932 - binary_accuracy: 0.8151 - val_loss: 0.4404 - val_binary_accuracy: 0.7684\n",
      "Epoch 8/50\n",
      "13938/13938 [==============================] - 1s 62us/step - loss: 0.3886 - binary_accuracy: 0.8187 - val_loss: 0.4332 - val_binary_accuracy: 0.7786\n",
      "Epoch 9/50\n",
      "13938/13938 [==============================] - 1s 62us/step - loss: 0.3850 - binary_accuracy: 0.8233 - val_loss: 0.3910 - val_binary_accuracy: 0.8043\n",
      "Epoch 10/50\n",
      "13938/13938 [==============================] - 2s 147us/step - loss: 0.3823 - binary_accuracy: 0.8236 - val_loss: 0.4147 - val_binary_accuracy: 0.7839\n",
      "Epoch 11/50\n",
      "13938/13938 [==============================] - 1s 88us/step - loss: 0.3791 - binary_accuracy: 0.8267 - val_loss: 0.4120 - val_binary_accuracy: 0.7884\n",
      "Epoch 12/50\n",
      "13938/13938 [==============================] - 1s 86us/step - loss: 0.3765 - binary_accuracy: 0.8262 - val_loss: 0.4150 - val_binary_accuracy: 0.7893\n",
      "Epoch 13/50\n",
      "13938/13938 [==============================] - 1s 85us/step - loss: 0.3742 - binary_accuracy: 0.8297 - val_loss: 0.4263 - val_binary_accuracy: 0.7732\n",
      "Epoch 14/50\n",
      "13938/13938 [==============================] - 1s 90us/step - loss: 0.3734 - binary_accuracy: 0.8294 - val_loss: 0.3993 - val_binary_accuracy: 0.7957\n",
      "Epoch 15/50\n",
      "13938/13938 [==============================] - 1s 85us/step - loss: 0.3711 - binary_accuracy: 0.8285 - val_loss: 0.4320 - val_binary_accuracy: 0.7747\n",
      "Epoch 16/50\n",
      "13938/13938 [==============================] - 1s 99us/step - loss: 0.3698 - binary_accuracy: 0.8305 - val_loss: 0.4054 - val_binary_accuracy: 0.7944\n",
      "Epoch 17/50\n",
      "13938/13938 [==============================] - 2s 134us/step - loss: 0.3680 - binary_accuracy: 0.8298 - val_loss: 0.3788 - val_binary_accuracy: 0.8138\n",
      "Epoch 18/50\n",
      "13938/13938 [==============================] - 2s 134us/step - loss: 0.3680 - binary_accuracy: 0.8315 - val_loss: 0.4176 - val_binary_accuracy: 0.7836\n",
      "Epoch 19/50\n",
      "13938/13938 [==============================] - 2s 112us/step - loss: 0.3659 - binary_accuracy: 0.8310 - val_loss: 0.4152 - val_binary_accuracy: 0.7903\n",
      "Epoch 20/50\n",
      "13938/13938 [==============================] - 1s 95us/step - loss: 0.3652 - binary_accuracy: 0.8308 - val_loss: 0.4078 - val_binary_accuracy: 0.7849\n",
      "Epoch 21/50\n",
      "13938/13938 [==============================] - 1s 105us/step - loss: 0.3644 - binary_accuracy: 0.8323 - val_loss: 0.4407 - val_binary_accuracy: 0.7722\n",
      "Epoch 22/50\n",
      "13938/13938 [==============================] - 1s 97us/step - loss: 0.3634 - binary_accuracy: 0.8339 - val_loss: 0.4320 - val_binary_accuracy: 0.7792\n",
      "Epoch 23/50\n",
      "13938/13938 [==============================] - 1s 85us/step - loss: 0.3629 - binary_accuracy: 0.8331 - val_loss: 0.4052 - val_binary_accuracy: 0.7954\n",
      "Epoch 24/50\n",
      "13938/13938 [==============================] - 1s 84us/step - loss: 0.3614 - binary_accuracy: 0.8350 - val_loss: 0.4209 - val_binary_accuracy: 0.7871\n",
      "Epoch 25/50\n",
      "13938/13938 [==============================] - 1s 79us/step - loss: 0.3612 - binary_accuracy: 0.8332 - val_loss: 0.4020 - val_binary_accuracy: 0.8027\n",
      "Epoch 26/50\n",
      "13938/13938 [==============================] - 1s 85us/step - loss: 0.3605 - binary_accuracy: 0.8344 - val_loss: 0.4014 - val_binary_accuracy: 0.8036\n",
      "Epoch 27/50\n",
      "13938/13938 [==============================] - 1s 84us/step - loss: 0.3600 - binary_accuracy: 0.8333 - val_loss: 0.4093 - val_binary_accuracy: 0.7871\n",
      "Epoch 28/50\n",
      "13938/13938 [==============================] - 1s 102us/step - loss: 0.3583 - binary_accuracy: 0.8370 - val_loss: 0.3744 - val_binary_accuracy: 0.8154\n",
      "Epoch 29/50\n",
      "13938/13938 [==============================] - 1s 81us/step - loss: 0.3588 - binary_accuracy: 0.8347 - val_loss: 0.4080 - val_binary_accuracy: 0.7944\n",
      "Epoch 30/50\n",
      "13938/13938 [==============================] - 2s 111us/step - loss: 0.3576 - binary_accuracy: 0.8351 - val_loss: 0.4209 - val_binary_accuracy: 0.7833\n",
      "Epoch 31/50\n",
      "13938/13938 [==============================] - 2s 114us/step - loss: 0.3565 - binary_accuracy: 0.8381 - val_loss: 0.4236 - val_binary_accuracy: 0.7865\n",
      "Epoch 32/50\n",
      "13938/13938 [==============================] - 2s 134us/step - loss: 0.3564 - binary_accuracy: 0.8351 - val_loss: 0.3892 - val_binary_accuracy: 0.8135\n",
      "Epoch 33/50\n",
      "13938/13938 [==============================] - 1s 85us/step - loss: 0.3563 - binary_accuracy: 0.8364 - val_loss: 0.3966 - val_binary_accuracy: 0.7985\n",
      "Epoch 34/50\n",
      "13938/13938 [==============================] - 1s 82us/step - loss: 0.3558 - binary_accuracy: 0.8366 - val_loss: 0.4261 - val_binary_accuracy: 0.7855\n",
      "Epoch 35/50\n",
      "13938/13938 [==============================] - 1s 81us/step - loss: 0.3549 - binary_accuracy: 0.8367 - val_loss: 0.3851 - val_binary_accuracy: 0.8065\n",
      "Epoch 36/50\n",
      "13938/13938 [==============================] - 1s 88us/step - loss: 0.3545 - binary_accuracy: 0.8367 - val_loss: 0.4244 - val_binary_accuracy: 0.7859\n",
      "Epoch 37/50\n",
      "13938/13938 [==============================] - 1s 82us/step - loss: 0.3537 - binary_accuracy: 0.8362 - val_loss: 0.4259 - val_binary_accuracy: 0.7871\n",
      "Epoch 38/50\n",
      "13938/13938 [==============================] - 1s 82us/step - loss: 0.3539 - binary_accuracy: 0.8393 - val_loss: 0.3912 - val_binary_accuracy: 0.8090\n",
      "Epoch 39/50\n",
      "13938/13938 [==============================] - 1s 82us/step - loss: 0.3534 - binary_accuracy: 0.8371 - val_loss: 0.4065 - val_binary_accuracy: 0.7992\n",
      "Epoch 40/50\n",
      "13938/13938 [==============================] - 1s 82us/step - loss: 0.3531 - binary_accuracy: 0.8378 - val_loss: 0.4034 - val_binary_accuracy: 0.7951\n",
      "Epoch 41/50\n",
      "13938/13938 [==============================] - 1s 84us/step - loss: 0.3516 - binary_accuracy: 0.8392 - val_loss: 0.4384 - val_binary_accuracy: 0.7795\n",
      "Epoch 42/50\n",
      "13938/13938 [==============================] - 1s 83us/step - loss: 0.3523 - binary_accuracy: 0.8394 - val_loss: 0.4016 - val_binary_accuracy: 0.7954\n",
      "Epoch 43/50\n",
      "13938/13938 [==============================] - 1s 82us/step - loss: 0.3521 - binary_accuracy: 0.8402 - val_loss: 0.4129 - val_binary_accuracy: 0.7922\n",
      "Epoch 44/50\n",
      "13938/13938 [==============================] - 1s 82us/step - loss: 0.3509 - binary_accuracy: 0.8378 - val_loss: 0.3753 - val_binary_accuracy: 0.8135\n",
      "Epoch 45/50\n",
      "13938/13938 [==============================] - 1s 82us/step - loss: 0.3510 - binary_accuracy: 0.8377 - val_loss: 0.4736 - val_binary_accuracy: 0.7525\n",
      "Epoch 46/50\n",
      "13938/13938 [==============================] - 1s 81us/step - loss: 0.3513 - binary_accuracy: 0.8381 - val_loss: 0.4305 - val_binary_accuracy: 0.7874\n",
      "Epoch 47/50\n",
      "13938/13938 [==============================] - 1s 81us/step - loss: 0.3502 - binary_accuracy: 0.8418 - val_loss: 0.4295 - val_binary_accuracy: 0.7700\n",
      "Epoch 48/50\n",
      "13938/13938 [==============================] - 1s 82us/step - loss: 0.3503 - binary_accuracy: 0.8397 - val_loss: 0.4384 - val_binary_accuracy: 0.7741\n",
      "Epoch 49/50\n",
      "13938/13938 [==============================] - 1s 86us/step - loss: 0.3494 - binary_accuracy: 0.8386 - val_loss: 0.4399 - val_binary_accuracy: 0.7732\n",
      "Epoch 50/50\n",
      "13938/13938 [==============================] - 1s 82us/step - loss: 0.3492 - binary_accuracy: 0.8411 - val_loss: 0.4273 - val_binary_accuracy: 0.7792\n"
     ]
    }
   ],
   "source": [
    "history = model.fit(X_train, y_train,\n",
    "                   validation_data = (X_test, y_test),\n",
    "                   epochs = 50, \n",
    "                   batch_size = None, \n",
    "                   verbose = 1)"
   ]
  },
  {
   "cell_type": "code",
   "execution_count": 158,
   "metadata": {},
   "outputs": [
    {
     "data": {
      "text/plain": [
       "[<matplotlib.lines.Line2D at 0x25ffb24c5c0>]"
      ]
     },
     "execution_count": 158,
     "metadata": {},
     "output_type": "execute_result"
    },
    {
     "data": {
      "image/png": "[encoded data removed]",
      "text/plain": [
       "<matplotlib.figure.Figure at 0x25ffb258320>"
      ]
     },
     "metadata": {},
     "output_type": "display_data"
    }
   ],
   "source": [
    "#plotting accuracy over epochs\n",
    "plt.plot(history.history['val_binary_accuracy'])"
   ]
  },
  {
   "cell_type": "code",
   "execution_count": 159,
   "metadata": {},
   "outputs": [
    {
     "data": {
      "image/png": "[encoded data removed]",
      "text/plain": [
       "<matplotlib.figure.Figure at 0x25ffb1e6278>"
      ]
     },
     "metadata": {},
     "output_type": "display_data"
    }
   ],
   "source": [
    "train_loss = history.history['loss']\n",
    "test_loss = history.history['val_loss']\n",
    "\n",
    "plt.plot(train_loss, label = 'Train loss')\n",
    "plt.plot(test_loss, label = 'Test loss')\n",
    "plt.legend();"
   ]
  },
  {
   "cell_type": "code",
   "execution_count": 160,
   "metadata": {},
   "outputs": [
    {
     "data": {
      "text/plain": [
       "0.05266497461928934"
      ]
     },
     "execution_count": 160,
     "metadata": {},
     "output_type": "execute_result"
    }
   ],
   "source": [
    "# as predicted from total data set only around 5% of all samples test positive for WnV\n",
    "# preliminarily it appears that from upsampling the wnv cases to get a 50/50 test split\n",
    "# for our neural network we are achieving around 88% accuracy against the test set\n",
    "# compared to our baseline of 95% we would be better off guessing that all do not have WnV\n",
    "(y_test.sum()/y_test.shape)[0]"
   ]
  },
  {
   "cell_type": "code",
   "execution_count": 162,
   "metadata": {},
   "outputs": [],
   "source": [
    "#need to implement a confusion matrix in order to score this appropriately, will never beat 95%\n",
    "#get keras predictions to make a roc curve/get that roc auc\n",
    "fpr, tpr, _ = roc_curve(y_test, model.predict(X_test))\n",
    "\n",
    "#calculate AUC\n",
    "roc_auc = auc(fpr, tpr)\n",
    "#print a confusion matrix\n",
    "#confusion_matrix(np.array(y_test), model.predict(X_test))"
   ]
  },
  {
   "cell_type": "code",
   "execution_count": 163,
   "metadata": {},
   "outputs": [
    {
     "data": {
      "image/png": "[encoded data removed]",
      "text/plain": [
       "<matplotlib.figure.Figure at 0x25ffb2fa2e8>"
      ]
     },
     "metadata": {},
     "output_type": "display_data"
    }
   ],
   "source": [
    "#plot of a ROC curve for a specific class\n",
    "plt.figure()\n",
    "plt.plot(fpr, tpr, label='ROC curve (area = %0.2f)' % roc_auc, color = 'blue')\n",
    "plt.plot([0, 1], [0,1], 'k--')\n",
    "plt.xlim([0.0, 1.0])\n",
    "plt.ylim([0.0, 1.05])\n",
    "plt.xlabel('False Positive Rate')\n",
    "plt.ylabel('True Positive Rate')\n",
    "plt.title('Reciever Operating Characteristic (ROC) Curve')\n",
    "plt.legend(loc=\"lower right\")\n",
    "plt.show()"
   ]
  },
  {
   "cell_type": "markdown",
   "metadata": {},
   "source": [
    "#### B. CART/Decision Trees"
   ]
  },
  {
   "cell_type": "code",
   "execution_count": 173,
   "metadata": {},
   "outputs": [],
   "source": [
    "from sklearn.model_selection import cross_val_score, StratifiedKFold\n",
    "from sklearn.model_selection import GridSearchCV\n",
    "\n",
    "from sklearn.tree import DecisionTreeClassifier\n",
    "from sklearn.ensemble import RandomForestClassifier, ExtraTreesClassifier, BaggingClassifier\n",
    "from sklearn.ensemble import AdaBoostClassifier, GradientBoostingClassifier"
   ]
  },
  {
   "cell_type": "code",
   "execution_count": 166,
   "metadata": {},
   "outputs": [],
   "source": [
    "#setting up stratified kfold\n",
    "cv = StratifiedKFold(n_splits = 5, shuffle = True, random_state = 42)"
   ]
  },
  {
   "cell_type": "markdown",
   "metadata": {},
   "source": [
    "##### Decision Tree"
   ]
  },
  {
   "cell_type": "code",
   "execution_count": 167,
   "metadata": {},
   "outputs": [
    {
     "ename": "TypeError",
     "evalue": "__init__() missing 1 required positional argument: 'param_grid'",
     "output_type": "error",
     "traceback": [
      "\u001b[1;31m---------------------------------------------------------------------------\u001b[0m",
      "\u001b[1;31mTypeError\u001b[0m                                 Traceback (most recent call last)",
      "\u001b[1;32m<timed exec>\u001b[0m in \u001b[0;36m<module>\u001b[1;34m()\u001b[0m\n",
      "\u001b[1;31mTypeError\u001b[0m: __init__() missing 1 required positional argument: 'param_grid'"
     ]
    }
   ],
   "source": [
    "%%time\n",
    "#instantiate the model\n",
    "classifier = DecisionTreeClassifier(criterion='gini',\n",
    "                                    max_depth=None)\n",
    "\n",
    "#set params\n",
    "dtparams = {'max_depth':[],\n",
    "            'min_samples_split':[],\n",
    "            'min_samples_leaf':[],\n",
    "            'min_weight_fraction_leaf':[],\n",
    "            'max_features':[],\n",
    "            'max_leaf_nodes':[]            \n",
    "           }\n",
    "\n",
    "#perform gridsearch\n",
    "dtgs = GridSearchCV(DecisionTreeClassifier(),\n",
    "                   dtparams,\n",
    "                   verbose = 1,\n",
    "                   cv = cv,\n",
    "                   n_jobs = -1)\n",
    "\n",
    "dtgs.fit(X_train, y_train)"
   ]
  },
  {
   "cell_type": "code",
   "execution_count": 168,
   "metadata": {},
   "outputs": [
    {
     "data": {
      "text/plain": [
       "DecisionTreeClassifier(class_weight=None, criterion='gini', max_depth=None,\n",
       "            max_features=None, max_leaf_nodes=None,\n",
       "            min_impurity_decrease=0.0, min_impurity_split=None,\n",
       "            min_samples_leaf=1, min_samples_split=2,\n",
       "            min_weight_fraction_leaf=0.0, presort=False, random_state=None,\n",
       "            splitter='best')"
      ]
     },
     "execution_count": 168,
     "metadata": {},
     "output_type": "execute_result"
    }
   ],
   "source": [
    "dt = DecisionTreeClassifier()\n",
    "dt.fit(X_train, y_train)"
   ]
  },
  {
   "cell_type": "code",
   "execution_count": 169,
   "metadata": {},
   "outputs": [
    {
     "data": {
      "text/plain": [
       "0.8581852791878173"
      ]
     },
     "execution_count": 169,
     "metadata": {},
     "output_type": "execute_result"
    }
   ],
   "source": [
    "dt.score(X_test, y_test)"
   ]
  },
  {
   "cell_type": "markdown",
   "metadata": {},
   "source": [
    "##### Bagging Classifier Model"
   ]
  },
  {
   "cell_type": "code",
   "execution_count": 170,
   "metadata": {},
   "outputs": [
    {
     "data": {
      "text/plain": [
       "0.8477157360406091"
      ]
     },
     "execution_count": 170,
     "metadata": {},
     "output_type": "execute_result"
    }
   ],
   "source": [
    "bg = BaggingClassifier()\n",
    "bg.fit(X_train, y_train)\n",
    "bg.score(X_test, y_test)"
   ]
  },
  {
   "cell_type": "markdown",
   "metadata": {},
   "source": [
    "##### Random Forest Classifier Model"
   ]
  },
  {
   "cell_type": "code",
   "execution_count": 171,
   "metadata": {},
   "outputs": [
    {
     "data": {
      "text/plain": [
       "0.8546954314720813"
      ]
     },
     "execution_count": 171,
     "metadata": {},
     "output_type": "execute_result"
    }
   ],
   "source": [
    "rf = RandomForestClassifier()\n",
    "rf.fit(X_train, y_train)\n",
    "rf.score(X_test, y_test)"
   ]
  },
  {
   "cell_type": "markdown",
   "metadata": {},
   "source": [
    "##### Extra Trees Classifier Model"
   ]
  },
  {
   "cell_type": "code",
   "execution_count": 172,
   "metadata": {},
   "outputs": [
    {
     "data": {
      "text/plain": [
       "0.8588197969543148"
      ]
     },
     "execution_count": 172,
     "metadata": {},
     "output_type": "execute_result"
    }
   ],
   "source": [
    "et = ExtraTreesClassifier()\n",
    "et.fit(X_train, y_train)\n",
    "et.score(X_test, y_test)"
   ]
  },
  {
   "cell_type": "markdown",
   "metadata": {},
   "source": [
    "##### AdaBoost Model"
   ]
  },
  {
   "cell_type": "code",
   "execution_count": 175,
   "metadata": {},
   "outputs": [
    {
     "data": {
      "text/plain": [
       "0.763007614213198"
      ]
     },
     "execution_count": 175,
     "metadata": {},
     "output_type": "execute_result"
    }
   ],
   "source": [
    "ab = AdaBoostClassifier()\n",
    "ab.fit(X_train, y_train)\n",
    "ab.score(X_test, y_test)"
   ]
  },
  {
   "cell_type": "markdown",
   "metadata": {},
   "source": [
    "##### Gradient Boosting Model"
   ]
  },
  {
   "cell_type": "code",
   "execution_count": 174,
   "metadata": {},
   "outputs": [
    {
     "data": {
      "text/plain": [
       "0.7703045685279187"
      ]
     },
     "execution_count": 174,
     "metadata": {},
     "output_type": "execute_result"
    }
   ],
   "source": [
    "grb = GradientBoostingClassifier()\n",
    "grb.fit(X_train, y_train)\n",
    "grb.score(X_test, y_test)"
   ]
  },
  {
   "cell_type": "markdown",
   "metadata": {},
   "source": [
    "##### XGBoost Model"
   ]
  },
  {
   "cell_type": "code",
   "execution_count": null,
   "metadata": {},
   "outputs": [],
   "source": []
  }
 ],
 "metadata": {
  "kernelspec": {
   "display_name": "Python 3",
   "language": "python",
   "name": "python3"
  },
  "language_info": {
   "codemirror_mode": {
    "name": "ipython",
    "version": 3
   },
   "file_extension": ".py",
   "mimetype": "text/x-python",
   "name": "python",
   "nbconvert_exporter": "python",
   "pygments_lexer": "ipython3",
   "version": "3.5.4"
  }
 },
 "nbformat": 4,
 "nbformat_minor": 2
}
