{
 "cells": [
  {
   "cell_type": "markdown",
   "metadata": {},
   "source": [
    "# West Nile Virus Prediction"
   ]
  },
  {
   "cell_type": "markdown",
   "metadata": {},
   "source": [
    "### 1. Import Data and Libraries"
   ]
  },
  {
   "cell_type": "code",
   "execution_count": 1,
   "metadata": {},
   "outputs": [],
   "source": [
    "import pandas as pd\n",
    "import matplotlib.pyplot as plt\n",
    "import seaborn as sns\n",
    "\n",
    "from math import radians, sin, cos, asin, sqrt\n",
    "from sklearn.metrics import confusion_matrix, roc_curve, auc\n",
    "\n",
    "%matplotlib inline"
   ]
  },
  {
   "cell_type": "code",
   "execution_count": 2,
   "metadata": {
    "scrolled": true
   },
   "outputs": [],
   "source": [
    "spray = pd.read_csv('./west_nile/west_nile/input/spray.csv')\n",
    "weather = pd.read_csv('./west_nile/west_nile/input/weather.csv')\n",
    "train = pd.read_csv('./west_nile/west_nile/input/train.csv')\n",
    "ss = pd.read_csv('./west_nile/west_nile/input/SampleSubmission.csv')"
   ]
  },
  {
   "cell_type": "code",
   "execution_count": 3,
   "metadata": {},
   "outputs": [],
   "source": [
    "#use to assign weather data to traps based on distance from weather station to trap\n",
    "\n",
    "def haversine(lat1, lon1, lat2, lon2):\n",
    "    '''Calculates the distance between two lat-long points.'''\n",
    "    \n",
    "    R = 3959.87433 # this is in miles.  For Earth radius in kilometers use 6372.8 km\n",
    "\n",
    "    dLat = radians(lat2 - lat1)\n",
    "    dLon = radians(lon2 - lon1)\n",
    "    lat1 = radians(lat1)\n",
    "    lat2 = radians(lat2)\n",
    "\n",
    "    a = sin(dLat/2)**2 + cos(lat1)*cos(lat2)*sin(dLon/2)**2\n",
    "    c = 2*asin(sqrt(a))\n",
    "\n",
    "    return R * c"
   ]
  },
  {
   "cell_type": "markdown",
   "metadata": {},
   "source": [
    "### 2. Perform EDA /Format /Clean Data"
   ]
  },
  {
   "cell_type": "code",
   "execution_count": 4,
   "metadata": {},
   "outputs": [],
   "source": [
    "def quick_EDA(df):\n",
    "    #Input a dataframe, Returns: shape of data, number of nulls\n",
    "    nulls = df.isnull().sum().sum()\n",
    "    \n",
    "    print('Rows:', df.shape[0], 'Columns:', df.shape[1])\n",
    "    print('Total NaNs:', nulls)"
   ]
  },
  {
   "cell_type": "code",
   "execution_count": 5,
   "metadata": {},
   "outputs": [
    {
     "name": "stdout",
     "output_type": "stream",
     "text": [
      "Rows: 10506 Columns: 12\n",
      "Total NaNs: 0\n"
     ]
    }
   ],
   "source": [
    "quick_EDA(train)"
   ]
  },
  {
   "cell_type": "code",
   "execution_count": 6,
   "metadata": {},
   "outputs": [
    {
     "name": "stdout",
     "output_type": "stream",
     "text": [
      "Rows: 14835 Columns: 4\n",
      "Total NaNs: 584\n"
     ]
    }
   ],
   "source": [
    "quick_EDA(spray)"
   ]
  },
  {
   "cell_type": "code",
   "execution_count": 7,
   "metadata": {},
   "outputs": [
    {
     "name": "stdout",
     "output_type": "stream",
     "text": [
      "Rows: 2944 Columns: 22\n",
      "Total NaNs: 0\n"
     ]
    }
   ],
   "source": [
    "quick_EDA(weather)"
   ]
  },
  {
   "cell_type": "code",
   "execution_count": 8,
   "metadata": {},
   "outputs": [],
   "source": [
    "#Converting train columns to datetime format\n",
    "train['Date'] = pd.to_datetime(train['Date'])"
   ]
  },
  {
   "cell_type": "code",
   "execution_count": 9,
   "metadata": {},
   "outputs": [],
   "source": [
    "#converting spray columns to date time and making date/time columns\n",
    "spray['Date'] = pd.to_datetime(spray['Date'])\n",
    "spray['am_pm'] = spray['Time'].apply(lambda x: str(x).split()[-1])\n",
    "spray['Time'] = spray['Time'].apply(lambda x: str(x).split()[0])\n",
    "spray['Time'] = pd.to_datetime(spray['Time'], format = '%H:%M:%S')"
   ]
  },
  {
   "cell_type": "code",
   "execution_count": 10,
   "metadata": {},
   "outputs": [],
   "source": [
    "#converting Weather columns to datetime\n",
    "weather['Date'] = pd.to_datetime(weather['Date'])"
   ]
  },
  {
   "cell_type": "code",
   "execution_count": 11,
   "metadata": {},
   "outputs": [
    {
     "name": "stdout",
     "output_type": "stream",
     "text": [
      "Traps tested > 1/day: 0\n"
     ]
    }
   ],
   "source": [
    "#testing to see if any traps are ever tested more than once on the same day\n",
    "    # none are, this will allow us to determine the number of mosquitos in traps where there are more than 50\n",
    "    # because we can now combine rows on Trap Id and Date to get total no. mosquitos tested\n",
    "datetrap = train[['Date', 'Trap']]\n",
    "y = datetrap.merge(pd.get_dummies(train['Trap']), how = 'left', right_index = True, left_index = True)\n",
    "\n",
    "datetrapcols = y.shape[1]\n",
    "datetraprows = y.shape[0]\n",
    "errors = 0\n",
    "\n",
    "for i in range(datetraprows):\n",
    "    for g in range(2,datetrapcols):\n",
    "        if y.iloc[i,g] > 1:\n",
    "            errors += 1\n",
    "print('Traps tested > 1/day:', errors)"
   ]
  },
  {
   "cell_type": "code",
   "execution_count": 12,
   "metadata": {},
   "outputs": [
    {
     "data": {
      "image/png": "[encoded data removed]",
      "text/plain": [
       "<matplotlib.figure.Figure at 0x22139570d68>"
      ]
     },
     "metadata": {},
     "output_type": "display_data"
    }
   ],
   "source": [
    "#plotted mosquitos by trap by date\n",
    "train[['Date', 'Trap', 'NumMosquitos']].groupby(by = ['Date','Trap'])['Date','Trap','NumMosquitos'] \\\n",
    "    .sum().reset_index().sort_values('NumMosquitos', ascending = False).set_index('Date').plot(style = '.')\n",
    "    \n",
    "plt.title('Mosquitos by Trap over Time');"
   ]
  },
  {
   "cell_type": "code",
   "execution_count": 13,
   "metadata": {},
   "outputs": [
    {
     "data": {
      "image/png": "[encoded data removed]",
      "text/plain": [
       "<matplotlib.figure.Figure at 0x2213f5e5860>"
      ]
     },
     "metadata": {},
     "output_type": "display_data"
    }
   ],
   "source": [
    "#plotted WNV incidents by trap\n",
    "train[['Date', 'Trap','WnvPresent']].groupby(by = ['Date','Trap'])['Date','Trap','WnvPresent'] \\\n",
    "    .sum().reset_index().sort_values('WnvPresent', ascending = False).set_index('Date').plot(color = 'green', style = '.')\n",
    "    \n",
    "plt.title('Positive WnV Cases by Trap over Time');"
   ]
  },
  {
   "cell_type": "markdown",
   "metadata": {},
   "source": [
    "### 3. Feature Engineering"
   ]
  },
  {
   "cell_type": "markdown",
   "metadata": {},
   "source": [
    "##### Pair weather data with trap locations"
   ]
  },
  {
   "cell_type": "code",
   "execution_count": 14,
   "metadata": {},
   "outputs": [
    {
     "data": {
      "text/plain": [
       "\"stat1lat = 41.995\\nstat1long = -87.933\\nstat2lat = 41.786\\nstat2long = -87.752 \\n\\ntrain['Station'] = 1\\n\\nfor i in range(train.shape[0]):\\n    if haversine(stat1lat, stat1long, train.loc[i, 'Latitude'], train.loc[i, 'Longitude']) > haversine(stat2lat, stat2long, train.loc[i, 'Latitude'], train.loc[i, 'Longitude']):\\n        train.loc[i,'Station'] = 2\""
      ]
     },
     "execution_count": 14,
     "metadata": {},
     "output_type": "execute_result"
    }
   ],
   "source": [
    "#assign weather station to trap based on location\n",
    "\n",
    "'''stat1lat = 41.995\n",
    "stat1long = -87.933\n",
    "stat2lat = 41.786\n",
    "stat2long = -87.752 \n",
    "\n",
    "train['Station'] = 1\n",
    "\n",
    "for i in range(train.shape[0]):\n",
    "    if haversine(stat1lat, stat1long, train.loc[i, 'Latitude'], train.loc[i, 'Longitude']) > haversine(stat2lat, stat2long, train.loc[i, 'Latitude'], train.loc[i, 'Longitude']):\n",
    "        train.loc[i,'Station'] = 2'''"
   ]
  },
  {
   "cell_type": "code",
   "execution_count": 15,
   "metadata": {},
   "outputs": [],
   "source": [
    "#train = train.merge(weather, how = 'left', on = ['Date','Station'])"
   ]
  },
  {
   "cell_type": "code",
   "execution_count": 16,
   "metadata": {},
   "outputs": [],
   "source": [
    "# dropping columns from weather data that are not needed"
   ]
  },
  {
   "cell_type": "markdown",
   "metadata": {},
   "source": [
    "##### Split out Parent Traps and Child Traps"
   ]
  },
  {
   "cell_type": "code",
   "execution_count": 15,
   "metadata": {},
   "outputs": [],
   "source": [
    "#Create columns to show parent trap and child traps\n",
    "train['Parent_Trap'] = train['Trap'].apply(lambda x: x[:4])\n",
    "train['Child_Trap'] = train['Trap'].apply(lambda x: x[4:])"
   ]
  },
  {
   "cell_type": "code",
   "execution_count": 16,
   "metadata": {},
   "outputs": [
    {
     "data": {
      "text/html": [
       "<div>\n",
       "<style scoped>\n",
       "    .dataframe tbody tr th:only-of-type {\n",
       "        vertical-align: middle;\n",
       "    }\n",
       "\n",
       "    .dataframe tbody tr th {\n",
       "        vertical-align: top;\n",
       "    }\n",
       "\n",
       "    .dataframe thead th {\n",
       "        text-align: right;\n",
       "    }\n",
       "</style>\n",
       "<table border=\"1\" class=\"dataframe\">\n",
       "  <thead>\n",
       "    <tr style=\"text-align: right;\">\n",
       "      <th></th>\n",
       "      <th>Parent_Trap</th>\n",
       "      <th>Child_Trap</th>\n",
       "    </tr>\n",
       "  </thead>\n",
       "  <tbody>\n",
       "    <tr>\n",
       "      <th>0</th>\n",
       "      <td>T094</td>\n",
       "      <td>2</td>\n",
       "    </tr>\n",
       "    <tr>\n",
       "      <th>1</th>\n",
       "      <td>T054</td>\n",
       "      <td>2</td>\n",
       "    </tr>\n",
       "    <tr>\n",
       "      <th>2</th>\n",
       "      <td>T001</td>\n",
       "      <td>1</td>\n",
       "    </tr>\n",
       "    <tr>\n",
       "      <th>3</th>\n",
       "      <td>T148</td>\n",
       "      <td>1</td>\n",
       "    </tr>\n",
       "    <tr>\n",
       "      <th>4</th>\n",
       "      <td>T143</td>\n",
       "      <td>1</td>\n",
       "    </tr>\n",
       "  </tbody>\n",
       "</table>\n",
       "</div>"
      ],
      "text/plain": [
       "  Parent_Trap  Child_Trap\n",
       "0        T094           2\n",
       "1        T054           2\n",
       "2        T001           1\n",
       "3        T148           1\n",
       "4        T143           1"
      ]
     },
     "execution_count": 16,
     "metadata": {},
     "output_type": "execute_result"
    }
   ],
   "source": [
    "#show number of child traps to each parent trap\n",
    "#need to de-duplicate list of traps initally to accomplish this\n",
    "train[['Parent_Trap', 'Child_Trap']].drop_duplicates().groupby(by = 'Parent_Trap')['Child_Trap'].count().reset_index(). \\\n",
    "    sort_values(by = 'Child_Trap',ascending = False).reset_index(drop = True).head()"
   ]
  },
  {
   "cell_type": "markdown",
   "metadata": {},
   "source": [
    "##### Get Dummies for mosquito species"
   ]
  },
  {
   "cell_type": "code",
   "execution_count": 17,
   "metadata": {},
   "outputs": [],
   "source": [
    "#split out dual mosquote species lines into separate columns\n",
    "train['Species'] = train['Species'].apply(lambda x: x.split('/'))\n",
    "\n",
    "train['Species1'] = train['Species'].apply(lambda x: 'CULEX ' + x[1] if len(x) == 2 else 'NaN')\n",
    "train['Species0'] = train['Species'].apply(lambda x: x[0])"
   ]
  },
  {
   "cell_type": "code",
   "execution_count": 18,
   "metadata": {},
   "outputs": [],
   "source": [
    "#make dummies for mosquito species\n",
    "train = pd.get_dummies(train, prefix = 'Species', columns = ['Species0'])\n"
   ]
  },
  {
   "cell_type": "code",
   "execution_count": 19,
   "metadata": {},
   "outputs": [],
   "source": [
    "#add in the RESTUANS species from the split column\n",
    "for i in range(train.shape[0]):\n",
    "    if train.loc[i, 'Species1'] == 'CULEX RESTUANS':\n",
    "        train.loc[i,'Species_CULEX RESTUANS'] = 1"
   ]
  },
  {
   "cell_type": "code",
   "execution_count": 20,
   "metadata": {},
   "outputs": [],
   "source": [
    "#drop the species column\n",
    "train.drop(columns = ['Species','Species1'], inplace = True)"
   ]
  },
  {
   "cell_type": "markdown",
   "metadata": {},
   "source": [
    "##### Get Dummies for Other Variables"
   ]
  },
  {
   "cell_type": "code",
   "execution_count": 21,
   "metadata": {},
   "outputs": [],
   "source": [
    "dummy_train = pd.get_dummies(train, columns = ['Trap', 'Block', 'Street'])\n",
    "\n",
    "train.drop(columns = ['Trap', 'Block', 'Street'], inplace = True)"
   ]
  },
  {
   "cell_type": "markdown",
   "metadata": {},
   "source": [
    "##### Get Dummies for Time (Week, Month, Year)"
   ]
  },
  {
   "cell_type": "code",
   "execution_count": 22,
   "metadata": {},
   "outputs": [],
   "source": [
    "#breaking week, month, and year into separate columns\n",
    "train['Week'] = train['Date'].dt.week\n",
    "train['Month'] = train['Date'].dt.month\n",
    "train['Year'] = train['Date'].dt.year\n",
    "\n",
    "#drop date column\n",
    "train.drop(columns = 'Date', inplace = True)\n",
    "\n",
    "#get dummies\n",
    "train = pd.get_dummies(train, columns = ['Week', 'Month', 'Year'])"
   ]
  },
  {
   "cell_type": "markdown",
   "metadata": {},
   "source": [
    "##### Drop Misc. Columns"
   ]
  },
  {
   "cell_type": "code",
   "execution_count": 23,
   "metadata": {},
   "outputs": [],
   "source": [
    "train.drop(columns = ['Address', 'AddressNumberAndStreet', 'Latitude', \\\n",
    "                      'Longitude', 'AddressAccuracy', 'Parent_Trap', 'Child_Trap'], inplace = True)"
   ]
  },
  {
   "cell_type": "markdown",
   "metadata": {},
   "source": [
    "### 4. Modeling"
   ]
  },
  {
   "cell_type": "code",
   "execution_count": 24,
   "metadata": {},
   "outputs": [
    {
     "name": "stderr",
     "output_type": "stream",
     "text": [
      "C:\\Users\\peckr\\AppData\\Local\\conda\\conda\\envs\\ga\\lib\\site-packages\\h5py\\__init__.py:36: FutureWarning: Conversion of the second argument of issubdtype from `float` to `np.floating` is deprecated. In future, it will be treated as `np.float64 == np.dtype(float).type`.\n",
      "  from ._conv import register_converters as _register_converters\n",
      "Using TensorFlow backend.\n",
      "Couldn't import dot_parser, loading of dot files will not be possible.\n"
     ]
    }
   ],
   "source": [
    "import matplotlib.pyplot as plt\n",
    "import numpy as np\n",
    "\n",
    "from sklearn.model_selection import train_test_split\n",
    "from sklearn.preprocessing import StandardScaler\n",
    "from sklearn.utils import resample\n",
    "\n",
    "from keras.models import Sequential\n",
    "from keras.layers import Dense"
   ]
  },
  {
   "cell_type": "markdown",
   "metadata": {},
   "source": [
    "##### Resampling Data for Classification Models"
   ]
  },
  {
   "cell_type": "code",
   "execution_count": 106,
   "metadata": {},
   "outputs": [
    {
     "data": {
      "text/plain": [
       "'0.94755'"
      ]
     },
     "execution_count": 106,
     "metadata": {},
     "output_type": "execute_result"
    }
   ],
   "source": [
    "#this is the baseline accuracy to beat for classification models\n",
    "#if we selected \"WnV is not present for all samples\" we would be correct ~95% of the time\n",
    "format(1 - train['WnvPresent'].sum()/train.shape[0], '.5f')"
   ]
  },
  {
   "cell_type": "code",
   "execution_count": 25,
   "metadata": {},
   "outputs": [],
   "source": [
    "#have to convert to numpy array for keras/tensorflow/classification\n",
    "X = train.drop(columns = 'WnvPresent')\n",
    "y = train['WnvPresent']"
   ]
  },
  {
   "cell_type": "code",
   "execution_count": 26,
   "metadata": {},
   "outputs": [],
   "source": [
    "#prep data to enter models\n",
    "X_train, X_test, y_train, y_test = train_test_split(X, y, test_size = 0.3, random_state = 42)"
   ]
  },
  {
   "cell_type": "code",
   "execution_count": 30,
   "metadata": {},
   "outputs": [],
   "source": [
    "#rejoin train data on index so it can be downsampled to match classes\n",
    "traindata = X_train.merge(pd.DataFrame(y_train), how = 'left', right_index = True, left_index = True)\n",
    "\n",
    "#separate minority and majority classes\n",
    "train_majority = traindata[traindata['WnvPresent'] == 0]\n",
    "train_minority = traindata[traindata['WnvPresent'] == 1]\n",
    "\n",
    "#upsample minority class\n",
    "train_minority_upsampled = resample(train_minority, \n",
    "                                     replace = True, \n",
    "                                     n_samples = train_majority.shape[0],\n",
    "                                     random_state = 65)\n",
    "#combine classes\n",
    "train_data_upsampled = pd.concat([train_majority, train_minority_upsampled])\n",
    "#split back into X_train and y_train\n",
    "X_train = train_data_upsampled.drop(columns = 'WnvPresent')\n",
    "y_train = train_data_upsampled['WnvPresent']"
   ]
  },
  {
   "cell_type": "markdown",
   "metadata": {},
   "source": [
    "#### A. Neural Network"
   ]
  },
  {
   "cell_type": "code",
   "execution_count": 27,
   "metadata": {},
   "outputs": [],
   "source": [
    "#standardizing data to normalize with a mean of 0 and a stdDev of 1\n",
    "ss = StandardScaler()\n",
    "X_train = ss.fit_transform(X_train)\n",
    "X_test = ss.transform(X_test)"
   ]
  },
  {
   "cell_type": "code",
   "execution_count": 28,
   "metadata": {},
   "outputs": [],
   "source": [
    "#create model\n",
    "model = Sequential()"
   ]
  },
  {
   "cell_type": "code",
   "execution_count": 29,
   "metadata": {},
   "outputs": [],
   "source": [
    "#network topolgy\n",
    "input_units = X_train.shape[1]\n",
    "hidden_units = round(input_units)\n",
    "\n",
    "model.add(Dense(hidden_units, \n",
    "                input_dim = input_units, \n",
    "                activation = 'relu'))\n",
    "\n",
    "model.add(Dense(1, activation = 'sigmoid'))"
   ]
  },
  {
   "cell_type": "code",
   "execution_count": 30,
   "metadata": {},
   "outputs": [
    {
     "name": "stdout",
     "output_type": "stream",
     "text": [
      "WARNING:tensorflow:From C:\\Users\\peckr\\AppData\\Local\\conda\\conda\\envs\\ga\\lib\\site-packages\\keras\\backend\\tensorflow_backend.py:1340: calling reduce_mean (from tensorflow.python.ops.math_ops) with keep_dims is deprecated and will be removed in a future version.\n",
      "Instructions for updating:\n",
      "keep_dims is deprecated, use keepdims instead\n"
     ]
    }
   ],
   "source": [
    "model.compile(loss = 'binary_crossentropy',\n",
    "              optimizer = 'adam',\n",
    "              metrics = ['binary_accuracy'])"
   ]
  },
  {
   "cell_type": "code",
   "execution_count": 31,
   "metadata": {},
   "outputs": [
    {
     "name": "stdout",
     "output_type": "stream",
     "text": [
      "Train on 7354 samples, validate on 3152 samples\n",
      "Epoch 1/50\n",
      "7354/7354 [==============================] - 1s 141us/step - loss: 0.2754 - binary_accuracy: 0.9134 - val_loss: 0.1763 - val_binary_accuracy: 0.9473\n",
      "Epoch 2/50\n",
      "7354/7354 [==============================] - 1s 86us/step - loss: 0.1650 - binary_accuracy: 0.9476 - val_loss: 0.1644 - val_binary_accuracy: 0.9473\n",
      "Epoch 3/50\n",
      "7354/7354 [==============================] - 1s 84us/step - loss: 0.1585 - binary_accuracy: 0.9475 - val_loss: 0.1623 - val_binary_accuracy: 0.9477\n",
      "Epoch 4/50\n",
      "7354/7354 [==============================] - 1s 89us/step - loss: 0.1565 - binary_accuracy: 0.9478 - val_loss: 0.1609 - val_binary_accuracy: 0.9470\n",
      "Epoch 5/50\n",
      "7354/7354 [==============================] - 1s 86us/step - loss: 0.1549 - binary_accuracy: 0.9466 - val_loss: 0.1602 - val_binary_accuracy: 0.9464\n",
      "Epoch 6/50\n",
      "7354/7354 [==============================] - 1s 109us/step - loss: 0.1539 - binary_accuracy: 0.9481 - val_loss: 0.1593 - val_binary_accuracy: 0.9467\n",
      "Epoch 7/50\n",
      "7354/7354 [==============================] - 1s 97us/step - loss: 0.1531 - binary_accuracy: 0.9483 - val_loss: 0.1580 - val_binary_accuracy: 0.9470\n",
      "Epoch 8/50\n",
      "7354/7354 [==============================] - 1s 81us/step - loss: 0.1525 - binary_accuracy: 0.9478 - val_loss: 0.1579 - val_binary_accuracy: 0.9467\n",
      "Epoch 9/50\n",
      "7354/7354 [==============================] - 1s 82us/step - loss: 0.1520 - binary_accuracy: 0.9472 - val_loss: 0.1590 - val_binary_accuracy: 0.9467\n",
      "Epoch 10/50\n",
      "7354/7354 [==============================] - 1s 74us/step - loss: 0.1514 - binary_accuracy: 0.9475 - val_loss: 0.1589 - val_binary_accuracy: 0.9467\n",
      "Epoch 11/50\n",
      "7354/7354 [==============================] - 1s 81us/step - loss: 0.1508 - binary_accuracy: 0.9476 - val_loss: 0.1587 - val_binary_accuracy: 0.9470\n",
      "Epoch 12/50\n",
      "7354/7354 [==============================] - 1s 74us/step - loss: 0.1503 - binary_accuracy: 0.9483 - val_loss: 0.1576 - val_binary_accuracy: 0.9467\n",
      "Epoch 13/50\n",
      "7354/7354 [==============================] - 1s 75us/step - loss: 0.1501 - binary_accuracy: 0.9472 - val_loss: 0.1577 - val_binary_accuracy: 0.9470\n",
      "Epoch 14/50\n",
      "7354/7354 [==============================] - 1s 71us/step - loss: 0.1498 - binary_accuracy: 0.9470 - val_loss: 0.1580 - val_binary_accuracy: 0.9467\n",
      "Epoch 15/50\n",
      "7354/7354 [==============================] - 1s 96us/step - loss: 0.1495 - binary_accuracy: 0.9483 - val_loss: 0.1568 - val_binary_accuracy: 0.9464\n",
      "Epoch 16/50\n",
      "7354/7354 [==============================] - 1s 120us/step - loss: 0.1492 - binary_accuracy: 0.9478 - val_loss: 0.1571 - val_binary_accuracy: 0.9448\n",
      "Epoch 17/50\n",
      "7354/7354 [==============================] - 1s 92us/step - loss: 0.1487 - binary_accuracy: 0.9483 - val_loss: 0.1580 - val_binary_accuracy: 0.9470\n",
      "Epoch 18/50\n",
      "7354/7354 [==============================] - 1s 79us/step - loss: 0.1482 - binary_accuracy: 0.9476 - val_loss: 0.1578 - val_binary_accuracy: 0.9454\n",
      "Epoch 19/50\n",
      "7354/7354 [==============================] - 1s 74us/step - loss: 0.1484 - binary_accuracy: 0.9472 - val_loss: 0.1568 - val_binary_accuracy: 0.9467\n",
      "Epoch 20/50\n",
      "7354/7354 [==============================] - 1s 73us/step - loss: 0.1479 - binary_accuracy: 0.9476 - val_loss: 0.1576 - val_binary_accuracy: 0.9467\n",
      "Epoch 21/50\n",
      "7354/7354 [==============================] - 1s 76us/step - loss: 0.1482 - binary_accuracy: 0.9485 - val_loss: 0.1565 - val_binary_accuracy: 0.9467\n",
      "Epoch 22/50\n",
      "7354/7354 [==============================] - 1s 72us/step - loss: 0.1475 - binary_accuracy: 0.9482 - val_loss: 0.1568 - val_binary_accuracy: 0.9461\n",
      "Epoch 23/50\n",
      "7354/7354 [==============================] - 1s 73us/step - loss: 0.1469 - binary_accuracy: 0.9483 - val_loss: 0.1567 - val_binary_accuracy: 0.9457\n",
      "Epoch 24/50\n",
      "7354/7354 [==============================] - 1s 79us/step - loss: 0.1469 - binary_accuracy: 0.9482 - val_loss: 0.1575 - val_binary_accuracy: 0.9464\n",
      "Epoch 25/50\n",
      "7354/7354 [==============================] - 1s 101us/step - loss: 0.1464 - binary_accuracy: 0.9482 - val_loss: 0.1580 - val_binary_accuracy: 0.9464\n",
      "Epoch 26/50\n",
      "7354/7354 [==============================] - 1s 73us/step - loss: 0.1465 - binary_accuracy: 0.9481 - val_loss: 0.1558 - val_binary_accuracy: 0.9451\n",
      "Epoch 27/50\n",
      "7354/7354 [==============================] - 0s 67us/step - loss: 0.1463 - binary_accuracy: 0.9489 - val_loss: 0.1567 - val_binary_accuracy: 0.9457\n",
      "Epoch 28/50\n",
      "7354/7354 [==============================] - 1s 73us/step - loss: 0.1461 - binary_accuracy: 0.9487 - val_loss: 0.1568 - val_binary_accuracy: 0.9461\n",
      "Epoch 29/50\n",
      "7354/7354 [==============================] - 1s 69us/step - loss: 0.1458 - binary_accuracy: 0.9486 - val_loss: 0.1575 - val_binary_accuracy: 0.9461\n",
      "Epoch 30/50\n",
      "7354/7354 [==============================] - 1s 71us/step - loss: 0.1461 - binary_accuracy: 0.9483 - val_loss: 0.1568 - val_binary_accuracy: 0.9461\n",
      "Epoch 31/50\n",
      "7354/7354 [==============================] - 1s 72us/step - loss: 0.1458 - binary_accuracy: 0.9482 - val_loss: 0.1564 - val_binary_accuracy: 0.9464\n",
      "Epoch 32/50\n",
      "7354/7354 [==============================] - 1s 72us/step - loss: 0.1461 - binary_accuracy: 0.9485 - val_loss: 0.1564 - val_binary_accuracy: 0.9461\n",
      "Epoch 33/50\n",
      "7354/7354 [==============================] - 1s 69us/step - loss: 0.1452 - binary_accuracy: 0.9487 - val_loss: 0.1577 - val_binary_accuracy: 0.9457\n",
      "Epoch 34/50\n",
      "7354/7354 [==============================] - 1s 68us/step - loss: 0.1450 - binary_accuracy: 0.9487 - val_loss: 0.1581 - val_binary_accuracy: 0.9461\n",
      "Epoch 35/50\n",
      "7354/7354 [==============================] - 0s 67us/step - loss: 0.1457 - binary_accuracy: 0.9483 - val_loss: 0.1583 - val_binary_accuracy: 0.9461\n",
      "Epoch 36/50\n",
      "7354/7354 [==============================] - 1s 108us/step - loss: 0.1451 - binary_accuracy: 0.9486 - val_loss: 0.1577 - val_binary_accuracy: 0.9454\n",
      "Epoch 37/50\n",
      "7354/7354 [==============================] - 1s 102us/step - loss: 0.1446 - binary_accuracy: 0.9482 - val_loss: 0.1577 - val_binary_accuracy: 0.9461\n",
      "Epoch 38/50\n",
      "7354/7354 [==============================] - 1s 84us/step - loss: 0.1449 - binary_accuracy: 0.9486 - val_loss: 0.1574 - val_binary_accuracy: 0.9457\n",
      "Epoch 39/50\n",
      "7354/7354 [==============================] - 1s 111us/step - loss: 0.1443 - binary_accuracy: 0.9489 - val_loss: 0.1574 - val_binary_accuracy: 0.9461\n",
      "Epoch 40/50\n",
      "7354/7354 [==============================] - 1s 104us/step - loss: 0.1444 - binary_accuracy: 0.9486 - val_loss: 0.1565 - val_binary_accuracy: 0.9457\n",
      "Epoch 41/50\n",
      "7354/7354 [==============================] - 1s 110us/step - loss: 0.1444 - binary_accuracy: 0.9482 - val_loss: 0.1570 - val_binary_accuracy: 0.9464\n",
      "Epoch 42/50\n",
      "7354/7354 [==============================] - 1s 99us/step - loss: 0.1441 - binary_accuracy: 0.9476 - val_loss: 0.1568 - val_binary_accuracy: 0.9461\n",
      "Epoch 43/50\n",
      "7354/7354 [==============================] - 1s 111us/step - loss: 0.1443 - binary_accuracy: 0.9489 - val_loss: 0.1576 - val_binary_accuracy: 0.9457\n",
      "Epoch 44/50\n",
      "7354/7354 [==============================] - 1s 86us/step - loss: 0.1440 - binary_accuracy: 0.9485 - val_loss: 0.1573 - val_binary_accuracy: 0.9454\n",
      "Epoch 45/50\n",
      "7354/7354 [==============================] - 0s 66us/step - loss: 0.1441 - binary_accuracy: 0.9491 - val_loss: 0.1574 - val_binary_accuracy: 0.9464\n",
      "Epoch 46/50\n",
      "7354/7354 [==============================] - 1s 74us/step - loss: 0.1438 - binary_accuracy: 0.9489 - val_loss: 0.1565 - val_binary_accuracy: 0.9454\n",
      "Epoch 47/50\n",
      "7354/7354 [==============================] - 1s 76us/step - loss: 0.1437 - binary_accuracy: 0.9486 - val_loss: 0.1575 - val_binary_accuracy: 0.9457\n",
      "Epoch 48/50\n",
      "7354/7354 [==============================] - 1s 77us/step - loss: 0.1433 - binary_accuracy: 0.9494 - val_loss: 0.1574 - val_binary_accuracy: 0.9464\n",
      "Epoch 49/50\n",
      "7354/7354 [==============================] - 1s 77us/step - loss: 0.1439 - binary_accuracy: 0.9487 - val_loss: 0.1579 - val_binary_accuracy: 0.9457\n",
      "Epoch 50/50\n",
      "7354/7354 [==============================] - 1s 78us/step - loss: 0.1433 - binary_accuracy: 0.9493 - val_loss: 0.1598 - val_binary_accuracy: 0.9467\n"
     ]
    }
   ],
   "source": [
    "history = model.fit(X_train, y_train,\n",
    "                   validation_data = (X_test, y_test),\n",
    "                   epochs = 50, \n",
    "                   batch_size = None, \n",
    "                   verbose = 1)"
   ]
  },
  {
   "cell_type": "code",
   "execution_count": 32,
   "metadata": {},
   "outputs": [
    {
     "data": {
      "text/plain": [
       "[<matplotlib.lines.Line2D at 0x22145c96630>]"
      ]
     },
     "execution_count": 32,
     "metadata": {},
     "output_type": "execute_result"
    },
    {
     "data": {
      "image/png": "[encoded data removed]",
      "text/plain": [
       "<matplotlib.figure.Figure at 0x2213f5e57b8>"
      ]
     },
     "metadata": {},
     "output_type": "display_data"
    }
   ],
   "source": [
    "#plotting accuracy over epochs\n",
    "plt.plot(history.history['val_binary_accuracy'])"
   ]
  },
  {
   "cell_type": "code",
   "execution_count": 33,
   "metadata": {},
   "outputs": [
    {
     "data": {
      "image/png": "[encoded data removed]",
      "text/plain": [
       "<matplotlib.figure.Figure at 0x22145c80f98>"
      ]
     },
     "metadata": {},
     "output_type": "display_data"
    }
   ],
   "source": [
    "train_loss = history.history['loss']\n",
    "test_loss = history.history['val_loss']\n",
    "\n",
    "plt.plot(train_loss, label = 'Train loss')\n",
    "plt.plot(test_loss, label = 'Test loss')\n",
    "plt.legend();"
   ]
  },
  {
   "cell_type": "code",
   "execution_count": 34,
   "metadata": {},
   "outputs": [
    {
     "data": {
      "text/plain": [
       "0.05266497461928934"
      ]
     },
     "execution_count": 34,
     "metadata": {},
     "output_type": "execute_result"
    }
   ],
   "source": [
    "# as predicted from total data set only around 5% of all samples test positive for WnV\n",
    "# preliminarily it appears that from upsampling the wnv cases to get a 50/50 test split\n",
    "# for our neural network we are achieving around 88% accuracy against the test set\n",
    "# compared to our baseline of 95% we would be better off guessing that all do not have WnV\n",
    "(y_test.sum()/y_test.shape)[0]"
   ]
  },
  {
   "cell_type": "code",
   "execution_count": 35,
   "metadata": {},
   "outputs": [],
   "source": [
    "#need to implement a confusion matrix in order to score this appropriately, will never beat 95%\n",
    "#get keras predictions to make a roc curve/get that roc auc\n",
    "fpr, tpr, _ = roc_curve(y_test, model.predict(X_test))\n",
    "\n",
    "#calculate AUC\n",
    "roc_auc = auc(fpr, tpr)\n",
    "#print a confusion matrix\n",
    "#confusion_matrix(np.array(y_test), model.predict(X_test))"
   ]
  },
  {
   "cell_type": "code",
   "execution_count": 36,
   "metadata": {},
   "outputs": [
    {
     "data": {
      "image/png": "[encoded data removed]",
      "text/plain": [
       "<matplotlib.figure.Figure at 0x22145c01710>"
      ]
     },
     "metadata": {},
     "output_type": "display_data"
    }
   ],
   "source": [
    "#plot of a ROC curve for a specific class\n",
    "plt.figure()\n",
    "plt.plot(fpr, tpr, label='ROC curve (area = %0.2f)' % roc_auc, color = 'blue')\n",
    "plt.plot([0, 1], [0,1], 'k--')\n",
    "plt.xlim([0.0, 1.0])\n",
    "plt.ylim([0.0, 1.05])\n",
    "plt.xlabel('False Positive Rate')\n",
    "plt.ylabel('True Positive Rate')\n",
    "plt.title('Reciever Operating Characteristic (ROC) Curve')\n",
    "plt.legend(loc=\"lower right\")\n",
    "plt.show()"
   ]
  },
  {
   "cell_type": "markdown",
   "metadata": {},
   "source": [
    "#### B. CART/Decision Trees"
   ]
  },
  {
   "cell_type": "code",
   "execution_count": 37,
   "metadata": {},
   "outputs": [],
   "source": [
    "from sklearn.model_selection import cross_val_score, StratifiedKFold\n",
    "from sklearn.model_selection import GridSearchCV\n",
    "import xgboost as xgb\n",
    "\n",
    "from sklearn.tree import DecisionTreeClassifier\n",
    "from sklearn.ensemble import RandomForestClassifier, ExtraTreesClassifier, BaggingClassifier\n",
    "from sklearn.ensemble import AdaBoostClassifier, GradientBoostingClassifier"
   ]
  },
  {
   "cell_type": "code",
   "execution_count": null,
   "metadata": {},
   "outputs": [],
   "source": [
    "def CART_model_picker(model_list, X_train, y_train, X_test, y_test):\n",
    "    '''Returns cross-val score and score for all input CART models, returns in sorted order of best performing'''\n",
    "    results = []\n",
    "    \n",
    "    for (k,v) in model_list.items():\n",
    "        scores = cross_val_score(v, X_train, y_train, cv = 5, n_jobs = -1)\n",
    "        v.fit(X_train, y_train)\n",
    "        results.append((k, scores.mean(), v.score(X_test, y_test)))\n",
    "    \n",
    "    results.sort(key = lambda x: x[1], reverse = True)\n",
    "    \n",
    "    return results"
   ]
  },
  {
   "cell_type": "code",
   "execution_count": 38,
   "metadata": {},
   "outputs": [],
   "source": [
    "#setting up stratified kfold\n",
    "cv = StratifiedKFold(n_splits = 5, shuffle = True, random_state = 42)"
   ]
  },
  {
   "cell_type": "code",
   "execution_count": 105,
   "metadata": {},
   "outputs": [
    {
     "data": {
      "text/plain": [
       "[('AdaBoost', 0.9468317632967531, 0.9463832487309645),\n",
       " ('Gradient Boosting', 0.9452002201288401, 0.945748730964467),\n",
       " ('Bagging', 0.9348651710854294, 0.9330583756345178),\n",
       " ('Extra Trees', 0.933233812899735, 0.9359137055837563),\n",
       " ('Random Forest', 0.9310580520447471, 0.9333756345177665),\n",
       " ('Decision Tree', 0.9305145742865466, 0.9349619289340102)]"
      ]
     },
     "execution_count": 105,
     "metadata": {},
     "output_type": "execute_result"
    }
   ],
   "source": [
    "#figure out which CART model performs the best\n",
    "\n",
    "models = {'Decision Tree': DecisionTreeClassifier(),\n",
    "          'Extra Trees': ExtraTreesClassifier(),\n",
    "          'Gradient Boosting': GradientBoostingClassifier(),\n",
    "          'AdaBoost': AdaBoostClassifier(),\n",
    "          'Random Forest':RandomForestClassifier(),\n",
    "          'Bagging': BaggingClassifier()\n",
    "         }\n",
    "\n",
    "\n",
    "CART_model_picker(models, X_train, y_train, X_test, y_test)"
   ]
  },
  {
   "cell_type": "markdown",
   "metadata": {},
   "source": [
    "##### Decision Tree Grid Search"
   ]
  },
  {
   "cell_type": "code",
   "execution_count": null,
   "metadata": {},
   "outputs": [
    {
     "name": "stdout",
     "output_type": "stream",
     "text": [
      "Fitting 5 folds for each of 1512 candidates, totalling 7560 fits\n"
     ]
    },
    {
     "name": "stderr",
     "output_type": "stream",
     "text": [
      "[Parallel(n_jobs=-1)]: Done  53 tasks      | elapsed:    3.6s\n",
      "[Parallel(n_jobs=-1)]: Done 653 tasks      | elapsed:   12.3s\n"
     ]
    }
   ],
   "source": [
    "%%time\n",
    "#instantiate the model\n",
    "classifier = DecisionTreeClassifier(criterion='gini',\n",
    "                                    max_depth=None)\n",
    "\n",
    "#set params\n",
    "dtparams = {'max_depth':[10, 20, 30, 40, 50, 60, 70],\n",
    "            'min_samples_split':[2, 5, 10, 15, 20, 25],\n",
    "            'min_samples_leaf':[1, 5, 10, 15, 20, 25],\n",
    "            'max_features':[2,3,4,5,6,7],           \n",
    "           }\n",
    "\n",
    "#perform gridsearch\n",
    "dtgs = GridSearchCV(DecisionTreeClassifier(),\n",
    "                   dtparams,\n",
    "                   verbose = 1,\n",
    "                   cv = cv,\n",
    "                   n_jobs = -1)\n",
    "\n",
    "dtgs.fit(X_train, y_train)"
   ]
  },
  {
   "cell_type": "markdown",
   "metadata": {},
   "source": [
    "##### XGBoost Model"
   ]
  },
  {
   "cell_type": "code",
   "execution_count": 48,
   "metadata": {},
   "outputs": [],
   "source": [
    "model= xgb.XGBClassifier(seed= 42)\n",
    "\n",
    "eval_set = [(X_train, y_train), (X_test, y_test)]\n",
    "scores = cross_val_score(xgb.XGBClassifier(), X_train, y_train, cv = 5, n_jobs = -1)"
   ]
  },
  {
   "cell_type": "code",
   "execution_count": 49,
   "metadata": {},
   "outputs": [
    {
     "name": "stdout",
     "output_type": "stream",
     "text": [
      "[0]\tvalidation_0-auc:0.814137\tvalidation_1-auc:0.804917\n",
      "[1]\tvalidation_0-auc:0.820957\tvalidation_1-auc:0.814928\n",
      "[2]\tvalidation_0-auc:0.832482\tvalidation_1-auc:0.817435\n",
      "[3]\tvalidation_0-auc:0.832656\tvalidation_1-auc:0.821796\n",
      "[4]\tvalidation_0-auc:0.832867\tvalidation_1-auc:0.822224\n",
      "[5]\tvalidation_0-auc:0.834063\tvalidation_1-auc:0.825544\n",
      "[6]\tvalidation_0-auc:0.833325\tvalidation_1-auc:0.8234\n",
      "[7]\tvalidation_0-auc:0.834063\tvalidation_1-auc:0.825544\n",
      "[8]\tvalidation_0-auc:0.833325\tvalidation_1-auc:0.8234\n",
      "[9]\tvalidation_0-auc:0.83541\tvalidation_1-auc:0.826047\n",
      "[10]\tvalidation_0-auc:0.83777\tvalidation_1-auc:0.825621\n",
      "[11]\tvalidation_0-auc:0.837772\tvalidation_1-auc:0.825637\n",
      "[12]\tvalidation_0-auc:0.842205\tvalidation_1-auc:0.830389\n",
      "[13]\tvalidation_0-auc:0.842795\tvalidation_1-auc:0.830504\n",
      "[14]\tvalidation_0-auc:0.843736\tvalidation_1-auc:0.83044\n",
      "[15]\tvalidation_0-auc:0.847395\tvalidation_1-auc:0.83646\n",
      "[16]\tvalidation_0-auc:0.847482\tvalidation_1-auc:0.837553\n",
      "[17]\tvalidation_0-auc:0.852698\tvalidation_1-auc:0.841159\n",
      "[18]\tvalidation_0-auc:0.856397\tvalidation_1-auc:0.846094\n",
      "[19]\tvalidation_0-auc:0.85735\tvalidation_1-auc:0.846709\n",
      "[20]\tvalidation_0-auc:0.857274\tvalidation_1-auc:0.848529\n",
      "[21]\tvalidation_0-auc:0.859469\tvalidation_1-auc:0.850173\n",
      "[22]\tvalidation_0-auc:0.858665\tvalidation_1-auc:0.848898\n",
      "[23]\tvalidation_0-auc:0.861084\tvalidation_1-auc:0.850963\n",
      "[24]\tvalidation_0-auc:0.862461\tvalidation_1-auc:0.851453\n",
      "[25]\tvalidation_0-auc:0.863614\tvalidation_1-auc:0.852757\n",
      "[26]\tvalidation_0-auc:0.863403\tvalidation_1-auc:0.852338\n",
      "[27]\tvalidation_0-auc:0.863852\tvalidation_1-auc:0.852763\n",
      "[28]\tvalidation_0-auc:0.865756\tvalidation_1-auc:0.854576\n",
      "[29]\tvalidation_0-auc:0.866221\tvalidation_1-auc:0.854533\n",
      "[30]\tvalidation_0-auc:0.867037\tvalidation_1-auc:0.855384\n",
      "[31]\tvalidation_0-auc:0.867394\tvalidation_1-auc:0.855201\n",
      "[32]\tvalidation_0-auc:0.867936\tvalidation_1-auc:0.855568\n",
      "[33]\tvalidation_0-auc:0.868822\tvalidation_1-auc:0.855939\n",
      "[34]\tvalidation_0-auc:0.869369\tvalidation_1-auc:0.85655\n",
      "[35]\tvalidation_0-auc:0.87012\tvalidation_1-auc:0.856803\n",
      "[36]\tvalidation_0-auc:0.870752\tvalidation_1-auc:0.857211\n",
      "[37]\tvalidation_0-auc:0.871821\tvalidation_1-auc:0.857895\n",
      "[38]\tvalidation_0-auc:0.872379\tvalidation_1-auc:0.859432\n",
      "[39]\tvalidation_0-auc:0.873348\tvalidation_1-auc:0.859947\n",
      "[40]\tvalidation_0-auc:0.874301\tvalidation_1-auc:0.861069\n",
      "[41]\tvalidation_0-auc:0.874633\tvalidation_1-auc:0.860822\n",
      "[42]\tvalidation_0-auc:0.874847\tvalidation_1-auc:0.861361\n",
      "[43]\tvalidation_0-auc:0.875534\tvalidation_1-auc:0.861916\n",
      "[44]\tvalidation_0-auc:0.875702\tvalidation_1-auc:0.862063\n",
      "[45]\tvalidation_0-auc:0.87613\tvalidation_1-auc:0.862059\n",
      "[46]\tvalidation_0-auc:0.876756\tvalidation_1-auc:0.862999\n",
      "[47]\tvalidation_0-auc:0.877586\tvalidation_1-auc:0.86306\n",
      "[48]\tvalidation_0-auc:0.877553\tvalidation_1-auc:0.863023\n",
      "[49]\tvalidation_0-auc:0.877981\tvalidation_1-auc:0.863044\n",
      "[50]\tvalidation_0-auc:0.87818\tvalidation_1-auc:0.862861\n",
      "[51]\tvalidation_0-auc:0.878404\tvalidation_1-auc:0.862536\n",
      "[52]\tvalidation_0-auc:0.87843\tvalidation_1-auc:0.863077\n",
      "[53]\tvalidation_0-auc:0.878539\tvalidation_1-auc:0.863644\n",
      "[54]\tvalidation_0-auc:0.878837\tvalidation_1-auc:0.863898\n",
      "[55]\tvalidation_0-auc:0.879104\tvalidation_1-auc:0.86406\n",
      "[56]\tvalidation_0-auc:0.879205\tvalidation_1-auc:0.864255\n",
      "[57]\tvalidation_0-auc:0.87984\tvalidation_1-auc:0.863968\n",
      "[58]\tvalidation_0-auc:0.879975\tvalidation_1-auc:0.864272\n",
      "[59]\tvalidation_0-auc:0.880271\tvalidation_1-auc:0.863978\n",
      "[60]\tvalidation_0-auc:0.880368\tvalidation_1-auc:0.864121\n",
      "[61]\tvalidation_0-auc:0.880294\tvalidation_1-auc:0.864079\n",
      "[62]\tvalidation_0-auc:0.880507\tvalidation_1-auc:0.864174\n",
      "[63]\tvalidation_0-auc:0.880649\tvalidation_1-auc:0.864447\n",
      "[64]\tvalidation_0-auc:0.880579\tvalidation_1-auc:0.864348\n",
      "[65]\tvalidation_0-auc:0.881265\tvalidation_1-auc:0.864364\n",
      "[66]\tvalidation_0-auc:0.881396\tvalidation_1-auc:0.864299\n",
      "[67]\tvalidation_0-auc:0.881505\tvalidation_1-auc:0.864596\n",
      "[68]\tvalidation_0-auc:0.881805\tvalidation_1-auc:0.864667\n",
      "[69]\tvalidation_0-auc:0.881974\tvalidation_1-auc:0.865006\n",
      "[70]\tvalidation_0-auc:0.882138\tvalidation_1-auc:0.865182\n",
      "[71]\tvalidation_0-auc:0.882591\tvalidation_1-auc:0.864749\n",
      "[72]\tvalidation_0-auc:0.88265\tvalidation_1-auc:0.864765\n",
      "[73]\tvalidation_0-auc:0.882727\tvalidation_1-auc:0.864876\n",
      "[74]\tvalidation_0-auc:0.882821\tvalidation_1-auc:0.864931\n",
      "[75]\tvalidation_0-auc:0.88324\tvalidation_1-auc:0.864894\n",
      "[76]\tvalidation_0-auc:0.883302\tvalidation_1-auc:0.865087\n",
      "[77]\tvalidation_0-auc:0.883458\tvalidation_1-auc:0.865465\n",
      "[78]\tvalidation_0-auc:0.883557\tvalidation_1-auc:0.865561\n",
      "[79]\tvalidation_0-auc:0.883678\tvalidation_1-auc:0.865446\n",
      "[80]\tvalidation_0-auc:0.88391\tvalidation_1-auc:0.865242\n",
      "[81]\tvalidation_0-auc:0.884116\tvalidation_1-auc:0.864557\n",
      "[82]\tvalidation_0-auc:0.884332\tvalidation_1-auc:0.864424\n",
      "[83]\tvalidation_0-auc:0.884402\tvalidation_1-auc:0.864359\n",
      "[84]\tvalidation_0-auc:0.88448\tvalidation_1-auc:0.864462\n",
      "[85]\tvalidation_0-auc:0.884858\tvalidation_1-auc:0.864714\n",
      "[86]\tvalidation_0-auc:0.884911\tvalidation_1-auc:0.864779\n",
      "[87]\tvalidation_0-auc:0.885042\tvalidation_1-auc:0.864861\n",
      "[88]\tvalidation_0-auc:0.885083\tvalidation_1-auc:0.864968\n",
      "[89]\tvalidation_0-auc:0.885149\tvalidation_1-auc:0.865063\n",
      "[90]\tvalidation_0-auc:0.885748\tvalidation_1-auc:0.86563\n",
      "[91]\tvalidation_0-auc:0.885911\tvalidation_1-auc:0.865521\n",
      "[92]\tvalidation_0-auc:0.885991\tvalidation_1-auc:0.865567\n",
      "[93]\tvalidation_0-auc:0.886142\tvalidation_1-auc:0.865567\n",
      "[94]\tvalidation_0-auc:0.886402\tvalidation_1-auc:0.865194\n",
      "[95]\tvalidation_0-auc:0.886489\tvalidation_1-auc:0.865319\n",
      "[96]\tvalidation_0-auc:0.886988\tvalidation_1-auc:0.865648\n",
      "[97]\tvalidation_0-auc:0.887182\tvalidation_1-auc:0.865689\n",
      "[98]\tvalidation_0-auc:0.887411\tvalidation_1-auc:0.865886\n",
      "[99]\tvalidation_0-auc:0.8876\tvalidation_1-auc:0.865697\n"
     ]
    },
    {
     "data": {
      "text/plain": [
       "XGBClassifier(base_score=0.5, booster='gbtree', colsample_bylevel=1,\n",
       "       colsample_bytree=1, gamma=0, learning_rate=0.1, max_delta_step=0,\n",
       "       max_depth=3, min_child_weight=1, missing=None, n_estimators=100,\n",
       "       n_jobs=1, nthread=None, objective='binary:logistic', random_state=0,\n",
       "       reg_alpha=0, reg_lambda=1, scale_pos_weight=1, seed=42, silent=True,\n",
       "       subsample=1)"
      ]
     },
     "execution_count": 49,
     "metadata": {},
     "output_type": "execute_result"
    }
   ],
   "source": [
    "model.fit(X_train, y_train, eval_metric=\"auc\", eval_set=eval_set, verbose=True)"
   ]
  },
  {
   "cell_type": "code",
   "execution_count": 50,
   "metadata": {},
   "outputs": [
    {
     "name": "stderr",
     "output_type": "stream",
     "text": [
      "C:\\Users\\peckr\\AppData\\Local\\conda\\conda\\envs\\ga\\lib\\site-packages\\sklearn\\preprocessing\\label.py:151: DeprecationWarning: The truth value of an empty array is ambiguous. Returning False, but in future this will result in an error. Use `array.size > 0` to check that an array is not empty.\n",
      "  if diff:\n"
     ]
    },
    {
     "data": {
      "text/plain": [
       "0.9473350253807107"
      ]
     },
     "execution_count": 50,
     "metadata": {},
     "output_type": "execute_result"
    }
   ],
   "source": [
    "model.score(X_test, y_test)"
   ]
  },
  {
   "cell_type": "code",
   "execution_count": null,
   "metadata": {},
   "outputs": [],
   "source": []
  },
  {
   "cell_type": "code",
   "execution_count": null,
   "metadata": {},
   "outputs": [],
   "source": []
  }
 ],
 "metadata": {
  "kernelspec": {
   "display_name": "Python 3",
   "language": "python",
   "name": "python3"
  },
  "language_info": {
   "codemirror_mode": {
    "name": "ipython",
    "version": 3
   },
   "file_extension": ".py",
   "mimetype": "text/x-python",
   "name": "python",
   "nbconvert_exporter": "python",
   "pygments_lexer": "ipython3",
   "version": "3.5.4"
  }
 },
 "nbformat": 4,
 "nbformat_minor": 2
}
