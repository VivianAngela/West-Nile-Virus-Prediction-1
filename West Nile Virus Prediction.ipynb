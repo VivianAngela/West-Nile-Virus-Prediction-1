{
 "cells": [
  {
   "cell_type": "markdown",
   "metadata": {},
   "source": [
    "# West Nile Virus Prediction"
   ]
  },
  {
   "cell_type": "markdown",
   "metadata": {},
   "source": [
    "### 1. Import Data and Libraries"
   ]
  },
  {
   "cell_type": "code",
   "execution_count": 236,
   "metadata": {},
   "outputs": [],
   "source": [
    "import pandas as pd\n",
    "import matplotlib.pyplot as plt\n",
    "import seaborn as sns\n",
    "\n",
    "from math import radians, sin, cos, asin, sqrt\n",
    "from sklearn.metrics import confusion_matrix, roc_curve, auc\n",
    "\n",
    "%matplotlib inline"
   ]
  },
  {
   "cell_type": "code",
   "execution_count": 237,
   "metadata": {
    "scrolled": true
   },
   "outputs": [],
   "source": [
    "spray = pd.read_csv('./west_nile/west_nile/input/spray.csv')\n",
    "weather = pd.read_csv('./west_nile/west_nile/input/weather.csv')\n",
    "train = pd.read_csv('./west_nile/west_nile/input/train.csv')\n",
    "sample = pd.read_csv('./west_nile/west_nile/input/SampleSubmission.csv')\n",
    "test = pd.read_csv('./west_nile/west_nile/input/test.csv')"
   ]
  },
  {
   "cell_type": "code",
   "execution_count": 238,
   "metadata": {},
   "outputs": [],
   "source": [
    "#use to assign weather data to traps based on distance from weather station to trap\n",
    "\n",
    "def haversine(lat1, lon1, lat2, lon2):\n",
    "    '''Calculates the distance between two lat-long points.'''\n",
    "    \n",
    "    R = 3959.87433 # this is in miles.  For Earth radius in kilometers use 6372.8 km\n",
    "\n",
    "    dLat = radians(lat2 - lat1)\n",
    "    dLon = radians(lon2 - lon1)\n",
    "    lat1 = radians(lat1)\n",
    "    lat2 = radians(lat2)\n",
    "\n",
    "    a = sin(dLat/2)**2 + cos(lat1)*cos(lat2)*sin(dLon/2)**2\n",
    "    c = 2*asin(sqrt(a))\n",
    "\n",
    "    return R * c"
   ]
  },
  {
   "cell_type": "markdown",
   "metadata": {},
   "source": [
    "### 2. Perform EDA /Format /Clean Data"
   ]
  },
  {
   "cell_type": "code",
   "execution_count": 239,
   "metadata": {},
   "outputs": [],
   "source": [
    "def quick_EDA(df):\n",
    "    #Input a dataframe, Returns: shape of data, number of nulls\n",
    "    nulls = df.isnull().sum().sum()\n",
    "    \n",
    "    print('Rows:', df.shape[0], 'Columns:', df.shape[1])\n",
    "    print('Total NaNs:', nulls)"
   ]
  },
  {
   "cell_type": "code",
   "execution_count": 240,
   "metadata": {},
   "outputs": [],
   "source": [
    "#Converting columns to datetime format\n",
    "def convert_datetime(df):\n",
    "    df['Date'] = pd.to_datetime(df['Date'])"
   ]
  },
  {
   "cell_type": "code",
   "execution_count": 241,
   "metadata": {},
   "outputs": [],
   "source": [
    "#converting spray columns to date time and making date/time columns\n",
    "def convert_spray(df):\n",
    "    df['Date'] = pd.to_datetime(spray['Date'])\n",
    "    df['am_pm'] = df['Time'].apply(lambda x: str(x).split()[-1])\n",
    "    df['Time'] = df['Time'].apply(lambda x: str(x).split()[0])\n",
    "    df['Time'] = pd.to_datetime(spray['Time'], format = '%H:%M:%S')"
   ]
  },
  {
   "cell_type": "code",
   "execution_count": 242,
   "metadata": {},
   "outputs": [
    {
     "name": "stdout",
     "output_type": "stream",
     "text": [
      "Rows: 10506 Columns: 12\n",
      "Total NaNs: 0\n"
     ]
    }
   ],
   "source": [
    "quick_EDA(train)"
   ]
  },
  {
   "cell_type": "code",
   "execution_count": 243,
   "metadata": {},
   "outputs": [
    {
     "name": "stdout",
     "output_type": "stream",
     "text": [
      "Rows: 14835 Columns: 4\n",
      "Total NaNs: 584\n"
     ]
    }
   ],
   "source": [
    "quick_EDA(spray)"
   ]
  },
  {
   "cell_type": "code",
   "execution_count": 244,
   "metadata": {},
   "outputs": [
    {
     "name": "stdout",
     "output_type": "stream",
     "text": [
      "Rows: 2944 Columns: 22\n",
      "Total NaNs: 0\n"
     ]
    }
   ],
   "source": [
    "quick_EDA(weather)"
   ]
  },
  {
   "cell_type": "code",
   "execution_count": 245,
   "metadata": {},
   "outputs": [
    {
     "name": "stdout",
     "output_type": "stream",
     "text": [
      "Rows: 116293 Columns: 11\n",
      "Total NaNs: 0\n"
     ]
    }
   ],
   "source": [
    "quick_EDA(test)"
   ]
  },
  {
   "cell_type": "code",
   "execution_count": 246,
   "metadata": {},
   "outputs": [
    {
     "data": {
      "text/html": [
       "<div>\n",
       "<style scoped>\n",
       "    .dataframe tbody tr th:only-of-type {\n",
       "        vertical-align: middle;\n",
       "    }\n",
       "\n",
       "    .dataframe tbody tr th {\n",
       "        vertical-align: top;\n",
       "    }\n",
       "\n",
       "    .dataframe thead th {\n",
       "        text-align: right;\n",
       "    }\n",
       "</style>\n",
       "<table border=\"1\" class=\"dataframe\">\n",
       "  <thead>\n",
       "    <tr style=\"text-align: right;\">\n",
       "      <th></th>\n",
       "      <th>Date</th>\n",
       "      <th>Address</th>\n",
       "      <th>Species</th>\n",
       "      <th>Block</th>\n",
       "      <th>Street</th>\n",
       "      <th>Trap</th>\n",
       "      <th>AddressNumberAndStreet</th>\n",
       "      <th>Latitude</th>\n",
       "      <th>Longitude</th>\n",
       "      <th>AddressAccuracy</th>\n",
       "      <th>NumMosquitos</th>\n",
       "      <th>WnvPresent</th>\n",
       "    </tr>\n",
       "  </thead>\n",
       "  <tbody>\n",
       "    <tr>\n",
       "      <th>9972</th>\n",
       "      <td>2013-08-29</td>\n",
       "      <td>ORD Terminal 5, O'Hare International Airport, ...</td>\n",
       "      <td>CULEX PIPIENS/RESTUANS</td>\n",
       "      <td>10</td>\n",
       "      <td>W OHARE AIRPORT</td>\n",
       "      <td>T900</td>\n",
       "      <td>1000  W OHARE AIRPORT, Chicago, IL</td>\n",
       "      <td>41.974689</td>\n",
       "      <td>-87.890615</td>\n",
       "      <td>9</td>\n",
       "      <td>29</td>\n",
       "      <td>0</td>\n",
       "    </tr>\n",
       "  </tbody>\n",
       "</table>\n",
       "</div>"
      ],
      "text/plain": [
       "            Date                                            Address  \\\n",
       "9972  2013-08-29  ORD Terminal 5, O'Hare International Airport, ...   \n",
       "\n",
       "                     Species  Block            Street  Trap  \\\n",
       "9972  CULEX PIPIENS/RESTUANS     10   W OHARE AIRPORT  T900   \n",
       "\n",
       "                  AddressNumberAndStreet   Latitude  Longitude  \\\n",
       "9972  1000  W OHARE AIRPORT, Chicago, IL  41.974689 -87.890615   \n",
       "\n",
       "      AddressAccuracy  NumMosquitos  WnvPresent  \n",
       "9972                9            29           0  "
      ]
     },
     "execution_count": 246,
     "metadata": {},
     "output_type": "execute_result"
    }
   ],
   "source": [
    "#Looking at mosquitos and wnv present by date by trap\n",
    "train[(train['Date'] == '2013-08-29') & (train['Trap'] == 'T900')].head(1)"
   ]
  },
  {
   "cell_type": "code",
   "execution_count": 247,
   "metadata": {},
   "outputs": [
    {
     "data": {
      "text/html": [
       "<div>\n",
       "<style scoped>\n",
       "    .dataframe tbody tr th:only-of-type {\n",
       "        vertical-align: middle;\n",
       "    }\n",
       "\n",
       "    .dataframe tbody tr th {\n",
       "        vertical-align: top;\n",
       "    }\n",
       "\n",
       "    .dataframe thead th {\n",
       "        text-align: right;\n",
       "    }\n",
       "</style>\n",
       "<table border=\"1\" class=\"dataframe\">\n",
       "  <thead>\n",
       "    <tr style=\"text-align: right;\">\n",
       "      <th></th>\n",
       "      <th></th>\n",
       "      <th>NumMosquitos</th>\n",
       "      <th>WnvPresent</th>\n",
       "    </tr>\n",
       "    <tr>\n",
       "      <th>Date</th>\n",
       "      <th>Trap</th>\n",
       "      <th></th>\n",
       "      <th></th>\n",
       "    </tr>\n",
       "  </thead>\n",
       "  <tbody>\n",
       "    <tr>\n",
       "      <th>2013-08-29</th>\n",
       "      <th>T900</th>\n",
       "      <td>608</td>\n",
       "      <td>12</td>\n",
       "    </tr>\n",
       "    <tr>\n",
       "      <th>2007-08-16</th>\n",
       "      <th>T115</th>\n",
       "      <td>2636</td>\n",
       "      <td>11</td>\n",
       "    </tr>\n",
       "    <tr>\n",
       "      <th>2013-09-06</th>\n",
       "      <th>T900</th>\n",
       "      <td>550</td>\n",
       "      <td>9</td>\n",
       "    </tr>\n",
       "    <tr>\n",
       "      <th>2013-08-01</th>\n",
       "      <th>T900</th>\n",
       "      <td>984</td>\n",
       "      <td>9</td>\n",
       "    </tr>\n",
       "    <tr>\n",
       "      <th>2007-08-22</th>\n",
       "      <th>T138</th>\n",
       "      <td>1124</td>\n",
       "      <td>7</td>\n",
       "    </tr>\n",
       "  </tbody>\n",
       "</table>\n",
       "</div>"
      ],
      "text/plain": [
       "                 NumMosquitos  WnvPresent\n",
       "Date       Trap                          \n",
       "2013-08-29 T900           608          12\n",
       "2007-08-16 T115          2636          11\n",
       "2013-09-06 T900           550           9\n",
       "2013-08-01 T900           984           9\n",
       "2007-08-22 T138          1124           7"
      ]
     },
     "execution_count": 247,
     "metadata": {},
     "output_type": "execute_result"
    }
   ],
   "source": [
    "#Looking at mosquitos and wnv present by date by trap\n",
    "train.groupby(by = ['Date', 'Trap'])['NumMosquitos', 'WnvPresent'].sum().sort_values('WnvPresent', ascending = False).head()"
   ]
  },
  {
   "cell_type": "code",
   "execution_count": 248,
   "metadata": {},
   "outputs": [],
   "source": [
    "#converting date time\n",
    "dfs = [train, test, weather]\n",
    "\n",
    "for df in dfs:\n",
    "    convert_datetime(df)"
   ]
  },
  {
   "cell_type": "code",
   "execution_count": 249,
   "metadata": {},
   "outputs": [],
   "source": [
    "#converting spray data\n",
    "convert_spray(spray)"
   ]
  },
  {
   "cell_type": "code",
   "execution_count": 250,
   "metadata": {},
   "outputs": [
    {
     "data": {
      "text/plain": [
       "\"#testing to see if any traps are ever tested more than once on the same day\\n    # none are, this will allow us to determine the number of mosquitos in traps where there are more than 50\\n    # because we can now combine rows on Trap Id and Date to get total no. mosquitos tested\\ndatetrap = train[['Date', 'Trap']]\\ny = datetrap.merge(pd.get_dummies(train['Trap']), how = 'left', right_index = True, left_index = True)\\n\\ndatetrapcols = y.shape[1]\\ndatetraprows = y.shape[0]\\nerrors = 0\\n\\nfor i in range(datetraprows):\\n    for g in range(2,datetrapcols):\\n        if y.iloc[i,g] > 1:\\n            errors += 1\\nprint('Traps tested > 1/day:', errors)\""
      ]
     },
     "execution_count": 250,
     "metadata": {},
     "output_type": "execute_result"
    }
   ],
   "source": [
    "'''#testing to see if any traps are ever tested more than once on the same day\n",
    "    # none are, this will allow us to determine the number of mosquitos in traps where there are more than 50\n",
    "    # because we can now combine rows on Trap Id and Date to get total no. mosquitos tested\n",
    "datetrap = train[['Date', 'Trap']]\n",
    "y = datetrap.merge(pd.get_dummies(train['Trap']), how = 'left', right_index = True, left_index = True)\n",
    "\n",
    "datetrapcols = y.shape[1]\n",
    "datetraprows = y.shape[0]\n",
    "errors = 0\n",
    "\n",
    "for i in range(datetraprows):\n",
    "    for g in range(2,datetrapcols):\n",
    "        if y.iloc[i,g] > 1:\n",
    "            errors += 1\n",
    "print('Traps tested > 1/day:', errors)'''"
   ]
  },
  {
   "cell_type": "code",
   "execution_count": 251,
   "metadata": {},
   "outputs": [
    {
     "data": {
      "image/png": "[encoded data removed]",
      "text/plain": [
       "<matplotlib.figure.Figure at 0x1925bb7ebe0>"
      ]
     },
     "metadata": {},
     "output_type": "display_data"
    }
   ],
   "source": [
    "#plotted mosquitos by trap by date\n",
    "train[['Date', 'Trap', 'NumMosquitos']].groupby(by = ['Date','Trap'])['Date','Trap','NumMosquitos'] \\\n",
    "    .sum().reset_index().sort_values('NumMosquitos', ascending = False).set_index('Date').plot(style = '.')\n",
    "    \n",
    "plt.title('Mosquitos by Trap over Time')\n",
    "plt.xlabel('Year')\n",
    "plt.ylabel('Mosquitos at Traps');"
   ]
  },
  {
   "cell_type": "code",
   "execution_count": 255,
   "metadata": {},
   "outputs": [
    {
     "data": {
      "image/png": "[encoded data removed]",
      "text/plain": [
       "<matplotlib.figure.Figure at 0x192480609b0>"
      ]
     },
     "metadata": {},
     "output_type": "display_data"
    }
   ],
   "source": [
    "#plotted WNV incidents by trap\n",
    "train[['Date', 'Trap','WnvPresent']].groupby(by = ['Date','Trap'])['Date','Trap','WnvPresent'] \\\n",
    "    .sum().reset_index().sort_values('WnvPresent', ascending = False).set_index('Date').plot(color = 'green', style = '.')\n",
    "    \n",
    "plt.title('Positive WnV Cases by Trap over Time')\n",
    "plt.xlabel('Year')\n",
    "plt.ylabel('WnV Present at Traps');"
   ]
  },
  {
   "cell_type": "markdown",
   "metadata": {},
   "source": [
    "### 3. Feature Engineering"
   ]
  },
  {
   "cell_type": "markdown",
   "metadata": {},
   "source": [
    "##### Pair weather data with trap locations"
   ]
  },
  {
   "cell_type": "code",
   "execution_count": 54,
   "metadata": {},
   "outputs": [],
   "source": [
    "#assign weather station to trap based on location\n",
    "def assign_station(df):\n",
    "    stat1lat = 41.995\n",
    "    stat1long = -87.933\n",
    "    stat2lat = 41.786\n",
    "    stat2long = -87.752 \n",
    "\n",
    "    df['Station'] = 1\n",
    "\n",
    "    for i in range(df.shape[0]):\n",
    "        if haversine(stat1lat, stat1long, df.loc[i, 'Latitude'], df.loc[i, 'Longitude']) > haversine(stat2lat, stat2long, df.loc[i, 'Latitude'], df.loc[i, 'Longitude']):\n",
    "            df.loc[i,'Station'] = 2"
   ]
  },
  {
   "cell_type": "code",
   "execution_count": 55,
   "metadata": {},
   "outputs": [],
   "source": [
    "#assign a station to traps in train and test data\n",
    "assign_station(train)\n",
    "assign_station(test)"
   ]
  },
  {
   "cell_type": "code",
   "execution_count": 56,
   "metadata": {},
   "outputs": [],
   "source": [
    "#perform cleaning on weather data set before merging\n",
    "\n",
    "\n",
    "#drop columns not being used\n",
    "weather.drop(columns = ['SeaLevel','CodeSum', 'Sunrise', 'Sunset','Depart','Depth','Water1', 'SnowFall', 'Cool', 'Heat'], inplace = True)\n",
    "\n",
    "#impute missing values from previous days values, days are sequential so using the \n",
    "#previous day's value should be a pretty good estimator\n",
    "weathercols = weather.columns.tolist()\n",
    "\n",
    "for col in weathercols:\n",
    "    for row in range(weather.shape[0]):\n",
    "        if weather.loc[row, col] == 'M' or weather.loc[row, col] == '  T':\n",
    "            weather.loc[row, col] = weather.loc[row - 1, col]"
   ]
  },
  {
   "cell_type": "code",
   "execution_count": 57,
   "metadata": {},
   "outputs": [],
   "source": [
    "#change data types\n",
    "weatherobjs = ['Tavg', 'WetBulb', 'PrecipTotal', 'StnPressure', 'AvgSpeed']\n",
    "\n",
    "for col in weatherobjs:\n",
    "    weather[col] = pd.to_numeric(weather[col])"
   ]
  },
  {
   "cell_type": "code",
   "execution_count": 58,
   "metadata": {},
   "outputs": [],
   "source": [
    "#split out weather data by station so it can be processed/feature engineered\n",
    "weathstat1 = weather[weather['Station'] ==1].reset_index(drop = True)\n",
    "weathstat2 = weather[weather['Station'] ==2].reset_index(drop = True)\n"
   ]
  },
  {
   "cell_type": "code",
   "execution_count": 59,
   "metadata": {},
   "outputs": [],
   "source": [
    "#Getting days since last rain\n",
    "def days_since_last_rain(df):\n",
    "    \n",
    "    raindays = 0\n",
    "\n",
    "    for i in range(df.shape[0]):\n",
    "        if df.loc[i,'PrecipTotal'] == 0:\n",
    "            raindays += 1        \n",
    "            df.loc[i, 'days_since_rain'] = raindays\n",
    "        else:\n",
    "            df.loc[i, 'days_since_rain'] = 0\n",
    "            raindays = 0"
   ]
  },
  {
   "cell_type": "code",
   "execution_count": 60,
   "metadata": {},
   "outputs": [],
   "source": [
    "#getting rain in a 5 day period\n",
    "def rain_tot_5(df):\n",
    "    raintotal = 0.0\n",
    "\n",
    "    #set first five days as 0, this is accurate based on data\n",
    "    for i in range(6):\n",
    "        df.loc[i, 'raintotal_5days'] = 0.0\n",
    "\n",
    "    #calculate last 5 days of rain for each day\n",
    "    for i in range(5, df.shape[0]):\n",
    "        for rain in range(i - 4, i + 1):\n",
    "            raintotal += df.loc[rain, 'PrecipTotal']\n",
    "        df.loc[i, 'raintotal_5days'] = raintotal\n",
    "        raintotal = 0"
   ]
  },
  {
   "cell_type": "code",
   "execution_count": 61,
   "metadata": {},
   "outputs": [],
   "source": [
    "#perform feature engineering on weather data\n",
    "weatherdata = [weathstat1 ,weathstat2]\n",
    "\n",
    "for weth in weatherdata:\n",
    "    days_since_last_rain(weth)\n",
    "    rain_tot_5(weth)\n",
    "\n",
    "#rejoining data\n",
    "weather = pd.concat(weatherdata)"
   ]
  },
  {
   "cell_type": "code",
   "execution_count": 62,
   "metadata": {},
   "outputs": [],
   "source": [
    "#merge weather data with train and test data\n",
    "\n",
    "train = train.merge(weather, how = 'left', on = ['Date','Station'])\n",
    "test = test.merge(weather, how = 'left', on = ['Date', 'Station'])"
   ]
  },
  {
   "cell_type": "markdown",
   "metadata": {},
   "source": [
    "##### Split out Parent Traps and Child Traps"
   ]
  },
  {
   "cell_type": "code",
   "execution_count": 63,
   "metadata": {},
   "outputs": [
    {
     "data": {
      "text/plain": [
       "\"train['Parent_Trap'] = train['Trap'].apply(lambda x: x[:4])\\ntrain['Child_Trap'] = train['Trap'].apply(lambda x: x[4:])\\n\\ntest['Parent_Trap'] = test['Trap'].apply(lambda x: x[:4])\\ntest['Child_Trap'] = test['Trap'].apply(lambda x: x[4:])\""
      ]
     },
     "execution_count": 63,
     "metadata": {},
     "output_type": "execute_result"
    }
   ],
   "source": [
    "#Create columns to show parent trap and child traps\n",
    "'''train['Parent_Trap'] = train['Trap'].apply(lambda x: x[:4])\n",
    "train['Child_Trap'] = train['Trap'].apply(lambda x: x[4:])\n",
    "\n",
    "test['Parent_Trap'] = test['Trap'].apply(lambda x: x[:4])\n",
    "test['Child_Trap'] = test['Trap'].apply(lambda x: x[4:])'''"
   ]
  },
  {
   "cell_type": "code",
   "execution_count": 64,
   "metadata": {},
   "outputs": [
    {
     "data": {
      "text/plain": [
       "\"train[['Parent_Trap', 'Child_Trap']].drop_duplicates().groupby(by = 'Parent_Trap')['Child_Trap'].count().reset_index().     sort_values(by = 'Child_Trap',ascending = False).reset_index(drop = True).head()\""
      ]
     },
     "execution_count": 64,
     "metadata": {},
     "output_type": "execute_result"
    }
   ],
   "source": [
    "#show number of child traps to each parent trap\n",
    "#need to de-duplicate list of traps initally to accomplish this\n",
    "'''train[['Parent_Trap', 'Child_Trap']].drop_duplicates().groupby(by = 'Parent_Trap')['Child_Trap'].count().reset_index(). \\\n",
    "    sort_values(by = 'Child_Trap',ascending = False).reset_index(drop = True).head()'''"
   ]
  },
  {
   "cell_type": "code",
   "execution_count": 65,
   "metadata": {},
   "outputs": [],
   "source": [
    "# Drop num mosquitos column, not present in test set\n",
    "train.drop(columns = 'NumMosquitos', inplace = True)"
   ]
  },
  {
   "cell_type": "markdown",
   "metadata": {},
   "source": [
    "##### Get Dummies for mosquito species"
   ]
  },
  {
   "cell_type": "code",
   "execution_count": 66,
   "metadata": {},
   "outputs": [],
   "source": [
    "def mosquitos_vars(df):\n",
    "    #split wnv transmitting mosquito species lines into separate columns\n",
    "    df['CULEX PIPIENS'] = 0\n",
    "    df['CULEX RESTUANS'] = 0\n",
    "    \n",
    "    for row in range(df.shape[0]):\n",
    "        if df.loc[row, 'Species'] == 'CULEX PIPIENS/RESTUANS':\n",
    "            df.loc[row, 'CULEX PIPIENS'] == 1\n",
    "            df.loc[row, 'CULEX RESTUANS'] == 1\n",
    "        elif df.loc[row, 'Species'] == 'CULEX PIPIENS':\n",
    "            df.loc[row, 'CULEX PIPIENS'] == 1\n",
    "        elif df.loc[row, 'Species'] == 'CULEX RESTUANS':\n",
    "            df.loc[row, 'CULEX RESTUANS'] == 1\n",
    "            \n",
    "    \n",
    "    df.drop(columns = ['Species'], inplace = True)"
   ]
  },
  {
   "cell_type": "code",
   "execution_count": 67,
   "metadata": {},
   "outputs": [],
   "source": [
    "#make dummies for mosquito species\n",
    "mosquitos_vars(train)\n",
    "mosquitos_vars(test)"
   ]
  },
  {
   "cell_type": "markdown",
   "metadata": {},
   "source": [
    "##### Get Dummies for Other Variables"
   ]
  },
  {
   "cell_type": "code",
   "execution_count": 68,
   "metadata": {},
   "outputs": [],
   "source": [
    "train = pd.get_dummies(train, columns = ['Block', 'Trap'])\n",
    "test = pd.get_dummies(test, columns = ['Block', 'Trap'])\n",
    "\n",
    "train.drop(columns = ['Street'], inplace = True)\n",
    "test.drop(columns = ['Street'], inplace = True)\n",
    "\n"
   ]
  },
  {
   "cell_type": "markdown",
   "metadata": {},
   "source": [
    "##### Get Dummies for Time (Week)"
   ]
  },
  {
   "cell_type": "code",
   "execution_count": 70,
   "metadata": {},
   "outputs": [],
   "source": [
    "def get_week(df):\n",
    "    #breaking week, month, and year into separate columns\n",
    "    \n",
    "    df['Week'] = df['Date'].dt.week\n",
    "\n",
    "    #drop date column\n",
    "    df.drop(columns = 'Date', inplace = True)\n",
    "\n",
    "    #get dummies\n",
    "    return pd.get_dummies(df, columns = ['Week'])"
   ]
  },
  {
   "cell_type": "code",
   "execution_count": 71,
   "metadata": {},
   "outputs": [],
   "source": [
    "train = get_week(train)\n",
    "test = get_week(test)"
   ]
  },
  {
   "cell_type": "markdown",
   "metadata": {},
   "source": [
    "##### Drop Misc. Columns"
   ]
  },
  {
   "cell_type": "code",
   "execution_count": 72,
   "metadata": {},
   "outputs": [],
   "source": [
    "train.drop(columns = ['Address', 'AddressNumberAndStreet', 'Latitude', \\\n",
    "                      'Longitude', 'AddressAccuracy'], inplace = True)\\\n",
    "\n",
    "test.drop(columns = ['Address', 'AddressNumberAndStreet', 'Latitude', \\\n",
    "                      'Longitude', 'AddressAccuracy'], inplace = True)"
   ]
  },
  {
   "cell_type": "markdown",
   "metadata": {},
   "source": [
    "### 4. Modeling"
   ]
  },
  {
   "cell_type": "code",
   "execution_count": 73,
   "metadata": {},
   "outputs": [
    {
     "name": "stderr",
     "output_type": "stream",
     "text": [
      "C:\\Users\\peckr\\AppData\\Local\\conda\\conda\\envs\\ga\\lib\\site-packages\\h5py\\__init__.py:36: FutureWarning: Conversion of the second argument of issubdtype from `float` to `np.floating` is deprecated. In future, it will be treated as `np.float64 == np.dtype(float).type`.\n",
      "  from ._conv import register_converters as _register_converters\n",
      "Using TensorFlow backend.\n",
      "Couldn't import dot_parser, loading of dot files will not be possible.\n"
     ]
    }
   ],
   "source": [
    "import matplotlib.pyplot as plt\n",
    "import numpy as np\n",
    "\n",
    "from sklearn.model_selection import train_test_split\n",
    "from sklearn.preprocessing import StandardScaler\n",
    "from sklearn.utils import resample\n",
    "\n",
    "from keras.models import Sequential\n",
    "from keras.layers import Dense, Dropout\n",
    "from keras import regularizers"
   ]
  },
  {
   "cell_type": "markdown",
   "metadata": {},
   "source": [
    "##### Resampling Data for Classification Models"
   ]
  },
  {
   "cell_type": "code",
   "execution_count": 74,
   "metadata": {},
   "outputs": [
    {
     "data": {
      "text/plain": [
       "'0.94755'"
      ]
     },
     "execution_count": 74,
     "metadata": {},
     "output_type": "execute_result"
    }
   ],
   "source": [
    "#this is the baseline accuracy to beat for classification models\n",
    "#if we selected \"WnV is not present for all samples\" we would be correct ~95% of the time\n",
    "format(1 - train['WnvPresent'].sum()/train.shape[0], '.5f')"
   ]
  },
  {
   "cell_type": "code",
   "execution_count": 75,
   "metadata": {},
   "outputs": [],
   "source": [
    "#have to convert to numpy array for keras/tensorflow/classification\n",
    "X = train.drop(columns = 'WnvPresent')\n",
    "y = train['WnvPresent']\n"
   ]
  },
  {
   "cell_type": "code",
   "execution_count": 76,
   "metadata": {},
   "outputs": [],
   "source": [
    "#prep data to enter models\n",
    "X_train, X_test, y_train, y_test = train_test_split(X, y, test_size = 0.4, random_state = 42)"
   ]
  },
  {
   "cell_type": "code",
   "execution_count": 77,
   "metadata": {},
   "outputs": [],
   "source": [
    "#rejoin train data on index so it can be downsampled to match classes\n",
    "traindata = X_train.merge(pd.DataFrame(y_train), how = 'left', right_index = True, left_index = True)\n",
    "\n",
    "#separate minority and majority classes\n",
    "train_majority = traindata[traindata['WnvPresent'] == 0]\n",
    "train_minority = traindata[traindata['WnvPresent'] == 1]\n",
    "\n",
    "#upsample minority class\n",
    "train_minority_upsampled = resample(train_minority, \n",
    "                                     replace = True, \n",
    "                                     n_samples = train_majority.shape[0],\n",
    "                                     random_state = 65)\n",
    "#combine classes\n",
    "train_data_upsampled = pd.concat([train_majority, train_minority_upsampled])\n",
    "#split back into X_train and y_train\n",
    "X_train = train_data_upsampled.drop(columns = 'WnvPresent')\n",
    "y_train = train_data_upsampled['WnvPresent']"
   ]
  },
  {
   "cell_type": "code",
   "execution_count": 78,
   "metadata": {},
   "outputs": [],
   "source": [
    "def drop_columns(df1, df2):\n",
    "    #drop columns in either test/train that are not in the other\n",
    "    \n",
    "    df1cols = df1.columns.tolist()\n",
    "    df2cols = df2.columns.tolist()\n",
    "    \n",
    "    notindf1cols = []\n",
    "    notindf2cols = []\n",
    "    \n",
    "    for col in df1cols:\n",
    "        if col not in df2cols:\n",
    "            notindf2cols.append(col)\n",
    "    \n",
    "    for col in df2cols:\n",
    "        if col not in df1cols:\n",
    "            notindf1cols.append(col)\n",
    "            \n",
    "    df1.drop(columns = notindf2cols, inplace = True)\n",
    "    df2.drop(columns = notindf1cols, inplace = True)"
   ]
  },
  {
   "cell_type": "code",
   "execution_count": 79,
   "metadata": {},
   "outputs": [
    {
     "name": "stderr",
     "output_type": "stream",
     "text": [
      "C:\\Users\\peckr\\AppData\\Local\\conda\\conda\\envs\\ga\\lib\\site-packages\\ipykernel_launcher.py:19: SettingWithCopyWarning: \n",
      "A value is trying to be set on a copy of a slice from a DataFrame\n",
      "\n",
      "See the caveats in the documentation: http://pandas.pydata.org/pandas-docs/stable/indexing.html#indexing-view-versus-copy\n"
     ]
    }
   ],
   "source": [
    "drop_columns(test, X_test)\n",
    "drop_columns(X_train, X_test)"
   ]
  },
  {
   "cell_type": "markdown",
   "metadata": {},
   "source": [
    "#### A. Neural Network"
   ]
  },
  {
   "cell_type": "code",
   "execution_count": 80,
   "metadata": {},
   "outputs": [],
   "source": [
    "testnames = test.columns.tolist()\n",
    "\n",
    "#standardizing data to normalize with a mean of 0 and a stdDev of 1\n",
    "ss = StandardScaler()\n",
    "X_train = ss.fit_transform(X_train)\n",
    "X_test = ss.transform(X_test)\n",
    "\n",
    "test = ss.transform(test)"
   ]
  },
  {
   "cell_type": "code",
   "execution_count": 225,
   "metadata": {},
   "outputs": [],
   "source": [
    "#create model\n",
    "model = Sequential()"
   ]
  },
  {
   "cell_type": "code",
   "execution_count": 226,
   "metadata": {},
   "outputs": [],
   "source": [
    "#network topolgy\n",
    "input_units = X_train.shape[1]\n",
    "hidden_units = 200\n",
    "\n",
    "model.add(Dense(hidden_units, \n",
    "                input_dim = input_units, \n",
    "                activation = 'relu',\n",
    "                kernel_regularizer=regularizers.l2(0.001)))\n",
    "model.add(Dense(hidden_units, \n",
    "               activation = 'relu',))\n",
    "\n",
    "\n",
    "model.add(Dense(1, activation = 'sigmoid'))"
   ]
  },
  {
   "cell_type": "code",
   "execution_count": 227,
   "metadata": {},
   "outputs": [],
   "source": [
    "#compile the model\n",
    "model.compile(loss = 'binary_crossentropy',\n",
    "              optimizer = 'adam',\n",
    "              metrics = ['binary_accuracy'])"
   ]
  },
  {
   "cell_type": "code",
   "execution_count": 228,
   "metadata": {},
   "outputs": [
    {
     "name": "stdout",
     "output_type": "stream",
     "text": [
      "Train on 11948 samples, validate on 4203 samples\n",
      "Epoch 1/10\n",
      "11948/11948 [==============================] - 3s 223us/step - loss: 0.5148 - binary_accuracy: 0.8160 - val_loss: 0.4762 - val_binary_accuracy: 0.8180\n",
      "Epoch 2/10\n",
      "11948/11948 [==============================] - 2s 169us/step - loss: 0.3413 - binary_accuracy: 0.8988 - val_loss: 0.4512 - val_binary_accuracy: 0.8332\n",
      "Epoch 3/10\n",
      "11948/11948 [==============================] - 2s 171us/step - loss: 0.2920 - binary_accuracy: 0.9140 - val_loss: 0.4538 - val_binary_accuracy: 0.8565\n",
      "Epoch 4/10\n",
      "11948/11948 [==============================] - 2s 171us/step - loss: 0.2682 - binary_accuracy: 0.9221 - val_loss: 0.4574 - val_binary_accuracy: 0.8515\n",
      "Epoch 5/10\n",
      "11948/11948 [==============================] - 2s 159us/step - loss: 0.2506 - binary_accuracy: 0.9259 - val_loss: 0.4312 - val_binary_accuracy: 0.8703\n",
      "Epoch 6/10\n",
      "11948/11948 [==============================] - 2s 161us/step - loss: 0.2426 - binary_accuracy: 0.9302 - val_loss: 0.4276 - val_binary_accuracy: 0.8684\n",
      "Epoch 7/10\n",
      "11948/11948 [==============================] - 2s 160us/step - loss: 0.2341 - binary_accuracy: 0.9310 - val_loss: 0.4587 - val_binary_accuracy: 0.8546\n",
      "Epoch 8/10\n",
      "11948/11948 [==============================] - 2s 155us/step - loss: 0.2278 - binary_accuracy: 0.9331 - val_loss: 0.4324 - val_binary_accuracy: 0.8670\n",
      "Epoch 9/10\n",
      "11948/11948 [==============================] - 2s 163us/step - loss: 0.2180 - binary_accuracy: 0.9347 - val_loss: 0.4480 - val_binary_accuracy: 0.8722\n",
      "Epoch 10/10\n",
      "11948/11948 [==============================] - 2s 156us/step - loss: 0.2150 - binary_accuracy: 0.9363 - val_loss: 0.4691 - val_binary_accuracy: 0.8599\n"
     ]
    }
   ],
   "source": [
    "#train the model\n",
    "history = model.fit(X_train, y_train,\n",
    "                   validation_data = (X_test, y_test),\n",
    "                   epochs = 10, \n",
    "                   batch_size = None, \n",
    "                   verbose = 1)"
   ]
  },
  {
   "cell_type": "code",
   "execution_count": 229,
   "metadata": {},
   "outputs": [
    {
     "data": {
      "image/png": "[encoded data removed]",
      "text/plain": [
       "<matplotlib.figure.Figure at 0x1925aa599b0>"
      ]
     },
     "metadata": {},
     "output_type": "display_data"
    }
   ],
   "source": [
    "#plotting accuracy over epochs\n",
    "plt.plot(history.history['val_binary_accuracy'])\n",
    "plt.title('Neural Network Accuracy over Epochs')\n",
    "plt.ylabel('Accurac')\n",
    "plt.xlabel('Epochs');"
   ]
  },
  {
   "cell_type": "code",
   "execution_count": 230,
   "metadata": {},
   "outputs": [
    {
     "data": {
      "image/png": "[encoded data removed]",
      "text/plain": [
       "<matplotlib.figure.Figure at 0x1925a886be0>"
      ]
     },
     "metadata": {},
     "output_type": "display_data"
    }
   ],
   "source": [
    "train_loss = history.history['loss']\n",
    "test_loss = history.history['val_loss']\n",
    "\n",
    "plt.plot(train_loss, label = 'Train loss')\n",
    "plt.plot(test_loss, label = 'Test loss')\n",
    "plt.legend();\n",
    "plt.title('Neural Network Test and Train Loss Over Epochs')\n",
    "plt.ylabel('L2 Loss')\n",
    "plt.xlabel('Epochs');"
   ]
  },
  {
   "cell_type": "code",
   "execution_count": 158,
   "metadata": {},
   "outputs": [
    {
     "data": {
      "text/plain": [
       "0.947180585296217"
      ]
     },
     "execution_count": 158,
     "metadata": {},
     "output_type": "execute_result"
    }
   ],
   "source": [
    "# as predicted from total data set only around 5% of all samples test positive for WnV\n",
    "# preliminarily it appears that from upsampling the wnv cases to get a 50/50 test split\n",
    "# for our neural network we are achieving around 88% accuracy against the test set\n",
    "# compared to our baseline of 95% we would be better off guessing that all do not have WnV\n",
    "1 - y_test.sum()/y_test.shape[0]"
   ]
  },
  {
   "cell_type": "code",
   "execution_count": 159,
   "metadata": {},
   "outputs": [],
   "source": [
    "#need to implement a confusion matrix in order to score this appropriately, will never beat 95%\n",
    "#get keras predictions to make a roc curve/get that roc auc\n",
    "fpr, tpr, _ = roc_curve(y_test, model.predict(X_test))\n",
    "\n",
    "#calculate AUC\n",
    "roc_auc = auc(fpr, tpr)\n",
    "#print a confusion matrix\n",
    "#confusion_matrix(np.array(y_test), model.predict(X_test))"
   ]
  },
  {
   "cell_type": "code",
   "execution_count": 160,
   "metadata": {},
   "outputs": [
    {
     "data": {
      "image/png": "[encoded data removed]",
      "text/plain": [
       "<matplotlib.figure.Figure at 0x1924f001a58>"
      ]
     },
     "metadata": {},
     "output_type": "display_data"
    }
   ],
   "source": [
    "#plot of a ROC curve for a specific class\n",
    "plt.figure()\n",
    "plt.plot(fpr, tpr, label='ROC curve (area = %0.2f)' % roc_auc, color = 'blue')\n",
    "plt.plot([0, 1], [0,1], 'k--')\n",
    "plt.xlim([0.0, 1.0])\n",
    "plt.ylim([0.0, 1.05])\n",
    "plt.xlabel('False Positive Rate')\n",
    "plt.ylabel('True Positive Rate')\n",
    "plt.title('Reciever Operating Characteristic (ROC) Curve')\n",
    "plt.legend(loc=\"lower right\")\n",
    "plt.show()"
   ]
  },
  {
   "cell_type": "markdown",
   "metadata": {},
   "source": [
    "#### B. CART/Decision Trees"
   ]
  },
  {
   "cell_type": "code",
   "execution_count": 90,
   "metadata": {},
   "outputs": [],
   "source": [
    "from sklearn.model_selection import cross_val_score, StratifiedKFold\n",
    "from sklearn.model_selection import GridSearchCV\n",
    "import xgboost as xgb\n",
    "\n",
    "from sklearn.tree import DecisionTreeClassifier\n",
    "from sklearn.ensemble import RandomForestClassifier, ExtraTreesClassifier, BaggingClassifier\n",
    "from sklearn.ensemble import AdaBoostClassifier, GradientBoostingClassifier"
   ]
  },
  {
   "cell_type": "code",
   "execution_count": 91,
   "metadata": {},
   "outputs": [],
   "source": [
    "def CART_model_picker(model_list, X_train, y_train, X_test, y_test):\n",
    "    '''Returns cross-val score and score for all input CART models, returns in sorted order of best performing'''\n",
    "    results = []\n",
    "    \n",
    "    for (k,v) in model_list.items():\n",
    "        scores = cross_val_score(v, X_train, y_train, cv = 5, n_jobs = -1)\n",
    "        v.fit(X_train, y_train)\n",
    "        \n",
    "        #calculate AUC\n",
    "        fpr, tpr, _ = roc_curve(y_test, v.predict(X_test))\n",
    "        roc_auc = auc(fpr, tpr)\n",
    "\n",
    "        results.append((k, scores.mean(), v.score(X_test, y_test), roc_auc))\n",
    "    \n",
    "    results.sort(key = lambda x: x[3], reverse = True)\n",
    "    \n",
    "    return results"
   ]
  },
  {
   "cell_type": "code",
   "execution_count": 92,
   "metadata": {},
   "outputs": [],
   "source": [
    "#setting up stratified kfold\n",
    "cv = StratifiedKFold(n_splits = 5, shuffle = True, random_state = 42)"
   ]
  },
  {
   "cell_type": "code",
   "execution_count": 105,
   "metadata": {},
   "outputs": [],
   "source": [
    "#figure out which CART model performs the best\n",
    "\n",
    "models = {'Decision Tree': DecisionTreeClassifier(),\n",
    "          'Extra Trees': ExtraTreesClassifier(),\n",
    "          'Gradient Boost': GradientBoostingClassifier(),\n",
    "          'AdaBoost': AdaBoostClassifier(),\n",
    "          'Random Forest':RandomForestClassifier(),\n",
    "          'Bagging': BaggingClassifier()\n",
    "         }\n",
    "\n",
    "\n",
    "dt_results = CART_model_picker(models, X_train, y_train, X_test, y_test)"
   ]
  },
  {
   "cell_type": "markdown",
   "metadata": {},
   "source": [
    "##### XGBoost Model"
   ]
  },
  {
   "cell_type": "code",
   "execution_count": 94,
   "metadata": {},
   "outputs": [],
   "source": [
    "xgmodel= xgb.XGBClassifier(seed= 42)\n",
    "\n",
    "eval_set = [(X_train, y_train), (X_test, y_test)]\n",
    "scores = cross_val_score(xgb.XGBClassifier(), X_train, y_train, cv = 5, n_jobs = -1)"
   ]
  },
  {
   "cell_type": "code",
   "execution_count": 95,
   "metadata": {},
   "outputs": [
    {
     "name": "stdout",
     "output_type": "stream",
     "text": [
      "[0]\tvalidation_0-auc:0.64448\tvalidation_1-auc:0.612813\n",
      "[1]\tvalidation_0-auc:0.689261\tvalidation_1-auc:0.662271\n",
      "[2]\tvalidation_0-auc:0.754521\tvalidation_1-auc:0.732405\n",
      "[3]\tvalidation_0-auc:0.754722\tvalidation_1-auc:0.730539\n",
      "[4]\tvalidation_0-auc:0.77765\tvalidation_1-auc:0.752828\n",
      "[5]\tvalidation_0-auc:0.783511\tvalidation_1-auc:0.758694\n",
      "[6]\tvalidation_0-auc:0.783937\tvalidation_1-auc:0.759135\n",
      "[7]\tvalidation_0-auc:0.785266\tvalidation_1-auc:0.758942\n",
      "[8]\tvalidation_0-auc:0.790652\tvalidation_1-auc:0.766767\n",
      "[9]\tvalidation_0-auc:0.791382\tvalidation_1-auc:0.766899\n",
      "[10]\tvalidation_0-auc:0.794957\tvalidation_1-auc:0.768013\n",
      "[11]\tvalidation_0-auc:0.794375\tvalidation_1-auc:0.768183\n",
      "[12]\tvalidation_0-auc:0.802225\tvalidation_1-auc:0.779654\n",
      "[13]\tvalidation_0-auc:0.804056\tvalidation_1-auc:0.781576\n",
      "[14]\tvalidation_0-auc:0.807467\tvalidation_1-auc:0.783379\n",
      "[15]\tvalidation_0-auc:0.810754\tvalidation_1-auc:0.784034\n",
      "[16]\tvalidation_0-auc:0.821608\tvalidation_1-auc:0.789853\n",
      "[17]\tvalidation_0-auc:0.822516\tvalidation_1-auc:0.789982\n",
      "[18]\tvalidation_0-auc:0.822455\tvalidation_1-auc:0.787938\n",
      "[19]\tvalidation_0-auc:0.82227\tvalidation_1-auc:0.788198\n",
      "[20]\tvalidation_0-auc:0.827133\tvalidation_1-auc:0.79135\n",
      "[21]\tvalidation_0-auc:0.827799\tvalidation_1-auc:0.79339\n",
      "[22]\tvalidation_0-auc:0.828554\tvalidation_1-auc:0.791613\n",
      "[23]\tvalidation_0-auc:0.83093\tvalidation_1-auc:0.792606\n",
      "[24]\tvalidation_0-auc:0.831164\tvalidation_1-auc:0.79344\n",
      "[25]\tvalidation_0-auc:0.831737\tvalidation_1-auc:0.793674\n",
      "[26]\tvalidation_0-auc:0.833508\tvalidation_1-auc:0.796504\n",
      "[27]\tvalidation_0-auc:0.834102\tvalidation_1-auc:0.796385\n",
      "[28]\tvalidation_0-auc:0.835003\tvalidation_1-auc:0.797109\n",
      "[29]\tvalidation_0-auc:0.838093\tvalidation_1-auc:0.798433\n",
      "[30]\tvalidation_0-auc:0.83877\tvalidation_1-auc:0.799519\n",
      "[31]\tvalidation_0-auc:0.840424\tvalidation_1-auc:0.799625\n",
      "[32]\tvalidation_0-auc:0.8435\tvalidation_1-auc:0.800772\n",
      "[33]\tvalidation_0-auc:0.844043\tvalidation_1-auc:0.802577\n",
      "[34]\tvalidation_0-auc:0.844485\tvalidation_1-auc:0.803126\n",
      "[35]\tvalidation_0-auc:0.845482\tvalidation_1-auc:0.802815\n",
      "[36]\tvalidation_0-auc:0.846545\tvalidation_1-auc:0.803185\n",
      "[37]\tvalidation_0-auc:0.846726\tvalidation_1-auc:0.80357\n",
      "[38]\tvalidation_0-auc:0.847617\tvalidation_1-auc:0.805072\n",
      "[39]\tvalidation_0-auc:0.848678\tvalidation_1-auc:0.805144\n",
      "[40]\tvalidation_0-auc:0.849693\tvalidation_1-auc:0.804183\n",
      "[41]\tvalidation_0-auc:0.851892\tvalidation_1-auc:0.805602\n",
      "[42]\tvalidation_0-auc:0.852123\tvalidation_1-auc:0.805775\n",
      "[43]\tvalidation_0-auc:0.852211\tvalidation_1-auc:0.80677\n",
      "[44]\tvalidation_0-auc:0.853548\tvalidation_1-auc:0.806825\n",
      "[45]\tvalidation_0-auc:0.853981\tvalidation_1-auc:0.807248\n",
      "[46]\tvalidation_0-auc:0.854843\tvalidation_1-auc:0.807527\n",
      "[47]\tvalidation_0-auc:0.854899\tvalidation_1-auc:0.807451\n",
      "[48]\tvalidation_0-auc:0.856418\tvalidation_1-auc:0.808616\n",
      "[49]\tvalidation_0-auc:0.857531\tvalidation_1-auc:0.80982\n",
      "[50]\tvalidation_0-auc:0.858059\tvalidation_1-auc:0.810208\n",
      "[51]\tvalidation_0-auc:0.859443\tvalidation_1-auc:0.809856\n",
      "[52]\tvalidation_0-auc:0.860103\tvalidation_1-auc:0.809967\n",
      "[53]\tvalidation_0-auc:0.860187\tvalidation_1-auc:0.810105\n",
      "[54]\tvalidation_0-auc:0.861202\tvalidation_1-auc:0.81086\n",
      "[55]\tvalidation_0-auc:0.861202\tvalidation_1-auc:0.811014\n",
      "[56]\tvalidation_0-auc:0.862313\tvalidation_1-auc:0.811466\n",
      "[57]\tvalidation_0-auc:0.863067\tvalidation_1-auc:0.811879\n",
      "[58]\tvalidation_0-auc:0.863321\tvalidation_1-auc:0.81279\n",
      "[59]\tvalidation_0-auc:0.865143\tvalidation_1-auc:0.813779\n",
      "[60]\tvalidation_0-auc:0.866149\tvalidation_1-auc:0.813866\n",
      "[61]\tvalidation_0-auc:0.867103\tvalidation_1-auc:0.81438\n",
      "[62]\tvalidation_0-auc:0.867662\tvalidation_1-auc:0.814023\n",
      "[63]\tvalidation_0-auc:0.867825\tvalidation_1-auc:0.814248\n",
      "[64]\tvalidation_0-auc:0.868062\tvalidation_1-auc:0.81473\n",
      "[65]\tvalidation_0-auc:0.868684\tvalidation_1-auc:0.814824\n",
      "[66]\tvalidation_0-auc:0.868854\tvalidation_1-auc:0.815481\n",
      "[67]\tvalidation_0-auc:0.869492\tvalidation_1-auc:0.815724\n",
      "[68]\tvalidation_0-auc:0.870184\tvalidation_1-auc:0.816263\n",
      "[69]\tvalidation_0-auc:0.870443\tvalidation_1-auc:0.815759\n",
      "[70]\tvalidation_0-auc:0.870699\tvalidation_1-auc:0.815946\n",
      "[71]\tvalidation_0-auc:0.871125\tvalidation_1-auc:0.815783\n",
      "[72]\tvalidation_0-auc:0.872022\tvalidation_1-auc:0.815974\n",
      "[73]\tvalidation_0-auc:0.872372\tvalidation_1-auc:0.81632\n",
      "[74]\tvalidation_0-auc:0.872903\tvalidation_1-auc:0.816054\n",
      "[75]\tvalidation_0-auc:0.873562\tvalidation_1-auc:0.816515\n",
      "[76]\tvalidation_0-auc:0.873968\tvalidation_1-auc:0.816614\n",
      "[77]\tvalidation_0-auc:0.874678\tvalidation_1-auc:0.817429\n",
      "[78]\tvalidation_0-auc:0.875284\tvalidation_1-auc:0.817899\n",
      "[79]\tvalidation_0-auc:0.875724\tvalidation_1-auc:0.817886\n",
      "[80]\tvalidation_0-auc:0.876431\tvalidation_1-auc:0.818387\n",
      "[81]\tvalidation_0-auc:0.876782\tvalidation_1-auc:0.818538\n",
      "[82]\tvalidation_0-auc:0.876918\tvalidation_1-auc:0.818921\n",
      "[83]\tvalidation_0-auc:0.877616\tvalidation_1-auc:0.818549\n",
      "[84]\tvalidation_0-auc:0.878196\tvalidation_1-auc:0.818517\n",
      "[85]\tvalidation_0-auc:0.878554\tvalidation_1-auc:0.818755\n",
      "[86]\tvalidation_0-auc:0.879149\tvalidation_1-auc:0.81938\n",
      "[87]\tvalidation_0-auc:0.879697\tvalidation_1-auc:0.819272\n",
      "[88]\tvalidation_0-auc:0.880278\tvalidation_1-auc:0.819578\n",
      "[89]\tvalidation_0-auc:0.88127\tvalidation_1-auc:0.820305\n",
      "[90]\tvalidation_0-auc:0.881467\tvalidation_1-auc:0.820052\n",
      "[91]\tvalidation_0-auc:0.882065\tvalidation_1-auc:0.820652\n",
      "[92]\tvalidation_0-auc:0.88274\tvalidation_1-auc:0.820724\n",
      "[93]\tvalidation_0-auc:0.88276\tvalidation_1-auc:0.821154\n",
      "[94]\tvalidation_0-auc:0.882783\tvalidation_1-auc:0.821322\n",
      "[95]\tvalidation_0-auc:0.883594\tvalidation_1-auc:0.821352\n",
      "[96]\tvalidation_0-auc:0.884368\tvalidation_1-auc:0.820564\n",
      "[97]\tvalidation_0-auc:0.884533\tvalidation_1-auc:0.820807\n",
      "[98]\tvalidation_0-auc:0.884842\tvalidation_1-auc:0.82096\n",
      "[99]\tvalidation_0-auc:0.885288\tvalidation_1-auc:0.821149\n"
     ]
    },
    {
     "data": {
      "text/plain": [
       "XGBClassifier(base_score=0.5, booster='gbtree', colsample_bylevel=1,\n",
       "       colsample_bytree=1, gamma=0, learning_rate=0.1, max_delta_step=0,\n",
       "       max_depth=3, min_child_weight=1, missing=None, n_estimators=100,\n",
       "       n_jobs=1, nthread=None, objective='binary:logistic', random_state=0,\n",
       "       reg_alpha=0, reg_lambda=1, scale_pos_weight=1, seed=42, silent=True,\n",
       "       subsample=1)"
      ]
     },
     "execution_count": 95,
     "metadata": {},
     "output_type": "execute_result"
    }
   ],
   "source": [
    "xgmodel.fit(X_train, y_train, eval_metric=\"auc\", eval_set=eval_set, verbose=True)"
   ]
  },
  {
   "cell_type": "code",
   "execution_count": 96,
   "metadata": {},
   "outputs": [
    {
     "name": "stderr",
     "output_type": "stream",
     "text": [
      "C:\\Users\\peckr\\AppData\\Local\\conda\\conda\\envs\\ga\\lib\\site-packages\\sklearn\\preprocessing\\label.py:151: DeprecationWarning: The truth value of an empty array is ambiguous. Returning False, but in future this will result in an error. Use `array.size > 0` to check that an array is not empty.\n",
      "  if diff:\n"
     ]
    },
    {
     "data": {
      "text/plain": [
       "0.7487508922198429"
      ]
     },
     "execution_count": 96,
     "metadata": {},
     "output_type": "execute_result"
    }
   ],
   "source": [
    "#score the XGBoost model\n",
    "xgmodel.score(X_test, y_test)"
   ]
  },
  {
   "cell_type": "code",
   "execution_count": 97,
   "metadata": {},
   "outputs": [
    {
     "name": "stderr",
     "output_type": "stream",
     "text": [
      "C:\\Users\\peckr\\AppData\\Local\\conda\\conda\\envs\\ga\\lib\\site-packages\\sklearn\\preprocessing\\label.py:151: DeprecationWarning: The truth value of an empty array is ambiguous. Returning False, but in future this will result in an error. Use `array.size > 0` to check that an array is not empty.\n",
      "  if diff:\n"
     ]
    }
   ],
   "source": [
    "#calculate AUC\n",
    "fpr, tpr, _ = roc_curve(y_test, xgmodel.predict(X_test))\n",
    "roc_auc = auc(fpr, tpr)"
   ]
  },
  {
   "cell_type": "code",
   "execution_count": 98,
   "metadata": {},
   "outputs": [
    {
     "data": {
      "image/png": "[encoded data removed]",
      "text/plain": [
       "<matplotlib.figure.Figure at 0x1924ec071d0>"
      ]
     },
     "metadata": {},
     "output_type": "display_data"
    }
   ],
   "source": [
    "#plot of a ROC curve for a specific class\n",
    "plt.figure()\n",
    "plt.plot(fpr, tpr, label='ROC curve (area = %0.2f)' % roc_auc, color = 'blue')\n",
    "plt.plot([0, 1], [0,1], 'k--')\n",
    "plt.xlim([0.0, 1.0])\n",
    "plt.ylim([0.0, 1.05])\n",
    "plt.xlabel('False Positive Rate')\n",
    "plt.ylabel('True Positive Rate')\n",
    "plt.title('Reciever Operating Characteristic (ROC) Curve')\n",
    "plt.legend(loc=\"lower right\")\n",
    "plt.show()"
   ]
  },
  {
   "cell_type": "markdown",
   "metadata": {},
   "source": [
    "##### Generating Model Submission"
   ]
  },
  {
   "cell_type": "code",
   "execution_count": 99,
   "metadata": {},
   "outputs": [],
   "source": [
    "def create_submission(model):\n",
    "    '''Generates csv for submission from model using model.predict_proba'''\n",
    "    #predicting values for submission\n",
    "    submission = pd.DataFrame(model.predict_proba(test), columns = ['WnvPresent'])\n",
    "    \n",
    "    submission.set_index(np.arange(1, test.shape[0] + 1), inplace=True)\n",
    "    submission = submission.reset_index().rename(columns = {'index':'Id'})\n",
    "    submission.to_csv('~/Desktop/Git_lessons/Project4/westnilevirussubmission.csv', index = False)\n",
    "    print('Submission Created')\n",
    "    "
   ]
  },
  {
   "cell_type": "code",
   "execution_count": 100,
   "metadata": {},
   "outputs": [
    {
     "name": "stdout",
     "output_type": "stream",
     "text": [
      "116293/116293 [==============================] - 5s 44us/step\n",
      "Submission Created\n"
     ]
    }
   ],
   "source": [
    "#create submission for neural network\n",
    "create_submission(model)"
   ]
  },
  {
   "cell_type": "code",
   "execution_count": 101,
   "metadata": {},
   "outputs": [
    {
     "name": "stdout",
     "output_type": "stream",
     "text": [
      "Submission Created\n"
     ]
    }
   ],
   "source": [
    "#predicting values for submission\n",
    "submission = pd.DataFrame(xgmodel.predict_proba(test)[:,1], columns = ['WnvPresent'])\n",
    "\n",
    "submission.set_index(np.arange(1, test.shape[0] + 1), inplace=True)\n",
    "submission = submission.reset_index().rename(columns = {'index':'Id'})\n",
    "submission.to_csv('~/Desktop/Git_lessons/Project4/westnilevirussubmission.csv', index = False)\n",
    "print('Submission Created')"
   ]
  },
  {
   "cell_type": "code",
   "execution_count": 102,
   "metadata": {},
   "outputs": [],
   "source": [
    "#show features for xgboost model\n",
    "xg_importances = pd.DataFrame(sorted(zip(testnames, xgmodel.feature_importances_), reverse = True), columns = ['Variable', 'Importance']).set_index('Variable')"
   ]
  },
  {
   "cell_type": "code",
   "execution_count": 207,
   "metadata": {},
   "outputs": [
    {
     "data": {
      "text/plain": [
       "Text(0.5,1,'XGBoost Feature Importances')"
      ]
     },
     "execution_count": 207,
     "metadata": {},
     "output_type": "execute_result"
    },
    {
     "data": {
      "image/png": "[encoded data removed]",
      "text/plain": [
       "<matplotlib.figure.Figure at 0x1924e1d4438>"
      ]
     },
     "metadata": {},
     "output_type": "display_data"
    }
   ],
   "source": [
    "xg_importances.sort_values(by = 'Importance', ascending = False).iloc[:20,:].plot(kind = 'bar')\n",
    "plt.title('XGBoost Feature Importances')"
   ]
  },
  {
   "cell_type": "code",
   "execution_count": 231,
   "metadata": {},
   "outputs": [],
   "source": [
    "names = []\n",
    "scores = []\n",
    "for dt in dt_results:\n",
    "    names.append(dt[:][0])\n",
    "    scores.append(dt[:][2])\n",
    "    "
   ]
  },
  {
   "cell_type": "code",
   "execution_count": 232,
   "metadata": {},
   "outputs": [
    {
     "data": {
      "text/plain": [
       "['Gradient Boost',\n",
       " 'AdaBoost',\n",
       " 'Decision Tree',\n",
       " 'Bagging',\n",
       " 'Random Forest',\n",
       " 'Extra Trees']"
      ]
     },
     "execution_count": 232,
     "metadata": {},
     "output_type": "execute_result"
    }
   ],
   "source": [
    "names"
   ]
  },
  {
   "cell_type": "code",
   "execution_count": 233,
   "metadata": {},
   "outputs": [
    {
     "data": {
      "text/plain": [
       "[0.7637401855817273,\n",
       " 0.728527242445872,\n",
       " 0.8636688079942898,\n",
       " 0.8698548655722104,\n",
       " 0.8843683083511777,\n",
       " 0.881037354270759]"
      ]
     },
     "execution_count": 233,
     "metadata": {},
     "output_type": "execute_result"
    }
   ],
   "source": [
    "scores"
   ]
  },
  {
   "cell_type": "code",
   "execution_count": 234,
   "metadata": {},
   "outputs": [
    {
     "data": {
      "text/plain": [
       "Text(0.5,1,'Test Scores of CART Models')"
      ]
     },
     "execution_count": 234,
     "metadata": {},
     "output_type": "execute_result"
    },
    {
     "data": {
      "image/png": "[encoded data removed]",
      "text/plain": [
       "<matplotlib.figure.Figure at 0x1925a91f2e8>"
      ]
     },
     "metadata": {},
     "output_type": "display_data"
    }
   ],
   "source": [
    "pd.DataFrame(list(zip(names, scores)), columns = ['Model', 'Test_Score']).set_index('Model').sort_values(by = 'Test_Score', ascending = False).plot(kind = 'bar')\n",
    "plt.title('Test Scores of CART Models')"
   ]
  },
  {
   "cell_type": "code",
   "execution_count": null,
   "metadata": {},
   "outputs": [],
   "source": []
  }
 ],
 "metadata": {
  "kernelspec": {
   "display_name": "Python 3",
   "language": "python",
   "name": "python3"
  },
  "language_info": {
   "codemirror_mode": {
    "name": "ipython",
    "version": 3
   },
   "file_extension": ".py",
   "mimetype": "text/x-python",
   "name": "python",
   "nbconvert_exporter": "python",
   "pygments_lexer": "ipython3",
   "version": "3.5.4"
  }
 },
 "nbformat": 4,
 "nbformat_minor": 2
}
