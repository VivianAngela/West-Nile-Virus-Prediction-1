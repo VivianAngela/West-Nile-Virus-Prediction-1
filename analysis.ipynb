{
 "cells": [
  {
   "cell_type": "markdown",
   "metadata": {},
   "source": [
    "# West Nile Virus prediction"
   ]
  },
  {
   "cell_type": "markdown",
   "metadata": {},
   "source": [
    "### Import libraries"
   ]
  },
  {
   "cell_type": "code",
   "execution_count": 68,
   "metadata": {},
   "outputs": [],
   "source": [
    "import pandas as pd\n",
    "import seaborn as sns\n",
    "import numpy as np\n",
    "import matplotlib.pyplot as plt\n",
    "%matplotlib inline\n",
    "\n",
    "from sklearn.model_selection import cross_val_score, train_test_split, StratifiedKFold, GridSearchCV\n",
    "from sklearn.metrics import classification_report, confusion_matrix, roc_curve, auc\n",
    "from sklearn.preprocessing import FunctionTransformer, StandardScaler\n",
    "from sklearn.utils import resample\n",
    "\n",
    "from sklearn.cluster import DBSCAN\n",
    "\n",
    "from sklearn.tree import DecisionTreeClassifier\n",
    "from sklearn.ensemble import RandomForestClassifier, ExtraTreesClassifier, BaggingClassifier\n",
    "from sklearn.ensemble import AdaBoostClassifier, GradientBoostingClassifier\n",
    "import xgboost as xgb\n",
    "\n",
    "from keras.models import Sequential\n",
    "from keras.layers import Dense\n",
    "\n",
    "sns.set_style(\"darkgrid\")"
   ]
  },
  {
   "cell_type": "markdown",
   "metadata": {},
   "source": [
    "### Load Data"
   ]
  },
  {
   "cell_type": "code",
   "execution_count": 69,
   "metadata": {},
   "outputs": [],
   "source": [
    "wx = pd.read_csv(\"data/weather.csv\")\n",
    "spray = pd.read_csv(\"data/spray.csv\")\n",
    "train = pd.read_csv(\"data/train.csv\")\n",
    "ss = pd.read_csv(\"data/sampleSubmission.csv\")"
   ]
  },
  {
   "cell_type": "markdown",
   "metadata": {},
   "source": [
    "### Exploratory Data Analysis, Cleaning"
   ]
  },
  {
   "cell_type": "code",
   "execution_count": 70,
   "metadata": {},
   "outputs": [],
   "source": [
    "train['Date'] = pd.to_datetime(train['Date'])"
   ]
  },
  {
   "cell_type": "code",
   "execution_count": 71,
   "metadata": {},
   "outputs": [],
   "source": [
    "spray['Date'] = pd.to_datetime(spray['Date'])\n",
    "spray['am_pm'] = spray['Time'].apply(lambda x: str(x).split()[-1])\n",
    "spray['Time'] = spray['Time'].apply(lambda x: str(x).split()[0])\n",
    "\n",
    "# spray['Time'] = pd.to_datetime(spray['Time'], format = '%H:%M:%S')"
   ]
  },
  {
   "cell_type": "code",
   "execution_count": 72,
   "metadata": {},
   "outputs": [],
   "source": [
    "#converting Weather columns to datetime\n",
    "wx['Date'] = pd.to_datetime(wx['Date'])"
   ]
  },
  {
   "cell_type": "code",
   "execution_count": 73,
   "metadata": {},
   "outputs": [],
   "source": [
    "wx_sm = wx[['Date', 'Station', 'Tavg']].copy()"
   ]
  },
  {
   "cell_type": "code",
   "execution_count": 74,
   "metadata": {},
   "outputs": [
    {
     "data": {
      "image/png": "[encoded data removed]",
      "text/plain": [
       "<matplotlib.figure.Figure at 0x1a1f5cecc0>"
      ]
     },
     "metadata": {},
     "output_type": "display_data"
    }
   ],
   "source": [
    "#plotted mosquitos by trap by date\n",
    "train[['Date', 'Trap', 'NumMosquitos']].groupby(by = ['Date','Trap'])['Date','Trap','NumMosquitos'] \\\n",
    "    .sum().reset_index().sort_values('NumMosquitos', ascending = False).set_index('Date').plot(style = '.')\n",
    "    \n",
    "plt.title('Mosquitos by Trap over Time');"
   ]
  },
  {
   "cell_type": "markdown",
   "metadata": {},
   "source": [
    "### Feature Engineering"
   ]
  },
  {
   "cell_type": "markdown",
   "metadata": {},
   "source": [
    "#### Find closest Wx station"
   ]
  },
  {
   "cell_type": "code",
   "execution_count": 75,
   "metadata": {},
   "outputs": [],
   "source": [
    "from haversine import haversine"
   ]
  },
  {
   "cell_type": "markdown",
   "metadata": {},
   "source": [
    "#### It looks like a trap moved, or has two different locations:"
   ]
  },
  {
   "cell_type": "code",
   "execution_count": 76,
   "metadata": {},
   "outputs": [
    {
     "data": {
      "text/plain": [
       "138"
      ]
     },
     "execution_count": 76,
     "metadata": {},
     "output_type": "execute_result"
    }
   ],
   "source": [
    "len(train.Latitude.unique())"
   ]
  },
  {
   "cell_type": "code",
   "execution_count": 77,
   "metadata": {},
   "outputs": [
    {
     "data": {
      "text/plain": [
       "136"
      ]
     },
     "execution_count": 77,
     "metadata": {},
     "output_type": "execute_result"
    }
   ],
   "source": [
    "len(train.Trap.unique())"
   ]
  },
  {
   "cell_type": "markdown",
   "metadata": {},
   "source": [
    "#### Explore trap locations in the context of nearest weather station"
   ]
  },
  {
   "cell_type": "code",
   "execution_count": 78,
   "metadata": {},
   "outputs": [],
   "source": [
    "traps = train[['Trap', 'Latitude', 'Longitude']].drop_duplicates(['Trap']).reset_index(drop=True)"
   ]
  },
  {
   "cell_type": "code",
   "execution_count": 79,
   "metadata": {},
   "outputs": [],
   "source": [
    "locations = []\n",
    "for i in range(len(traps)):\n",
    "    locations.append((traps['Latitude'][i], traps['Longitude'][i]))"
   ]
  },
  {
   "cell_type": "code",
   "execution_count": 80,
   "metadata": {},
   "outputs": [],
   "source": [
    "ll = pd.Series(locations)\n",
    "traps['Location'] = ll.values"
   ]
  },
  {
   "cell_type": "code",
   "execution_count": 81,
   "metadata": {},
   "outputs": [
    {
     "data": {
      "text/html": [
       "<div>\n",
       "<style scoped>\n",
       "    .dataframe tbody tr th:only-of-type {\n",
       "        vertical-align: middle;\n",
       "    }\n",
       "\n",
       "    .dataframe tbody tr th {\n",
       "        vertical-align: top;\n",
       "    }\n",
       "\n",
       "    .dataframe thead th {\n",
       "        text-align: right;\n",
       "    }\n",
       "</style>\n",
       "<table border=\"1\" class=\"dataframe\">\n",
       "  <thead>\n",
       "    <tr style=\"text-align: right;\">\n",
       "      <th></th>\n",
       "      <th>Trap</th>\n",
       "      <th>Latitude</th>\n",
       "      <th>Longitude</th>\n",
       "      <th>Location</th>\n",
       "    </tr>\n",
       "  </thead>\n",
       "  <tbody>\n",
       "    <tr>\n",
       "      <th>0</th>\n",
       "      <td>T002</td>\n",
       "      <td>41.954690</td>\n",
       "      <td>-87.800991</td>\n",
       "      <td>(41.95469, -87.800991)</td>\n",
       "    </tr>\n",
       "    <tr>\n",
       "      <th>1</th>\n",
       "      <td>T007</td>\n",
       "      <td>41.994991</td>\n",
       "      <td>-87.769279</td>\n",
       "      <td>(41.994991, -87.769279)</td>\n",
       "    </tr>\n",
       "    <tr>\n",
       "      <th>2</th>\n",
       "      <td>T015</td>\n",
       "      <td>41.974089</td>\n",
       "      <td>-87.824812</td>\n",
       "      <td>(41.974089, -87.824812)</td>\n",
       "    </tr>\n",
       "    <tr>\n",
       "      <th>3</th>\n",
       "      <td>T045</td>\n",
       "      <td>41.921600</td>\n",
       "      <td>-87.666455</td>\n",
       "      <td>(41.9216, -87.666455)</td>\n",
       "    </tr>\n",
       "    <tr>\n",
       "      <th>4</th>\n",
       "      <td>T046</td>\n",
       "      <td>41.891118</td>\n",
       "      <td>-87.654491</td>\n",
       "      <td>(41.891118, -87.654491)</td>\n",
       "    </tr>\n",
       "  </tbody>\n",
       "</table>\n",
       "</div>"
      ],
      "text/plain": [
       "   Trap   Latitude  Longitude                 Location\n",
       "0  T002  41.954690 -87.800991   (41.95469, -87.800991)\n",
       "1  T007  41.994991 -87.769279  (41.994991, -87.769279)\n",
       "2  T015  41.974089 -87.824812  (41.974089, -87.824812)\n",
       "3  T045  41.921600 -87.666455    (41.9216, -87.666455)\n",
       "4  T046  41.891118 -87.654491  (41.891118, -87.654491)"
      ]
     },
     "execution_count": 81,
     "metadata": {},
     "output_type": "execute_result"
    }
   ],
   "source": [
    "traps.head()"
   ]
  },
  {
   "cell_type": "code",
   "execution_count": 82,
   "metadata": {},
   "outputs": [],
   "source": [
    "# Station 1: CHICAGO O'HARE INTERNATIONAL AIRPORT Lat: 41.995 Lon: -87.933 Elev: 662 ft. above sea level\n",
    "st1 = (41.995, -87.933)\n",
    "\n",
    "# Station 2: CHICAGO MIDWAY INTL ARPT Lat: 41.786 Lon: -87.752 Elev: 612 ft. above sea level\n",
    "st2 = (41.786, -87.752)"
   ]
  },
  {
   "cell_type": "code",
   "execution_count": 83,
   "metadata": {},
   "outputs": [
    {
     "name": "stdout",
     "output_type": "stream",
     "text": [
      "# of st1: 39\n",
      "# of st2: 97\n"
     ]
    }
   ],
   "source": [
    "my_list = []\n",
    "for location in locations:\n",
    "    if haversine(st2, location) < haversine(st1, location):\n",
    "        my_list.append(2)\n",
    "    else:\n",
    "        my_list.append(1)\n",
    "\n",
    "print('# of st1:', my_list.count(1))\n",
    "print('# of st2:', my_list.count(2))"
   ]
  },
  {
   "cell_type": "code",
   "execution_count": 84,
   "metadata": {},
   "outputs": [],
   "source": [
    "import math\n",
    "\n",
    "#initialize variables\n",
    "radius = 6371 #km\n",
    "\n",
    "# custom Great Circle Distance (haversine) function\n",
    "def GCD(lat1,lon1,lat2,lon2):\n",
    "    #code goes here\n",
    "    sin1 = math.sin(math.radians(lat1))\n",
    "    sin2 = math.sin(math.radians(lat2))\n",
    "    cos1 = math.cos(math.radians(lat1))\n",
    "    cos2 = math.cos(math.radians(lat2))\n",
    "    dellon = math.cos(abs(math.radians(lon2-lon1)))\n",
    "    \n",
    "    delsigma = math.acos(sin1*sin2 + cos1*cos2*dellon)\n",
    "\n",
    "    d = radius*delsigma\n",
    "    return d"
   ]
  },
  {
   "cell_type": "code",
   "execution_count": 85,
   "metadata": {},
   "outputs": [],
   "source": [
    "# Wx station 1 coordinates\n",
    "lat1 = 41.995\n",
    "lat2 = 41.786\n",
    "\n",
    "# Wx station 2 coordinates\n",
    "lon1 = -87.933\n",
    "lon2 = -87.752"
   ]
  },
  {
   "cell_type": "code",
   "execution_count": 86,
   "metadata": {},
   "outputs": [],
   "source": [
    "# calculate distance between trap and each Wx station\n",
    "# assign trap to appropriate station (closest)\n",
    "\n",
    "train['Station'] = 1\n",
    "\n",
    "for i in range(train.shape[0]):\n",
    "    if GCD(lat1, lon1, train.loc[i, 'Latitude'], train.loc[i, 'Longitude']) > GCD(lat2, lon2, train.loc[i, 'Latitude'], train.loc[i, 'Longitude']):\n",
    "        train.loc[i,'Station'] = 2"
   ]
  },
  {
   "cell_type": "code",
   "execution_count": 87,
   "metadata": {},
   "outputs": [
    {
     "data": {
      "text/plain": [
       "array([1, 2])"
      ]
     },
     "execution_count": 87,
     "metadata": {},
     "output_type": "execute_result"
    }
   ],
   "source": [
    "# verify results\n",
    "train['Station'].unique()"
   ]
  },
  {
   "cell_type": "markdown",
   "metadata": {},
   "source": [
    "### Merge Wx data on to train data"
   ]
  },
  {
   "cell_type": "code",
   "execution_count": 88,
   "metadata": {},
   "outputs": [],
   "source": [
    "train = train.merge(wx_sm, how = 'left', on = ['Date','Station'])"
   ]
  },
  {
   "cell_type": "code",
   "execution_count": 89,
   "metadata": {},
   "outputs": [
    {
     "data": {
      "text/plain": [
       "Station\n",
       "1    3298\n",
       "2    7208\n",
       "Name: Station, dtype: int64"
      ]
     },
     "execution_count": 89,
     "metadata": {},
     "output_type": "execute_result"
    }
   ],
   "source": [
    "# verify merge on Wx stations\n",
    "train.groupby(by ='Station')['Station'].count()"
   ]
  },
  {
   "cell_type": "code",
   "execution_count": 90,
   "metadata": {
    "scrolled": true
   },
   "outputs": [],
   "source": [
    "# drop variables not needed for predicting WNV\n",
    "train.drop(columns=['AddressAccuracy','AddressNumberAndStreet', 'Block', 'Street', \n",
    "                    'Address', 'Station', 'Latitude', 'Longitude'], inplace=True)"
   ]
  },
  {
   "cell_type": "markdown",
   "metadata": {},
   "source": [
    "### Get dummies for unique mosquito species"
   ]
  },
  {
   "cell_type": "code",
   "execution_count": 91,
   "metadata": {},
   "outputs": [],
   "source": [
    "# split out dual mosqito species lines into separate columns\n",
    "train['Species'] = train['Species'].apply(lambda x: x.split('/'))\n",
    "\n",
    "train['Species1'] = train['Species'].apply(lambda x: 'CULEX ' + x[1] if len(x) == 2 else 'NaN')\n",
    "train['Species0'] = train['Species'].apply(lambda x: x[0])"
   ]
  },
  {
   "cell_type": "code",
   "execution_count": 92,
   "metadata": {},
   "outputs": [],
   "source": [
    "# get dummies for mosquito species\n",
    "train = pd.get_dummies(train, prefix = 'Species', columns = ['Species0'])"
   ]
  },
  {
   "cell_type": "code",
   "execution_count": 93,
   "metadata": {},
   "outputs": [],
   "source": [
    "# add in the RESTUANS species from the split column\n",
    "for i in range(train.shape[0]):\n",
    "    if train.loc[i, 'Species1'] == 'CULEX RESTUANS':\n",
    "        train.loc[i,'Species_CULEX RESTUANS'] = 1"
   ]
  },
  {
   "cell_type": "code",
   "execution_count": 94,
   "metadata": {},
   "outputs": [],
   "source": [
    "# drop the species column\n",
    "train.drop(columns = ['Species','Species1'], inplace = True)"
   ]
  },
  {
   "cell_type": "code",
   "execution_count": 95,
   "metadata": {},
   "outputs": [],
   "source": [
    "# separate week, month, and year\n",
    "train['Week'] = train['Date'].dt.week\n",
    "train['Month'] = train['Date'].dt.month\n",
    "train['Year'] = train['Date'].dt.year\n",
    "\n",
    "# drop date column\n",
    "train.drop(columns = 'Date', inplace = True)\n",
    "\n",
    "#get dummies\n",
    "train = pd.get_dummies(train, columns = ['Week', 'Month', 'Year', 'Trap'])"
   ]
  },
  {
   "cell_type": "markdown",
   "metadata": {},
   "source": [
    "### Clustering spray data\n",
    "##### Assign traps as sprayed or not sprayed"
   ]
  },
  {
   "cell_type": "code",
   "execution_count": 96,
   "metadata": {},
   "outputs": [
    {
     "data": {
      "text/plain": [
       "<matplotlib.image.AxesImage at 0x10d0c5780>"
      ]
     },
     "execution_count": 96,
     "metadata": {},
     "output_type": "execute_result"
    },
    {
     "data": {
      "image/png": "[encoded data removed]",
      "text/plain": [
       "<matplotlib.figure.Figure at 0x1a29915e48>"
      ]
     },
     "metadata": {},
     "output_type": "display_data"
    }
   ],
   "source": [
    "mapdata = np.loadtxt(\"data/mapdata_copyright_openstreetmap_contributors.txt\")\n",
    "plt.imshow(mapdata, cmap = plt.get_cmap('gray'))\n",
    "# plt.savefig('map.png')"
   ]
  },
  {
   "cell_type": "code",
   "execution_count": 97,
   "metadata": {},
   "outputs": [
    {
     "data": {
      "text/plain": [
       "array(['2011-08-29T00:00:00.000000000', '2011-09-07T00:00:00.000000000',\n",
       "       '2013-07-17T00:00:00.000000000', '2013-07-25T00:00:00.000000000',\n",
       "       '2013-08-08T00:00:00.000000000', '2013-08-15T00:00:00.000000000',\n",
       "       '2013-08-16T00:00:00.000000000', '2013-08-22T00:00:00.000000000',\n",
       "       '2013-08-29T00:00:00.000000000', '2013-09-05T00:00:00.000000000'], dtype='datetime64[ns]')"
      ]
     },
     "execution_count": 97,
     "metadata": {},
     "output_type": "execute_result"
    }
   ],
   "source": [
    "spray.Date.unique()"
   ]
  },
  {
   "cell_type": "code",
   "execution_count": 98,
   "metadata": {},
   "outputs": [],
   "source": [
    "# create column for sprayed (values: [1, 0]) if trap has been sprayed yet that year"
   ]
  },
  {
   "cell_type": "code",
   "execution_count": 99,
   "metadata": {},
   "outputs": [],
   "source": [
    "# plt.scatter(train.Longitude, train.Latitude, color='b')\n",
    "# plt.scatter(spray.Longitude, spray.Latitude, color='red')\n"
   ]
  },
  {
   "cell_type": "code",
   "execution_count": 100,
   "metadata": {},
   "outputs": [],
   "source": [
    "# import hdbscan"
   ]
  },
  {
   "cell_type": "code",
   "execution_count": 101,
   "metadata": {},
   "outputs": [],
   "source": [
    "# clusterer = hdbscan.HDBSCAN(min_cluster_size=5, gen_min_span_tree=True)\n",
    "# clusterer.fit"
   ]
  },
  {
   "cell_type": "code",
   "execution_count": null,
   "metadata": {},
   "outputs": [],
   "source": []
  },
  {
   "cell_type": "markdown",
   "metadata": {},
   "source": [
    "# Modeling"
   ]
  },
  {
   "cell_type": "code",
   "execution_count": 102,
   "metadata": {},
   "outputs": [
    {
     "data": {
      "text/plain": [
       "'0.94755'"
      ]
     },
     "execution_count": 102,
     "metadata": {},
     "output_type": "execute_result"
    }
   ],
   "source": [
    "# Baseline accuracy is 94.76%\n",
    "format(1 - train['WnvPresent'].sum()/train.shape[0], '.5f')"
   ]
  },
  {
   "cell_type": "code",
   "execution_count": 103,
   "metadata": {},
   "outputs": [],
   "source": [
    "# independent variables/ features to predict presence of WNV\n",
    "X = train.drop(columns = 'WnvPresent')\n",
    "# target\n",
    "y = train['WnvPresent']"
   ]
  },
  {
   "cell_type": "code",
   "execution_count": 130,
   "metadata": {},
   "outputs": [],
   "source": [
    "# split training and test data (70-30) \n",
    "# random state=42 for reproducability\n",
    "# stratify on WNV to balance classes\n",
    "X_train, X_test, y_train, y_test = train_test_split(X, y, test_size=0.3, \n",
    "                                                    random_state=42, stratify=train['WnvPresent'])"
   ]
  },
  {
   "cell_type": "code",
   "execution_count": 131,
   "metadata": {},
   "outputs": [],
   "source": [
    "# standardizing data to normalize with a mean of 0 and a stdDev of 1\n",
    "ss = StandardScaler()\n",
    "X_train = ss.fit_transform(X_train)\n",
    "X_test = ss.transform(X_test)"
   ]
  },
  {
   "cell_type": "code",
   "execution_count": 137,
   "metadata": {},
   "outputs": [],
   "source": [
    "# create neural network\n",
    "model = Sequential()\n",
    "\n",
    "input_units = X_train.shape[1]\n",
    "hidden_units = round(input_units)\n",
    "\n",
    "model.add(Dense(hidden_units, \n",
    "                input_dim = input_units, \n",
    "                activation = 'relu'))\n",
    "\n",
    "model.add(Dense(1, activation = 'sigmoid'))\n",
    "\n",
    "model.add(Dense(1, activation = 'relu'))\n",
    "\n",
    "model.compile(loss = 'binary_crossentropy',\n",
    "              optimizer = 'adam',\n",
    "              metrics = ['binary_accuracy'])"
   ]
  },
  {
   "cell_type": "code",
   "execution_count": 133,
   "metadata": {},
   "outputs": [
    {
     "data": {
      "text/html": [
       "<div>\n",
       "<style scoped>\n",
       "    .dataframe tbody tr th:only-of-type {\n",
       "        vertical-align: middle;\n",
       "    }\n",
       "\n",
       "    .dataframe tbody tr th {\n",
       "        vertical-align: top;\n",
       "    }\n",
       "\n",
       "    .dataframe thead th {\n",
       "        text-align: right;\n",
       "    }\n",
       "</style>\n",
       "<table border=\"1\" class=\"dataframe\">\n",
       "  <thead>\n",
       "    <tr style=\"text-align: right;\">\n",
       "      <th></th>\n",
       "      <th>NumMosquitos</th>\n",
       "      <th>WnvPresent</th>\n",
       "      <th>Tavg</th>\n",
       "      <th>Species_CULEX ERRATICUS</th>\n",
       "      <th>Species_CULEX PIPIENS</th>\n",
       "      <th>Species_CULEX RESTUANS</th>\n",
       "      <th>Species_CULEX SALINARIUS</th>\n",
       "      <th>Species_CULEX TARSALIS</th>\n",
       "      <th>Species_CULEX TERRITANS</th>\n",
       "      <th>Week_22</th>\n",
       "      <th>...</th>\n",
       "      <th>Trap_T230</th>\n",
       "      <th>Trap_T231</th>\n",
       "      <th>Trap_T232</th>\n",
       "      <th>Trap_T233</th>\n",
       "      <th>Trap_T235</th>\n",
       "      <th>Trap_T236</th>\n",
       "      <th>Trap_T237</th>\n",
       "      <th>Trap_T238</th>\n",
       "      <th>Trap_T900</th>\n",
       "      <th>Trap_T903</th>\n",
       "    </tr>\n",
       "  </thead>\n",
       "  <tbody>\n",
       "    <tr>\n",
       "      <th>0</th>\n",
       "      <td>1</td>\n",
       "      <td>0</td>\n",
       "      <td>74</td>\n",
       "      <td>0</td>\n",
       "      <td>1</td>\n",
       "      <td>1</td>\n",
       "      <td>0</td>\n",
       "      <td>0</td>\n",
       "      <td>0</td>\n",
       "      <td>1</td>\n",
       "      <td>...</td>\n",
       "      <td>0</td>\n",
       "      <td>0</td>\n",
       "      <td>0</td>\n",
       "      <td>0</td>\n",
       "      <td>0</td>\n",
       "      <td>0</td>\n",
       "      <td>0</td>\n",
       "      <td>0</td>\n",
       "      <td>0</td>\n",
       "      <td>0</td>\n",
       "    </tr>\n",
       "    <tr>\n",
       "      <th>1</th>\n",
       "      <td>1</td>\n",
       "      <td>0</td>\n",
       "      <td>74</td>\n",
       "      <td>0</td>\n",
       "      <td>0</td>\n",
       "      <td>1</td>\n",
       "      <td>0</td>\n",
       "      <td>0</td>\n",
       "      <td>0</td>\n",
       "      <td>1</td>\n",
       "      <td>...</td>\n",
       "      <td>0</td>\n",
       "      <td>0</td>\n",
       "      <td>0</td>\n",
       "      <td>0</td>\n",
       "      <td>0</td>\n",
       "      <td>0</td>\n",
       "      <td>0</td>\n",
       "      <td>0</td>\n",
       "      <td>0</td>\n",
       "      <td>0</td>\n",
       "    </tr>\n",
       "    <tr>\n",
       "      <th>2</th>\n",
       "      <td>1</td>\n",
       "      <td>0</td>\n",
       "      <td>74</td>\n",
       "      <td>0</td>\n",
       "      <td>0</td>\n",
       "      <td>1</td>\n",
       "      <td>0</td>\n",
       "      <td>0</td>\n",
       "      <td>0</td>\n",
       "      <td>1</td>\n",
       "      <td>...</td>\n",
       "      <td>0</td>\n",
       "      <td>0</td>\n",
       "      <td>0</td>\n",
       "      <td>0</td>\n",
       "      <td>0</td>\n",
       "      <td>0</td>\n",
       "      <td>0</td>\n",
       "      <td>0</td>\n",
       "      <td>0</td>\n",
       "      <td>0</td>\n",
       "    </tr>\n",
       "    <tr>\n",
       "      <th>3</th>\n",
       "      <td>1</td>\n",
       "      <td>0</td>\n",
       "      <td>74</td>\n",
       "      <td>0</td>\n",
       "      <td>1</td>\n",
       "      <td>1</td>\n",
       "      <td>0</td>\n",
       "      <td>0</td>\n",
       "      <td>0</td>\n",
       "      <td>1</td>\n",
       "      <td>...</td>\n",
       "      <td>0</td>\n",
       "      <td>0</td>\n",
       "      <td>0</td>\n",
       "      <td>0</td>\n",
       "      <td>0</td>\n",
       "      <td>0</td>\n",
       "      <td>0</td>\n",
       "      <td>0</td>\n",
       "      <td>0</td>\n",
       "      <td>0</td>\n",
       "    </tr>\n",
       "    <tr>\n",
       "      <th>4</th>\n",
       "      <td>4</td>\n",
       "      <td>0</td>\n",
       "      <td>74</td>\n",
       "      <td>0</td>\n",
       "      <td>0</td>\n",
       "      <td>1</td>\n",
       "      <td>0</td>\n",
       "      <td>0</td>\n",
       "      <td>0</td>\n",
       "      <td>1</td>\n",
       "      <td>...</td>\n",
       "      <td>0</td>\n",
       "      <td>0</td>\n",
       "      <td>0</td>\n",
       "      <td>0</td>\n",
       "      <td>0</td>\n",
       "      <td>0</td>\n",
       "      <td>0</td>\n",
       "      <td>0</td>\n",
       "      <td>0</td>\n",
       "      <td>0</td>\n",
       "    </tr>\n",
       "  </tbody>\n",
       "</table>\n",
       "<p>5 rows × 175 columns</p>\n",
       "</div>"
      ],
      "text/plain": [
       "   NumMosquitos  WnvPresent Tavg  Species_CULEX ERRATICUS  \\\n",
       "0             1           0   74                        0   \n",
       "1             1           0   74                        0   \n",
       "2             1           0   74                        0   \n",
       "3             1           0   74                        0   \n",
       "4             4           0   74                        0   \n",
       "\n",
       "   Species_CULEX PIPIENS  Species_CULEX RESTUANS  Species_CULEX SALINARIUS  \\\n",
       "0                      1                       1                         0   \n",
       "1                      0                       1                         0   \n",
       "2                      0                       1                         0   \n",
       "3                      1                       1                         0   \n",
       "4                      0                       1                         0   \n",
       "\n",
       "   Species_CULEX TARSALIS  Species_CULEX TERRITANS  Week_22    ...      \\\n",
       "0                       0                        0        1    ...       \n",
       "1                       0                        0        1    ...       \n",
       "2                       0                        0        1    ...       \n",
       "3                       0                        0        1    ...       \n",
       "4                       0                        0        1    ...       \n",
       "\n",
       "   Trap_T230  Trap_T231  Trap_T232  Trap_T233  Trap_T235  Trap_T236  \\\n",
       "0          0          0          0          0          0          0   \n",
       "1          0          0          0          0          0          0   \n",
       "2          0          0          0          0          0          0   \n",
       "3          0          0          0          0          0          0   \n",
       "4          0          0          0          0          0          0   \n",
       "\n",
       "   Trap_T237  Trap_T238  Trap_T900  Trap_T903  \n",
       "0          0          0          0          0  \n",
       "1          0          0          0          0  \n",
       "2          0          0          0          0  \n",
       "3          0          0          0          0  \n",
       "4          0          0          0          0  \n",
       "\n",
       "[5 rows x 175 columns]"
      ]
     },
     "execution_count": 133,
     "metadata": {},
     "output_type": "execute_result"
    }
   ],
   "source": [
    "train.head()"
   ]
  },
  {
   "cell_type": "code",
   "execution_count": 134,
   "metadata": {},
   "outputs": [
    {
     "name": "stdout",
     "output_type": "stream",
     "text": [
      "Train on 7354 samples, validate on 3152 samples\n",
      "Epoch 1/10\n",
      "7354/7354 [==============================] - 1s 89us/step - loss: 1.0708 - binary_accuracy: 0.9249 - val_loss: 0.9260 - val_binary_accuracy: 0.9423\n",
      "Epoch 2/10\n",
      "7354/7354 [==============================] - 0s 49us/step - loss: 0.8939 - binary_accuracy: 0.9441 - val_loss: 0.9095 - val_binary_accuracy: 0.9435\n",
      "Epoch 3/10\n",
      "7354/7354 [==============================] - 0s 47us/step - loss: 0.8893 - binary_accuracy: 0.9447 - val_loss: 0.9095 - val_binary_accuracy: 0.9435\n",
      "Epoch 4/10\n",
      "7354/7354 [==============================] - 0s 51us/step - loss: 0.8893 - binary_accuracy: 0.9447 - val_loss: 0.9095 - val_binary_accuracy: 0.9435\n",
      "Epoch 5/10\n",
      "7354/7354 [==============================] - 0s 50us/step - loss: 0.8893 - binary_accuracy: 0.9447 - val_loss: 0.9095 - val_binary_accuracy: 0.9435\n",
      "Epoch 6/10\n",
      "7354/7354 [==============================] - 0s 49us/step - loss: 0.8893 - binary_accuracy: 0.9447 - val_loss: 0.9095 - val_binary_accuracy: 0.9435\n",
      "Epoch 7/10\n",
      "7354/7354 [==============================] - 0s 48us/step - loss: 0.8893 - binary_accuracy: 0.9447 - val_loss: 0.9095 - val_binary_accuracy: 0.9435\n",
      "Epoch 8/10\n",
      "7354/7354 [==============================] - 0s 47us/step - loss: 0.8893 - binary_accuracy: 0.9447 - val_loss: 0.9095 - val_binary_accuracy: 0.9435\n",
      "Epoch 9/10\n",
      "7354/7354 [==============================] - 0s 47us/step - loss: 0.8893 - binary_accuracy: 0.9447 - val_loss: 0.9095 - val_binary_accuracy: 0.9435\n",
      "Epoch 10/10\n",
      "7354/7354 [==============================] - 0s 50us/step - loss: 0.8893 - binary_accuracy: 0.9447 - val_loss: 0.9095 - val_binary_accuracy: 0.9435\n"
     ]
    }
   ],
   "source": [
    "history = model.fit(X_train, y_train,\n",
    "                   validation_data = (X_test, y_test),\n",
    "                   epochs=10, \n",
    "                   batch_size=None, \n",
    "                   verbose=1)"
   ]
  },
  {
   "cell_type": "code",
   "execution_count": 135,
   "metadata": {},
   "outputs": [
    {
     "data": {
      "text/plain": [
       "[<matplotlib.lines.Line2D at 0x1a2a6f5160>]"
      ]
     },
     "execution_count": 135,
     "metadata": {},
     "output_type": "execute_result"
    },
    {
     "data": {
      "image/png": "[encoded data removed]",
      "text/plain": [
       "<matplotlib.figure.Figure at 0x1a29fe5e48>"
      ]
     },
     "metadata": {},
     "output_type": "display_data"
    }
   ],
   "source": [
    "plt.plot(history.history['val_binary_accuracy'])"
   ]
  },
  {
   "cell_type": "code",
   "execution_count": 136,
   "metadata": {},
   "outputs": [
    {
     "data": {
      "text/plain": [
       "<matplotlib.legend.Legend at 0x1a2ac9df28>"
      ]
     },
     "execution_count": 136,
     "metadata": {},
     "output_type": "execute_result"
    },
    {
     "data": {
      "image/png": "[encoded data removed]",
      "text/plain": [
       "<matplotlib.figure.Figure at 0x1a2a6e0a90>"
      ]
     },
     "metadata": {},
     "output_type": "display_data"
    }
   ],
   "source": [
    "train_loss = history.history['loss']\n",
    "test_loss = history.history['val_loss']\n",
    "\n",
    "plt.plot(train_loss, label = 'Train loss')\n",
    "plt.plot(test_loss, label = 'Test loss')\n",
    "plt.legend()"
   ]
  },
  {
   "cell_type": "code",
   "execution_count": 123,
   "metadata": {},
   "outputs": [
    {
     "data": {
      "text/plain": [
       "0.49899564780716438"
      ]
     },
     "execution_count": 123,
     "metadata": {},
     "output_type": "execute_result"
    }
   ],
   "source": [
    "# confusion matrix, roc\n",
    "fpr, tpr, _ = roc_curve(y_test, model.predict(X_test))\n",
    "roc_auc = auc(fpr, tpr)\n",
    "roc_auc"
   ]
  },
  {
   "cell_type": "code",
   "execution_count": 124,
   "metadata": {},
   "outputs": [
    {
     "data": {
      "image/png": "[encoded data removed]",
      "text/plain": [
       "<matplotlib.figure.Figure at 0x1a29b8b7b8>"
      ]
     },
     "metadata": {},
     "output_type": "display_data"
    }
   ],
   "source": [
    "#plot of a ROC curve for a specific class\n",
    "plt.figure()\n",
    "plt.plot(fpr, tpr, label='ROC curve (area = %0.2f)' % roc_auc, color = 'blue')\n",
    "plt.plot([0, 1], [0,1], 'k--')\n",
    "plt.xlim([0.0, 1.0])\n",
    "plt.ylim([0.0, 1.05])\n",
    "plt.xlabel('False Positive Rate')\n",
    "plt.ylabel('True Positive Rate')\n",
    "plt.title('Reciever Operating Characteristic (ROC) Curve')\n",
    "plt.legend(loc=\"lower right\")\n",
    "plt.show()"
   ]
  },
  {
   "cell_type": "code",
   "execution_count": 125,
   "metadata": {},
   "outputs": [],
   "source": [
    "# XGBoost model\n",
    "model = xgb.XGBClassifier(seed=42)\n",
    "\n",
    "eval_set = [(X_train, y_train), (X_test, y_test)]\n",
    "scores = cross_val_score(xgb.XGBClassifier(), X_train, y_train, cv=5, n_jobs =-1)"
   ]
  },
  {
   "cell_type": "code",
   "execution_count": 126,
   "metadata": {},
   "outputs": [
    {
     "name": "stdout",
     "output_type": "stream",
     "text": [
      "[0]\tvalidation_0-auc:0.804682\tvalidation_1-auc:0.800029\n",
      "[1]\tvalidation_0-auc:0.806273\tvalidation_1-auc:0.798228\n",
      "[2]\tvalidation_0-auc:0.823363\tvalidation_1-auc:0.813329\n",
      "[3]\tvalidation_0-auc:0.823285\tvalidation_1-auc:0.813329\n",
      "[4]\tvalidation_0-auc:0.834653\tvalidation_1-auc:0.81855\n",
      "[5]\tvalidation_0-auc:0.836226\tvalidation_1-auc:0.820662\n",
      "[6]\tvalidation_0-auc:0.836836\tvalidation_1-auc:0.820865\n",
      "[7]\tvalidation_0-auc:0.835985\tvalidation_1-auc:0.820372\n",
      "[8]\tvalidation_0-auc:0.836334\tvalidation_1-auc:0.820982\n",
      "[9]\tvalidation_0-auc:0.836192\tvalidation_1-auc:0.82069\n",
      "[10]\tvalidation_0-auc:0.83625\tvalidation_1-auc:0.820822\n",
      "[11]\tvalidation_0-auc:0.851161\tvalidation_1-auc:0.835872\n",
      "[12]\tvalidation_0-auc:0.856805\tvalidation_1-auc:0.838992\n",
      "[13]\tvalidation_0-auc:0.85728\tvalidation_1-auc:0.838293\n",
      "[14]\tvalidation_0-auc:0.856352\tvalidation_1-auc:0.837552\n",
      "[15]\tvalidation_0-auc:0.856965\tvalidation_1-auc:0.838297\n",
      "[16]\tvalidation_0-auc:0.859599\tvalidation_1-auc:0.839309\n",
      "[17]\tvalidation_0-auc:0.860208\tvalidation_1-auc:0.839094\n",
      "[18]\tvalidation_0-auc:0.859938\tvalidation_1-auc:0.837477\n",
      "[19]\tvalidation_0-auc:0.862369\tvalidation_1-auc:0.839215\n",
      "[20]\tvalidation_0-auc:0.863514\tvalidation_1-auc:0.840791\n",
      "[21]\tvalidation_0-auc:0.864857\tvalidation_1-auc:0.84242\n",
      "[22]\tvalidation_0-auc:0.865341\tvalidation_1-auc:0.843724\n",
      "[23]\tvalidation_0-auc:0.867671\tvalidation_1-auc:0.845117\n",
      "[24]\tvalidation_0-auc:0.868134\tvalidation_1-auc:0.846001\n",
      "[25]\tvalidation_0-auc:0.868797\tvalidation_1-auc:0.847239\n",
      "[26]\tvalidation_0-auc:0.870133\tvalidation_1-auc:0.848692\n",
      "[27]\tvalidation_0-auc:0.87167\tvalidation_1-auc:0.847378\n",
      "[28]\tvalidation_0-auc:0.871941\tvalidation_1-auc:0.847916\n",
      "[29]\tvalidation_0-auc:0.872977\tvalidation_1-auc:0.849951\n",
      "[30]\tvalidation_0-auc:0.873205\tvalidation_1-auc:0.851879\n",
      "[31]\tvalidation_0-auc:0.873501\tvalidation_1-auc:0.852393\n",
      "[32]\tvalidation_0-auc:0.874099\tvalidation_1-auc:0.853628\n",
      "[33]\tvalidation_0-auc:0.873889\tvalidation_1-auc:0.852065\n",
      "[34]\tvalidation_0-auc:0.875604\tvalidation_1-auc:0.851662\n",
      "[35]\tvalidation_0-auc:0.876422\tvalidation_1-auc:0.851914\n",
      "[36]\tvalidation_0-auc:0.877492\tvalidation_1-auc:0.852825\n",
      "[37]\tvalidation_0-auc:0.878671\tvalidation_1-auc:0.853248\n",
      "[38]\tvalidation_0-auc:0.879731\tvalidation_1-auc:0.854489\n",
      "[39]\tvalidation_0-auc:0.880145\tvalidation_1-auc:0.855517\n",
      "[40]\tvalidation_0-auc:0.880861\tvalidation_1-auc:0.85568\n",
      "[41]\tvalidation_0-auc:0.881645\tvalidation_1-auc:0.856689\n",
      "[42]\tvalidation_0-auc:0.882366\tvalidation_1-auc:0.857963\n",
      "[43]\tvalidation_0-auc:0.882773\tvalidation_1-auc:0.857752\n",
      "[44]\tvalidation_0-auc:0.883659\tvalidation_1-auc:0.858982\n",
      "[45]\tvalidation_0-auc:0.884038\tvalidation_1-auc:0.859621\n",
      "[46]\tvalidation_0-auc:0.884324\tvalidation_1-auc:0.859084\n",
      "[47]\tvalidation_0-auc:0.88528\tvalidation_1-auc:0.859796\n",
      "[48]\tvalidation_0-auc:0.885457\tvalidation_1-auc:0.860135\n",
      "[49]\tvalidation_0-auc:0.885893\tvalidation_1-auc:0.860401\n",
      "[50]\tvalidation_0-auc:0.886232\tvalidation_1-auc:0.859868\n",
      "[51]\tvalidation_0-auc:0.886726\tvalidation_1-auc:0.860198\n",
      "[52]\tvalidation_0-auc:0.887254\tvalidation_1-auc:0.860608\n",
      "[53]\tvalidation_0-auc:0.887444\tvalidation_1-auc:0.861162\n",
      "[54]\tvalidation_0-auc:0.887605\tvalidation_1-auc:0.860646\n",
      "[55]\tvalidation_0-auc:0.887999\tvalidation_1-auc:0.860638\n",
      "[56]\tvalidation_0-auc:0.888367\tvalidation_1-auc:0.861079\n",
      "[57]\tvalidation_0-auc:0.888591\tvalidation_1-auc:0.861363\n",
      "[58]\tvalidation_0-auc:0.888848\tvalidation_1-auc:0.861304\n",
      "[59]\tvalidation_0-auc:0.88958\tvalidation_1-auc:0.861494\n",
      "[60]\tvalidation_0-auc:0.889828\tvalidation_1-auc:0.861571\n",
      "[61]\tvalidation_0-auc:0.890386\tvalidation_1-auc:0.86198\n",
      "[62]\tvalidation_0-auc:0.89056\tvalidation_1-auc:0.861907\n",
      "[63]\tvalidation_0-auc:0.890753\tvalidation_1-auc:0.861813\n",
      "[64]\tvalidation_0-auc:0.891218\tvalidation_1-auc:0.862022\n",
      "[65]\tvalidation_0-auc:0.891568\tvalidation_1-auc:0.862067\n",
      "[66]\tvalidation_0-auc:0.89228\tvalidation_1-auc:0.862033\n",
      "[67]\tvalidation_0-auc:0.892517\tvalidation_1-auc:0.862305\n",
      "[68]\tvalidation_0-auc:0.892811\tvalidation_1-auc:0.862277\n",
      "[69]\tvalidation_0-auc:0.892889\tvalidation_1-auc:0.862475\n",
      "[70]\tvalidation_0-auc:0.893303\tvalidation_1-auc:0.862157\n",
      "[71]\tvalidation_0-auc:0.893699\tvalidation_1-auc:0.862446\n",
      "[72]\tvalidation_0-auc:0.894022\tvalidation_1-auc:0.862271\n",
      "[73]\tvalidation_0-auc:0.894241\tvalidation_1-auc:0.862539\n",
      "[74]\tvalidation_0-auc:0.894638\tvalidation_1-auc:0.862139\n",
      "[75]\tvalidation_0-auc:0.894775\tvalidation_1-auc:0.862027\n",
      "[76]\tvalidation_0-auc:0.895186\tvalidation_1-auc:0.862085\n",
      "[77]\tvalidation_0-auc:0.895548\tvalidation_1-auc:0.861755\n",
      "[78]\tvalidation_0-auc:0.895885\tvalidation_1-auc:0.861771\n",
      "[79]\tvalidation_0-auc:0.896098\tvalidation_1-auc:0.86199\n",
      "[80]\tvalidation_0-auc:0.896133\tvalidation_1-auc:0.861837\n",
      "[81]\tvalidation_0-auc:0.896525\tvalidation_1-auc:0.861745\n",
      "[82]\tvalidation_0-auc:0.896745\tvalidation_1-auc:0.861937\n",
      "[83]\tvalidation_0-auc:0.896914\tvalidation_1-auc:0.862068\n",
      "[84]\tvalidation_0-auc:0.897014\tvalidation_1-auc:0.862153\n",
      "[85]\tvalidation_0-auc:0.897264\tvalidation_1-auc:0.861974\n",
      "[86]\tvalidation_0-auc:0.89741\tvalidation_1-auc:0.862167\n",
      "[87]\tvalidation_0-auc:0.897746\tvalidation_1-auc:0.862814\n",
      "[88]\tvalidation_0-auc:0.897887\tvalidation_1-auc:0.862747\n",
      "[89]\tvalidation_0-auc:0.898265\tvalidation_1-auc:0.8627\n",
      "[90]\tvalidation_0-auc:0.898515\tvalidation_1-auc:0.862383\n",
      "[91]\tvalidation_0-auc:0.898889\tvalidation_1-auc:0.862446\n",
      "[92]\tvalidation_0-auc:0.899046\tvalidation_1-auc:0.862323\n",
      "[93]\tvalidation_0-auc:0.899182\tvalidation_1-auc:0.86218\n",
      "[94]\tvalidation_0-auc:0.899568\tvalidation_1-auc:0.862133\n",
      "[95]\tvalidation_0-auc:0.899714\tvalidation_1-auc:0.862128\n",
      "[96]\tvalidation_0-auc:0.899916\tvalidation_1-auc:0.862193\n",
      "[97]\tvalidation_0-auc:0.900163\tvalidation_1-auc:0.862298\n",
      "[98]\tvalidation_0-auc:0.900311\tvalidation_1-auc:0.86258\n",
      "[99]\tvalidation_0-auc:0.900447\tvalidation_1-auc:0.862765\n"
     ]
    },
    {
     "data": {
      "text/plain": [
       "XGBClassifier(base_score=0.5, booster='gbtree', colsample_bylevel=1,\n",
       "       colsample_bytree=1, gamma=0, learning_rate=0.1, max_delta_step=0,\n",
       "       max_depth=3, min_child_weight=1, missing=None, n_estimators=100,\n",
       "       n_jobs=1, nthread=None, objective='binary:logistic', random_state=0,\n",
       "       reg_alpha=0, reg_lambda=1, scale_pos_weight=1, seed=42, silent=True,\n",
       "       subsample=1)"
      ]
     },
     "execution_count": 126,
     "metadata": {},
     "output_type": "execute_result"
    }
   ],
   "source": [
    "model.fit(X_train, y_train, eval_metric=\"auc\", eval_set=eval_set, verbose=True)"
   ]
  },
  {
   "cell_type": "code",
   "execution_count": 127,
   "metadata": {},
   "outputs": [
    {
     "data": {
      "text/plain": [
       "0.94860406091370564"
      ]
     },
     "execution_count": 127,
     "metadata": {},
     "output_type": "execute_result"
    }
   ],
   "source": [
    "model.score(X_test, y_test)"
   ]
  },
  {
   "cell_type": "code",
   "execution_count": null,
   "metadata": {},
   "outputs": [],
   "source": []
  },
  {
   "cell_type": "code",
   "execution_count": null,
   "metadata": {},
   "outputs": [],
   "source": []
  },
  {
   "cell_type": "code",
   "execution_count": null,
   "metadata": {},
   "outputs": [],
   "source": []
  }
 ],
 "metadata": {
  "kernelspec": {
   "display_name": "Python 3",
   "language": "python",
   "name": "python3"
  },
  "language_info": {
   "codemirror_mode": {
    "name": "ipython",
    "version": 3
   },
   "file_extension": ".py",
   "mimetype": "text/x-python",
   "name": "python",
   "nbconvert_exporter": "python",
   "pygments_lexer": "ipython3",
   "version": "3.6.4"
  }
 },
 "nbformat": 4,
 "nbformat_minor": 2
}
