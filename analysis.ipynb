{
 "cells": [
  {
   "cell_type": "markdown",
   "metadata": {},
   "source": [
    "# West Nile Virus prediction"
   ]
  },
  {
   "cell_type": "markdown",
   "metadata": {},
   "source": [
    "### Import libraries"
   ]
  },
  {
   "cell_type": "code",
   "execution_count": 300,
   "metadata": {},
   "outputs": [],
   "source": [
    "import pandas as pd\n",
    "import seaborn as sns\n",
    "import numpy as np\n",
    "import matplotlib.pyplot as plt\n",
    "%matplotlib inline\n",
    "\n",
    "from sklearn.model_selection import cross_val_score, train_test_split, StratifiedKFold, GridSearchCV\n",
    "from sklearn.metrics import classification_report, confusion_matrix, roc_curve, auc\n",
    "from sklearn.preprocessing import FunctionTransformer, StandardScaler\n",
    "from sklearn.utils import resample\n",
    "\n",
    "from sklearn.cluster import DBSCAN\n",
    "\n",
    "from sklearn.tree import DecisionTreeClassifier\n",
    "from sklearn.ensemble import RandomForestClassifier, ExtraTreesClassifier, BaggingClassifier\n",
    "from sklearn.ensemble import AdaBoostClassifier, GradientBoostingClassifier\n",
    "import xgboost as xgb\n",
    "\n",
    "from keras.models import Sequential\n",
    "from keras.layers import Dense\n",
    "\n",
    "sns.set_style(\"darkgrid\")"
   ]
  },
  {
   "cell_type": "markdown",
   "metadata": {},
   "source": [
    "### Load Data"
   ]
  },
  {
   "cell_type": "code",
   "execution_count": 301,
   "metadata": {},
   "outputs": [],
   "source": [
    "train = pd.read_csv(\"data/train.csv\")\n",
    "wx = pd.read_csv(\"data/weather.csv\")\n",
    "spray = pd.read_csv(\"data/spray.csv\")\n",
    "se = pd.read_csv(\"data/socioecon.csv\")\n",
    "\n",
    "ss = pd.read_csv(\"data/sampleSubmission.csv\")\n",
    "test = pd.read_csv(\"data/test.csv\")"
   ]
  },
  {
   "cell_type": "markdown",
   "metadata": {},
   "source": [
    "### Exploratory Data Analysis, Cleaning"
   ]
  },
  {
   "cell_type": "code",
   "execution_count": 302,
   "metadata": {},
   "outputs": [],
   "source": [
    "se.drop(columns=['COMMUNITY AREA NAME'], inplace=True)"
   ]
  },
  {
   "cell_type": "code",
   "execution_count": 303,
   "metadata": {},
   "outputs": [
    {
     "data": {
      "text/html": [
       "<div>\n",
       "<style scoped>\n",
       "    .dataframe tbody tr th:only-of-type {\n",
       "        vertical-align: middle;\n",
       "    }\n",
       "\n",
       "    .dataframe tbody tr th {\n",
       "        vertical-align: top;\n",
       "    }\n",
       "\n",
       "    .dataframe thead th {\n",
       "        text-align: right;\n",
       "    }\n",
       "</style>\n",
       "<table border=\"1\" class=\"dataframe\">\n",
       "  <thead>\n",
       "    <tr style=\"text-align: right;\">\n",
       "      <th></th>\n",
       "      <th>Community Area Number</th>\n",
       "      <th>PERCENT OF HOUSING CROWDED</th>\n",
       "      <th>PERCENT HOUSEHOLDS BELOW POVERTY</th>\n",
       "      <th>PERCENT AGED 16+ UNEMPLOYED</th>\n",
       "      <th>PERCENT AGED 25+ WITHOUT HIGH SCHOOL DIPLOMA</th>\n",
       "      <th>PERCENT AGED UNDER 18 OR OVER 64</th>\n",
       "      <th>PER CAPITA INCOME</th>\n",
       "      <th>HARDSHIP INDEX</th>\n",
       "      <th>Lat</th>\n",
       "      <th>Lon</th>\n",
       "    </tr>\n",
       "  </thead>\n",
       "  <tbody>\n",
       "    <tr>\n",
       "      <th>0</th>\n",
       "      <td>1.0</td>\n",
       "      <td>7.7</td>\n",
       "      <td>23.6</td>\n",
       "      <td>8.7</td>\n",
       "      <td>18.2</td>\n",
       "      <td>27.5</td>\n",
       "      <td>23939</td>\n",
       "      <td>39.0</td>\n",
       "      <td>42.010636</td>\n",
       "      <td>-87.669553</td>\n",
       "    </tr>\n",
       "    <tr>\n",
       "      <th>1</th>\n",
       "      <td>2.0</td>\n",
       "      <td>7.8</td>\n",
       "      <td>17.2</td>\n",
       "      <td>8.8</td>\n",
       "      <td>20.8</td>\n",
       "      <td>38.5</td>\n",
       "      <td>23040</td>\n",
       "      <td>46.0</td>\n",
       "      <td>42.000580</td>\n",
       "      <td>-87.692577</td>\n",
       "    </tr>\n",
       "    <tr>\n",
       "      <th>2</th>\n",
       "      <td>3.0</td>\n",
       "      <td>3.8</td>\n",
       "      <td>24.0</td>\n",
       "      <td>8.9</td>\n",
       "      <td>11.8</td>\n",
       "      <td>22.2</td>\n",
       "      <td>35787</td>\n",
       "      <td>20.0</td>\n",
       "      <td>41.966540</td>\n",
       "      <td>-87.653340</td>\n",
       "    </tr>\n",
       "    <tr>\n",
       "      <th>3</th>\n",
       "      <td>4.0</td>\n",
       "      <td>3.4</td>\n",
       "      <td>10.9</td>\n",
       "      <td>8.2</td>\n",
       "      <td>13.4</td>\n",
       "      <td>25.5</td>\n",
       "      <td>37524</td>\n",
       "      <td>17.0</td>\n",
       "      <td>41.969948</td>\n",
       "      <td>-87.688678</td>\n",
       "    </tr>\n",
       "    <tr>\n",
       "      <th>4</th>\n",
       "      <td>5.0</td>\n",
       "      <td>0.3</td>\n",
       "      <td>7.5</td>\n",
       "      <td>5.2</td>\n",
       "      <td>4.5</td>\n",
       "      <td>26.2</td>\n",
       "      <td>57123</td>\n",
       "      <td>6.0</td>\n",
       "      <td>41.950892</td>\n",
       "      <td>-87.682768</td>\n",
       "    </tr>\n",
       "  </tbody>\n",
       "</table>\n",
       "</div>"
      ],
      "text/plain": [
       "   Community Area Number  PERCENT OF HOUSING CROWDED  \\\n",
       "0                    1.0                         7.7   \n",
       "1                    2.0                         7.8   \n",
       "2                    3.0                         3.8   \n",
       "3                    4.0                         3.4   \n",
       "4                    5.0                         0.3   \n",
       "\n",
       "   PERCENT HOUSEHOLDS BELOW POVERTY  PERCENT AGED 16+ UNEMPLOYED  \\\n",
       "0                              23.6                          8.7   \n",
       "1                              17.2                          8.8   \n",
       "2                              24.0                          8.9   \n",
       "3                              10.9                          8.2   \n",
       "4                               7.5                          5.2   \n",
       "\n",
       "   PERCENT AGED 25+ WITHOUT HIGH SCHOOL DIPLOMA  \\\n",
       "0                                          18.2   \n",
       "1                                          20.8   \n",
       "2                                          11.8   \n",
       "3                                          13.4   \n",
       "4                                           4.5   \n",
       "\n",
       "   PERCENT AGED UNDER 18 OR OVER 64  PER CAPITA INCOME   HARDSHIP INDEX  \\\n",
       "0                              27.5               23939            39.0   \n",
       "1                              38.5               23040            46.0   \n",
       "2                              22.2               35787            20.0   \n",
       "3                              25.5               37524            17.0   \n",
       "4                              26.2               57123             6.0   \n",
       "\n",
       "         Lat        Lon  \n",
       "0  42.010636 -87.669553  \n",
       "1  42.000580 -87.692577  \n",
       "2  41.966540 -87.653340  \n",
       "3  41.969948 -87.688678  \n",
       "4  41.950892 -87.682768  "
      ]
     },
     "execution_count": 303,
     "metadata": {},
     "output_type": "execute_result"
    }
   ],
   "source": [
    "se.head()"
   ]
  },
  {
   "cell_type": "code",
   "execution_count": 304,
   "metadata": {},
   "outputs": [],
   "source": [
    "# # get list of community area names to call geocoder\n",
    "# comm = [i for i in se['COMMUNITY AREA NAME']]\n",
    "# communities = [i + ', Chicago, Illinois' for i in comm]"
   ]
  },
  {
   "cell_type": "code",
   "execution_count": 305,
   "metadata": {},
   "outputs": [
    {
     "data": {
      "text/html": [
       "<div>\n",
       "<style scoped>\n",
       "    .dataframe tbody tr th:only-of-type {\n",
       "        vertical-align: middle;\n",
       "    }\n",
       "\n",
       "    .dataframe tbody tr th {\n",
       "        vertical-align: top;\n",
       "    }\n",
       "\n",
       "    .dataframe thead th {\n",
       "        text-align: right;\n",
       "    }\n",
       "</style>\n",
       "<table border=\"1\" class=\"dataframe\">\n",
       "  <thead>\n",
       "    <tr style=\"text-align: right;\">\n",
       "      <th></th>\n",
       "      <th>Community Area Number</th>\n",
       "      <th>PERCENT OF HOUSING CROWDED</th>\n",
       "      <th>PERCENT HOUSEHOLDS BELOW POVERTY</th>\n",
       "      <th>PERCENT AGED 16+ UNEMPLOYED</th>\n",
       "      <th>PERCENT AGED 25+ WITHOUT HIGH SCHOOL DIPLOMA</th>\n",
       "      <th>PERCENT AGED UNDER 18 OR OVER 64</th>\n",
       "      <th>PER CAPITA INCOME</th>\n",
       "      <th>HARDSHIP INDEX</th>\n",
       "      <th>Lat</th>\n",
       "      <th>Lon</th>\n",
       "    </tr>\n",
       "  </thead>\n",
       "  <tbody>\n",
       "    <tr>\n",
       "      <th>68</th>\n",
       "      <td>69.0</td>\n",
       "      <td>3.6</td>\n",
       "      <td>29.6</td>\n",
       "      <td>23.0</td>\n",
       "      <td>16.5</td>\n",
       "      <td>41.0</td>\n",
       "      <td>17285</td>\n",
       "      <td>66.0</td>\n",
       "      <td>41.763414</td>\n",
       "      <td>-87.595383</td>\n",
       "    </tr>\n",
       "    <tr>\n",
       "      <th>69</th>\n",
       "      <td>70.0</td>\n",
       "      <td>4.0</td>\n",
       "      <td>10.4</td>\n",
       "      <td>11.7</td>\n",
       "      <td>17.7</td>\n",
       "      <td>36.9</td>\n",
       "      <td>23482</td>\n",
       "      <td>37.0</td>\n",
       "      <td>41.747900</td>\n",
       "      <td>-87.707218</td>\n",
       "    </tr>\n",
       "    <tr>\n",
       "      <th>70</th>\n",
       "      <td>71.0</td>\n",
       "      <td>4.0</td>\n",
       "      <td>27.6</td>\n",
       "      <td>28.3</td>\n",
       "      <td>18.5</td>\n",
       "      <td>41.9</td>\n",
       "      <td>15528</td>\n",
       "      <td>74.0</td>\n",
       "      <td>41.743377</td>\n",
       "      <td>-87.656200</td>\n",
       "    </tr>\n",
       "    <tr>\n",
       "      <th>71</th>\n",
       "      <td>72.0</td>\n",
       "      <td>0.9</td>\n",
       "      <td>5.1</td>\n",
       "      <td>8.0</td>\n",
       "      <td>3.7</td>\n",
       "      <td>40.5</td>\n",
       "      <td>39523</td>\n",
       "      <td>12.0</td>\n",
       "      <td>41.717120</td>\n",
       "      <td>-87.676180</td>\n",
       "    </tr>\n",
       "    <tr>\n",
       "      <th>72</th>\n",
       "      <td>73.0</td>\n",
       "      <td>1.1</td>\n",
       "      <td>16.9</td>\n",
       "      <td>20.8</td>\n",
       "      <td>13.7</td>\n",
       "      <td>42.6</td>\n",
       "      <td>19713</td>\n",
       "      <td>48.0</td>\n",
       "      <td>41.715964</td>\n",
       "      <td>-87.650631</td>\n",
       "    </tr>\n",
       "    <tr>\n",
       "      <th>73</th>\n",
       "      <td>74.0</td>\n",
       "      <td>1.0</td>\n",
       "      <td>3.4</td>\n",
       "      <td>8.7</td>\n",
       "      <td>4.3</td>\n",
       "      <td>36.8</td>\n",
       "      <td>34381</td>\n",
       "      <td>16.0</td>\n",
       "      <td>41.693122</td>\n",
       "      <td>-87.712355</td>\n",
       "    </tr>\n",
       "    <tr>\n",
       "      <th>74</th>\n",
       "      <td>75.0</td>\n",
       "      <td>0.8</td>\n",
       "      <td>13.2</td>\n",
       "      <td>15.0</td>\n",
       "      <td>10.8</td>\n",
       "      <td>40.3</td>\n",
       "      <td>27149</td>\n",
       "      <td>30.0</td>\n",
       "      <td>41.687840</td>\n",
       "      <td>-87.669003</td>\n",
       "    </tr>\n",
       "    <tr>\n",
       "      <th>75</th>\n",
       "      <td>76.0</td>\n",
       "      <td>3.6</td>\n",
       "      <td>15.4</td>\n",
       "      <td>7.1</td>\n",
       "      <td>10.9</td>\n",
       "      <td>30.3</td>\n",
       "      <td>25828</td>\n",
       "      <td>24.0</td>\n",
       "      <td>41.977298</td>\n",
       "      <td>-87.836891</td>\n",
       "    </tr>\n",
       "    <tr>\n",
       "      <th>76</th>\n",
       "      <td>77.0</td>\n",
       "      <td>4.1</td>\n",
       "      <td>18.2</td>\n",
       "      <td>9.2</td>\n",
       "      <td>9.7</td>\n",
       "      <td>23.8</td>\n",
       "      <td>33385</td>\n",
       "      <td>19.0</td>\n",
       "      <td>41.987245</td>\n",
       "      <td>-87.661233</td>\n",
       "    </tr>\n",
       "    <tr>\n",
       "      <th>77</th>\n",
       "      <td>NaN</td>\n",
       "      <td>4.7</td>\n",
       "      <td>19.7</td>\n",
       "      <td>12.9</td>\n",
       "      <td>19.5</td>\n",
       "      <td>33.5</td>\n",
       "      <td>28202</td>\n",
       "      <td>NaN</td>\n",
       "      <td>NaN</td>\n",
       "      <td>NaN</td>\n",
       "    </tr>\n",
       "  </tbody>\n",
       "</table>\n",
       "</div>"
      ],
      "text/plain": [
       "    Community Area Number  PERCENT OF HOUSING CROWDED  \\\n",
       "68                   69.0                         3.6   \n",
       "69                   70.0                         4.0   \n",
       "70                   71.0                         4.0   \n",
       "71                   72.0                         0.9   \n",
       "72                   73.0                         1.1   \n",
       "73                   74.0                         1.0   \n",
       "74                   75.0                         0.8   \n",
       "75                   76.0                         3.6   \n",
       "76                   77.0                         4.1   \n",
       "77                    NaN                         4.7   \n",
       "\n",
       "    PERCENT HOUSEHOLDS BELOW POVERTY  PERCENT AGED 16+ UNEMPLOYED  \\\n",
       "68                              29.6                         23.0   \n",
       "69                              10.4                         11.7   \n",
       "70                              27.6                         28.3   \n",
       "71                               5.1                          8.0   \n",
       "72                              16.9                         20.8   \n",
       "73                               3.4                          8.7   \n",
       "74                              13.2                         15.0   \n",
       "75                              15.4                          7.1   \n",
       "76                              18.2                          9.2   \n",
       "77                              19.7                         12.9   \n",
       "\n",
       "    PERCENT AGED 25+ WITHOUT HIGH SCHOOL DIPLOMA  \\\n",
       "68                                          16.5   \n",
       "69                                          17.7   \n",
       "70                                          18.5   \n",
       "71                                           3.7   \n",
       "72                                          13.7   \n",
       "73                                           4.3   \n",
       "74                                          10.8   \n",
       "75                                          10.9   \n",
       "76                                           9.7   \n",
       "77                                          19.5   \n",
       "\n",
       "    PERCENT AGED UNDER 18 OR OVER 64  PER CAPITA INCOME   HARDSHIP INDEX  \\\n",
       "68                              41.0               17285            66.0   \n",
       "69                              36.9               23482            37.0   \n",
       "70                              41.9               15528            74.0   \n",
       "71                              40.5               39523            12.0   \n",
       "72                              42.6               19713            48.0   \n",
       "73                              36.8               34381            16.0   \n",
       "74                              40.3               27149            30.0   \n",
       "75                              30.3               25828            24.0   \n",
       "76                              23.8               33385            19.0   \n",
       "77                              33.5               28202             NaN   \n",
       "\n",
       "          Lat        Lon  \n",
       "68  41.763414 -87.595383  \n",
       "69  41.747900 -87.707218  \n",
       "70  41.743377 -87.656200  \n",
       "71  41.717120 -87.676180  \n",
       "72  41.715964 -87.650631  \n",
       "73  41.693122 -87.712355  \n",
       "74  41.687840 -87.669003  \n",
       "75  41.977298 -87.836891  \n",
       "76  41.987245 -87.661233  \n",
       "77        NaN        NaN  "
      ]
     },
     "execution_count": 305,
     "metadata": {},
     "output_type": "execute_result"
    }
   ],
   "source": [
    "se.tail(10)"
   ]
  },
  {
   "cell_type": "code",
   "execution_count": 306,
   "metadata": {},
   "outputs": [
    {
     "data": {
      "text/plain": [
       "64"
      ]
     },
     "execution_count": 306,
     "metadata": {},
     "output_type": "execute_result"
    }
   ],
   "source": [
    "len(train['Block'].unique())"
   ]
  },
  {
   "cell_type": "code",
   "execution_count": 307,
   "metadata": {},
   "outputs": [
    {
     "data": {
      "text/plain": [
       "136"
      ]
     },
     "execution_count": 307,
     "metadata": {},
     "output_type": "execute_result"
    }
   ],
   "source": [
    "len(train['Trap'].unique())"
   ]
  },
  {
   "cell_type": "code",
   "execution_count": 308,
   "metadata": {},
   "outputs": [],
   "source": [
    "train['Date'] = pd.to_datetime(train['Date'])"
   ]
  },
  {
   "cell_type": "code",
   "execution_count": 309,
   "metadata": {},
   "outputs": [],
   "source": [
    "spray['Date'] = pd.to_datetime(spray['Date'])\n",
    "spray['am_pm'] = spray['Time'].apply(lambda x: str(x).split()[-1])\n",
    "spray['Time'] = spray['Time'].apply(lambda x: str(x).split()[0])\n",
    "\n",
    "# spray['Time'] = pd.to_datetime(spray['Time'], format = '%H:%M:%S')"
   ]
  },
  {
   "cell_type": "code",
   "execution_count": 310,
   "metadata": {},
   "outputs": [],
   "source": [
    "#converting Weather columns to datetime\n",
    "wx['Date'] = pd.to_datetime(wx['Date'])"
   ]
  },
  {
   "cell_type": "code",
   "execution_count": 311,
   "metadata": {},
   "outputs": [
    {
     "data": {
      "text/plain": [
       "Index(['Station', 'Date', 'Tmax', 'Tmin', 'Tavg', 'Depart', 'DewPoint',\n",
       "       'WetBulb', 'Heat', 'Cool', 'Sunrise', 'Sunset', 'CodeSum', 'Depth',\n",
       "       'Water1', 'SnowFall', 'PrecipTotal', 'StnPressure', 'SeaLevel',\n",
       "       'ResultSpeed', 'ResultDir', 'AvgSpeed'],\n",
       "      dtype='object')"
      ]
     },
     "execution_count": 311,
     "metadata": {},
     "output_type": "execute_result"
    }
   ],
   "source": [
    "wx.columns"
   ]
  },
  {
   "cell_type": "code",
   "execution_count": 313,
   "metadata": {},
   "outputs": [],
   "source": [
    "wx_sm = wx[['Date', 'Station', 'Tavg', 'WetBulb', 'StnPressure', 'DewPoint']].copy()"
   ]
  },
  {
   "cell_type": "code",
   "execution_count": 314,
   "metadata": {},
   "outputs": [
    {
     "data": {
      "image/png": "[encoded data removed]",
      "text/plain": [
       "<matplotlib.figure.Figure at 0x1a27da5320>"
      ]
     },
     "metadata": {},
     "output_type": "display_data"
    }
   ],
   "source": [
    "#plotted mosquitos by trap by date\n",
    "train[['Date', 'Trap', 'NumMosquitos']].groupby(by = ['Date','Trap'])['Date','Trap','NumMosquitos'] \\\n",
    "    .sum().reset_index().sort_values('NumMosquitos', ascending = False).set_index('Date').plot(style = '.')\n",
    "    \n",
    "plt.title('Mosquitos by Trap over Time');"
   ]
  },
  {
   "cell_type": "code",
   "execution_count": 315,
   "metadata": {},
   "outputs": [
    {
     "data": {
      "text/html": [
       "<div>\n",
       "<style scoped>\n",
       "    .dataframe tbody tr th:only-of-type {\n",
       "        vertical-align: middle;\n",
       "    }\n",
       "\n",
       "    .dataframe tbody tr th {\n",
       "        vertical-align: top;\n",
       "    }\n",
       "\n",
       "    .dataframe thead th {\n",
       "        text-align: right;\n",
       "    }\n",
       "</style>\n",
       "<table border=\"1\" class=\"dataframe\">\n",
       "  <thead>\n",
       "    <tr style=\"text-align: right;\">\n",
       "      <th></th>\n",
       "      <th>Station</th>\n",
       "      <th>Date</th>\n",
       "      <th>Tmax</th>\n",
       "      <th>Tmin</th>\n",
       "      <th>Tavg</th>\n",
       "      <th>Depart</th>\n",
       "      <th>DewPoint</th>\n",
       "      <th>WetBulb</th>\n",
       "      <th>Heat</th>\n",
       "      <th>Cool</th>\n",
       "      <th>...</th>\n",
       "      <th>CodeSum</th>\n",
       "      <th>Depth</th>\n",
       "      <th>Water1</th>\n",
       "      <th>SnowFall</th>\n",
       "      <th>PrecipTotal</th>\n",
       "      <th>StnPressure</th>\n",
       "      <th>SeaLevel</th>\n",
       "      <th>ResultSpeed</th>\n",
       "      <th>ResultDir</th>\n",
       "      <th>AvgSpeed</th>\n",
       "    </tr>\n",
       "  </thead>\n",
       "  <tbody>\n",
       "    <tr>\n",
       "      <th>0</th>\n",
       "      <td>1</td>\n",
       "      <td>2007-05-01</td>\n",
       "      <td>83</td>\n",
       "      <td>50</td>\n",
       "      <td>67</td>\n",
       "      <td>14</td>\n",
       "      <td>51</td>\n",
       "      <td>56</td>\n",
       "      <td>0</td>\n",
       "      <td>2</td>\n",
       "      <td>...</td>\n",
       "      <td></td>\n",
       "      <td>0</td>\n",
       "      <td>M</td>\n",
       "      <td>0.0</td>\n",
       "      <td>0.00</td>\n",
       "      <td>29.10</td>\n",
       "      <td>29.82</td>\n",
       "      <td>1.7</td>\n",
       "      <td>27</td>\n",
       "      <td>9.2</td>\n",
       "    </tr>\n",
       "    <tr>\n",
       "      <th>1</th>\n",
       "      <td>2</td>\n",
       "      <td>2007-05-01</td>\n",
       "      <td>84</td>\n",
       "      <td>52</td>\n",
       "      <td>68</td>\n",
       "      <td>M</td>\n",
       "      <td>51</td>\n",
       "      <td>57</td>\n",
       "      <td>0</td>\n",
       "      <td>3</td>\n",
       "      <td>...</td>\n",
       "      <td></td>\n",
       "      <td>M</td>\n",
       "      <td>M</td>\n",
       "      <td>M</td>\n",
       "      <td>0.00</td>\n",
       "      <td>29.18</td>\n",
       "      <td>29.82</td>\n",
       "      <td>2.7</td>\n",
       "      <td>25</td>\n",
       "      <td>9.6</td>\n",
       "    </tr>\n",
       "    <tr>\n",
       "      <th>2</th>\n",
       "      <td>1</td>\n",
       "      <td>2007-05-02</td>\n",
       "      <td>59</td>\n",
       "      <td>42</td>\n",
       "      <td>51</td>\n",
       "      <td>-3</td>\n",
       "      <td>42</td>\n",
       "      <td>47</td>\n",
       "      <td>14</td>\n",
       "      <td>0</td>\n",
       "      <td>...</td>\n",
       "      <td>BR</td>\n",
       "      <td>0</td>\n",
       "      <td>M</td>\n",
       "      <td>0.0</td>\n",
       "      <td>0.00</td>\n",
       "      <td>29.38</td>\n",
       "      <td>30.09</td>\n",
       "      <td>13.0</td>\n",
       "      <td>4</td>\n",
       "      <td>13.4</td>\n",
       "    </tr>\n",
       "    <tr>\n",
       "      <th>3</th>\n",
       "      <td>2</td>\n",
       "      <td>2007-05-02</td>\n",
       "      <td>60</td>\n",
       "      <td>43</td>\n",
       "      <td>52</td>\n",
       "      <td>M</td>\n",
       "      <td>42</td>\n",
       "      <td>47</td>\n",
       "      <td>13</td>\n",
       "      <td>0</td>\n",
       "      <td>...</td>\n",
       "      <td>BR HZ</td>\n",
       "      <td>M</td>\n",
       "      <td>M</td>\n",
       "      <td>M</td>\n",
       "      <td>0.00</td>\n",
       "      <td>29.44</td>\n",
       "      <td>30.08</td>\n",
       "      <td>13.3</td>\n",
       "      <td>2</td>\n",
       "      <td>13.4</td>\n",
       "    </tr>\n",
       "    <tr>\n",
       "      <th>4</th>\n",
       "      <td>1</td>\n",
       "      <td>2007-05-03</td>\n",
       "      <td>66</td>\n",
       "      <td>46</td>\n",
       "      <td>56</td>\n",
       "      <td>2</td>\n",
       "      <td>40</td>\n",
       "      <td>48</td>\n",
       "      <td>9</td>\n",
       "      <td>0</td>\n",
       "      <td>...</td>\n",
       "      <td></td>\n",
       "      <td>0</td>\n",
       "      <td>M</td>\n",
       "      <td>0.0</td>\n",
       "      <td>0.00</td>\n",
       "      <td>29.39</td>\n",
       "      <td>30.12</td>\n",
       "      <td>11.7</td>\n",
       "      <td>7</td>\n",
       "      <td>11.9</td>\n",
       "    </tr>\n",
       "  </tbody>\n",
       "</table>\n",
       "<p>5 rows × 22 columns</p>\n",
       "</div>"
      ],
      "text/plain": [
       "   Station       Date  Tmax  Tmin Tavg Depart  DewPoint WetBulb Heat Cool  \\\n",
       "0        1 2007-05-01    83    50   67     14        51      56    0    2   \n",
       "1        2 2007-05-01    84    52   68      M        51      57    0    3   \n",
       "2        1 2007-05-02    59    42   51     -3        42      47   14    0   \n",
       "3        2 2007-05-02    60    43   52      M        42      47   13    0   \n",
       "4        1 2007-05-03    66    46   56      2        40      48    9    0   \n",
       "\n",
       "     ...    CodeSum Depth Water1 SnowFall PrecipTotal StnPressure SeaLevel  \\\n",
       "0    ...                0      M      0.0        0.00       29.10    29.82   \n",
       "1    ...                M      M        M        0.00       29.18    29.82   \n",
       "2    ...         BR     0      M      0.0        0.00       29.38    30.09   \n",
       "3    ...      BR HZ     M      M        M        0.00       29.44    30.08   \n",
       "4    ...                0      M      0.0        0.00       29.39    30.12   \n",
       "\n",
       "  ResultSpeed ResultDir  AvgSpeed  \n",
       "0         1.7        27       9.2  \n",
       "1         2.7        25       9.6  \n",
       "2        13.0         4      13.4  \n",
       "3        13.3         2      13.4  \n",
       "4        11.7         7      11.9  \n",
       "\n",
       "[5 rows x 22 columns]"
      ]
     },
     "execution_count": 315,
     "metadata": {},
     "output_type": "execute_result"
    }
   ],
   "source": [
    "wx.head()"
   ]
  },
  {
   "cell_type": "markdown",
   "metadata": {},
   "source": [
    "### Feature Engineering"
   ]
  },
  {
   "cell_type": "markdown",
   "metadata": {},
   "source": [
    "#### Find closest Wx station"
   ]
  },
  {
   "cell_type": "code",
   "execution_count": 316,
   "metadata": {},
   "outputs": [],
   "source": [
    "from haversine import haversine"
   ]
  },
  {
   "cell_type": "markdown",
   "metadata": {},
   "source": [
    "#### It looks like a trap moved, or has two different locations:"
   ]
  },
  {
   "cell_type": "code",
   "execution_count": 317,
   "metadata": {},
   "outputs": [
    {
     "data": {
      "text/plain": [
       "138"
      ]
     },
     "execution_count": 317,
     "metadata": {},
     "output_type": "execute_result"
    }
   ],
   "source": [
    "len(train.Latitude.unique())"
   ]
  },
  {
   "cell_type": "code",
   "execution_count": 318,
   "metadata": {},
   "outputs": [
    {
     "data": {
      "text/plain": [
       "136"
      ]
     },
     "execution_count": 318,
     "metadata": {},
     "output_type": "execute_result"
    }
   ],
   "source": [
    "len(train.Trap.unique())"
   ]
  },
  {
   "cell_type": "markdown",
   "metadata": {},
   "source": [
    "#### Explore trap locations in the context of nearest weather station"
   ]
  },
  {
   "cell_type": "code",
   "execution_count": 319,
   "metadata": {},
   "outputs": [],
   "source": [
    "traps = train[['Trap', 'Latitude', 'Longitude']].drop_duplicates(['Trap']).reset_index(drop=True)"
   ]
  },
  {
   "cell_type": "code",
   "execution_count": 320,
   "metadata": {},
   "outputs": [],
   "source": [
    "locations = []\n",
    "for i in range(len(traps)):\n",
    "    locations.append((traps['Latitude'][i], traps['Longitude'][i]))"
   ]
  },
  {
   "cell_type": "code",
   "execution_count": 321,
   "metadata": {},
   "outputs": [],
   "source": [
    "ll = pd.Series(locations)\n",
    "traps['Location'] = ll.values"
   ]
  },
  {
   "cell_type": "code",
   "execution_count": 322,
   "metadata": {},
   "outputs": [
    {
     "data": {
      "text/html": [
       "<div>\n",
       "<style scoped>\n",
       "    .dataframe tbody tr th:only-of-type {\n",
       "        vertical-align: middle;\n",
       "    }\n",
       "\n",
       "    .dataframe tbody tr th {\n",
       "        vertical-align: top;\n",
       "    }\n",
       "\n",
       "    .dataframe thead th {\n",
       "        text-align: right;\n",
       "    }\n",
       "</style>\n",
       "<table border=\"1\" class=\"dataframe\">\n",
       "  <thead>\n",
       "    <tr style=\"text-align: right;\">\n",
       "      <th></th>\n",
       "      <th>Trap</th>\n",
       "      <th>Latitude</th>\n",
       "      <th>Longitude</th>\n",
       "      <th>Location</th>\n",
       "    </tr>\n",
       "  </thead>\n",
       "  <tbody>\n",
       "    <tr>\n",
       "      <th>0</th>\n",
       "      <td>T002</td>\n",
       "      <td>41.954690</td>\n",
       "      <td>-87.800991</td>\n",
       "      <td>(41.95469, -87.800991)</td>\n",
       "    </tr>\n",
       "    <tr>\n",
       "      <th>1</th>\n",
       "      <td>T007</td>\n",
       "      <td>41.994991</td>\n",
       "      <td>-87.769279</td>\n",
       "      <td>(41.994991, -87.769279)</td>\n",
       "    </tr>\n",
       "    <tr>\n",
       "      <th>2</th>\n",
       "      <td>T015</td>\n",
       "      <td>41.974089</td>\n",
       "      <td>-87.824812</td>\n",
       "      <td>(41.974089, -87.824812)</td>\n",
       "    </tr>\n",
       "    <tr>\n",
       "      <th>3</th>\n",
       "      <td>T045</td>\n",
       "      <td>41.921600</td>\n",
       "      <td>-87.666455</td>\n",
       "      <td>(41.9216, -87.666455)</td>\n",
       "    </tr>\n",
       "    <tr>\n",
       "      <th>4</th>\n",
       "      <td>T046</td>\n",
       "      <td>41.891118</td>\n",
       "      <td>-87.654491</td>\n",
       "      <td>(41.891118, -87.654491)</td>\n",
       "    </tr>\n",
       "  </tbody>\n",
       "</table>\n",
       "</div>"
      ],
      "text/plain": [
       "   Trap   Latitude  Longitude                 Location\n",
       "0  T002  41.954690 -87.800991   (41.95469, -87.800991)\n",
       "1  T007  41.994991 -87.769279  (41.994991, -87.769279)\n",
       "2  T015  41.974089 -87.824812  (41.974089, -87.824812)\n",
       "3  T045  41.921600 -87.666455    (41.9216, -87.666455)\n",
       "4  T046  41.891118 -87.654491  (41.891118, -87.654491)"
      ]
     },
     "execution_count": 322,
     "metadata": {},
     "output_type": "execute_result"
    }
   ],
   "source": [
    "traps.head()"
   ]
  },
  {
   "cell_type": "code",
   "execution_count": 323,
   "metadata": {},
   "outputs": [],
   "source": [
    "# Station 1: CHICAGO O'HARE INTERNATIONAL AIRPORT Lat: 41.995 Lon: -87.933 Elev: 662 ft. above sea level\n",
    "st1 = (41.995, -87.933)\n",
    "\n",
    "# Station 2: CHICAGO MIDWAY INTL ARPT Lat: 41.786 Lon: -87.752 Elev: 612 ft. above sea level\n",
    "st2 = (41.786, -87.752)"
   ]
  },
  {
   "cell_type": "code",
   "execution_count": 324,
   "metadata": {},
   "outputs": [
    {
     "name": "stdout",
     "output_type": "stream",
     "text": [
      "# of st1: 39\n",
      "# of st2: 97\n"
     ]
    }
   ],
   "source": [
    "my_list = []\n",
    "for location in locations:\n",
    "    if haversine(st2, location) < haversine(st1, location):\n",
    "        my_list.append(2)\n",
    "    else:\n",
    "        my_list.append(1)\n",
    "\n",
    "print('# of st1:', my_list.count(1))\n",
    "print('# of st2:', my_list.count(2))"
   ]
  },
  {
   "cell_type": "code",
   "execution_count": 325,
   "metadata": {},
   "outputs": [],
   "source": [
    "import math\n",
    "\n",
    "#initialize variables\n",
    "radius = 6371 #km\n",
    "\n",
    "# custom Great Circle Distance (haversine) function\n",
    "def GCD(lat1,lon1,lat2,lon2):\n",
    "    #code goes here\n",
    "    sin1 = math.sin(math.radians(lat1))\n",
    "    sin2 = math.sin(math.radians(lat2))\n",
    "    cos1 = math.cos(math.radians(lat1))\n",
    "    cos2 = math.cos(math.radians(lat2))\n",
    "    dellon = math.cos(abs(math.radians(lon2-lon1)))\n",
    "    \n",
    "    delsigma = math.acos(sin1*sin2 + cos1*cos2*dellon)\n",
    "\n",
    "    d = radius*delsigma\n",
    "    return d"
   ]
  },
  {
   "cell_type": "code",
   "execution_count": 326,
   "metadata": {},
   "outputs": [],
   "source": [
    "# Wx station 1 coordinates\n",
    "lat1 = 41.995\n",
    "lat2 = 41.786\n",
    "\n",
    "# Wx station 2 coordinates\n",
    "lon1 = -87.933\n",
    "lon2 = -87.752"
   ]
  },
  {
   "cell_type": "code",
   "execution_count": 327,
   "metadata": {},
   "outputs": [],
   "source": [
    "# calculate distance between trap and each Wx station\n",
    "# assign trap to appropriate station (closest)\n",
    "\n",
    "train['Station'] = 1\n",
    "\n",
    "for i in range(train.shape[0]):\n",
    "    if GCD(lat1, lon1, train.loc[i, 'Latitude'], train.loc[i, 'Longitude']) > GCD(lat2, lon2, train.loc[i, 'Latitude'], train.loc[i, 'Longitude']):\n",
    "        train.loc[i,'Station'] = 2"
   ]
  },
  {
   "cell_type": "code",
   "execution_count": 328,
   "metadata": {},
   "outputs": [
    {
     "data": {
      "text/plain": [
       "array([1, 2])"
      ]
     },
     "execution_count": 328,
     "metadata": {},
     "output_type": "execute_result"
    }
   ],
   "source": [
    "# verify results\n",
    "train['Station'].unique()"
   ]
  },
  {
   "cell_type": "markdown",
   "metadata": {},
   "source": [
    "### Merge Wx data on to train data"
   ]
  },
  {
   "cell_type": "code",
   "execution_count": 329,
   "metadata": {},
   "outputs": [],
   "source": [
    "train = train.merge(wx_sm, how = 'left', on = ['Date','Station'])"
   ]
  },
  {
   "cell_type": "code",
   "execution_count": 330,
   "metadata": {},
   "outputs": [
    {
     "data": {
      "text/plain": [
       "Station\n",
       "1    3298\n",
       "2    7208\n",
       "Name: Station, dtype: int64"
      ]
     },
     "execution_count": 330,
     "metadata": {},
     "output_type": "execute_result"
    }
   ],
   "source": [
    "# verify merge on Wx stations\n",
    "train.groupby(by ='Station')['Station'].count()"
   ]
  },
  {
   "cell_type": "code",
   "execution_count": 331,
   "metadata": {
    "scrolled": true
   },
   "outputs": [],
   "source": [
    "# drop variables not needed for predicting WNV\n",
    "train.drop(columns=['AddressAccuracy','AddressNumberAndStreet', 'Block', 'Street', \n",
    "                    'Address', 'Station', 'Latitude', 'Longitude', 'NumMosquitos'], inplace=True)"
   ]
  },
  {
   "cell_type": "markdown",
   "metadata": {},
   "source": [
    "### Get dummies for unique mosquito species"
   ]
  },
  {
   "cell_type": "code",
   "execution_count": 336,
   "metadata": {},
   "outputs": [],
   "source": [
    "# separate week, month, and year\n",
    "train['Week'] = train['Date'].dt.week\n",
    "\n",
    "# drop date column\n",
    "train.drop(columns = ['Date', 'Species'], inplace= True)\n",
    "\n",
    "#get dummies\n",
    "train = pd.get_dummies(train, columns = ['Week', 'Trap'])"
   ]
  },
  {
   "cell_type": "markdown",
   "metadata": {},
   "source": [
    "# Modeling"
   ]
  },
  {
   "cell_type": "code",
   "execution_count": 337,
   "metadata": {},
   "outputs": [
    {
     "data": {
      "text/plain": [
       "'0.94755'"
      ]
     },
     "execution_count": 337,
     "metadata": {},
     "output_type": "execute_result"
    }
   ],
   "source": [
    "# Baseline accuracy is 94.76%\n",
    "format(1 - train['WnvPresent'].sum()/train.shape[0], '.5f')"
   ]
  },
  {
   "cell_type": "code",
   "execution_count": 338,
   "metadata": {},
   "outputs": [],
   "source": [
    "# independent variables/ features to predict presence of WNV\n",
    "X = train.drop(columns = 'WnvPresent')\n",
    "# target\n",
    "y = train['WnvPresent']"
   ]
  },
  {
   "cell_type": "code",
   "execution_count": 339,
   "metadata": {},
   "outputs": [],
   "source": [
    "# split training and test data (70-30) \n",
    "# random state=42 for reproducability\n",
    "# stratify on WNV to balance classes\n",
    "X_train, X_test, y_train, y_test = train_test_split(X, y, test_size=0.2, \n",
    "                                                    random_state=42, stratify=train['WnvPresent'])"
   ]
  },
  {
   "cell_type": "code",
   "execution_count": 340,
   "metadata": {},
   "outputs": [],
   "source": [
    "# #rejoin train data on index so it can be downsampled to match classes\n",
    "# traindata = X_train.merge(pd.DataFrame(y_train), how = 'left', right_index = True, left_index = True)\n",
    "\n",
    "# #separate minority and majority classes\n",
    "# train_majority = traindata[traindata['WnvPresent'] == 0]\n",
    "# train_minority = traindata[traindata['WnvPresent'] == 1]\n",
    "\n",
    "# #upsample minority class\n",
    "# train_minority_upsampled = resample(train_minority, \n",
    "#                                      replace = True, \n",
    "#                                      n_samples = train_majority.shape[0],\n",
    "#                                      random_state = 65)\n",
    "# #combine classes\n",
    "# train_data_upsampled = pd.concat([train_majority, train_minority_upsampled])\n",
    "# #split back into X_train and y_train\n",
    "# X_train = train_data_upsampled.drop(columns = 'WnvPresent')\n",
    "# y_train = train_data_upsampled['WnvPresent']"
   ]
  },
  {
   "cell_type": "code",
   "execution_count": 341,
   "metadata": {},
   "outputs": [
    {
     "ename": "ValueError",
     "evalue": "could not convert string to float: 'M'",
     "output_type": "error",
     "traceback": [
      "\u001b[0;31m---------------------------------------------------------------------------\u001b[0m",
      "\u001b[0;31mValueError\u001b[0m                                Traceback (most recent call last)",
      "\u001b[0;32m<ipython-input-341-0cc0f38a3948>\u001b[0m in \u001b[0;36m<module>\u001b[0;34m()\u001b[0m\n\u001b[1;32m      1\u001b[0m \u001b[0;31m# standardizing data to normalize with a mean of 0 and a stdDev of 1\u001b[0m\u001b[0;34m\u001b[0m\u001b[0;34m\u001b[0m\u001b[0m\n\u001b[1;32m      2\u001b[0m \u001b[0mss\u001b[0m \u001b[0;34m=\u001b[0m \u001b[0mStandardScaler\u001b[0m\u001b[0;34m(\u001b[0m\u001b[0;34m)\u001b[0m\u001b[0;34m\u001b[0m\u001b[0m\n\u001b[0;32m----> 3\u001b[0;31m \u001b[0mX_train\u001b[0m \u001b[0;34m=\u001b[0m \u001b[0mss\u001b[0m\u001b[0;34m.\u001b[0m\u001b[0mfit_transform\u001b[0m\u001b[0;34m(\u001b[0m\u001b[0mX_train\u001b[0m\u001b[0;34m)\u001b[0m\u001b[0;34m\u001b[0m\u001b[0m\n\u001b[0m\u001b[1;32m      4\u001b[0m \u001b[0mX_test\u001b[0m \u001b[0;34m=\u001b[0m \u001b[0mss\u001b[0m\u001b[0;34m.\u001b[0m\u001b[0mtransform\u001b[0m\u001b[0;34m(\u001b[0m\u001b[0mX_test\u001b[0m\u001b[0;34m)\u001b[0m\u001b[0;34m\u001b[0m\u001b[0m\n",
      "\u001b[0;32m~/anaconda2/envs/ga/lib/python3.6/site-packages/sklearn/base.py\u001b[0m in \u001b[0;36mfit_transform\u001b[0;34m(self, X, y, **fit_params)\u001b[0m\n\u001b[1;32m    515\u001b[0m         \u001b[0;32mif\u001b[0m \u001b[0my\u001b[0m \u001b[0;32mis\u001b[0m \u001b[0;32mNone\u001b[0m\u001b[0;34m:\u001b[0m\u001b[0;34m\u001b[0m\u001b[0m\n\u001b[1;32m    516\u001b[0m             \u001b[0;31m# fit method of arity 1 (unsupervised transformation)\u001b[0m\u001b[0;34m\u001b[0m\u001b[0;34m\u001b[0m\u001b[0m\n\u001b[0;32m--> 517\u001b[0;31m             \u001b[0;32mreturn\u001b[0m \u001b[0mself\u001b[0m\u001b[0;34m.\u001b[0m\u001b[0mfit\u001b[0m\u001b[0;34m(\u001b[0m\u001b[0mX\u001b[0m\u001b[0;34m,\u001b[0m \u001b[0;34m**\u001b[0m\u001b[0mfit_params\u001b[0m\u001b[0;34m)\u001b[0m\u001b[0;34m.\u001b[0m\u001b[0mtransform\u001b[0m\u001b[0;34m(\u001b[0m\u001b[0mX\u001b[0m\u001b[0;34m)\u001b[0m\u001b[0;34m\u001b[0m\u001b[0m\n\u001b[0m\u001b[1;32m    518\u001b[0m         \u001b[0;32melse\u001b[0m\u001b[0;34m:\u001b[0m\u001b[0;34m\u001b[0m\u001b[0m\n\u001b[1;32m    519\u001b[0m             \u001b[0;31m# fit method of arity 2 (supervised transformation)\u001b[0m\u001b[0;34m\u001b[0m\u001b[0;34m\u001b[0m\u001b[0m\n",
      "\u001b[0;32m~/anaconda2/envs/ga/lib/python3.6/site-packages/sklearn/preprocessing/data.py\u001b[0m in \u001b[0;36mfit\u001b[0;34m(self, X, y)\u001b[0m\n\u001b[1;32m    588\u001b[0m         \u001b[0;31m# Reset internal state before fitting\u001b[0m\u001b[0;34m\u001b[0m\u001b[0;34m\u001b[0m\u001b[0m\n\u001b[1;32m    589\u001b[0m         \u001b[0mself\u001b[0m\u001b[0;34m.\u001b[0m\u001b[0m_reset\u001b[0m\u001b[0;34m(\u001b[0m\u001b[0;34m)\u001b[0m\u001b[0;34m\u001b[0m\u001b[0m\n\u001b[0;32m--> 590\u001b[0;31m         \u001b[0;32mreturn\u001b[0m \u001b[0mself\u001b[0m\u001b[0;34m.\u001b[0m\u001b[0mpartial_fit\u001b[0m\u001b[0;34m(\u001b[0m\u001b[0mX\u001b[0m\u001b[0;34m,\u001b[0m \u001b[0my\u001b[0m\u001b[0;34m)\u001b[0m\u001b[0;34m\u001b[0m\u001b[0m\n\u001b[0m\u001b[1;32m    591\u001b[0m \u001b[0;34m\u001b[0m\u001b[0m\n\u001b[1;32m    592\u001b[0m     \u001b[0;32mdef\u001b[0m \u001b[0mpartial_fit\u001b[0m\u001b[0;34m(\u001b[0m\u001b[0mself\u001b[0m\u001b[0;34m,\u001b[0m \u001b[0mX\u001b[0m\u001b[0;34m,\u001b[0m \u001b[0my\u001b[0m\u001b[0;34m=\u001b[0m\u001b[0;32mNone\u001b[0m\u001b[0;34m)\u001b[0m\u001b[0;34m:\u001b[0m\u001b[0;34m\u001b[0m\u001b[0m\n",
      "\u001b[0;32m~/anaconda2/envs/ga/lib/python3.6/site-packages/sklearn/preprocessing/data.py\u001b[0m in \u001b[0;36mpartial_fit\u001b[0;34m(self, X, y)\u001b[0m\n\u001b[1;32m    610\u001b[0m         \"\"\"\n\u001b[1;32m    611\u001b[0m         X = check_array(X, accept_sparse=('csr', 'csc'), copy=self.copy,\n\u001b[0;32m--> 612\u001b[0;31m                         warn_on_dtype=True, estimator=self, dtype=FLOAT_DTYPES)\n\u001b[0m\u001b[1;32m    613\u001b[0m \u001b[0;34m\u001b[0m\u001b[0m\n\u001b[1;32m    614\u001b[0m         \u001b[0;31m# Even in the case of `with_mean=False`, we update the mean anyway\u001b[0m\u001b[0;34m\u001b[0m\u001b[0;34m\u001b[0m\u001b[0m\n",
      "\u001b[0;32m~/anaconda2/envs/ga/lib/python3.6/site-packages/sklearn/utils/validation.py\u001b[0m in \u001b[0;36mcheck_array\u001b[0;34m(array, accept_sparse, dtype, order, copy, force_all_finite, ensure_2d, allow_nd, ensure_min_samples, ensure_min_features, warn_on_dtype, estimator)\u001b[0m\n\u001b[1;32m    431\u001b[0m                                       force_all_finite)\n\u001b[1;32m    432\u001b[0m     \u001b[0;32melse\u001b[0m\u001b[0;34m:\u001b[0m\u001b[0;34m\u001b[0m\u001b[0m\n\u001b[0;32m--> 433\u001b[0;31m         \u001b[0marray\u001b[0m \u001b[0;34m=\u001b[0m \u001b[0mnp\u001b[0m\u001b[0;34m.\u001b[0m\u001b[0marray\u001b[0m\u001b[0;34m(\u001b[0m\u001b[0marray\u001b[0m\u001b[0;34m,\u001b[0m \u001b[0mdtype\u001b[0m\u001b[0;34m=\u001b[0m\u001b[0mdtype\u001b[0m\u001b[0;34m,\u001b[0m \u001b[0morder\u001b[0m\u001b[0;34m=\u001b[0m\u001b[0morder\u001b[0m\u001b[0;34m,\u001b[0m \u001b[0mcopy\u001b[0m\u001b[0;34m=\u001b[0m\u001b[0mcopy\u001b[0m\u001b[0;34m)\u001b[0m\u001b[0;34m\u001b[0m\u001b[0m\n\u001b[0m\u001b[1;32m    434\u001b[0m \u001b[0;34m\u001b[0m\u001b[0m\n\u001b[1;32m    435\u001b[0m         \u001b[0;32mif\u001b[0m \u001b[0mensure_2d\u001b[0m\u001b[0;34m:\u001b[0m\u001b[0;34m\u001b[0m\u001b[0m\n",
      "\u001b[0;31mValueError\u001b[0m: could not convert string to float: 'M'"
     ]
    }
   ],
   "source": [
    "# standardizing data to normalize with a mean of 0 and a stdDev of 1\n",
    "ss = StandardScaler()\n",
    "X_train = ss.fit_transform(X_train)\n",
    "X_test = ss.transform(X_test)"
   ]
  },
  {
   "cell_type": "code",
   "execution_count": 52,
   "metadata": {},
   "outputs": [],
   "source": [
    "# create neural network\n",
    "model = Sequential()\n",
    "\n",
    "input_units = X_train.shape[1]\n",
    "hidden_units = round(input_units)\n",
    "\n",
    "model.add(Dense(hidden_units, \n",
    "                input_dim = input_units, \n",
    "                activation = 'relu'))\n",
    "\n",
    "model.add(Dense(82, activation = 'relu'))\n",
    "\n",
    "model.add(Dense(41, activation = 'relu'))\n",
    "\n",
    "model.add(Dense(20, activation = 'relu'))\n",
    "\n",
    "model.add(Dense(10, activation = 'relu'))\n",
    "\n",
    "model.add(Dense(5, activation = 'relu'))\n",
    "\n",
    "model.add(Dense(1, activation = 'sigmoid'))\n",
    "\n",
    "model.compile(loss = 'binary_crossentropy',\n",
    "              optimizer = 'adam',\n",
    "              metrics = ['binary_accuracy'])"
   ]
  },
  {
   "cell_type": "code",
   "execution_count": 63,
   "metadata": {},
   "outputs": [
    {
     "data": {
      "text/plain": [
       "<bound method DataFrame.info of        WnvPresent Tavg  Week_22  Week_23  Week_24  Week_25  Week_26  Week_27  \\\n",
       "0               0   74        1        0        0        0        0        0   \n",
       "1               0   74        1        0        0        0        0        0   \n",
       "2               0   74        1        0        0        0        0        0   \n",
       "3               0   74        1        0        0        0        0        0   \n",
       "4               0   74        1        0        0        0        0        0   \n",
       "5               0   77        1        0        0        0        0        0   \n",
       "6               0   77        1        0        0        0        0        0   \n",
       "7               0   77        1        0        0        0        0        0   \n",
       "8               0   77        1        0        0        0        0        0   \n",
       "9               0   77        1        0        0        0        0        0   \n",
       "10              0   77        1        0        0        0        0        0   \n",
       "11              0   77        1        0        0        0        0        0   \n",
       "12              0   77        1        0        0        0        0        0   \n",
       "13              0   77        1        0        0        0        0        0   \n",
       "14              0   77        1        0        0        0        0        0   \n",
       "15              0   77        1        0        0        0        0        0   \n",
       "16              0   77        1        0        0        0        0        0   \n",
       "17              0   77        1        0        0        0        0        0   \n",
       "18              0   77        1        0        0        0        0        0   \n",
       "19              0   77        1        0        0        0        0        0   \n",
       "20              0   77        1        0        0        0        0        0   \n",
       "21              0   74        1        0        0        0        0        0   \n",
       "22              0   74        1        0        0        0        0        0   \n",
       "23              0   77        1        0        0        0        0        0   \n",
       "24              0   77        1        0        0        0        0        0   \n",
       "25              0   56        0        1        0        0        0        0   \n",
       "26              0   56        0        1        0        0        0        0   \n",
       "27              0   56        0        1        0        0        0        0   \n",
       "28              0   56        0        1        0        0        0        0   \n",
       "29              0   56        0        1        0        0        0        0   \n",
       "...           ...  ...      ...      ...      ...      ...      ...      ...   \n",
       "10476           0   65        0        0        0        0        0        0   \n",
       "10477           0   65        0        0        0        0        0        0   \n",
       "10478           0   65        0        0        0        0        0        0   \n",
       "10479           0   63        0        0        0        0        0        0   \n",
       "10480           0   65        0        0        0        0        0        0   \n",
       "10481           0   65        0        0        0        0        0        0   \n",
       "10482           0   65        0        0        0        0        0        0   \n",
       "10483           0   63        0        0        0        0        0        0   \n",
       "10484           1   63        0        0        0        0        0        0   \n",
       "10485           0   63        0        0        0        0        0        0   \n",
       "10486           0   63        0        0        0        0        0        0   \n",
       "10487           0   63        0        0        0        0        0        0   \n",
       "10488           0   63        0        0        0        0        0        0   \n",
       "10489           0   63        0        0        0        0        0        0   \n",
       "10490           0   65        0        0        0        0        0        0   \n",
       "10491           0   63        0        0        0        0        0        0   \n",
       "10492           0   63        0        0        0        0        0        0   \n",
       "10493           0   65        0        0        0        0        0        0   \n",
       "10494           0   65        0        0        0        0        0        0   \n",
       "10495           0   65        0        0        0        0        0        0   \n",
       "10496           0   65        0        0        0        0        0        0   \n",
       "10497           0   65        0        0        0        0        0        0   \n",
       "10498           0   65        0        0        0        0        0        0   \n",
       "10499           0   65        0        0        0        0        0        0   \n",
       "10500           0   63        0        0        0        0        0        0   \n",
       "10501           1   65        0        0        0        0        0        0   \n",
       "10502           0   63        0        0        0        0        0        0   \n",
       "10503           0   65        0        0        0        0        0        0   \n",
       "10504           0   63        0        0        0        0        0        0   \n",
       "10505           0   65        0        0        0        0        0        0   \n",
       "\n",
       "       Week_28  Week_29    ...      Trap_T230  Trap_T231  Trap_T232  \\\n",
       "0            0        0    ...              0          0          0   \n",
       "1            0        0    ...              0          0          0   \n",
       "2            0        0    ...              0          0          0   \n",
       "3            0        0    ...              0          0          0   \n",
       "4            0        0    ...              0          0          0   \n",
       "5            0        0    ...              0          0          0   \n",
       "6            0        0    ...              0          0          0   \n",
       "7            0        0    ...              0          0          0   \n",
       "8            0        0    ...              0          0          0   \n",
       "9            0        0    ...              0          0          0   \n",
       "10           0        0    ...              0          0          0   \n",
       "11           0        0    ...              0          0          0   \n",
       "12           0        0    ...              0          0          0   \n",
       "13           0        0    ...              0          0          0   \n",
       "14           0        0    ...              0          0          0   \n",
       "15           0        0    ...              0          0          0   \n",
       "16           0        0    ...              0          0          0   \n",
       "17           0        0    ...              0          0          0   \n",
       "18           0        0    ...              0          0          0   \n",
       "19           0        0    ...              0          0          0   \n",
       "20           0        0    ...              0          0          0   \n",
       "21           0        0    ...              0          0          0   \n",
       "22           0        0    ...              0          0          0   \n",
       "23           0        0    ...              0          0          0   \n",
       "24           0        0    ...              0          0          0   \n",
       "25           0        0    ...              0          0          0   \n",
       "26           0        0    ...              0          0          0   \n",
       "27           0        0    ...              0          0          0   \n",
       "28           0        0    ...              0          0          0   \n",
       "29           0        0    ...              0          0          0   \n",
       "...        ...      ...    ...            ...        ...        ...   \n",
       "10476        0        0    ...              0          0          0   \n",
       "10477        0        0    ...              0          0          0   \n",
       "10478        0        0    ...              0          0          0   \n",
       "10479        0        0    ...              0          0          0   \n",
       "10480        0        0    ...              0          0          0   \n",
       "10481        0        0    ...              0          0          0   \n",
       "10482        0        0    ...              0          0          0   \n",
       "10483        0        0    ...              0          0          0   \n",
       "10484        0        0    ...              0          0          0   \n",
       "10485        0        0    ...              0          0          0   \n",
       "10486        0        0    ...              0          0          0   \n",
       "10487        0        0    ...              0          0          0   \n",
       "10488        0        0    ...              0          0          0   \n",
       "10489        0        0    ...              0          0          0   \n",
       "10490        0        0    ...              0          0          0   \n",
       "10491        0        0    ...              0          0          0   \n",
       "10492        0        0    ...              0          0          0   \n",
       "10493        0        0    ...              0          0          0   \n",
       "10494        0        0    ...              0          0          0   \n",
       "10495        0        0    ...              0          0          0   \n",
       "10496        0        0    ...              0          0          0   \n",
       "10497        0        0    ...              0          0          0   \n",
       "10498        0        0    ...              1          0          0   \n",
       "10499        0        0    ...              1          0          0   \n",
       "10500        0        0    ...              0          0          0   \n",
       "10501        0        0    ...              0          0          0   \n",
       "10502        0        0    ...              0          1          0   \n",
       "10503        0        0    ...              0          0          1   \n",
       "10504        0        0    ...              0          0          0   \n",
       "10505        0        0    ...              0          0          0   \n",
       "\n",
       "       Trap_T233  Trap_T235  Trap_T236  Trap_T237  Trap_T238  Trap_T900  \\\n",
       "0              0          0          0          0          0          0   \n",
       "1              0          0          0          0          0          0   \n",
       "2              0          0          0          0          0          0   \n",
       "3              0          0          0          0          0          0   \n",
       "4              0          0          0          0          0          0   \n",
       "5              0          0          0          0          0          0   \n",
       "6              0          0          0          0          0          0   \n",
       "7              0          0          0          0          0          0   \n",
       "8              0          0          0          0          0          0   \n",
       "9              0          0          0          0          0          0   \n",
       "10             0          0          0          0          0          0   \n",
       "11             0          0          0          0          0          0   \n",
       "12             0          0          0          0          0          0   \n",
       "13             0          0          0          0          0          0   \n",
       "14             0          0          0          0          0          0   \n",
       "15             0          0          0          0          0          0   \n",
       "16             0          0          0          0          0          0   \n",
       "17             0          0          0          0          0          0   \n",
       "18             0          0          0          0          0          0   \n",
       "19             0          0          0          0          0          0   \n",
       "20             0          0          0          0          0          0   \n",
       "21             0          0          0          0          0          0   \n",
       "22             0          0          0          0          0          0   \n",
       "23             0          0          0          0          0          0   \n",
       "24             0          0          0          0          0          0   \n",
       "25             0          0          0          0          0          0   \n",
       "26             0          0          0          0          0          0   \n",
       "27             0          0          0          0          0          0   \n",
       "28             0          0          0          0          0          0   \n",
       "29             0          0          0          0          0          0   \n",
       "...          ...        ...        ...        ...        ...        ...   \n",
       "10476          0          0          0          0          0          0   \n",
       "10477          0          0          0          0          0          0   \n",
       "10478          0          0          0          0          0          0   \n",
       "10479          0          0          0          0          0          0   \n",
       "10480          0          0          0          0          0          0   \n",
       "10481          0          0          0          0          0          0   \n",
       "10482          0          0          0          0          0          0   \n",
       "10483          0          0          0          0          0          0   \n",
       "10484          0          0          0          0          0          1   \n",
       "10485          0          0          0          0          0          1   \n",
       "10486          0          0          0          0          0          1   \n",
       "10487          0          0          0          0          0          1   \n",
       "10488          0          0          0          0          0          1   \n",
       "10489          0          0          0          0          0          1   \n",
       "10490          0          0          0          0          0          0   \n",
       "10491          0          0          0          0          0          0   \n",
       "10492          0          0          0          0          0          0   \n",
       "10493          0          0          0          0          0          0   \n",
       "10494          0          0          0          0          0          0   \n",
       "10495          0          0          0          0          0          0   \n",
       "10496          0          0          0          0          0          0   \n",
       "10497          0          0          0          0          0          0   \n",
       "10498          0          0          0          0          0          0   \n",
       "10499          0          0          0          0          0          0   \n",
       "10500          0          0          0          0          0          0   \n",
       "10501          0          0          0          0          0          0   \n",
       "10502          0          0          0          0          0          0   \n",
       "10503          0          0          0          0          0          0   \n",
       "10504          1          0          0          0          0          0   \n",
       "10505          0          1          0          0          0          0   \n",
       "\n",
       "       Trap_T903  \n",
       "0              0  \n",
       "1              0  \n",
       "2              0  \n",
       "3              0  \n",
       "4              0  \n",
       "5              0  \n",
       "6              0  \n",
       "7              0  \n",
       "8              0  \n",
       "9              0  \n",
       "10             0  \n",
       "11             0  \n",
       "12             0  \n",
       "13             0  \n",
       "14             0  \n",
       "15             0  \n",
       "16             0  \n",
       "17             0  \n",
       "18             0  \n",
       "19             0  \n",
       "20             0  \n",
       "21             0  \n",
       "22             0  \n",
       "23             0  \n",
       "24             0  \n",
       "25             0  \n",
       "26             0  \n",
       "27             0  \n",
       "28             0  \n",
       "29             0  \n",
       "...          ...  \n",
       "10476          0  \n",
       "10477          0  \n",
       "10478          0  \n",
       "10479          0  \n",
       "10480          0  \n",
       "10481          0  \n",
       "10482          0  \n",
       "10483          0  \n",
       "10484          0  \n",
       "10485          0  \n",
       "10486          0  \n",
       "10487          0  \n",
       "10488          0  \n",
       "10489          0  \n",
       "10490          0  \n",
       "10491          0  \n",
       "10492          0  \n",
       "10493          0  \n",
       "10494          0  \n",
       "10495          0  \n",
       "10496          0  \n",
       "10497          0  \n",
       "10498          0  \n",
       "10499          0  \n",
       "10500          0  \n",
       "10501          0  \n",
       "10502          0  \n",
       "10503          0  \n",
       "10504          0  \n",
       "10505          0  \n",
       "\n",
       "[10506 rows x 158 columns]>"
      ]
     },
     "execution_count": 63,
     "metadata": {},
     "output_type": "execute_result"
    }
   ],
   "source": [
    "train.info"
   ]
  },
  {
   "cell_type": "code",
   "execution_count": 54,
   "metadata": {},
   "outputs": [
    {
     "name": "stdout",
     "output_type": "stream",
     "text": [
      "Train on 8404 samples, validate on 2102 samples\n",
      "Epoch 1/10\n",
      "8404/8404 [==============================] - 1s 134us/step - loss: 0.2020 - binary_accuracy: 0.9475 - val_loss: 0.1841 - val_binary_accuracy: 0.9477\n",
      "Epoch 2/10\n",
      "8404/8404 [==============================] - 0s 57us/step - loss: 0.1695 - binary_accuracy: 0.9475 - val_loss: 0.1895 - val_binary_accuracy: 0.9477\n",
      "Epoch 3/10\n",
      "8404/8404 [==============================] - 0s 57us/step - loss: 0.1620 - binary_accuracy: 0.9475 - val_loss: 0.1909 - val_binary_accuracy: 0.9477\n",
      "Epoch 4/10\n",
      "8404/8404 [==============================] - 0s 56us/step - loss: 0.1568 - binary_accuracy: 0.9475 - val_loss: 0.1986 - val_binary_accuracy: 0.9477\n",
      "Epoch 5/10\n",
      "8404/8404 [==============================] - 0s 57us/step - loss: 0.1540 - binary_accuracy: 0.9475 - val_loss: 0.1873 - val_binary_accuracy: 0.9477\n",
      "Epoch 6/10\n",
      "8404/8404 [==============================] - 0s 57us/step - loss: 0.1489 - binary_accuracy: 0.9475 - val_loss: 0.1943 - val_binary_accuracy: 0.9477\n",
      "Epoch 7/10\n",
      "8404/8404 [==============================] - 0s 57us/step - loss: 0.1470 - binary_accuracy: 0.9475 - val_loss: 0.2007 - val_binary_accuracy: 0.9477\n",
      "Epoch 8/10\n",
      "8404/8404 [==============================] - 0s 57us/step - loss: 0.1434 - binary_accuracy: 0.9475 - val_loss: 0.2125 - val_binary_accuracy: 0.9477\n",
      "Epoch 9/10\n",
      "8404/8404 [==============================] - 0s 57us/step - loss: 0.1406 - binary_accuracy: 0.9475 - val_loss: 0.2095 - val_binary_accuracy: 0.9477\n",
      "Epoch 10/10\n",
      "8404/8404 [==============================] - 0s 57us/step - loss: 0.1359 - binary_accuracy: 0.9475 - val_loss: 0.2063 - val_binary_accuracy: 0.9477\n"
     ]
    }
   ],
   "source": [
    "history = model.fit(X_train, y_train,\n",
    "                   validation_data = (X_test, y_test),\n",
    "                   epochs=10, \n",
    "                   batch_size=None, \n",
    "                   verbose=1)"
   ]
  },
  {
   "cell_type": "code",
   "execution_count": 55,
   "metadata": {},
   "outputs": [
    {
     "data": {
      "text/plain": [
       "[<matplotlib.lines.Line2D at 0x1a2307aa58>]"
      ]
     },
     "execution_count": 55,
     "metadata": {},
     "output_type": "execute_result"
    },
    {
     "data": {
      "image/png": "[encoded data removed]",
      "text/plain": [
       "<matplotlib.figure.Figure at 0x1a2274dda0>"
      ]
     },
     "metadata": {},
     "output_type": "display_data"
    }
   ],
   "source": [
    "plt.plot(history.history['val_binary_accuracy'])"
   ]
  },
  {
   "cell_type": "code",
   "execution_count": 56,
   "metadata": {},
   "outputs": [
    {
     "data": {
      "text/plain": [
       "<matplotlib.legend.Legend at 0x1a230e4ef0>"
      ]
     },
     "execution_count": 56,
     "metadata": {},
     "output_type": "execute_result"
    },
    {
     "data": {
      "image/png": "[encoded data removed]",
      "text/plain": [
       "<matplotlib.figure.Figure at 0x1a22ca4518>"
      ]
     },
     "metadata": {},
     "output_type": "display_data"
    }
   ],
   "source": [
    "train_loss = history.history['loss']\n",
    "test_loss = history.history['val_loss']\n",
    "\n",
    "plt.plot(train_loss, label = 'Train loss')\n",
    "plt.plot(test_loss, label = 'Test loss')\n",
    "plt.legend()"
   ]
  },
  {
   "cell_type": "code",
   "execution_count": 57,
   "metadata": {},
   "outputs": [
    {
     "data": {
      "text/plain": [
       "0.77773822562979189"
      ]
     },
     "execution_count": 57,
     "metadata": {},
     "output_type": "execute_result"
    }
   ],
   "source": [
    "# confusion matrix, roc\n",
    "fpr, tpr, _ = roc_curve(y_test, model.predict(X_test))\n",
    "roc_auc = auc(fpr, tpr)\n",
    "roc_auc"
   ]
  },
  {
   "cell_type": "code",
   "execution_count": 58,
   "metadata": {},
   "outputs": [
    {
     "data": {
      "image/png": "[encoded data removed]",
      "text/plain": [
       "<matplotlib.figure.Figure at 0x1a22cad588>"
      ]
     },
     "metadata": {},
     "output_type": "display_data"
    }
   ],
   "source": [
    "#plot of a ROC curve for a specific class\n",
    "plt.figure()\n",
    "plt.plot(fpr, tpr, label='ROC curve (area = %0.2f)' % roc_auc, color = 'blue')\n",
    "plt.plot([0, 1], [0,1], 'k--')\n",
    "plt.xlim([0.0, 1.0])\n",
    "plt.ylim([0.0, 1.05])\n",
    "plt.xlabel('False Positive Rate')\n",
    "plt.ylabel('True Positive Rate')\n",
    "plt.title('Reciever Operating Characteristic (ROC) Curve')\n",
    "plt.legend(loc=\"lower right\")\n",
    "plt.show()"
   ]
  },
  {
   "cell_type": "code",
   "execution_count": 59,
   "metadata": {},
   "outputs": [],
   "source": [
    "# XGBoost model\n",
    "model = xgb.XGBClassifier(seed=42)\n",
    "\n",
    "eval_set = [(X_train, y_train), (X_test, y_test)]\n",
    "scores = cross_val_score(xgb.XGBClassifier(), X_train, y_train, cv=5, n_jobs =-1)"
   ]
  },
  {
   "cell_type": "code",
   "execution_count": 60,
   "metadata": {},
   "outputs": [
    {
     "name": "stdout",
     "output_type": "stream",
     "text": [
      "[0]\tvalidation_0-auc:0.669649\tvalidation_1-auc:0.619674\n",
      "[1]\tvalidation_0-auc:0.669649\tvalidation_1-auc:0.619674\n",
      "[2]\tvalidation_0-auc:0.696535\tvalidation_1-auc:0.657886\n",
      "[3]\tvalidation_0-auc:0.697658\tvalidation_1-auc:0.658755\n",
      "[4]\tvalidation_0-auc:0.734642\tvalidation_1-auc:0.698624\n",
      "[5]\tvalidation_0-auc:0.73553\tvalidation_1-auc:0.698711\n",
      "[6]\tvalidation_0-auc:0.736552\tvalidation_1-auc:0.701228\n",
      "[7]\tvalidation_0-auc:0.735447\tvalidation_1-auc:0.699379\n",
      "[8]\tvalidation_0-auc:0.73545\tvalidation_1-auc:0.699379\n",
      "[9]\tvalidation_0-auc:0.746873\tvalidation_1-auc:0.708434\n",
      "[10]\tvalidation_0-auc:0.747492\tvalidation_1-auc:0.709022\n",
      "[11]\tvalidation_0-auc:0.748464\tvalidation_1-auc:0.710442\n",
      "[12]\tvalidation_0-auc:0.748361\tvalidation_1-auc:0.710989\n",
      "[13]\tvalidation_0-auc:0.750823\tvalidation_1-auc:0.711181\n",
      "[14]\tvalidation_0-auc:0.76265\tvalidation_1-auc:0.723056\n",
      "[15]\tvalidation_0-auc:0.763314\tvalidation_1-auc:0.723325\n",
      "[16]\tvalidation_0-auc:0.779156\tvalidation_1-auc:0.738693\n",
      "[17]\tvalidation_0-auc:0.781988\tvalidation_1-auc:0.743403\n",
      "[18]\tvalidation_0-auc:0.785448\tvalidation_1-auc:0.748042\n",
      "[19]\tvalidation_0-auc:0.785872\tvalidation_1-auc:0.745455\n",
      "[20]\tvalidation_0-auc:0.786144\tvalidation_1-auc:0.744713\n",
      "[21]\tvalidation_0-auc:0.787058\tvalidation_1-auc:0.744549\n",
      "[22]\tvalidation_0-auc:0.787835\tvalidation_1-auc:0.745813\n",
      "[23]\tvalidation_0-auc:0.791126\tvalidation_1-auc:0.748989\n",
      "[24]\tvalidation_0-auc:0.792738\tvalidation_1-auc:0.751175\n",
      "[25]\tvalidation_0-auc:0.794074\tvalidation_1-auc:0.751725\n",
      "[26]\tvalidation_0-auc:0.793203\tvalidation_1-auc:0.749293\n",
      "[27]\tvalidation_0-auc:0.795521\tvalidation_1-auc:0.750347\n",
      "[28]\tvalidation_0-auc:0.79685\tvalidation_1-auc:0.751511\n",
      "[29]\tvalidation_0-auc:0.802069\tvalidation_1-auc:0.758632\n",
      "[30]\tvalidation_0-auc:0.801404\tvalidation_1-auc:0.759385\n",
      "[31]\tvalidation_0-auc:0.80286\tvalidation_1-auc:0.759796\n",
      "[32]\tvalidation_0-auc:0.804471\tvalidation_1-auc:0.759404\n",
      "[33]\tvalidation_0-auc:0.804353\tvalidation_1-auc:0.759075\n",
      "[34]\tvalidation_0-auc:0.806062\tvalidation_1-auc:0.760764\n",
      "[35]\tvalidation_0-auc:0.806829\tvalidation_1-auc:0.761667\n",
      "[36]\tvalidation_0-auc:0.809782\tvalidation_1-auc:0.762315\n",
      "[37]\tvalidation_0-auc:0.812319\tvalidation_1-auc:0.764234\n",
      "[38]\tvalidation_0-auc:0.813332\tvalidation_1-auc:0.765129\n",
      "[39]\tvalidation_0-auc:0.810806\tvalidation_1-auc:0.76271\n",
      "[40]\tvalidation_0-auc:0.81259\tvalidation_1-auc:0.764697\n",
      "[41]\tvalidation_0-auc:0.812587\tvalidation_1-auc:0.765738\n",
      "[42]\tvalidation_0-auc:0.812875\tvalidation_1-auc:0.766874\n",
      "[43]\tvalidation_0-auc:0.813493\tvalidation_1-auc:0.766674\n",
      "[44]\tvalidation_0-auc:0.814029\tvalidation_1-auc:0.765428\n",
      "[45]\tvalidation_0-auc:0.817318\tvalidation_1-auc:0.767753\n",
      "[46]\tvalidation_0-auc:0.817497\tvalidation_1-auc:0.767963\n",
      "[47]\tvalidation_0-auc:0.818489\tvalidation_1-auc:0.766737\n",
      "[48]\tvalidation_0-auc:0.819208\tvalidation_1-auc:0.767415\n",
      "[49]\tvalidation_0-auc:0.81987\tvalidation_1-auc:0.76789\n",
      "[50]\tvalidation_0-auc:0.82205\tvalidation_1-auc:0.76885\n",
      "[51]\tvalidation_0-auc:0.822231\tvalidation_1-auc:0.768937\n",
      "[52]\tvalidation_0-auc:0.822855\tvalidation_1-auc:0.769211\n",
      "[53]\tvalidation_0-auc:0.823921\tvalidation_1-auc:0.767851\n",
      "[54]\tvalidation_0-auc:0.824394\tvalidation_1-auc:0.767997\n",
      "[55]\tvalidation_0-auc:0.824413\tvalidation_1-auc:0.768065\n",
      "[56]\tvalidation_0-auc:0.824244\tvalidation_1-auc:0.769161\n",
      "[57]\tvalidation_0-auc:0.824688\tvalidation_1-auc:0.768006\n",
      "[58]\tvalidation_0-auc:0.82575\tvalidation_1-auc:0.769124\n",
      "[59]\tvalidation_0-auc:0.826154\tvalidation_1-auc:0.768686\n",
      "[60]\tvalidation_0-auc:0.826359\tvalidation_1-auc:0.769558\n",
      "[61]\tvalidation_0-auc:0.826667\tvalidation_1-auc:0.769973\n",
      "[62]\tvalidation_0-auc:0.82701\tvalidation_1-auc:0.76985\n",
      "[63]\tvalidation_0-auc:0.827321\tvalidation_1-auc:0.770379\n",
      "[64]\tvalidation_0-auc:0.828049\tvalidation_1-auc:0.771283\n",
      "[65]\tvalidation_0-auc:0.828325\tvalidation_1-auc:0.771748\n",
      "[66]\tvalidation_0-auc:0.829544\tvalidation_1-auc:0.769398\n",
      "[67]\tvalidation_0-auc:0.829843\tvalidation_1-auc:0.768709\n",
      "[68]\tvalidation_0-auc:0.830137\tvalidation_1-auc:0.769704\n",
      "[69]\tvalidation_0-auc:0.830112\tvalidation_1-auc:0.770486\n",
      "[70]\tvalidation_0-auc:0.830765\tvalidation_1-auc:0.77197\n",
      "[71]\tvalidation_0-auc:0.831099\tvalidation_1-auc:0.771573\n",
      "[72]\tvalidation_0-auc:0.831448\tvalidation_1-auc:0.771404\n",
      "[73]\tvalidation_0-auc:0.831933\tvalidation_1-auc:0.772081\n",
      "[74]\tvalidation_0-auc:0.832346\tvalidation_1-auc:0.772038\n",
      "[75]\tvalidation_0-auc:0.832656\tvalidation_1-auc:0.772613\n",
      "[76]\tvalidation_0-auc:0.833019\tvalidation_1-auc:0.772896\n",
      "[77]\tvalidation_0-auc:0.833108\tvalidation_1-auc:0.773357\n",
      "[78]\tvalidation_0-auc:0.834027\tvalidation_1-auc:0.773754\n",
      "[79]\tvalidation_0-auc:0.834303\tvalidation_1-auc:0.774192\n",
      "[80]\tvalidation_0-auc:0.834414\tvalidation_1-auc:0.77401\n",
      "[81]\tvalidation_0-auc:0.834538\tvalidation_1-auc:0.77385\n",
      "[82]\tvalidation_0-auc:0.835107\tvalidation_1-auc:0.774165\n",
      "[83]\tvalidation_0-auc:0.835948\tvalidation_1-auc:0.774343\n",
      "[84]\tvalidation_0-auc:0.83624\tvalidation_1-auc:0.774731\n",
      "[85]\tvalidation_0-auc:0.836415\tvalidation_1-auc:0.775194\n",
      "[86]\tvalidation_0-auc:0.836611\tvalidation_1-auc:0.775367\n",
      "[87]\tvalidation_0-auc:0.836952\tvalidation_1-auc:0.776682\n",
      "[88]\tvalidation_0-auc:0.837447\tvalidation_1-auc:0.776627\n",
      "[89]\tvalidation_0-auc:0.838469\tvalidation_1-auc:0.776362\n",
      "[90]\tvalidation_0-auc:0.83895\tvalidation_1-auc:0.776191\n",
      "[91]\tvalidation_0-auc:0.839321\tvalidation_1-auc:0.776463\n",
      "[92]\tvalidation_0-auc:0.839681\tvalidation_1-auc:0.775646\n",
      "[93]\tvalidation_0-auc:0.840433\tvalidation_1-auc:0.77565\n",
      "[94]\tvalidation_0-auc:0.840823\tvalidation_1-auc:0.776173\n",
      "[95]\tvalidation_0-auc:0.840881\tvalidation_1-auc:0.775863\n",
      "[96]\tvalidation_0-auc:0.84118\tvalidation_1-auc:0.776661\n",
      "[97]\tvalidation_0-auc:0.841152\tvalidation_1-auc:0.776693\n",
      "[98]\tvalidation_0-auc:0.84131\tvalidation_1-auc:0.776789\n",
      "[99]\tvalidation_0-auc:0.841322\tvalidation_1-auc:0.776586\n"
     ]
    },
    {
     "data": {
      "text/plain": [
       "XGBClassifier(base_score=0.5, booster='gbtree', colsample_bylevel=1,\n",
       "       colsample_bytree=1, gamma=0, learning_rate=0.1, max_delta_step=0,\n",
       "       max_depth=3, min_child_weight=1, missing=None, n_estimators=100,\n",
       "       n_jobs=1, nthread=None, objective='binary:logistic', random_state=0,\n",
       "       reg_alpha=0, reg_lambda=1, scale_pos_weight=1, seed=42, silent=True,\n",
       "       subsample=1)"
      ]
     },
     "execution_count": 60,
     "metadata": {},
     "output_type": "execute_result"
    }
   ],
   "source": [
    "model.fit(X_train, y_train, eval_metric=\"auc\", eval_set=eval_set, verbose=True)"
   ]
  },
  {
   "cell_type": "code",
   "execution_count": 61,
   "metadata": {},
   "outputs": [
    {
     "data": {
      "text/plain": [
       "0.94766888677450045"
      ]
     },
     "execution_count": 61,
     "metadata": {},
     "output_type": "execute_result"
    }
   ],
   "source": [
    "model.score(X_test, y_test)"
   ]
  },
  {
   "cell_type": "code",
   "execution_count": 62,
   "metadata": {},
   "outputs": [
    {
     "ename": "NameError",
     "evalue": "name 'test' is not defined",
     "output_type": "error",
     "traceback": [
      "\u001b[0;31m---------------------------------------------------------------------------\u001b[0m",
      "\u001b[0;31mNameError\u001b[0m                                 Traceback (most recent call last)",
      "\u001b[0;32m<ipython-input-62-9927a6bde575>\u001b[0m in \u001b[0;36m<module>\u001b[0;34m()\u001b[0m\n\u001b[1;32m      1\u001b[0m \u001b[0;31m# kaggle submission\u001b[0m\u001b[0;34m\u001b[0m\u001b[0;34m\u001b[0m\u001b[0m\n\u001b[0;32m----> 2\u001b[0;31m \u001b[0msubmission\u001b[0m \u001b[0;34m=\u001b[0m \u001b[0mpd\u001b[0m\u001b[0;34m.\u001b[0m\u001b[0mDataFrame\u001b[0m\u001b[0;34m(\u001b[0m\u001b[0mmodel\u001b[0m\u001b[0;34m.\u001b[0m\u001b[0mpredict_proba\u001b[0m\u001b[0;34m(\u001b[0m\u001b[0mtest\u001b[0m\u001b[0;34m)\u001b[0m\u001b[0;34m,\u001b[0m \u001b[0mcolumns\u001b[0m\u001b[0;34m=\u001b[0m\u001b[0;34m[\u001b[0m\u001b[0;34m'WnvPresent'\u001b[0m\u001b[0;34m]\u001b[0m\u001b[0;34m)\u001b[0m\u001b[0;34m\u001b[0m\u001b[0m\n\u001b[0m\u001b[1;32m      3\u001b[0m \u001b[0;34m\u001b[0m\u001b[0m\n\u001b[1;32m      4\u001b[0m \u001b[0msubmission\u001b[0m\u001b[0;34m.\u001b[0m\u001b[0mset_index\u001b[0m\u001b[0;34m(\u001b[0m\u001b[0mnp\u001b[0m\u001b[0;34m.\u001b[0m\u001b[0marange\u001b[0m\u001b[0;34m(\u001b[0m\u001b[0;36m1\u001b[0m\u001b[0;34m,\u001b[0m \u001b[0mtest\u001b[0m\u001b[0;34m.\u001b[0m\u001b[0mshape\u001b[0m\u001b[0;34m[\u001b[0m\u001b[0;36m0\u001b[0m\u001b[0;34m]\u001b[0m \u001b[0;34m+\u001b[0m \u001b[0;36m1\u001b[0m\u001b[0;34m)\u001b[0m\u001b[0;34m,\u001b[0m \u001b[0minplace\u001b[0m\u001b[0;34m=\u001b[0m\u001b[0;32mTrue\u001b[0m\u001b[0;34m)\u001b[0m\u001b[0;34m\u001b[0m\u001b[0m\n\u001b[1;32m      5\u001b[0m \u001b[0msubmission\u001b[0m \u001b[0;34m=\u001b[0m \u001b[0msubmission\u001b[0m\u001b[0;34m.\u001b[0m\u001b[0mreset_index\u001b[0m\u001b[0;34m(\u001b[0m\u001b[0;34m)\u001b[0m\u001b[0;34m.\u001b[0m\u001b[0mrename\u001b[0m\u001b[0;34m(\u001b[0m\u001b[0mcolumns\u001b[0m \u001b[0;34m=\u001b[0m \u001b[0;34m{\u001b[0m\u001b[0;34m'index'\u001b[0m\u001b[0;34m:\u001b[0m\u001b[0;34m'Id'\u001b[0m\u001b[0;34m}\u001b[0m\u001b[0;34m)\u001b[0m\u001b[0;34m\u001b[0m\u001b[0m\n",
      "\u001b[0;31mNameError\u001b[0m: name 'test' is not defined"
     ]
    }
   ],
   "source": [
    "# kaggle submission\n",
    "submission = pd.DataFrame(model.predict_proba(test), columns=['WnvPresent'])\n",
    "    \n",
    "submission.set_index(np.arange(1, test.shape[0] + 1), inplace=True)\n",
    "submission = submission.reset_index().rename(columns = {'index':'Id'})\n",
    "submission.to_csv('~/Desktop/Git_lessons/Project4/westnilevirussubmission.csv', index=False)"
   ]
  },
  {
   "cell_type": "code",
   "execution_count": null,
   "metadata": {},
   "outputs": [],
   "source": []
  },
  {
   "cell_type": "code",
   "execution_count": null,
   "metadata": {},
   "outputs": [],
   "source": []
  }
 ],
 "metadata": {
  "kernelspec": {
   "display_name": "Python 3",
   "language": "python",
   "name": "python3"
  },
  "language_info": {
   "codemirror_mode": {
    "name": "ipython",
    "version": 3
   },
   "file_extension": ".py",
   "mimetype": "text/x-python",
   "name": "python",
   "nbconvert_exporter": "python",
   "pygments_lexer": "ipython3",
   "version": "3.6.4"
  }
 },
 "nbformat": 4,
 "nbformat_minor": 2
}
